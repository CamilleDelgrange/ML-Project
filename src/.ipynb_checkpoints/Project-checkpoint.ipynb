{
 "cells": [
  {
   "cell_type": "markdown",
   "metadata": {},
   "source": [
    "# Exploration of the data"
   ]
  },
  {
   "cell_type": "code",
   "execution_count": 199,
   "metadata": {},
   "outputs": [],
   "source": [
    "#loading the data from the path:\n",
    "data <- read.csv(\"../data/epfl-bio-322a/training_data.csv\")\n",
    "test_set <- read.csv(\"../data/epfl-bio-322a/test_data.csv\")"
   ]
  },
  {
   "cell_type": "code",
   "execution_count": 200,
   "metadata": {},
   "outputs": [
    {
     "data": {
      "text/html": [
       "<style>\n",
       ".list-inline {list-style: none; margin:0; padding: 0}\n",
       ".list-inline>li {display: inline-block}\n",
       ".list-inline>li:not(:last-child)::after {content: \"\\00b7\"; padding: 0 .5ex}\n",
       "</style>\n",
       "<ol class=list-inline><li>708</li><li>4872</li></ol>\n"
      ],
      "text/latex": [
       "\\begin{enumerate*}\n",
       "\\item 708\n",
       "\\item 4872\n",
       "\\end{enumerate*}\n"
      ],
      "text/markdown": [
       "1. 708\n",
       "2. 4872\n",
       "\n",
       "\n"
      ],
      "text/plain": [
       "[1]  708 4872"
      ]
     },
     "metadata": {},
     "output_type": "display_data"
    },
    {
     "data": {
      "text/html": [
       "<style>\n",
       ".list-inline {list-style: none; margin:0; padding: 0}\n",
       ".list-inline>li {display: inline-block}\n",
       ".list-inline>li:not(:last-child)::after {content: \"\\00b7\"; padding: 0 .5ex}\n",
       "</style>\n",
       "<ol class=list-inline><li>68</li><li>4871</li></ol>\n"
      ],
      "text/latex": [
       "\\begin{enumerate*}\n",
       "\\item 68\n",
       "\\item 4871\n",
       "\\end{enumerate*}\n"
      ],
      "text/markdown": [
       "1. 68\n",
       "2. 4871\n",
       "\n",
       "\n"
      ],
      "text/plain": [
       "[1]   68 4871"
      ]
     },
     "metadata": {},
     "output_type": "display_data"
    }
   ],
   "source": [
    "#checking the dimensions of the full data set:\n",
    "dim(data)\n",
    "dim(test_set)"
   ]
  },
  {
   "cell_type": "code",
   "execution_count": 201,
   "metadata": {},
   "outputs": [
    {
     "data": {
      "text/html": [
       "<style>\n",
       ".list-inline {list-style: none; margin:0; padding: 0}\n",
       ".list-inline>li {display: inline-block}\n",
       ".list-inline>li:not(:last-child)::after {content: \"\\00b7\"; padding: 0 .5ex}\n",
       "</style>\n",
       "<ol class=list-inline><li>2</li><li>3</li></ol>\n"
      ],
      "text/latex": [
       "\\begin{enumerate*}\n",
       "\\item 2\n",
       "\\item 3\n",
       "\\end{enumerate*}\n"
      ],
      "text/markdown": [
       "1. 2\n",
       "2. 3\n",
       "\n",
       "\n"
      ],
      "text/plain": [
       "[1] 2 3"
      ]
     },
     "metadata": {},
     "output_type": "display_data"
    }
   ],
   "source": [
    "#look at which columns in the training set were not present in the test set and remove them\n",
    "which(!(colnames(data) %in% names(test_set)))"
   ]
  },
  {
   "cell_type": "markdown",
   "metadata": {},
   "source": [
    "\"Valence pleasantness\" and \"sweet or sour\" are not present in the test set: we'll remove sweet or sour as predictor."
   ]
  },
  {
   "cell_type": "code",
   "execution_count": 202,
   "metadata": {},
   "outputs": [],
   "source": [
    "data <- data[, -3]"
   ]
  },
  {
   "cell_type": "code",
   "execution_count": 203,
   "metadata": {},
   "outputs": [
    {
     "name": "stdout",
     "output_type": "stream",
     "text": [
      "'data.frame':\t708 obs. of  4871 variables:\n",
      " $ Intensity             : Factor w/ 2 levels \"high\",\"low\": 2 1 1 1 2 1 2 2 2 2 ...\n",
      " $ VALENCE.PLEASANTNESS  : int  45 49 56 7 51 21 56 52 53 1 ...\n",
      " $ complexity.from.pubmed: num  302 72.6 259 56.6 84.7 160 116 25 355 68.4 ...\n",
      " $ MW                    : num  208.3 122.2 242.3 88.1 136.2 ...\n",
      " $ AMW                   : num  5.95 6.43 7.57 6.29 6.19 ...\n",
      " $ Sv                    : num  19.7 11.35 20.83 7.54 12.88 ...\n",
      " $ Se                    : num  34.5 18.7 32.2 14.2 21.6 ...\n",
      " $ Sp                    : num  21.52 12.26 21.69 7.96 14.02 ...\n",
      " $ Si                    : num  39.6 21.3 35.5 16.1 24.7 ...\n",
      " $ Mv                    : num  0.563 0.597 0.651 0.538 0.585 0.588 0.667 0.49 0.609 0.619 ...\n",
      " $ Me                    : num  0.985 0.987 1.005 1.014 0.983 ...\n",
      " $ Mp                    : num  0.615 0.645 0.678 0.568 0.637 0.633 0.707 0.571 0.618 0.703 ...\n",
      " $ Mi                    : num  1.13 1.12 1.11 1.15 1.12 ...\n",
      " $ nAT                   : int  35 19 32 14 22 30 23 26 35 16 ...\n",
      " $ nSK                   : int  15 9 18 6 10 14 13 8 19 8 ...\n",
      " $ nBT                   : int  36 19 33 13 22 30 24 25 35 16 ...\n",
      " $ nBO                   : int  16 9 19 5 10 14 14 7 19 8 ...\n",
      " $ nBM                   : int  2 6 13 1 6 7 12 0 10 0 ...\n",
      " $ SCBO                  : num  18 12 26 6 13 18 20 7 26 8 ...\n",
      " $ RBN                   : int  4 1 5 1 2 6 2 5 4 0 ...\n",
      " $ RBF                   : num  0.111 0.053 0.152 0.077 0.091 0.2 0.083 0.2 0.114 0 ...\n",
      " $ nDB                   : int  2 0 1 1 0 1 0 0 4 0 ...\n",
      " $ nTB                   : int  0 0 0 0 0 0 0 0 0 0 ...\n",
      " $ nAB                   : int  0 6 12 0 6 6 12 0 6 0 ...\n",
      " $ nH                    : int  20 10 14 8 12 16 10 18 16 8 ...\n",
      " $ nC                    : int  13 8 15 4 9 12 12 8 12 4 ...\n",
      " $ nN                    : int  0 0 0 0 0 0 0 0 2 0 ...\n",
      " $ nO                    : int  2 1 3 2 1 2 1 0 5 2 ...\n",
      " $ nP                    : int  0 0 0 0 0 0 0 0 0 0 ...\n",
      " $ nS                    : int  0 0 0 0 0 0 0 0 0 2 ...\n",
      " $ nF                    : int  0 0 0 0 0 0 0 0 0 0 ...\n",
      " $ nCL                   : int  0 0 0 0 0 0 0 0 0 0 ...\n",
      " $ nBR                   : int  0 0 0 0 0 0 0 0 0 0 ...\n",
      " $ nI                    : int  0 0 0 0 0 0 0 0 0 0 ...\n",
      " $ nB                    : int  0 0 0 0 0 0 0 0 0 0 ...\n",
      " $ nHM                   : int  0 0 0 0 0 0 0 0 0 2 ...\n",
      " $ nHet                  : int  2 1 3 2 1 2 1 0 7 4 ...\n",
      " $ nX                    : int  0 0 0 0 0 0 0 0 0 0 ...\n",
      " $ H.                    : num  57.1 52.6 43.8 57.1 54.5 53.3 43.5 69.2 45.7 50 ...\n",
      " $ C.                    : num  37.1 42.1 46.9 28.6 40.9 40 52.2 30.8 34.3 25 ...\n",
      " $ N.                    : num  0 0 0 0 0 0 0 0 5.7 0 ...\n",
      " $ O.                    : num  5.7 5.3 9.4 14.3 4.5 6.7 4.3 0 14.3 12.5 ...\n",
      " $ X.                    : int  0 0 0 0 0 0 0 0 0 0 ...\n",
      " $ nCsp3                 : int  10 2 2 3 3 5 0 8 6 4 ...\n",
      " $ nCsp2                 : int  3 6 13 1 6 7 12 0 6 0 ...\n",
      " $ nCsp                  : int  0 0 0 0 0 0 0 0 0 0 ...\n",
      " $ nCIC                  : int  2 1 2 0 1 1 2 0 1 1 ...\n",
      " $ nCIR                  : int  3 1 2 0 1 1 2 0 1 1 ...\n",
      " $ TRS                   : int  10 6 12 0 6 6 12 0 6 6 ...\n",
      " $ Rperim                : int  6 6 12 0 6 6 12 0 6 6 ...\n",
      " $ Rbrid                 : int  2 0 0 0 0 0 0 0 0 0 ...\n",
      " $ MCD                   : num  0.467 0.667 0.667 0 0.6 0.429 0.923 0 0.316 0.75 ...\n",
      " $ RFD                   : num  0.571 0 0 0 0 0 0 0 0 0 ...\n",
      " $ RCI                   : num  1.43 1 1 0 1 ...\n",
      " $ NRS                   : int  1 1 2 0 1 1 2 0 1 1 ...\n",
      " $ NNRS                  : num  0.5 1 1 0 1 1 1 0 1 1 ...\n",
      " $ nR03                  : int  0 0 0 0 0 0 0 0 0 0 ...\n",
      " $ nR04                  : int  1 0 0 0 0 0 0 0 0 0 ...\n",
      " $ nR05                  : int  0 0 0 0 0 0 0 0 0 0 ...\n",
      " $ nR06                  : int  2 1 2 0 1 1 2 0 1 1 ...\n",
      " $ nR07                  : int  0 0 0 0 0 0 0 0 0 0 ...\n",
      " $ nR08                  : int  0 0 0 0 0 0 0 0 0 0 ...\n",
      " $ nR09                  : int  0 0 0 0 0 0 0 0 0 0 ...\n",
      " $ nR10                  : int  0 0 0 0 0 0 0 0 0 0 ...\n",
      " $ nR11                  : int  0 0 0 0 0 0 0 0 0 0 ...\n",
      " $ nR12                  : int  0 0 0 0 0 0 0 0 0 0 ...\n",
      " $ nBnz                  : int  0 1 2 0 1 1 2 0 1 0 ...\n",
      " $ ARR                   : num  0 0.667 0.632 0 0.6 0.429 0.857 0 0.316 0 ...\n",
      " $ D.Dtr03               : num  0 0 0 0 0 0 0 0 0 0 ...\n",
      " $ D.Dtr04               : num  29.1 0 0 0 0 ...\n",
      " $ D.Dtr05               : num  0 0 0 0 0 0 0 0 0 0 ...\n",
      " $ D.Dtr06               : num  92.8 26.3 125.3 0 31.1 ...\n",
      " $ D.Dtr07               : num  0 0 0 0 0 0 0 0 0 0 ...\n",
      " $ D.Dtr08               : int  0 0 0 0 0 0 0 0 0 0 ...\n",
      " $ D.Dtr09               : num  0 0 0 0 0 0 0 0 0 0 ...\n",
      " $ D.Dtr10               : num  0 0 0 0 0 0 0 0 0 0 ...\n",
      " $ D.Dtr11               : int  0 0 0 0 0 0 0 0 0 0 ...\n",
      " $ D.Dtr12               : int  0 0 0 0 0 0 0 0 0 0 ...\n",
      " $ ZM1                   : int  80 40 86 22 44 60 62 26 96 36 ...\n",
      " $ ZM1V                  : int  166 106 258 88 100 166 158 26 340 148 ...\n",
      " $ ZM1Kup                : num  189 118 293 108 108 ...\n",
      " $ ZM1Mad                : num  85.9 42.9 95.4 26.4 46.1 ...\n",
      " $ ZM1Per                : num  236 151 368 116 142 ...\n",
      " $ ZM1MulPer             : num  177.6 112.4 275.2 99.3 107.2 ...\n",
      " $ ZM2                   : int  95 43 96 21 48 63 68 24 113 38 ...\n",
      " $ ZM2V                  : int  156 100 245 62 95 146 168 24 310 102 ...\n",
      " $ ZM2Kup                : num  165.1 104.5 260.5 68.7 97.3 ...\n",
      " $ ZM2Mad                : num  99 45.7 104.7 24.3 50 ...\n",
      " $ ZM2Per                : num  241.4 151.4 375.7 92.5 143.4 ...\n",
      " $ ZM2MulPer             : num  167 109.5 262.2 68.4 100.5 ...\n",
      " $ ON0                   : num  8.58 5.17 9.33 4.67 5.67 ...\n",
      " $ ON0V                  : num  7.08 4 6 2.95 3.95 ...\n",
      " $ ON1                   : num  3.19 2.17 4.19 1.44 2.44 ...\n",
      " $ ON1V                  : num  2.292 1.014 1.757 0.842 1.428 ...\n",
      " $ Qindex                : int  13 5 10 2 5 5 8 0 13 5 ...\n",
      " $ BBI                   : int  24 11 24 6 12 16 17 6 29 10 ...\n",
      " $ DBI                   : num  3.24 1.41 2.74 2.45 2.12 ...\n",
      " $ SNar                  : num  9.94 5.66 12.71 2.2 6.36 ...\n",
      " $ HNar                  : num  1.75 1.74 1.93 1.29 1.76 ...\n",
      "  [list output truncated]\n"
     ]
    },
    {
     "data": {
      "text/html": [
       "<table>\n",
       "<caption>A data.frame: 6 × 4871</caption>\n",
       "<thead>\n",
       "\t<tr><th></th><th scope=col>Intensity</th><th scope=col>VALENCE.PLEASANTNESS</th><th scope=col>complexity.from.pubmed</th><th scope=col>MW</th><th scope=col>AMW</th><th scope=col>Sv</th><th scope=col>Se</th><th scope=col>Sp</th><th scope=col>Si</th><th scope=col>Mv</th><th scope=col>...</th><th scope=col>Psychotic.80</th><th scope=col>Psychotic.50</th><th scope=col>Hypertens.80</th><th scope=col>Hypertens.50</th><th scope=col>Hypnotic.80</th><th scope=col>Hypnotic.50</th><th scope=col>Neoplastic.80</th><th scope=col>Neoplastic.50</th><th scope=col>Infective.80</th><th scope=col>Infective.50</th></tr>\n",
       "\t<tr><th></th><th scope=col>&lt;fct&gt;</th><th scope=col>&lt;int&gt;</th><th scope=col>&lt;dbl&gt;</th><th scope=col>&lt;dbl&gt;</th><th scope=col>&lt;dbl&gt;</th><th scope=col>&lt;dbl&gt;</th><th scope=col>&lt;dbl&gt;</th><th scope=col>&lt;dbl&gt;</th><th scope=col>&lt;dbl&gt;</th><th scope=col>&lt;dbl&gt;</th><th scope=col>...</th><th scope=col>&lt;int&gt;</th><th scope=col>&lt;int&gt;</th><th scope=col>&lt;int&gt;</th><th scope=col>&lt;int&gt;</th><th scope=col>&lt;int&gt;</th><th scope=col>&lt;int&gt;</th><th scope=col>&lt;int&gt;</th><th scope=col>&lt;int&gt;</th><th scope=col>&lt;int&gt;</th><th scope=col>&lt;int&gt;</th></tr>\n",
       "</thead>\n",
       "<tbody>\n",
       "\t<tr><th scope=row>1</th><td>low </td><td>45</td><td>302.0</td><td>208.33</td><td>5.952</td><td>19.698</td><td>34.491</td><td>21.523</td><td>39.571</td><td>0.563</td><td>...</td><td>0</td><td>0</td><td>1</td><td>0</td><td>1</td><td>0</td><td>1</td><td>0</td><td>1</td><td>0</td></tr>\n",
       "\t<tr><th scope=row>2</th><td>high</td><td>49</td><td> 72.6</td><td>122.18</td><td>6.431</td><td>11.349</td><td>18.745</td><td>12.261</td><td>21.285</td><td>0.597</td><td>...</td><td>0</td><td>0</td><td>0</td><td>0</td><td>0</td><td>0</td><td>0</td><td>0</td><td>0</td><td>0</td></tr>\n",
       "\t<tr><th scope=row>3</th><td>high</td><td>56</td><td>259.0</td><td>242.29</td><td>7.572</td><td>20.832</td><td>32.167</td><td>21.693</td><td>35.535</td><td>0.651</td><td>...</td><td>0</td><td>0</td><td>1</td><td>0</td><td>1</td><td>1</td><td>1</td><td>0</td><td>1</td><td>1</td></tr>\n",
       "\t<tr><th scope=row>4</th><td>high</td><td> 7</td><td> 56.6</td><td> 88.12</td><td>6.294</td><td> 7.537</td><td>14.189</td><td> 7.955</td><td>16.080</td><td>0.538</td><td>...</td><td>0</td><td>0</td><td>0</td><td>0</td><td>0</td><td>0</td><td>0</td><td>0</td><td>0</td><td>0</td></tr>\n",
       "\t<tr><th scope=row>5</th><td>low </td><td>51</td><td> 84.7</td><td>136.21</td><td>6.191</td><td>12.876</td><td>21.629</td><td>14.023</td><td>24.701</td><td>0.585</td><td>...</td><td>0</td><td>0</td><td>0</td><td>0</td><td>0</td><td>0</td><td>0</td><td>0</td><td>0</td><td>0</td></tr>\n",
       "\t<tr><th scope=row>6</th><td>high</td><td>21</td><td>160.0</td><td>192.28</td><td>6.409</td><td>17.644</td><td>29.723</td><td>19.000</td><td>33.740</td><td>0.588</td><td>...</td><td>0</td><td>0</td><td>0</td><td>0</td><td>1</td><td>0</td><td>1</td><td>0</td><td>1</td><td>0</td></tr>\n",
       "</tbody>\n",
       "</table>\n"
      ],
      "text/latex": [
       "A data.frame: 6 × 4871\n",
       "\\begin{tabular}{r|lllllllllllllllllllll}\n",
       "  & Intensity & VALENCE.PLEASANTNESS & complexity.from.pubmed & MW & AMW & Sv & Se & Sp & Si & Mv & ... & Psychotic.80 & Psychotic.50 & Hypertens.80 & Hypertens.50 & Hypnotic.80 & Hypnotic.50 & Neoplastic.80 & Neoplastic.50 & Infective.80 & Infective.50\\\\\n",
       "  & <fct> & <int> & <dbl> & <dbl> & <dbl> & <dbl> & <dbl> & <dbl> & <dbl> & <dbl> & ... & <int> & <int> & <int> & <int> & <int> & <int> & <int> & <int> & <int> & <int>\\\\\n",
       "\\hline\n",
       "\t1 & low  & 45 & 302.0 & 208.33 & 5.952 & 19.698 & 34.491 & 21.523 & 39.571 & 0.563 & ... & 0 & 0 & 1 & 0 & 1 & 0 & 1 & 0 & 1 & 0\\\\\n",
       "\t2 & high & 49 &  72.6 & 122.18 & 6.431 & 11.349 & 18.745 & 12.261 & 21.285 & 0.597 & ... & 0 & 0 & 0 & 0 & 0 & 0 & 0 & 0 & 0 & 0\\\\\n",
       "\t3 & high & 56 & 259.0 & 242.29 & 7.572 & 20.832 & 32.167 & 21.693 & 35.535 & 0.651 & ... & 0 & 0 & 1 & 0 & 1 & 1 & 1 & 0 & 1 & 1\\\\\n",
       "\t4 & high &  7 &  56.6 &  88.12 & 6.294 &  7.537 & 14.189 &  7.955 & 16.080 & 0.538 & ... & 0 & 0 & 0 & 0 & 0 & 0 & 0 & 0 & 0 & 0\\\\\n",
       "\t5 & low  & 51 &  84.7 & 136.21 & 6.191 & 12.876 & 21.629 & 14.023 & 24.701 & 0.585 & ... & 0 & 0 & 0 & 0 & 0 & 0 & 0 & 0 & 0 & 0\\\\\n",
       "\t6 & high & 21 & 160.0 & 192.28 & 6.409 & 17.644 & 29.723 & 19.000 & 33.740 & 0.588 & ... & 0 & 0 & 0 & 0 & 1 & 0 & 1 & 0 & 1 & 0\\\\\n",
       "\\end{tabular}\n"
      ],
      "text/markdown": [
       "\n",
       "A data.frame: 6 × 4871\n",
       "\n",
       "| <!--/--> | Intensity &lt;fct&gt; | VALENCE.PLEASANTNESS &lt;int&gt; | complexity.from.pubmed &lt;dbl&gt; | MW &lt;dbl&gt; | AMW &lt;dbl&gt; | Sv &lt;dbl&gt; | Se &lt;dbl&gt; | Sp &lt;dbl&gt; | Si &lt;dbl&gt; | Mv &lt;dbl&gt; | ... ... | Psychotic.80 &lt;int&gt; | Psychotic.50 &lt;int&gt; | Hypertens.80 &lt;int&gt; | Hypertens.50 &lt;int&gt; | Hypnotic.80 &lt;int&gt; | Hypnotic.50 &lt;int&gt; | Neoplastic.80 &lt;int&gt; | Neoplastic.50 &lt;int&gt; | Infective.80 &lt;int&gt; | Infective.50 &lt;int&gt; |\n",
       "|---|---|---|---|---|---|---|---|---|---|---|---|---|---|---|---|---|---|---|---|---|---|\n",
       "| 1 | low  | 45 | 302.0 | 208.33 | 5.952 | 19.698 | 34.491 | 21.523 | 39.571 | 0.563 | ... | 0 | 0 | 1 | 0 | 1 | 0 | 1 | 0 | 1 | 0 |\n",
       "| 2 | high | 49 |  72.6 | 122.18 | 6.431 | 11.349 | 18.745 | 12.261 | 21.285 | 0.597 | ... | 0 | 0 | 0 | 0 | 0 | 0 | 0 | 0 | 0 | 0 |\n",
       "| 3 | high | 56 | 259.0 | 242.29 | 7.572 | 20.832 | 32.167 | 21.693 | 35.535 | 0.651 | ... | 0 | 0 | 1 | 0 | 1 | 1 | 1 | 0 | 1 | 1 |\n",
       "| 4 | high |  7 |  56.6 |  88.12 | 6.294 |  7.537 | 14.189 |  7.955 | 16.080 | 0.538 | ... | 0 | 0 | 0 | 0 | 0 | 0 | 0 | 0 | 0 | 0 |\n",
       "| 5 | low  | 51 |  84.7 | 136.21 | 6.191 | 12.876 | 21.629 | 14.023 | 24.701 | 0.585 | ... | 0 | 0 | 0 | 0 | 0 | 0 | 0 | 0 | 0 | 0 |\n",
       "| 6 | high | 21 | 160.0 | 192.28 | 6.409 | 17.644 | 29.723 | 19.000 | 33.740 | 0.588 | ... | 0 | 0 | 0 | 0 | 1 | 0 | 1 | 0 | 1 | 0 |\n",
       "\n"
      ],
      "text/plain": [
       "  Intensity VALENCE.PLEASANTNESS complexity.from.pubmed MW     AMW   Sv    \n",
       "1 low       45                   302.0                  208.33 5.952 19.698\n",
       "2 high      49                    72.6                  122.18 6.431 11.349\n",
       "3 high      56                   259.0                  242.29 7.572 20.832\n",
       "4 high       7                    56.6                   88.12 6.294  7.537\n",
       "5 low       51                    84.7                  136.21 6.191 12.876\n",
       "6 high      21                   160.0                  192.28 6.409 17.644\n",
       "  Se     Sp     Si     Mv    ... Psychotic.80 Psychotic.50 Hypertens.80\n",
       "1 34.491 21.523 39.571 0.563 ... 0            0            1           \n",
       "2 18.745 12.261 21.285 0.597 ... 0            0            0           \n",
       "3 32.167 21.693 35.535 0.651 ... 0            0            1           \n",
       "4 14.189  7.955 16.080 0.538 ... 0            0            0           \n",
       "5 21.629 14.023 24.701 0.585 ... 0            0            0           \n",
       "6 29.723 19.000 33.740 0.588 ... 0            0            0           \n",
       "  Hypertens.50 Hypnotic.80 Hypnotic.50 Neoplastic.80 Neoplastic.50 Infective.80\n",
       "1 0            1           0           1             0             1           \n",
       "2 0            0           0           0             0             0           \n",
       "3 0            1           1           1             0             1           \n",
       "4 0            0           0           0             0             0           \n",
       "5 0            0           0           0             0             0           \n",
       "6 0            1           0           1             0             1           \n",
       "  Infective.50\n",
       "1 0           \n",
       "2 0           \n",
       "3 1           \n",
       "4 0           \n",
       "5 0           \n",
       "6 0           "
      ]
     },
     "metadata": {},
     "output_type": "display_data"
    },
    {
     "data": {
      "text/html": [
       "<table>\n",
       "<caption>A data.frame: 11 × 4871</caption>\n",
       "<thead>\n",
       "\t<tr><th></th><th scope=col>Intensity</th><th scope=col>VALENCE.PLEASANTNESS</th><th scope=col>complexity.from.pubmed</th><th scope=col>MW</th><th scope=col>AMW</th><th scope=col>Sv</th><th scope=col>Se</th><th scope=col>Sp</th><th scope=col>Si</th><th scope=col>Mv</th><th scope=col>...</th><th scope=col>Psychotic.80</th><th scope=col>Psychotic.50</th><th scope=col>Hypertens.80</th><th scope=col>Hypertens.50</th><th scope=col>Hypnotic.80</th><th scope=col>Hypnotic.50</th><th scope=col>Neoplastic.80</th><th scope=col>Neoplastic.50</th><th scope=col>Infective.80</th><th scope=col>Infective.50</th></tr>\n",
       "\t<tr><th></th><th scope=col>&lt;fct&gt;</th><th scope=col>&lt;int&gt;</th><th scope=col>&lt;dbl&gt;</th><th scope=col>&lt;dbl&gt;</th><th scope=col>&lt;dbl&gt;</th><th scope=col>&lt;dbl&gt;</th><th scope=col>&lt;dbl&gt;</th><th scope=col>&lt;dbl&gt;</th><th scope=col>&lt;dbl&gt;</th><th scope=col>&lt;dbl&gt;</th><th scope=col>...</th><th scope=col>&lt;int&gt;</th><th scope=col>&lt;int&gt;</th><th scope=col>&lt;int&gt;</th><th scope=col>&lt;int&gt;</th><th scope=col>&lt;int&gt;</th><th scope=col>&lt;int&gt;</th><th scope=col>&lt;int&gt;</th><th scope=col>&lt;int&gt;</th><th scope=col>&lt;int&gt;</th><th scope=col>&lt;int&gt;</th></tr>\n",
       "</thead>\n",
       "<tbody>\n",
       "\t<tr><th scope=row>30</th><td>low </td><td>55</td><td>153.0</td><td>214.39</td><td>5.229</td><td>21.278</td><td>40.141</td><td>23.807</td><td>46.816</td><td>0.519</td><td>...</td><td>0</td><td>0</td><td>0</td><td>0</td><td>0</td><td>0</td><td>1</td><td>0</td><td>1</td><td>0</td></tr>\n",
       "\t<tr><th scope=row>31</th><td>high</td><td>37</td><td> 23.1</td><td> 88.17</td><td>4.898</td><td> 8.876</td><td>17.629</td><td>10.023</td><td>20.701</td><td>0.493</td><td>...</td><td>0</td><td>0</td><td>0</td><td>0</td><td>0</td><td>0</td><td>0</td><td>0</td><td>0</td><td>0</td></tr>\n",
       "\t<tr><th scope=row>32</th><td>high</td><td> 3</td><td> 97.1</td><td>128.19</td><td>6.104</td><td>11.590</td><td>20.956</td><td>12.477</td><td>23.910</td><td>0.552</td><td>...</td><td>0</td><td>0</td><td>0</td><td>0</td><td>0</td><td>0</td><td>0</td><td>0</td><td>0</td><td>0</td></tr>\n",
       "\t<tr><th scope=row>33</th><td>low </td><td>52</td><td> 43.8</td><td>130.26</td><td>4.824</td><td>13.456</td><td>26.280</td><td>15.307</td><td>30.946</td><td>0.498</td><td>...</td><td>0</td><td>0</td><td>0</td><td>0</td><td>0</td><td>0</td><td>0</td><td>0</td><td>0</td><td>0</td></tr>\n",
       "\t<tr><th scope=row>34</th><td>low </td><td>40</td><td> 59.4</td><td>114.21</td><td>5.191</td><td>11.402</td><td>21.513</td><td>12.784</td><td>25.116</td><td>0.518</td><td>...</td><td>0</td><td>0</td><td>0</td><td>0</td><td>0</td><td>0</td><td>0</td><td>0</td><td>0</td><td>0</td></tr>\n",
       "\t<tr><th scope=row>35</th><td>low </td><td>71</td><td> 49.2</td><td>114.23</td><td>6.719</td><td> 9.821</td><td>16.494</td><td>11.455</td><td>18.996</td><td>0.578</td><td>...</td><td>0</td><td>0</td><td>0</td><td>0</td><td>0</td><td>0</td><td>0</td><td>0</td><td>0</td><td>0</td></tr>\n",
       "\t<tr><th scope=row>36</th><td>high</td><td>64</td><td>144.0</td><td>163.26</td><td>8.163</td><td>13.316</td><td>19.713</td><td>14.699</td><td>22.079</td><td>0.666</td><td>...</td><td>0</td><td>0</td><td>0</td><td>0</td><td>1</td><td>0</td><td>0</td><td>0</td><td>1</td><td>0</td></tr>\n",
       "\t<tr><th scope=row>37</th><td>high</td><td>11</td><td>197.0</td><td>170.22</td><td>7.401</td><td>15.349</td><td>22.745</td><td>16.261</td><td>25.285</td><td>0.667</td><td>...</td><td>0</td><td>0</td><td>0</td><td>0</td><td>1</td><td>0</td><td>0</td><td>0</td><td>1</td><td>0</td></tr>\n",
       "\t<tr><th scope=row>38</th><td>low </td><td>49</td><td> 32.9</td><td> 86.15</td><td>5.384</td><td> 8.349</td><td>15.745</td><td> 9.262</td><td>18.285</td><td>0.522</td><td>...</td><td>0</td><td>0</td><td>0</td><td>0</td><td>0</td><td>0</td><td>0</td><td>0</td><td>0</td><td>0</td></tr>\n",
       "\t<tr><th scope=row>39</th><td>high</td><td>56</td><td> 99.8</td><td>134.20</td><td>6.710</td><td>12.150</td><td>19.738</td><td>13.057</td><td>22.657</td><td>0.608</td><td>...</td><td>0</td><td>0</td><td>0</td><td>0</td><td>0</td><td>0</td><td>0</td><td>0</td><td>0</td><td>0</td></tr>\n",
       "\t<tr><th scope=row>40</th><td>high</td><td> 5</td><td>193.0</td><td>142.17</td><td>7.109</td><td>11.778</td><td>20.400</td><td>12.170</td><td>22.704</td><td>0.589</td><td>...</td><td>0</td><td>0</td><td>0</td><td>0</td><td>0</td><td>0</td><td>0</td><td>0</td><td>0</td><td>0</td></tr>\n",
       "</tbody>\n",
       "</table>\n"
      ],
      "text/latex": [
       "A data.frame: 11 × 4871\n",
       "\\begin{tabular}{r|lllllllllllllllllllll}\n",
       "  & Intensity & VALENCE.PLEASANTNESS & complexity.from.pubmed & MW & AMW & Sv & Se & Sp & Si & Mv & ... & Psychotic.80 & Psychotic.50 & Hypertens.80 & Hypertens.50 & Hypnotic.80 & Hypnotic.50 & Neoplastic.80 & Neoplastic.50 & Infective.80 & Infective.50\\\\\n",
       "  & <fct> & <int> & <dbl> & <dbl> & <dbl> & <dbl> & <dbl> & <dbl> & <dbl> & <dbl> & ... & <int> & <int> & <int> & <int> & <int> & <int> & <int> & <int> & <int> & <int>\\\\\n",
       "\\hline\n",
       "\t30 & low  & 55 & 153.0 & 214.39 & 5.229 & 21.278 & 40.141 & 23.807 & 46.816 & 0.519 & ... & 0 & 0 & 0 & 0 & 0 & 0 & 1 & 0 & 1 & 0\\\\\n",
       "\t31 & high & 37 &  23.1 &  88.17 & 4.898 &  8.876 & 17.629 & 10.023 & 20.701 & 0.493 & ... & 0 & 0 & 0 & 0 & 0 & 0 & 0 & 0 & 0 & 0\\\\\n",
       "\t32 & high &  3 &  97.1 & 128.19 & 6.104 & 11.590 & 20.956 & 12.477 & 23.910 & 0.552 & ... & 0 & 0 & 0 & 0 & 0 & 0 & 0 & 0 & 0 & 0\\\\\n",
       "\t33 & low  & 52 &  43.8 & 130.26 & 4.824 & 13.456 & 26.280 & 15.307 & 30.946 & 0.498 & ... & 0 & 0 & 0 & 0 & 0 & 0 & 0 & 0 & 0 & 0\\\\\n",
       "\t34 & low  & 40 &  59.4 & 114.21 & 5.191 & 11.402 & 21.513 & 12.784 & 25.116 & 0.518 & ... & 0 & 0 & 0 & 0 & 0 & 0 & 0 & 0 & 0 & 0\\\\\n",
       "\t35 & low  & 71 &  49.2 & 114.23 & 6.719 &  9.821 & 16.494 & 11.455 & 18.996 & 0.578 & ... & 0 & 0 & 0 & 0 & 0 & 0 & 0 & 0 & 0 & 0\\\\\n",
       "\t36 & high & 64 & 144.0 & 163.26 & 8.163 & 13.316 & 19.713 & 14.699 & 22.079 & 0.666 & ... & 0 & 0 & 0 & 0 & 1 & 0 & 0 & 0 & 1 & 0\\\\\n",
       "\t37 & high & 11 & 197.0 & 170.22 & 7.401 & 15.349 & 22.745 & 16.261 & 25.285 & 0.667 & ... & 0 & 0 & 0 & 0 & 1 & 0 & 0 & 0 & 1 & 0\\\\\n",
       "\t38 & low  & 49 &  32.9 &  86.15 & 5.384 &  8.349 & 15.745 &  9.262 & 18.285 & 0.522 & ... & 0 & 0 & 0 & 0 & 0 & 0 & 0 & 0 & 0 & 0\\\\\n",
       "\t39 & high & 56 &  99.8 & 134.20 & 6.710 & 12.150 & 19.738 & 13.057 & 22.657 & 0.608 & ... & 0 & 0 & 0 & 0 & 0 & 0 & 0 & 0 & 0 & 0\\\\\n",
       "\t40 & high &  5 & 193.0 & 142.17 & 7.109 & 11.778 & 20.400 & 12.170 & 22.704 & 0.589 & ... & 0 & 0 & 0 & 0 & 0 & 0 & 0 & 0 & 0 & 0\\\\\n",
       "\\end{tabular}\n"
      ],
      "text/markdown": [
       "\n",
       "A data.frame: 11 × 4871\n",
       "\n",
       "| <!--/--> | Intensity &lt;fct&gt; | VALENCE.PLEASANTNESS &lt;int&gt; | complexity.from.pubmed &lt;dbl&gt; | MW &lt;dbl&gt; | AMW &lt;dbl&gt; | Sv &lt;dbl&gt; | Se &lt;dbl&gt; | Sp &lt;dbl&gt; | Si &lt;dbl&gt; | Mv &lt;dbl&gt; | ... ... | Psychotic.80 &lt;int&gt; | Psychotic.50 &lt;int&gt; | Hypertens.80 &lt;int&gt; | Hypertens.50 &lt;int&gt; | Hypnotic.80 &lt;int&gt; | Hypnotic.50 &lt;int&gt; | Neoplastic.80 &lt;int&gt; | Neoplastic.50 &lt;int&gt; | Infective.80 &lt;int&gt; | Infective.50 &lt;int&gt; |\n",
       "|---|---|---|---|---|---|---|---|---|---|---|---|---|---|---|---|---|---|---|---|---|---|\n",
       "| 30 | low  | 55 | 153.0 | 214.39 | 5.229 | 21.278 | 40.141 | 23.807 | 46.816 | 0.519 | ... | 0 | 0 | 0 | 0 | 0 | 0 | 1 | 0 | 1 | 0 |\n",
       "| 31 | high | 37 |  23.1 |  88.17 | 4.898 |  8.876 | 17.629 | 10.023 | 20.701 | 0.493 | ... | 0 | 0 | 0 | 0 | 0 | 0 | 0 | 0 | 0 | 0 |\n",
       "| 32 | high |  3 |  97.1 | 128.19 | 6.104 | 11.590 | 20.956 | 12.477 | 23.910 | 0.552 | ... | 0 | 0 | 0 | 0 | 0 | 0 | 0 | 0 | 0 | 0 |\n",
       "| 33 | low  | 52 |  43.8 | 130.26 | 4.824 | 13.456 | 26.280 | 15.307 | 30.946 | 0.498 | ... | 0 | 0 | 0 | 0 | 0 | 0 | 0 | 0 | 0 | 0 |\n",
       "| 34 | low  | 40 |  59.4 | 114.21 | 5.191 | 11.402 | 21.513 | 12.784 | 25.116 | 0.518 | ... | 0 | 0 | 0 | 0 | 0 | 0 | 0 | 0 | 0 | 0 |\n",
       "| 35 | low  | 71 |  49.2 | 114.23 | 6.719 |  9.821 | 16.494 | 11.455 | 18.996 | 0.578 | ... | 0 | 0 | 0 | 0 | 0 | 0 | 0 | 0 | 0 | 0 |\n",
       "| 36 | high | 64 | 144.0 | 163.26 | 8.163 | 13.316 | 19.713 | 14.699 | 22.079 | 0.666 | ... | 0 | 0 | 0 | 0 | 1 | 0 | 0 | 0 | 1 | 0 |\n",
       "| 37 | high | 11 | 197.0 | 170.22 | 7.401 | 15.349 | 22.745 | 16.261 | 25.285 | 0.667 | ... | 0 | 0 | 0 | 0 | 1 | 0 | 0 | 0 | 1 | 0 |\n",
       "| 38 | low  | 49 |  32.9 |  86.15 | 5.384 |  8.349 | 15.745 |  9.262 | 18.285 | 0.522 | ... | 0 | 0 | 0 | 0 | 0 | 0 | 0 | 0 | 0 | 0 |\n",
       "| 39 | high | 56 |  99.8 | 134.20 | 6.710 | 12.150 | 19.738 | 13.057 | 22.657 | 0.608 | ... | 0 | 0 | 0 | 0 | 0 | 0 | 0 | 0 | 0 | 0 |\n",
       "| 40 | high |  5 | 193.0 | 142.17 | 7.109 | 11.778 | 20.400 | 12.170 | 22.704 | 0.589 | ... | 0 | 0 | 0 | 0 | 0 | 0 | 0 | 0 | 0 | 0 |\n",
       "\n"
      ],
      "text/plain": [
       "   Intensity VALENCE.PLEASANTNESS complexity.from.pubmed MW     AMW   Sv    \n",
       "30 low       55                   153.0                  214.39 5.229 21.278\n",
       "31 high      37                    23.1                   88.17 4.898  8.876\n",
       "32 high       3                    97.1                  128.19 6.104 11.590\n",
       "33 low       52                    43.8                  130.26 4.824 13.456\n",
       "34 low       40                    59.4                  114.21 5.191 11.402\n",
       "35 low       71                    49.2                  114.23 6.719  9.821\n",
       "36 high      64                   144.0                  163.26 8.163 13.316\n",
       "37 high      11                   197.0                  170.22 7.401 15.349\n",
       "38 low       49                    32.9                   86.15 5.384  8.349\n",
       "39 high      56                    99.8                  134.20 6.710 12.150\n",
       "40 high       5                   193.0                  142.17 7.109 11.778\n",
       "   Se     Sp     Si     Mv    ... Psychotic.80 Psychotic.50 Hypertens.80\n",
       "30 40.141 23.807 46.816 0.519 ... 0            0            0           \n",
       "31 17.629 10.023 20.701 0.493 ... 0            0            0           \n",
       "32 20.956 12.477 23.910 0.552 ... 0            0            0           \n",
       "33 26.280 15.307 30.946 0.498 ... 0            0            0           \n",
       "34 21.513 12.784 25.116 0.518 ... 0            0            0           \n",
       "35 16.494 11.455 18.996 0.578 ... 0            0            0           \n",
       "36 19.713 14.699 22.079 0.666 ... 0            0            0           \n",
       "37 22.745 16.261 25.285 0.667 ... 0            0            0           \n",
       "38 15.745  9.262 18.285 0.522 ... 0            0            0           \n",
       "39 19.738 13.057 22.657 0.608 ... 0            0            0           \n",
       "40 20.400 12.170 22.704 0.589 ... 0            0            0           \n",
       "   Hypertens.50 Hypnotic.80 Hypnotic.50 Neoplastic.80 Neoplastic.50\n",
       "30 0            0           0           1             0            \n",
       "31 0            0           0           0             0            \n",
       "32 0            0           0           0             0            \n",
       "33 0            0           0           0             0            \n",
       "34 0            0           0           0             0            \n",
       "35 0            0           0           0             0            \n",
       "36 0            1           0           0             0            \n",
       "37 0            1           0           0             0            \n",
       "38 0            0           0           0             0            \n",
       "39 0            0           0           0             0            \n",
       "40 0            0           0           0             0            \n",
       "   Infective.80 Infective.50\n",
       "30 1            0           \n",
       "31 0            0           \n",
       "32 0            0           \n",
       "33 0            0           \n",
       "34 0            0           \n",
       "35 0            0           \n",
       "36 1            0           \n",
       "37 1            0           \n",
       "38 0            0           \n",
       "39 0            0           \n",
       "40 0            0           "
      ]
     },
     "metadata": {},
     "output_type": "display_data"
    },
    {
     "data": {
      "text/html": [
       "<table>\n",
       "<caption>A data.frame: 6 × 4871</caption>\n",
       "<thead>\n",
       "\t<tr><th></th><th scope=col>Intensity</th><th scope=col>VALENCE.PLEASANTNESS</th><th scope=col>complexity.from.pubmed</th><th scope=col>MW</th><th scope=col>AMW</th><th scope=col>Sv</th><th scope=col>Se</th><th scope=col>Sp</th><th scope=col>Si</th><th scope=col>Mv</th><th scope=col>...</th><th scope=col>Psychotic.80</th><th scope=col>Psychotic.50</th><th scope=col>Hypertens.80</th><th scope=col>Hypertens.50</th><th scope=col>Hypnotic.80</th><th scope=col>Hypnotic.50</th><th scope=col>Neoplastic.80</th><th scope=col>Neoplastic.50</th><th scope=col>Infective.80</th><th scope=col>Infective.50</th></tr>\n",
       "\t<tr><th></th><th scope=col>&lt;fct&gt;</th><th scope=col>&lt;int&gt;</th><th scope=col>&lt;dbl&gt;</th><th scope=col>&lt;dbl&gt;</th><th scope=col>&lt;dbl&gt;</th><th scope=col>&lt;dbl&gt;</th><th scope=col>&lt;dbl&gt;</th><th scope=col>&lt;dbl&gt;</th><th scope=col>&lt;dbl&gt;</th><th scope=col>&lt;dbl&gt;</th><th scope=col>...</th><th scope=col>&lt;int&gt;</th><th scope=col>&lt;int&gt;</th><th scope=col>&lt;int&gt;</th><th scope=col>&lt;int&gt;</th><th scope=col>&lt;int&gt;</th><th scope=col>&lt;int&gt;</th><th scope=col>&lt;int&gt;</th><th scope=col>&lt;int&gt;</th><th scope=col>&lt;int&gt;</th><th scope=col>&lt;int&gt;</th></tr>\n",
       "</thead>\n",
       "<tbody>\n",
       "\t<tr><th scope=row>703</th><td>low </td><td>48</td><td> 82.7</td><td>136.21</td><td>6.191</td><td>12.876</td><td>21.629</td><td>14.023</td><td>24.701</td><td>0.585</td><td>...</td><td>0</td><td>0</td><td>0</td><td>0</td><td>0</td><td>0</td><td>0</td><td>0</td><td>0</td><td>0</td></tr>\n",
       "\t<tr><th scope=row>704</th><td>high</td><td> 3</td><td> 85.0</td><td>140.22</td><td>8.248</td><td>11.009</td><td>16.938</td><td>12.148</td><td>18.790</td><td>0.648</td><td>...</td><td>0</td><td>0</td><td>0</td><td>0</td><td>0</td><td>0</td><td>0</td><td>0</td><td>0</td><td>0</td></tr>\n",
       "\t<tr><th scope=row>705</th><td>high</td><td> 0</td><td> 76.6</td><td>116.18</td><td>5.809</td><td>10.590</td><td>19.956</td><td>11.477</td><td>22.910</td><td>0.530</td><td>...</td><td>0</td><td>0</td><td>0</td><td>0</td><td>0</td><td>0</td><td>0</td><td>0</td><td>0</td><td>0</td></tr>\n",
       "\t<tr><th scope=row>706</th><td>low </td><td>45</td><td> 83.0</td><td>124.15</td><td>7.303</td><td>10.537</td><td>17.189</td><td>10.955</td><td>19.080</td><td>0.620</td><td>...</td><td>0</td><td>0</td><td>0</td><td>0</td><td>0</td><td>0</td><td>0</td><td>0</td><td>0</td><td>0</td></tr>\n",
       "\t<tr><th scope=row>707</th><td>high</td><td>53</td><td>101.0</td><td>122.13</td><td>8.142</td><td>10.010</td><td>15.305</td><td>10.193</td><td>16.664</td><td>0.667</td><td>...</td><td>0</td><td>0</td><td>0</td><td>0</td><td>0</td><td>0</td><td>0</td><td>0</td><td>0</td><td>0</td></tr>\n",
       "\t<tr><th scope=row>708</th><td>low </td><td>39</td><td> 17.6</td><td> 74.14</td><td>4.943</td><td> 7.349</td><td>14.745</td><td> 8.262</td><td>17.285</td><td>0.490</td><td>...</td><td>0</td><td>0</td><td>0</td><td>0</td><td>0</td><td>0</td><td>0</td><td>0</td><td>0</td><td>0</td></tr>\n",
       "</tbody>\n",
       "</table>\n"
      ],
      "text/latex": [
       "A data.frame: 6 × 4871\n",
       "\\begin{tabular}{r|lllllllllllllllllllll}\n",
       "  & Intensity & VALENCE.PLEASANTNESS & complexity.from.pubmed & MW & AMW & Sv & Se & Sp & Si & Mv & ... & Psychotic.80 & Psychotic.50 & Hypertens.80 & Hypertens.50 & Hypnotic.80 & Hypnotic.50 & Neoplastic.80 & Neoplastic.50 & Infective.80 & Infective.50\\\\\n",
       "  & <fct> & <int> & <dbl> & <dbl> & <dbl> & <dbl> & <dbl> & <dbl> & <dbl> & <dbl> & ... & <int> & <int> & <int> & <int> & <int> & <int> & <int> & <int> & <int> & <int>\\\\\n",
       "\\hline\n",
       "\t703 & low  & 48 &  82.7 & 136.21 & 6.191 & 12.876 & 21.629 & 14.023 & 24.701 & 0.585 & ... & 0 & 0 & 0 & 0 & 0 & 0 & 0 & 0 & 0 & 0\\\\\n",
       "\t704 & high &  3 &  85.0 & 140.22 & 8.248 & 11.009 & 16.938 & 12.148 & 18.790 & 0.648 & ... & 0 & 0 & 0 & 0 & 0 & 0 & 0 & 0 & 0 & 0\\\\\n",
       "\t705 & high &  0 &  76.6 & 116.18 & 5.809 & 10.590 & 19.956 & 11.477 & 22.910 & 0.530 & ... & 0 & 0 & 0 & 0 & 0 & 0 & 0 & 0 & 0 & 0\\\\\n",
       "\t706 & low  & 45 &  83.0 & 124.15 & 7.303 & 10.537 & 17.189 & 10.955 & 19.080 & 0.620 & ... & 0 & 0 & 0 & 0 & 0 & 0 & 0 & 0 & 0 & 0\\\\\n",
       "\t707 & high & 53 & 101.0 & 122.13 & 8.142 & 10.010 & 15.305 & 10.193 & 16.664 & 0.667 & ... & 0 & 0 & 0 & 0 & 0 & 0 & 0 & 0 & 0 & 0\\\\\n",
       "\t708 & low  & 39 &  17.6 &  74.14 & 4.943 &  7.349 & 14.745 &  8.262 & 17.285 & 0.490 & ... & 0 & 0 & 0 & 0 & 0 & 0 & 0 & 0 & 0 & 0\\\\\n",
       "\\end{tabular}\n"
      ],
      "text/markdown": [
       "\n",
       "A data.frame: 6 × 4871\n",
       "\n",
       "| <!--/--> | Intensity &lt;fct&gt; | VALENCE.PLEASANTNESS &lt;int&gt; | complexity.from.pubmed &lt;dbl&gt; | MW &lt;dbl&gt; | AMW &lt;dbl&gt; | Sv &lt;dbl&gt; | Se &lt;dbl&gt; | Sp &lt;dbl&gt; | Si &lt;dbl&gt; | Mv &lt;dbl&gt; | ... ... | Psychotic.80 &lt;int&gt; | Psychotic.50 &lt;int&gt; | Hypertens.80 &lt;int&gt; | Hypertens.50 &lt;int&gt; | Hypnotic.80 &lt;int&gt; | Hypnotic.50 &lt;int&gt; | Neoplastic.80 &lt;int&gt; | Neoplastic.50 &lt;int&gt; | Infective.80 &lt;int&gt; | Infective.50 &lt;int&gt; |\n",
       "|---|---|---|---|---|---|---|---|---|---|---|---|---|---|---|---|---|---|---|---|---|---|\n",
       "| 703 | low  | 48 |  82.7 | 136.21 | 6.191 | 12.876 | 21.629 | 14.023 | 24.701 | 0.585 | ... | 0 | 0 | 0 | 0 | 0 | 0 | 0 | 0 | 0 | 0 |\n",
       "| 704 | high |  3 |  85.0 | 140.22 | 8.248 | 11.009 | 16.938 | 12.148 | 18.790 | 0.648 | ... | 0 | 0 | 0 | 0 | 0 | 0 | 0 | 0 | 0 | 0 |\n",
       "| 705 | high |  0 |  76.6 | 116.18 | 5.809 | 10.590 | 19.956 | 11.477 | 22.910 | 0.530 | ... | 0 | 0 | 0 | 0 | 0 | 0 | 0 | 0 | 0 | 0 |\n",
       "| 706 | low  | 45 |  83.0 | 124.15 | 7.303 | 10.537 | 17.189 | 10.955 | 19.080 | 0.620 | ... | 0 | 0 | 0 | 0 | 0 | 0 | 0 | 0 | 0 | 0 |\n",
       "| 707 | high | 53 | 101.0 | 122.13 | 8.142 | 10.010 | 15.305 | 10.193 | 16.664 | 0.667 | ... | 0 | 0 | 0 | 0 | 0 | 0 | 0 | 0 | 0 | 0 |\n",
       "| 708 | low  | 39 |  17.6 |  74.14 | 4.943 |  7.349 | 14.745 |  8.262 | 17.285 | 0.490 | ... | 0 | 0 | 0 | 0 | 0 | 0 | 0 | 0 | 0 | 0 |\n",
       "\n"
      ],
      "text/plain": [
       "    Intensity VALENCE.PLEASANTNESS complexity.from.pubmed MW     AMW   Sv    \n",
       "703 low       48                    82.7                  136.21 6.191 12.876\n",
       "704 high       3                    85.0                  140.22 8.248 11.009\n",
       "705 high       0                    76.6                  116.18 5.809 10.590\n",
       "706 low       45                    83.0                  124.15 7.303 10.537\n",
       "707 high      53                   101.0                  122.13 8.142 10.010\n",
       "708 low       39                    17.6                   74.14 4.943  7.349\n",
       "    Se     Sp     Si     Mv    ... Psychotic.80 Psychotic.50 Hypertens.80\n",
       "703 21.629 14.023 24.701 0.585 ... 0            0            0           \n",
       "704 16.938 12.148 18.790 0.648 ... 0            0            0           \n",
       "705 19.956 11.477 22.910 0.530 ... 0            0            0           \n",
       "706 17.189 10.955 19.080 0.620 ... 0            0            0           \n",
       "707 15.305 10.193 16.664 0.667 ... 0            0            0           \n",
       "708 14.745  8.262 17.285 0.490 ... 0            0            0           \n",
       "    Hypertens.50 Hypnotic.80 Hypnotic.50 Neoplastic.80 Neoplastic.50\n",
       "703 0            0           0           0             0            \n",
       "704 0            0           0           0             0            \n",
       "705 0            0           0           0             0            \n",
       "706 0            0           0           0             0            \n",
       "707 0            0           0           0             0            \n",
       "708 0            0           0           0             0            \n",
       "    Infective.80 Infective.50\n",
       "703 0            0           \n",
       "704 0            0           \n",
       "705 0            0           \n",
       "706 0            0           \n",
       "707 0            0           \n",
       "708 0            0           "
      ]
     },
     "metadata": {},
     "output_type": "display_data"
    }
   ],
   "source": [
    "#Exploration:\n",
    "str(data)\n",
    "head(data)\n",
    "data[30:40,]\n",
    "tail(data)"
   ]
  },
  {
   "cell_type": "code",
   "execution_count": 204,
   "metadata": {},
   "outputs": [
    {
     "data": {
      "text/html": [
       "<style>\n",
       ".list-inline {list-style: none; margin:0; padding: 0}\n",
       ".list-inline>li {display: inline-block}\n",
       ".list-inline>li:not(:last-child)::after {content: \"\\00b7\"; padding: 0 .5ex}\n",
       "</style>\n",
       "<ol class=list-inline><li>708</li><li>4871</li></ol>\n"
      ],
      "text/latex": [
       "\\begin{enumerate*}\n",
       "\\item 708\n",
       "\\item 4871\n",
       "\\end{enumerate*}\n"
      ],
      "text/markdown": [
       "1. 708\n",
       "2. 4871\n",
       "\n",
       "\n"
      ],
      "text/plain": [
       "[1]  708 4871"
      ]
     },
     "metadata": {},
     "output_type": "display_data"
    }
   ],
   "source": [
    "data <- na.omit(data)\n",
    "dim(data)"
   ]
  },
  {
   "cell_type": "code",
   "execution_count": 205,
   "metadata": {},
   "outputs": [],
   "source": [
    "data.response <- as.integer(data$VALENCE.PLEASANTNESS)\n",
    "data.predictors <- data[, -2]\n",
    "data.predictors$Intensity <- as.numeric(data.predictors$Intensity)"
   ]
  },
  {
   "cell_type": "code",
   "execution_count": 206,
   "metadata": {},
   "outputs": [
    {
     "data": {
      "text/html": [
       "<style>\n",
       ".list-inline {list-style: none; margin:0; padding: 0}\n",
       ".list-inline>li {display: inline-block}\n",
       ".list-inline>li:not(:last-child)::after {content: \"\\00b7\"; padding: 0 .5ex}\n",
       "</style>\n",
       "<ol class=list-inline><li>708</li><li>4870</li></ol>\n"
      ],
      "text/latex": [
       "\\begin{enumerate*}\n",
       "\\item 708\n",
       "\\item 4870\n",
       "\\end{enumerate*}\n"
      ],
      "text/markdown": [
       "1. 708\n",
       "2. 4870\n",
       "\n",
       "\n"
      ],
      "text/plain": [
       "[1]  708 4870"
      ]
     },
     "metadata": {},
     "output_type": "display_data"
    }
   ],
   "source": [
    "dim(data.predictors)"
   ]
  },
  {
   "cell_type": "code",
   "execution_count": 207,
   "metadata": {},
   "outputs": [
    {
     "data": {
      "text/html": [
       "<table>\n",
       "<caption>A data.frame: 6 × 1827</caption>\n",
       "<thead>\n",
       "\t<tr><th></th><th scope=col>Intensity</th><th scope=col>complexity.from.pubmed</th><th scope=col>MW</th><th scope=col>AMW</th><th scope=col>Sp</th><th scope=col>Mv</th><th scope=col>Me</th><th scope=col>Mp</th><th scope=col>Mi</th><th scope=col>nBM</th><th scope=col>...</th><th scope=col>Depressant.80</th><th scope=col>Depressant.50</th><th scope=col>Hypertens.80</th><th scope=col>Hypertens.50</th><th scope=col>Hypnotic.80</th><th scope=col>Hypnotic.50</th><th scope=col>Neoplastic.80</th><th scope=col>Neoplastic.50</th><th scope=col>Infective.80</th><th scope=col>Infective.50</th></tr>\n",
       "\t<tr><th></th><th scope=col>&lt;dbl&gt;</th><th scope=col>&lt;dbl&gt;</th><th scope=col>&lt;dbl&gt;</th><th scope=col>&lt;dbl&gt;</th><th scope=col>&lt;dbl&gt;</th><th scope=col>&lt;dbl&gt;</th><th scope=col>&lt;dbl&gt;</th><th scope=col>&lt;dbl&gt;</th><th scope=col>&lt;dbl&gt;</th><th scope=col>&lt;int&gt;</th><th scope=col>...</th><th scope=col>&lt;int&gt;</th><th scope=col>&lt;int&gt;</th><th scope=col>&lt;int&gt;</th><th scope=col>&lt;int&gt;</th><th scope=col>&lt;int&gt;</th><th scope=col>&lt;int&gt;</th><th scope=col>&lt;int&gt;</th><th scope=col>&lt;int&gt;</th><th scope=col>&lt;int&gt;</th><th scope=col>&lt;int&gt;</th></tr>\n",
       "</thead>\n",
       "<tbody>\n",
       "\t<tr><th scope=row>1</th><td>1</td><td> 31.5</td><td>150.34</td><td>6.834</td><td>14.625</td><td>0.548</td><td>0.970</td><td>0.665</td><td>1.125</td><td>0</td><td>...</td><td>0</td><td>0</td><td>0</td><td>0</td><td>0</td><td>0</td><td>0</td><td>0</td><td>0</td><td>0</td></tr>\n",
       "\t<tr><th scope=row>2</th><td>1</td><td>196.0</td><td>146.15</td><td>8.597</td><td>12.193</td><td>0.706</td><td>1.018</td><td>0.717</td><td>1.098</td><td>8</td><td>...</td><td>0</td><td>0</td><td>0</td><td>0</td><td>0</td><td>0</td><td>0</td><td>0</td><td>0</td><td>0</td></tr>\n",
       "\t<tr><th scope=row>3</th><td>1</td><td> 79.0</td><td>130.21</td><td>5.661</td><td>13.239</td><td>0.527</td><td>0.993</td><td>0.576</td><td>1.145</td><td>1</td><td>...</td><td>0</td><td>0</td><td>0</td><td>0</td><td>0</td><td>0</td><td>0</td><td>0</td><td>0</td><td>0</td></tr>\n",
       "\t<tr><th scope=row>4</th><td>1</td><td> 95.2</td><td>164.27</td><td>5.867</td><td>17.546</td><td>0.569</td><td>0.978</td><td>0.627</td><td>1.126</td><td>6</td><td>...</td><td>0</td><td>0</td><td>0</td><td>0</td><td>1</td><td>0</td><td>0</td><td>0</td><td>1</td><td>0</td></tr>\n",
       "\t<tr><th scope=row>5</th><td>1</td><td> 48.1</td><td>100.18</td><td>5.273</td><td>11.023</td><td>0.520</td><td>0.980</td><td>0.580</td><td>1.142</td><td>1</td><td>...</td><td>0</td><td>0</td><td>0</td><td>0</td><td>0</td><td>0</td><td>0</td><td>0</td><td>0</td><td>0</td></tr>\n",
       "\t<tr><th scope=row>6</th><td>1</td><td>137.0</td><td>164.22</td><td>6.842</td><td>15.477</td><td>0.608</td><td>0.998</td><td>0.645</td><td>1.121</td><td>7</td><td>...</td><td>0</td><td>0</td><td>0</td><td>0</td><td>1</td><td>0</td><td>0</td><td>0</td><td>1</td><td>0</td></tr>\n",
       "</tbody>\n",
       "</table>\n"
      ],
      "text/latex": [
       "A data.frame: 6 × 1827\n",
       "\\begin{tabular}{r|lllllllllllllllllllll}\n",
       "  & Intensity & complexity.from.pubmed & MW & AMW & Sp & Mv & Me & Mp & Mi & nBM & ... & Depressant.80 & Depressant.50 & Hypertens.80 & Hypertens.50 & Hypnotic.80 & Hypnotic.50 & Neoplastic.80 & Neoplastic.50 & Infective.80 & Infective.50\\\\\n",
       "  & <dbl> & <dbl> & <dbl> & <dbl> & <dbl> & <dbl> & <dbl> & <dbl> & <dbl> & <int> & ... & <int> & <int> & <int> & <int> & <int> & <int> & <int> & <int> & <int> & <int>\\\\\n",
       "\\hline\n",
       "\t1 & 1 &  31.5 & 150.34 & 6.834 & 14.625 & 0.548 & 0.970 & 0.665 & 1.125 & 0 & ... & 0 & 0 & 0 & 0 & 0 & 0 & 0 & 0 & 0 & 0\\\\\n",
       "\t2 & 1 & 196.0 & 146.15 & 8.597 & 12.193 & 0.706 & 1.018 & 0.717 & 1.098 & 8 & ... & 0 & 0 & 0 & 0 & 0 & 0 & 0 & 0 & 0 & 0\\\\\n",
       "\t3 & 1 &  79.0 & 130.21 & 5.661 & 13.239 & 0.527 & 0.993 & 0.576 & 1.145 & 1 & ... & 0 & 0 & 0 & 0 & 0 & 0 & 0 & 0 & 0 & 0\\\\\n",
       "\t4 & 1 &  95.2 & 164.27 & 5.867 & 17.546 & 0.569 & 0.978 & 0.627 & 1.126 & 6 & ... & 0 & 0 & 0 & 0 & 1 & 0 & 0 & 0 & 1 & 0\\\\\n",
       "\t5 & 1 &  48.1 & 100.18 & 5.273 & 11.023 & 0.520 & 0.980 & 0.580 & 1.142 & 1 & ... & 0 & 0 & 0 & 0 & 0 & 0 & 0 & 0 & 0 & 0\\\\\n",
       "\t6 & 1 & 137.0 & 164.22 & 6.842 & 15.477 & 0.608 & 0.998 & 0.645 & 1.121 & 7 & ... & 0 & 0 & 0 & 0 & 1 & 0 & 0 & 0 & 1 & 0\\\\\n",
       "\\end{tabular}\n"
      ],
      "text/markdown": [
       "\n",
       "A data.frame: 6 × 1827\n",
       "\n",
       "| <!--/--> | Intensity &lt;dbl&gt; | complexity.from.pubmed &lt;dbl&gt; | MW &lt;dbl&gt; | AMW &lt;dbl&gt; | Sp &lt;dbl&gt; | Mv &lt;dbl&gt; | Me &lt;dbl&gt; | Mp &lt;dbl&gt; | Mi &lt;dbl&gt; | nBM &lt;int&gt; | ... ... | Depressant.80 &lt;int&gt; | Depressant.50 &lt;int&gt; | Hypertens.80 &lt;int&gt; | Hypertens.50 &lt;int&gt; | Hypnotic.80 &lt;int&gt; | Hypnotic.50 &lt;int&gt; | Neoplastic.80 &lt;int&gt; | Neoplastic.50 &lt;int&gt; | Infective.80 &lt;int&gt; | Infective.50 &lt;int&gt; |\n",
       "|---|---|---|---|---|---|---|---|---|---|---|---|---|---|---|---|---|---|---|---|---|---|\n",
       "| 1 | 1 |  31.5 | 150.34 | 6.834 | 14.625 | 0.548 | 0.970 | 0.665 | 1.125 | 0 | ... | 0 | 0 | 0 | 0 | 0 | 0 | 0 | 0 | 0 | 0 |\n",
       "| 2 | 1 | 196.0 | 146.15 | 8.597 | 12.193 | 0.706 | 1.018 | 0.717 | 1.098 | 8 | ... | 0 | 0 | 0 | 0 | 0 | 0 | 0 | 0 | 0 | 0 |\n",
       "| 3 | 1 |  79.0 | 130.21 | 5.661 | 13.239 | 0.527 | 0.993 | 0.576 | 1.145 | 1 | ... | 0 | 0 | 0 | 0 | 0 | 0 | 0 | 0 | 0 | 0 |\n",
       "| 4 | 1 |  95.2 | 164.27 | 5.867 | 17.546 | 0.569 | 0.978 | 0.627 | 1.126 | 6 | ... | 0 | 0 | 0 | 0 | 1 | 0 | 0 | 0 | 1 | 0 |\n",
       "| 5 | 1 |  48.1 | 100.18 | 5.273 | 11.023 | 0.520 | 0.980 | 0.580 | 1.142 | 1 | ... | 0 | 0 | 0 | 0 | 0 | 0 | 0 | 0 | 0 | 0 |\n",
       "| 6 | 1 | 137.0 | 164.22 | 6.842 | 15.477 | 0.608 | 0.998 | 0.645 | 1.121 | 7 | ... | 0 | 0 | 0 | 0 | 1 | 0 | 0 | 0 | 1 | 0 |\n",
       "\n"
      ],
      "text/plain": [
       "  Intensity complexity.from.pubmed MW     AMW   Sp     Mv    Me    Mp    Mi   \n",
       "1 1          31.5                  150.34 6.834 14.625 0.548 0.970 0.665 1.125\n",
       "2 1         196.0                  146.15 8.597 12.193 0.706 1.018 0.717 1.098\n",
       "3 1          79.0                  130.21 5.661 13.239 0.527 0.993 0.576 1.145\n",
       "4 1          95.2                  164.27 5.867 17.546 0.569 0.978 0.627 1.126\n",
       "5 1          48.1                  100.18 5.273 11.023 0.520 0.980 0.580 1.142\n",
       "6 1         137.0                  164.22 6.842 15.477 0.608 0.998 0.645 1.121\n",
       "  nBM ... Depressant.80 Depressant.50 Hypertens.80 Hypertens.50 Hypnotic.80\n",
       "1 0   ... 0             0             0            0            0          \n",
       "2 8   ... 0             0             0            0            0          \n",
       "3 1   ... 0             0             0            0            0          \n",
       "4 6   ... 0             0             0            0            1          \n",
       "5 1   ... 0             0             0            0            0          \n",
       "6 7   ... 0             0             0            0            1          \n",
       "  Hypnotic.50 Neoplastic.80 Neoplastic.50 Infective.80 Infective.50\n",
       "1 0           0             0             0            0           \n",
       "2 0           0             0             0            0           \n",
       "3 0           0             0             0            0           \n",
       "4 0           0             0             1            0           \n",
       "5 0           0             0             0            0           \n",
       "6 0           0             0             1            0           "
      ]
     },
     "metadata": {},
     "output_type": "display_data"
    }
   ],
   "source": [
    "#do the same thing for the test_set for final predictions with our best chosen model\n",
    "testset<-test_set[, 2:ncol(test_set)]\n",
    "#testset$Intensity<-gsub(\"low\",2, testset$Intensity) [to use if as.numeric is not working]\n",
    "#testset$Intensity<-gsub(\"high\",1, testset$Intensity)\n",
    "testset$Intensity <- as.numeric(testset$Intensity)\n",
    "testset<-testset[,(colnames(testset) %in% names(reduced_data))]\n",
    "head(testset)"
   ]
  },
  {
   "cell_type": "code",
   "execution_count": 208,
   "metadata": {},
   "outputs": [
    {
     "data": {
      "image/png": "[encoded data removed]",
      "text/plain": [
       "plot without title"
      ]
     },
     "metadata": {
      "image/png": {
       "height": 420,
       "width": 420
      }
     },
     "output_type": "display_data"
    }
   ],
   "source": [
    "#plotting some predictors with the response variable and see if a particular type of correlation seems to appear \n",
    "par(mfcol=c(1,3), cex=.7)\n",
    "plot(data$complexity.from.pubmed, data$VALENCE.PLEASANTNESS, xlab= \"Complexity from pubmed [unit ?]\", ylab=\"Valence pleasantness [unit ?]\")\n",
    "plot(data$MW, data$VALENCE.PLEASANTNESS, xlab= \"Molecular weight\", ylab=\"Valence pleasantness [unit ?]\")\n",
    "plot(data$AMW, data$VALENCE.PLEASANTNESS, xlab= \"AMW\", ylab=\"Valence pleasantness [unit ?]\")"
   ]
  },
  {
   "cell_type": "code",
   "execution_count": 209,
   "metadata": {},
   "outputs": [
    {
     "data": {
      "text/html": [
       "<table>\n",
       "<caption>A data.frame: 6 × 4870</caption>\n",
       "<thead>\n",
       "\t<tr><th></th><th scope=col>Intensity</th><th scope=col>complexity.from.pubmed</th><th scope=col>MW</th><th scope=col>AMW</th><th scope=col>Sv</th><th scope=col>Se</th><th scope=col>Sp</th><th scope=col>Si</th><th scope=col>Mv</th><th scope=col>Me</th><th scope=col>...</th><th scope=col>Psychotic.80</th><th scope=col>Psychotic.50</th><th scope=col>Hypertens.80</th><th scope=col>Hypertens.50</th><th scope=col>Hypnotic.80</th><th scope=col>Hypnotic.50</th><th scope=col>Neoplastic.80</th><th scope=col>Neoplastic.50</th><th scope=col>Infective.80</th><th scope=col>Infective.50</th></tr>\n",
       "\t<tr><th></th><th scope=col>&lt;dbl&gt;</th><th scope=col>&lt;dbl&gt;</th><th scope=col>&lt;dbl&gt;</th><th scope=col>&lt;dbl&gt;</th><th scope=col>&lt;dbl&gt;</th><th scope=col>&lt;dbl&gt;</th><th scope=col>&lt;dbl&gt;</th><th scope=col>&lt;dbl&gt;</th><th scope=col>&lt;dbl&gt;</th><th scope=col>&lt;dbl&gt;</th><th scope=col>...</th><th scope=col>&lt;int&gt;</th><th scope=col>&lt;int&gt;</th><th scope=col>&lt;int&gt;</th><th scope=col>&lt;int&gt;</th><th scope=col>&lt;int&gt;</th><th scope=col>&lt;int&gt;</th><th scope=col>&lt;int&gt;</th><th scope=col>&lt;int&gt;</th><th scope=col>&lt;int&gt;</th><th scope=col>&lt;int&gt;</th></tr>\n",
       "</thead>\n",
       "<tbody>\n",
       "\t<tr><th scope=row>1</th><td>2</td><td>302.0</td><td>208.33</td><td>5.952</td><td>19.698</td><td>34.491</td><td>21.523</td><td>39.571</td><td>0.563</td><td>0.985</td><td>...</td><td>0</td><td>0</td><td>1</td><td>0</td><td>1</td><td>0</td><td>1</td><td>0</td><td>1</td><td>0</td></tr>\n",
       "\t<tr><th scope=row>2</th><td>1</td><td> 72.6</td><td>122.18</td><td>6.431</td><td>11.349</td><td>18.745</td><td>12.261</td><td>21.285</td><td>0.597</td><td>0.987</td><td>...</td><td>0</td><td>0</td><td>0</td><td>0</td><td>0</td><td>0</td><td>0</td><td>0</td><td>0</td><td>0</td></tr>\n",
       "\t<tr><th scope=row>3</th><td>1</td><td>259.0</td><td>242.29</td><td>7.572</td><td>20.832</td><td>32.167</td><td>21.693</td><td>35.535</td><td>0.651</td><td>1.005</td><td>...</td><td>0</td><td>0</td><td>1</td><td>0</td><td>1</td><td>1</td><td>1</td><td>0</td><td>1</td><td>1</td></tr>\n",
       "\t<tr><th scope=row>4</th><td>1</td><td> 56.6</td><td> 88.12</td><td>6.294</td><td> 7.537</td><td>14.189</td><td> 7.955</td><td>16.080</td><td>0.538</td><td>1.014</td><td>...</td><td>0</td><td>0</td><td>0</td><td>0</td><td>0</td><td>0</td><td>0</td><td>0</td><td>0</td><td>0</td></tr>\n",
       "\t<tr><th scope=row>5</th><td>2</td><td> 84.7</td><td>136.21</td><td>6.191</td><td>12.876</td><td>21.629</td><td>14.023</td><td>24.701</td><td>0.585</td><td>0.983</td><td>...</td><td>0</td><td>0</td><td>0</td><td>0</td><td>0</td><td>0</td><td>0</td><td>0</td><td>0</td><td>0</td></tr>\n",
       "\t<tr><th scope=row>6</th><td>1</td><td>160.0</td><td>192.28</td><td>6.409</td><td>17.644</td><td>29.723</td><td>19.000</td><td>33.740</td><td>0.588</td><td>0.991</td><td>...</td><td>0</td><td>0</td><td>0</td><td>0</td><td>1</td><td>0</td><td>1</td><td>0</td><td>1</td><td>0</td></tr>\n",
       "</tbody>\n",
       "</table>\n"
      ],
      "text/latex": [
       "A data.frame: 6 × 4870\n",
       "\\begin{tabular}{r|lllllllllllllllllllll}\n",
       "  & Intensity & complexity.from.pubmed & MW & AMW & Sv & Se & Sp & Si & Mv & Me & ... & Psychotic.80 & Psychotic.50 & Hypertens.80 & Hypertens.50 & Hypnotic.80 & Hypnotic.50 & Neoplastic.80 & Neoplastic.50 & Infective.80 & Infective.50\\\\\n",
       "  & <dbl> & <dbl> & <dbl> & <dbl> & <dbl> & <dbl> & <dbl> & <dbl> & <dbl> & <dbl> & ... & <int> & <int> & <int> & <int> & <int> & <int> & <int> & <int> & <int> & <int>\\\\\n",
       "\\hline\n",
       "\t1 & 2 & 302.0 & 208.33 & 5.952 & 19.698 & 34.491 & 21.523 & 39.571 & 0.563 & 0.985 & ... & 0 & 0 & 1 & 0 & 1 & 0 & 1 & 0 & 1 & 0\\\\\n",
       "\t2 & 1 &  72.6 & 122.18 & 6.431 & 11.349 & 18.745 & 12.261 & 21.285 & 0.597 & 0.987 & ... & 0 & 0 & 0 & 0 & 0 & 0 & 0 & 0 & 0 & 0\\\\\n",
       "\t3 & 1 & 259.0 & 242.29 & 7.572 & 20.832 & 32.167 & 21.693 & 35.535 & 0.651 & 1.005 & ... & 0 & 0 & 1 & 0 & 1 & 1 & 1 & 0 & 1 & 1\\\\\n",
       "\t4 & 1 &  56.6 &  88.12 & 6.294 &  7.537 & 14.189 &  7.955 & 16.080 & 0.538 & 1.014 & ... & 0 & 0 & 0 & 0 & 0 & 0 & 0 & 0 & 0 & 0\\\\\n",
       "\t5 & 2 &  84.7 & 136.21 & 6.191 & 12.876 & 21.629 & 14.023 & 24.701 & 0.585 & 0.983 & ... & 0 & 0 & 0 & 0 & 0 & 0 & 0 & 0 & 0 & 0\\\\\n",
       "\t6 & 1 & 160.0 & 192.28 & 6.409 & 17.644 & 29.723 & 19.000 & 33.740 & 0.588 & 0.991 & ... & 0 & 0 & 0 & 0 & 1 & 0 & 1 & 0 & 1 & 0\\\\\n",
       "\\end{tabular}\n"
      ],
      "text/markdown": [
       "\n",
       "A data.frame: 6 × 4870\n",
       "\n",
       "| <!--/--> | Intensity &lt;dbl&gt; | complexity.from.pubmed &lt;dbl&gt; | MW &lt;dbl&gt; | AMW &lt;dbl&gt; | Sv &lt;dbl&gt; | Se &lt;dbl&gt; | Sp &lt;dbl&gt; | Si &lt;dbl&gt; | Mv &lt;dbl&gt; | Me &lt;dbl&gt; | ... ... | Psychotic.80 &lt;int&gt; | Psychotic.50 &lt;int&gt; | Hypertens.80 &lt;int&gt; | Hypertens.50 &lt;int&gt; | Hypnotic.80 &lt;int&gt; | Hypnotic.50 &lt;int&gt; | Neoplastic.80 &lt;int&gt; | Neoplastic.50 &lt;int&gt; | Infective.80 &lt;int&gt; | Infective.50 &lt;int&gt; |\n",
       "|---|---|---|---|---|---|---|---|---|---|---|---|---|---|---|---|---|---|---|---|---|---|\n",
       "| 1 | 2 | 302.0 | 208.33 | 5.952 | 19.698 | 34.491 | 21.523 | 39.571 | 0.563 | 0.985 | ... | 0 | 0 | 1 | 0 | 1 | 0 | 1 | 0 | 1 | 0 |\n",
       "| 2 | 1 |  72.6 | 122.18 | 6.431 | 11.349 | 18.745 | 12.261 | 21.285 | 0.597 | 0.987 | ... | 0 | 0 | 0 | 0 | 0 | 0 | 0 | 0 | 0 | 0 |\n",
       "| 3 | 1 | 259.0 | 242.29 | 7.572 | 20.832 | 32.167 | 21.693 | 35.535 | 0.651 | 1.005 | ... | 0 | 0 | 1 | 0 | 1 | 1 | 1 | 0 | 1 | 1 |\n",
       "| 4 | 1 |  56.6 |  88.12 | 6.294 |  7.537 | 14.189 |  7.955 | 16.080 | 0.538 | 1.014 | ... | 0 | 0 | 0 | 0 | 0 | 0 | 0 | 0 | 0 | 0 |\n",
       "| 5 | 2 |  84.7 | 136.21 | 6.191 | 12.876 | 21.629 | 14.023 | 24.701 | 0.585 | 0.983 | ... | 0 | 0 | 0 | 0 | 0 | 0 | 0 | 0 | 0 | 0 |\n",
       "| 6 | 1 | 160.0 | 192.28 | 6.409 | 17.644 | 29.723 | 19.000 | 33.740 | 0.588 | 0.991 | ... | 0 | 0 | 0 | 0 | 1 | 0 | 1 | 0 | 1 | 0 |\n",
       "\n"
      ],
      "text/plain": [
       "  Intensity complexity.from.pubmed MW     AMW   Sv     Se     Sp     Si    \n",
       "1 2         302.0                  208.33 5.952 19.698 34.491 21.523 39.571\n",
       "2 1          72.6                  122.18 6.431 11.349 18.745 12.261 21.285\n",
       "3 1         259.0                  242.29 7.572 20.832 32.167 21.693 35.535\n",
       "4 1          56.6                   88.12 6.294  7.537 14.189  7.955 16.080\n",
       "5 2          84.7                  136.21 6.191 12.876 21.629 14.023 24.701\n",
       "6 1         160.0                  192.28 6.409 17.644 29.723 19.000 33.740\n",
       "  Mv    Me    ... Psychotic.80 Psychotic.50 Hypertens.80 Hypertens.50\n",
       "1 0.563 0.985 ... 0            0            1            0           \n",
       "2 0.597 0.987 ... 0            0            0            0           \n",
       "3 0.651 1.005 ... 0            0            1            0           \n",
       "4 0.538 1.014 ... 0            0            0            0           \n",
       "5 0.585 0.983 ... 0            0            0            0           \n",
       "6 0.588 0.991 ... 0            0            0            0           \n",
       "  Hypnotic.80 Hypnotic.50 Neoplastic.80 Neoplastic.50 Infective.80 Infective.50\n",
       "1 1           0           1             0             1            0           \n",
       "2 0           0           0             0             0            0           \n",
       "3 1           1           1             0             1            1           \n",
       "4 0           0           0             0             0            0           \n",
       "5 0           0           0             0             0            0           \n",
       "6 1           0           1             0             1            0           "
      ]
     },
     "metadata": {},
     "output_type": "display_data"
    }
   ],
   "source": [
    "head(data.predictors)"
   ]
  },
  {
   "cell_type": "code",
   "execution_count": 11,
   "metadata": {},
   "outputs": [
    {
     "name": "stderr",
     "output_type": "stream",
     "text": [
      "corrplot 0.84 loaded\n",
      "\n"
     ]
    },
    {
     "data": {
      "text/html": [
       "<table>\n",
       "<caption>A matrix: 12 × 12 of type dbl</caption>\n",
       "<thead>\n",
       "\t<tr><th></th><th scope=col>data_corr$VALENCE.PLEASANTNESS</th><th scope=col>SpMax7_Bh.v.</th><th scope=col>SpMax8_Bh.v.</th><th scope=col>SpMax1_Bh.e.</th><th scope=col>SpMax2_Bh.e.</th><th scope=col>SpMax3_Bh.e.</th><th scope=col>SpMax4_Bh.e.</th><th scope=col>SpMax5_Bh.e.</th><th scope=col>SpMax6_Bh.e.</th><th scope=col>SpMax7_Bh.e.</th><th scope=col>SpMax8_Bh.e.</th><th scope=col>SpMax1_Bh.p.</th></tr>\n",
       "</thead>\n",
       "<tbody>\n",
       "\t<tr><th scope=row>data_corr$VALENCE.PLEASANTNESS</th><td>1.00000000</td><td>0.1257496</td><td>0.1189214</td><td>0.08978621</td><td>0.05669264</td><td>0.09162471</td><td>0.1244152</td><td>0.1342614</td><td>0.1295979</td><td>0.1191565</td><td>0.1062354</td><td>0.08199356</td></tr>\n",
       "\t<tr><th scope=row>SpMax7_Bh.v.</th><td>0.12574955</td><td>1.0000000</td><td>0.9272232</td><td>0.46429867</td><td>0.76734701</td><td>0.81324351</td><td>0.8410380</td><td>0.8673459</td><td>0.9237562</td><td>0.9878800</td><td>0.9177367</td><td>0.39066651</td></tr>\n",
       "\t<tr><th scope=row>SpMax8_Bh.v.</th><td>0.11892144</td><td>0.9272232</td><td>1.0000000</td><td>0.40119850</td><td>0.72504717</td><td>0.76406006</td><td>0.7873323</td><td>0.8193002</td><td>0.8649470</td><td>0.9225412</td><td>0.9820549</td><td>0.34370371</td></tr>\n",
       "\t<tr><th scope=row>SpMax1_Bh.e.</th><td>0.08978621</td><td>0.4642987</td><td>0.4011985</td><td>1.00000000</td><td>0.48455755</td><td>0.52833135</td><td>0.5630023</td><td>0.5953154</td><td>0.5418787</td><td>0.4586245</td><td>0.4002208</td><td>0.85826057</td></tr>\n",
       "\t<tr><th scope=row>SpMax2_Bh.e.</th><td>0.05669264</td><td>0.7673470</td><td>0.7250472</td><td>0.48455755</td><td>1.00000000</td><td>0.82748045</td><td>0.8368967</td><td>0.8350858</td><td>0.8366170</td><td>0.8099746</td><td>0.7844031</td><td>0.24839927</td></tr>\n",
       "\t<tr><th scope=row>SpMax3_Bh.e.</th><td>0.09162471</td><td>0.8132435</td><td>0.7640601</td><td>0.52833135</td><td>0.82748045</td><td>1.00000000</td><td>0.8841413</td><td>0.8803747</td><td>0.8701718</td><td>0.8394177</td><td>0.8167444</td><td>0.33199901</td></tr>\n",
       "\t<tr><th scope=row>SpMax4_Bh.e.</th><td>0.12441518</td><td>0.8410380</td><td>0.7873323</td><td>0.56300226</td><td>0.83689674</td><td>0.88414130</td><td>1.0000000</td><td>0.9212334</td><td>0.8898851</td><td>0.8638926</td><td>0.8276044</td><td>0.39874925</td></tr>\n",
       "\t<tr><th scope=row>SpMax5_Bh.e.</th><td>0.13426142</td><td>0.8673459</td><td>0.8193002</td><td>0.59531544</td><td>0.83508580</td><td>0.88037474</td><td>0.9212334</td><td>1.0000000</td><td>0.9293542</td><td>0.8791540</td><td>0.8441584</td><td>0.43523389</td></tr>\n",
       "\t<tr><th scope=row>SpMax6_Bh.e.</th><td>0.12959794</td><td>0.9237562</td><td>0.8649470</td><td>0.54187872</td><td>0.83661700</td><td>0.87017182</td><td>0.8898851</td><td>0.9293542</td><td>1.0000000</td><td>0.9342800</td><td>0.8817586</td><td>0.42211672</td></tr>\n",
       "\t<tr><th scope=row>SpMax7_Bh.e.</th><td>0.11915655</td><td>0.9878800</td><td>0.9225412</td><td>0.45862447</td><td>0.80997462</td><td>0.83941773</td><td>0.8638926</td><td>0.8791540</td><td>0.9342800</td><td>1.0000000</td><td>0.9339732</td><td>0.35579963</td></tr>\n",
       "\t<tr><th scope=row>SpMax8_Bh.e.</th><td>0.10623542</td><td>0.9177367</td><td>0.9820549</td><td>0.40022081</td><td>0.78440307</td><td>0.81674440</td><td>0.8276044</td><td>0.8441584</td><td>0.8817586</td><td>0.9339732</td><td>1.0000000</td><td>0.31034072</td></tr>\n",
       "\t<tr><th scope=row>SpMax1_Bh.p.</th><td>0.08199356</td><td>0.3906665</td><td>0.3437037</td><td>0.85826057</td><td>0.24839927</td><td>0.33199901</td><td>0.3987493</td><td>0.4352339</td><td>0.4221167</td><td>0.3557996</td><td>0.3103407</td><td>1.00000000</td></tr>\n",
       "</tbody>\n",
       "</table>\n"
      ],
      "text/latex": [
       "A matrix: 12 × 12 of type dbl\n",
       "\\begin{tabular}{r|llllllllllll}\n",
       "  & data\\_corr\\$VALENCE.PLEASANTNESS & SpMax7\\_Bh.v. & SpMax8\\_Bh.v. & SpMax1\\_Bh.e. & SpMax2\\_Bh.e. & SpMax3\\_Bh.e. & SpMax4\\_Bh.e. & SpMax5\\_Bh.e. & SpMax6\\_Bh.e. & SpMax7\\_Bh.e. & SpMax8\\_Bh.e. & SpMax1\\_Bh.p.\\\\\n",
       "\\hline\n",
       "\tdata\\_corr\\$VALENCE.PLEASANTNESS & 1.00000000 & 0.1257496 & 0.1189214 & 0.08978621 & 0.05669264 & 0.09162471 & 0.1244152 & 0.1342614 & 0.1295979 & 0.1191565 & 0.1062354 & 0.08199356\\\\\n",
       "\tSpMax7\\_Bh.v. & 0.12574955 & 1.0000000 & 0.9272232 & 0.46429867 & 0.76734701 & 0.81324351 & 0.8410380 & 0.8673459 & 0.9237562 & 0.9878800 & 0.9177367 & 0.39066651\\\\\n",
       "\tSpMax8\\_Bh.v. & 0.11892144 & 0.9272232 & 1.0000000 & 0.40119850 & 0.72504717 & 0.76406006 & 0.7873323 & 0.8193002 & 0.8649470 & 0.9225412 & 0.9820549 & 0.34370371\\\\\n",
       "\tSpMax1\\_Bh.e. & 0.08978621 & 0.4642987 & 0.4011985 & 1.00000000 & 0.48455755 & 0.52833135 & 0.5630023 & 0.5953154 & 0.5418787 & 0.4586245 & 0.4002208 & 0.85826057\\\\\n",
       "\tSpMax2\\_Bh.e. & 0.05669264 & 0.7673470 & 0.7250472 & 0.48455755 & 1.00000000 & 0.82748045 & 0.8368967 & 0.8350858 & 0.8366170 & 0.8099746 & 0.7844031 & 0.24839927\\\\\n",
       "\tSpMax3\\_Bh.e. & 0.09162471 & 0.8132435 & 0.7640601 & 0.52833135 & 0.82748045 & 1.00000000 & 0.8841413 & 0.8803747 & 0.8701718 & 0.8394177 & 0.8167444 & 0.33199901\\\\\n",
       "\tSpMax4\\_Bh.e. & 0.12441518 & 0.8410380 & 0.7873323 & 0.56300226 & 0.83689674 & 0.88414130 & 1.0000000 & 0.9212334 & 0.8898851 & 0.8638926 & 0.8276044 & 0.39874925\\\\\n",
       "\tSpMax5\\_Bh.e. & 0.13426142 & 0.8673459 & 0.8193002 & 0.59531544 & 0.83508580 & 0.88037474 & 0.9212334 & 1.0000000 & 0.9293542 & 0.8791540 & 0.8441584 & 0.43523389\\\\\n",
       "\tSpMax6\\_Bh.e. & 0.12959794 & 0.9237562 & 0.8649470 & 0.54187872 & 0.83661700 & 0.87017182 & 0.8898851 & 0.9293542 & 1.0000000 & 0.9342800 & 0.8817586 & 0.42211672\\\\\n",
       "\tSpMax7\\_Bh.e. & 0.11915655 & 0.9878800 & 0.9225412 & 0.45862447 & 0.80997462 & 0.83941773 & 0.8638926 & 0.8791540 & 0.9342800 & 1.0000000 & 0.9339732 & 0.35579963\\\\\n",
       "\tSpMax8\\_Bh.e. & 0.10623542 & 0.9177367 & 0.9820549 & 0.40022081 & 0.78440307 & 0.81674440 & 0.8276044 & 0.8441584 & 0.8817586 & 0.9339732 & 1.0000000 & 0.31034072\\\\\n",
       "\tSpMax1\\_Bh.p. & 0.08199356 & 0.3906665 & 0.3437037 & 0.85826057 & 0.24839927 & 0.33199901 & 0.3987493 & 0.4352339 & 0.4221167 & 0.3557996 & 0.3103407 & 1.00000000\\\\\n",
       "\\end{tabular}\n"
      ],
      "text/markdown": [
       "\n",
       "A matrix: 12 × 12 of type dbl\n",
       "\n",
       "| <!--/--> | data_corr$VALENCE.PLEASANTNESS | SpMax7_Bh.v. | SpMax8_Bh.v. | SpMax1_Bh.e. | SpMax2_Bh.e. | SpMax3_Bh.e. | SpMax4_Bh.e. | SpMax5_Bh.e. | SpMax6_Bh.e. | SpMax7_Bh.e. | SpMax8_Bh.e. | SpMax1_Bh.p. |\n",
       "|---|---|---|---|---|---|---|---|---|---|---|---|---|\n",
       "| data_corr$VALENCE.PLEASANTNESS | 1.00000000 | 0.1257496 | 0.1189214 | 0.08978621 | 0.05669264 | 0.09162471 | 0.1244152 | 0.1342614 | 0.1295979 | 0.1191565 | 0.1062354 | 0.08199356 |\n",
       "| SpMax7_Bh.v. | 0.12574955 | 1.0000000 | 0.9272232 | 0.46429867 | 0.76734701 | 0.81324351 | 0.8410380 | 0.8673459 | 0.9237562 | 0.9878800 | 0.9177367 | 0.39066651 |\n",
       "| SpMax8_Bh.v. | 0.11892144 | 0.9272232 | 1.0000000 | 0.40119850 | 0.72504717 | 0.76406006 | 0.7873323 | 0.8193002 | 0.8649470 | 0.9225412 | 0.9820549 | 0.34370371 |\n",
       "| SpMax1_Bh.e. | 0.08978621 | 0.4642987 | 0.4011985 | 1.00000000 | 0.48455755 | 0.52833135 | 0.5630023 | 0.5953154 | 0.5418787 | 0.4586245 | 0.4002208 | 0.85826057 |\n",
       "| SpMax2_Bh.e. | 0.05669264 | 0.7673470 | 0.7250472 | 0.48455755 | 1.00000000 | 0.82748045 | 0.8368967 | 0.8350858 | 0.8366170 | 0.8099746 | 0.7844031 | 0.24839927 |\n",
       "| SpMax3_Bh.e. | 0.09162471 | 0.8132435 | 0.7640601 | 0.52833135 | 0.82748045 | 1.00000000 | 0.8841413 | 0.8803747 | 0.8701718 | 0.8394177 | 0.8167444 | 0.33199901 |\n",
       "| SpMax4_Bh.e. | 0.12441518 | 0.8410380 | 0.7873323 | 0.56300226 | 0.83689674 | 0.88414130 | 1.0000000 | 0.9212334 | 0.8898851 | 0.8638926 | 0.8276044 | 0.39874925 |\n",
       "| SpMax5_Bh.e. | 0.13426142 | 0.8673459 | 0.8193002 | 0.59531544 | 0.83508580 | 0.88037474 | 0.9212334 | 1.0000000 | 0.9293542 | 0.8791540 | 0.8441584 | 0.43523389 |\n",
       "| SpMax6_Bh.e. | 0.12959794 | 0.9237562 | 0.8649470 | 0.54187872 | 0.83661700 | 0.87017182 | 0.8898851 | 0.9293542 | 1.0000000 | 0.9342800 | 0.8817586 | 0.42211672 |\n",
       "| SpMax7_Bh.e. | 0.11915655 | 0.9878800 | 0.9225412 | 0.45862447 | 0.80997462 | 0.83941773 | 0.8638926 | 0.8791540 | 0.9342800 | 1.0000000 | 0.9339732 | 0.35579963 |\n",
       "| SpMax8_Bh.e. | 0.10623542 | 0.9177367 | 0.9820549 | 0.40022081 | 0.78440307 | 0.81674440 | 0.8276044 | 0.8441584 | 0.8817586 | 0.9339732 | 1.0000000 | 0.31034072 |\n",
       "| SpMax1_Bh.p. | 0.08199356 | 0.3906665 | 0.3437037 | 0.85826057 | 0.24839927 | 0.33199901 | 0.3987493 | 0.4352339 | 0.4221167 | 0.3557996 | 0.3103407 | 1.00000000 |\n",
       "\n"
      ],
      "text/plain": [
       "                               data_corr$VALENCE.PLEASANTNESS SpMax7_Bh.v.\n",
       "data_corr$VALENCE.PLEASANTNESS 1.00000000                     0.1257496   \n",
       "SpMax7_Bh.v.                   0.12574955                     1.0000000   \n",
       "SpMax8_Bh.v.                   0.11892144                     0.9272232   \n",
       "SpMax1_Bh.e.                   0.08978621                     0.4642987   \n",
       "SpMax2_Bh.e.                   0.05669264                     0.7673470   \n",
       "SpMax3_Bh.e.                   0.09162471                     0.8132435   \n",
       "SpMax4_Bh.e.                   0.12441518                     0.8410380   \n",
       "SpMax5_Bh.e.                   0.13426142                     0.8673459   \n",
       "SpMax6_Bh.e.                   0.12959794                     0.9237562   \n",
       "SpMax7_Bh.e.                   0.11915655                     0.9878800   \n",
       "SpMax8_Bh.e.                   0.10623542                     0.9177367   \n",
       "SpMax1_Bh.p.                   0.08199356                     0.3906665   \n",
       "                               SpMax8_Bh.v. SpMax1_Bh.e. SpMax2_Bh.e.\n",
       "data_corr$VALENCE.PLEASANTNESS 0.1189214    0.08978621   0.05669264  \n",
       "SpMax7_Bh.v.                   0.9272232    0.46429867   0.76734701  \n",
       "SpMax8_Bh.v.                   1.0000000    0.40119850   0.72504717  \n",
       "SpMax1_Bh.e.                   0.4011985    1.00000000   0.48455755  \n",
       "SpMax2_Bh.e.                   0.7250472    0.48455755   1.00000000  \n",
       "SpMax3_Bh.e.                   0.7640601    0.52833135   0.82748045  \n",
       "SpMax4_Bh.e.                   0.7873323    0.56300226   0.83689674  \n",
       "SpMax5_Bh.e.                   0.8193002    0.59531544   0.83508580  \n",
       "SpMax6_Bh.e.                   0.8649470    0.54187872   0.83661700  \n",
       "SpMax7_Bh.e.                   0.9225412    0.45862447   0.80997462  \n",
       "SpMax8_Bh.e.                   0.9820549    0.40022081   0.78440307  \n",
       "SpMax1_Bh.p.                   0.3437037    0.85826057   0.24839927  \n",
       "                               SpMax3_Bh.e. SpMax4_Bh.e. SpMax5_Bh.e.\n",
       "data_corr$VALENCE.PLEASANTNESS 0.09162471   0.1244152    0.1342614   \n",
       "SpMax7_Bh.v.                   0.81324351   0.8410380    0.8673459   \n",
       "SpMax8_Bh.v.                   0.76406006   0.7873323    0.8193002   \n",
       "SpMax1_Bh.e.                   0.52833135   0.5630023    0.5953154   \n",
       "SpMax2_Bh.e.                   0.82748045   0.8368967    0.8350858   \n",
       "SpMax3_Bh.e.                   1.00000000   0.8841413    0.8803747   \n",
       "SpMax4_Bh.e.                   0.88414130   1.0000000    0.9212334   \n",
       "SpMax5_Bh.e.                   0.88037474   0.9212334    1.0000000   \n",
       "SpMax6_Bh.e.                   0.87017182   0.8898851    0.9293542   \n",
       "SpMax7_Bh.e.                   0.83941773   0.8638926    0.8791540   \n",
       "SpMax8_Bh.e.                   0.81674440   0.8276044    0.8441584   \n",
       "SpMax1_Bh.p.                   0.33199901   0.3987493    0.4352339   \n",
       "                               SpMax6_Bh.e. SpMax7_Bh.e. SpMax8_Bh.e.\n",
       "data_corr$VALENCE.PLEASANTNESS 0.1295979    0.1191565    0.1062354   \n",
       "SpMax7_Bh.v.                   0.9237562    0.9878800    0.9177367   \n",
       "SpMax8_Bh.v.                   0.8649470    0.9225412    0.9820549   \n",
       "SpMax1_Bh.e.                   0.5418787    0.4586245    0.4002208   \n",
       "SpMax2_Bh.e.                   0.8366170    0.8099746    0.7844031   \n",
       "SpMax3_Bh.e.                   0.8701718    0.8394177    0.8167444   \n",
       "SpMax4_Bh.e.                   0.8898851    0.8638926    0.8276044   \n",
       "SpMax5_Bh.e.                   0.9293542    0.8791540    0.8441584   \n",
       "SpMax6_Bh.e.                   1.0000000    0.9342800    0.8817586   \n",
       "SpMax7_Bh.e.                   0.9342800    1.0000000    0.9339732   \n",
       "SpMax8_Bh.e.                   0.8817586    0.9339732    1.0000000   \n",
       "SpMax1_Bh.p.                   0.4221167    0.3557996    0.3103407   \n",
       "                               SpMax1_Bh.p.\n",
       "data_corr$VALENCE.PLEASANTNESS 0.08199356  \n",
       "SpMax7_Bh.v.                   0.39066651  \n",
       "SpMax8_Bh.v.                   0.34370371  \n",
       "SpMax1_Bh.e.                   0.85826057  \n",
       "SpMax2_Bh.e.                   0.24839927  \n",
       "SpMax3_Bh.e.                   0.33199901  \n",
       "SpMax4_Bh.e.                   0.39874925  \n",
       "SpMax5_Bh.e.                   0.43523389  \n",
       "SpMax6_Bh.e.                   0.42211672  \n",
       "SpMax7_Bh.e.                   0.35579963  \n",
       "SpMax8_Bh.e.                   0.31034072  \n",
       "SpMax1_Bh.p.                   1.00000000  "
      ]
     },
     "metadata": {},
     "output_type": "display_data"
    },
    {
     "data": {
      "text/html": [
       "<table>\n",
       "<caption>A matrix: 20 × 20 of type dbl</caption>\n",
       "<thead>\n",
       "\t<tr><th></th><th scope=col>VALENCE.PLEASANTNESS</th><th scope=col>complexity.from.pubmed</th><th scope=col>MW</th><th scope=col>AMW</th><th scope=col>Sv</th><th scope=col>Se</th><th scope=col>Sp</th><th scope=col>Si</th><th scope=col>Mv</th><th scope=col>Me</th><th scope=col>Mp</th><th scope=col>Mi</th><th scope=col>nAT</th><th scope=col>nSK</th><th scope=col>nBT</th><th scope=col>nBO</th><th scope=col>nBM</th><th scope=col>SCBO</th><th scope=col>RBN</th><th scope=col>RBF</th></tr>\n",
       "</thead>\n",
       "<tbody>\n",
       "\t<tr><th scope=row>VALENCE.PLEASANTNESS</th><td> 1.000000000</td><td> 0.08669502</td><td> 0.08273365</td><td> 0.02666097</td><td> 0.08549896</td><td> 0.08411606</td><td> 0.07522103</td><td> 0.08072352</td><td> 0.02368329</td><td> 0.03331500</td><td> 0.002500244</td><td>-0.01110319</td><td> 0.08091964</td><td> 0.09486739</td><td> 0.082963628</td><td> 0.09327275</td><td> 0.024033058</td><td> 0.08448961</td><td> 0.02662611</td><td>-0.01971200</td></tr>\n",
       "\t<tr><th scope=row>complexity.from.pubmed</th><td> 0.086695020</td><td> 1.00000000</td><td> 0.77464862</td><td>-0.05937914</td><td> 0.77537659</td><td> 0.67969062</td><td> 0.72381146</td><td> 0.64812119</td><td> 0.16185426</td><td> 0.10887691</td><td>-0.017231946</td><td>-0.15154444</td><td> 0.66046320</td><td> 0.86520742</td><td> 0.696114242</td><td> 0.88949973</td><td> 0.374021172</td><td> 0.86036875</td><td> 0.26174919</td><td> 0.01579641</td></tr>\n",
       "\t<tr><th scope=row>MW</th><td> 0.082733654</td><td> 0.77464862</td><td> 1.00000000</td><td> 0.26052805</td><td> 0.89023701</td><td> 0.82037623</td><td> 0.88083509</td><td> 0.79695343</td><td> 0.23139252</td><td>-0.06269601</td><td> 0.270724783</td><td>-0.26532094</td><td> 0.80731416</td><td> 0.90898560</td><td> 0.822249810</td><td> 0.88326477</td><td> 0.260236301</td><td> 0.79278899</td><td> 0.58795883</td><td> 0.30372029</td></tr>\n",
       "\t<tr><th scope=row>AMW</th><td> 0.026660971</td><td>-0.05937914</td><td> 0.26052805</td><td> 1.00000000</td><td>-0.16915300</td><td>-0.24204725</td><td>-0.14243334</td><td>-0.25382610</td><td> 0.73029887</td><td> 0.18907424</td><td> 0.926581817</td><td>-0.57607852</td><td>-0.24669501</td><td>-0.12070034</td><td>-0.240915132</td><td>-0.10123456</td><td> 0.100712524</td><td>-0.04615146</td><td>-0.17010345</td><td>-0.15904189</td></tr>\n",
       "\t<tr><th scope=row>Sv</th><td> 0.085498961</td><td> 0.77537659</td><td> 0.89023701</td><td>-0.16915300</td><td> 1.00000000</td><td> 0.97470387</td><td> 0.99276339</td><td> 0.96383894</td><td>-0.13097623</td><td>-0.27773154</td><td>-0.121636892</td><td>-0.01359950</td><td> 0.97061639</td><td> 0.96108770</td><td> 0.981508056</td><td> 0.92422759</td><td> 0.170167004</td><td> 0.79119149</td><td> 0.68718362</td><td> 0.35838208</td></tr>\n",
       "\t<tr><th scope=row>Se</th><td> 0.084116065</td><td> 0.67969062</td><td> 0.82037623</td><td>-0.24204725</td><td> 0.97470387</td><td> 1.00000000</td><td> 0.97939744</td><td> 0.99840641</td><td>-0.31763149</td><td>-0.32683219</td><td>-0.244780931</td><td> 0.16917343</td><td> 0.99887541</td><td> 0.88971620</td><td> 0.996211653</td><td> 0.82716975</td><td>-0.036398219</td><td> 0.64445863</td><td> 0.76193614</td><td> 0.44726272</td></tr>\n",
       "\t<tr><th scope=row>Sp</th><td> 0.075221026</td><td> 0.72381146</td><td> 0.88083509</td><td>-0.14243334</td><td> 0.99276339</td><td> 0.97939744</td><td> 1.00000000</td><td> 0.97397152</td><td>-0.16017035</td><td>-0.36523443</td><td>-0.090887830</td><td>-0.01858839</td><td> 0.98004023</td><td> 0.92482507</td><td> 0.987499685</td><td> 0.88297665</td><td> 0.101914828</td><td> 0.73232046</td><td> 0.70068770</td><td> 0.36571162</td></tr>\n",
       "\t<tr><th scope=row>Si</th><td> 0.080723515</td><td> 0.64812119</td><td> 0.79695343</td><td>-0.25382610</td><td> 0.96383894</td><td> 0.99840641</td><td> 0.97397152</td><td> 1.00000000</td><td>-0.35275668</td><td>-0.36607468</td><td>-0.258163115</td><td> 0.19256739</td><td> 0.99953428</td><td> 0.86463157</td><td> 0.994765080</td><td> 0.79917360</td><td>-0.075053224</td><td> 0.60796159</td><td> 0.76526172</td><td> 0.44978711</td></tr>\n",
       "\t<tr><th scope=row>Mv</th><td> 0.023683285</td><td> 0.16185426</td><td> 0.23139252</td><td> 0.73029887</td><td>-0.13097623</td><td>-0.31763149</td><td>-0.16017035</td><td>-0.35275668</td><td> 1.00000000</td><td> 0.36694881</td><td> 0.847279563</td><td>-0.86094669</td><td>-0.33153844</td><td> 0.05049208</td><td>-0.289619161</td><td> 0.13983784</td><td> 0.672191570</td><td> 0.33880712</td><td>-0.36711731</td><td>-0.38438819</td></tr>\n",
       "\t<tr><th scope=row>Me</th><td> 0.033315002</td><td> 0.10887691</td><td>-0.06269601</td><td> 0.18907424</td><td>-0.27773154</td><td>-0.32683219</td><td>-0.36523443</td><td>-0.36607468</td><td> 0.36694881</td><td> 1.00000000</td><td> 0.018287234</td><td> 0.06030255</td><td>-0.36815074</td><td>-0.06709620</td><td>-0.364522672</td><td>-0.05901231</td><td> 0.200383667</td><td> 0.05105932</td><td>-0.18323759</td><td>-0.01157159</td></tr>\n",
       "\t<tr><th scope=row>Mp</th><td> 0.002500244</td><td>-0.01723195</td><td> 0.27072478</td><td> 0.92658182</td><td>-0.12163689</td><td>-0.24478093</td><td>-0.09088783</td><td>-0.25816311</td><td> 0.84727956</td><td> 0.01828723</td><td> 1.000000000</td><td>-0.81889183</td><td>-0.24243381</td><td>-0.06426055</td><td>-0.220318106</td><td>-0.01081952</td><td> 0.317647315</td><td> 0.09002578</td><td>-0.24655524</td><td>-0.28125579</td></tr>\n",
       "\t<tr><th scope=row>Mi</th><td>-0.011103194</td><td>-0.15154444</td><td>-0.26532094</td><td>-0.57607852</td><td>-0.01359950</td><td> 0.16917343</td><td>-0.01858839</td><td> 0.19256739</td><td>-0.86094669</td><td> 0.06030255</td><td>-0.818891830</td><td> 1.00000000</td><td> 0.16597885</td><td>-0.11299579</td><td> 0.122028461</td><td>-0.20470881</td><td>-0.639879678</td><td>-0.36750616</td><td> 0.28369276</td><td> 0.36173495</td></tr>\n",
       "\t<tr><th scope=row>nAT</th><td> 0.080919639</td><td> 0.66046320</td><td> 0.80731416</td><td>-0.24669501</td><td> 0.97061639</td><td> 0.99887541</td><td> 0.98004023</td><td> 0.99953428</td><td>-0.33153844</td><td>-0.36815074</td><td>-0.242433814</td><td> 0.16597885</td><td> 1.00000000</td><td> 0.87533644</td><td> 0.996973209</td><td> 0.81312164</td><td>-0.050149795</td><td> 0.62722035</td><td> 0.75805379</td><td> 0.43926461</td></tr>\n",
       "\t<tr><th scope=row>nSK</th><td> 0.094867394</td><td> 0.86520742</td><td> 0.90898560</td><td>-0.12070034</td><td> 0.96108770</td><td> 0.88971620</td><td> 0.92482507</td><td> 0.86463157</td><td> 0.05049208</td><td>-0.06709620</td><td>-0.064260553</td><td>-0.11299579</td><td> 0.87533644</td><td> 1.00000000</td><td> 0.897618730</td><td> 0.98528600</td><td> 0.374612430</td><td> 0.91416036</td><td> 0.58887502</td><td> 0.28658719</td></tr>\n",
       "\t<tr><th scope=row>nBT</th><td> 0.082963628</td><td> 0.69611424</td><td> 0.82224981</td><td>-0.24091513</td><td> 0.98150806</td><td> 0.99621165</td><td> 0.98749969</td><td> 0.99476508</td><td>-0.28961916</td><td>-0.36452267</td><td>-0.220318106</td><td> 0.12202846</td><td> 0.99697321</td><td> 0.89761873</td><td> 1.000000000</td><td> 0.84780893</td><td> 0.003914093</td><td> 0.67136574</td><td> 0.71906860</td><td> 0.38805064</td></tr>\n",
       "\t<tr><th scope=row>nBO</th><td> 0.093272748</td><td> 0.88949973</td><td> 0.88326477</td><td>-0.10123456</td><td> 0.92422759</td><td> 0.82716975</td><td> 0.88297665</td><td> 0.79917360</td><td> 0.13983784</td><td>-0.05901231</td><td>-0.010819524</td><td>-0.20470881</td><td> 0.81312164</td><td> 0.98528600</td><td> 0.847808935</td><td> 1.00000000</td><td> 0.470751419</td><td> 0.95395510</td><td> 0.46132268</td><td> 0.14966688</td></tr>\n",
       "\t<tr><th scope=row>nBM</th><td> 0.024033058</td><td> 0.37402117</td><td> 0.26023630</td><td> 0.10071252</td><td> 0.17016700</td><td>-0.03639822</td><td> 0.10191483</td><td>-0.07505322</td><td> 0.67219157</td><td> 0.20038367</td><td> 0.317647315</td><td>-0.63987968</td><td>-0.05014979</td><td> 0.37461243</td><td> 0.003914093</td><td> 0.47075142</td><td> 1.000000000</td><td> 0.70363124</td><td>-0.21615418</td><td>-0.29874035</td></tr>\n",
       "\t<tr><th scope=row>SCBO</th><td> 0.084489606</td><td> 0.86036875</td><td> 0.79278899</td><td>-0.04615146</td><td> 0.79119149</td><td> 0.64445863</td><td> 0.73232046</td><td> 0.60796159</td><td> 0.33880712</td><td> 0.05105932</td><td> 0.090025783</td><td>-0.36750616</td><td> 0.62722035</td><td> 0.91416036</td><td> 0.671365744</td><td> 0.95395510</td><td> 0.703631237</td><td> 1.00000000</td><td> 0.30261473</td><td> 0.03667460</td></tr>\n",
       "\t<tr><th scope=row>RBN</th><td> 0.026626110</td><td> 0.26174919</td><td> 0.58795883</td><td>-0.17010345</td><td> 0.68718362</td><td> 0.76193614</td><td> 0.70068770</td><td> 0.76526172</td><td>-0.36711731</td><td>-0.18323759</td><td>-0.246555236</td><td> 0.28369276</td><td> 0.75805379</td><td> 0.58887502</td><td> 0.719068602</td><td> 0.46132268</td><td>-0.216154179</td><td> 0.30261473</td><td> 1.00000000</td><td> 0.86051758</td></tr>\n",
       "\t<tr><th scope=row>RBF</th><td>-0.019711997</td><td> 0.01579641</td><td> 0.30372029</td><td>-0.15904189</td><td> 0.35838208</td><td> 0.44726272</td><td> 0.36571162</td><td> 0.44978711</td><td>-0.38438819</td><td>-0.01157159</td><td>-0.281255786</td><td> 0.36173495</td><td> 0.43926461</td><td> 0.28658719</td><td> 0.388050643</td><td> 0.14966688</td><td>-0.298740353</td><td> 0.03667460</td><td> 0.86051758</td><td> 1.00000000</td></tr>\n",
       "</tbody>\n",
       "</table>\n"
      ],
      "text/latex": [
       "A matrix: 20 × 20 of type dbl\n",
       "\\begin{tabular}{r|llllllllllllllllllll}\n",
       "  & VALENCE.PLEASANTNESS & complexity.from.pubmed & MW & AMW & Sv & Se & Sp & Si & Mv & Me & Mp & Mi & nAT & nSK & nBT & nBO & nBM & SCBO & RBN & RBF\\\\\n",
       "\\hline\n",
       "\tVALENCE.PLEASANTNESS &  1.000000000 &  0.08669502 &  0.08273365 &  0.02666097 &  0.08549896 &  0.08411606 &  0.07522103 &  0.08072352 &  0.02368329 &  0.03331500 &  0.002500244 & -0.01110319 &  0.08091964 &  0.09486739 &  0.082963628 &  0.09327275 &  0.024033058 &  0.08448961 &  0.02662611 & -0.01971200\\\\\n",
       "\tcomplexity.from.pubmed &  0.086695020 &  1.00000000 &  0.77464862 & -0.05937914 &  0.77537659 &  0.67969062 &  0.72381146 &  0.64812119 &  0.16185426 &  0.10887691 & -0.017231946 & -0.15154444 &  0.66046320 &  0.86520742 &  0.696114242 &  0.88949973 &  0.374021172 &  0.86036875 &  0.26174919 &  0.01579641\\\\\n",
       "\tMW &  0.082733654 &  0.77464862 &  1.00000000 &  0.26052805 &  0.89023701 &  0.82037623 &  0.88083509 &  0.79695343 &  0.23139252 & -0.06269601 &  0.270724783 & -0.26532094 &  0.80731416 &  0.90898560 &  0.822249810 &  0.88326477 &  0.260236301 &  0.79278899 &  0.58795883 &  0.30372029\\\\\n",
       "\tAMW &  0.026660971 & -0.05937914 &  0.26052805 &  1.00000000 & -0.16915300 & -0.24204725 & -0.14243334 & -0.25382610 &  0.73029887 &  0.18907424 &  0.926581817 & -0.57607852 & -0.24669501 & -0.12070034 & -0.240915132 & -0.10123456 &  0.100712524 & -0.04615146 & -0.17010345 & -0.15904189\\\\\n",
       "\tSv &  0.085498961 &  0.77537659 &  0.89023701 & -0.16915300 &  1.00000000 &  0.97470387 &  0.99276339 &  0.96383894 & -0.13097623 & -0.27773154 & -0.121636892 & -0.01359950 &  0.97061639 &  0.96108770 &  0.981508056 &  0.92422759 &  0.170167004 &  0.79119149 &  0.68718362 &  0.35838208\\\\\n",
       "\tSe &  0.084116065 &  0.67969062 &  0.82037623 & -0.24204725 &  0.97470387 &  1.00000000 &  0.97939744 &  0.99840641 & -0.31763149 & -0.32683219 & -0.244780931 &  0.16917343 &  0.99887541 &  0.88971620 &  0.996211653 &  0.82716975 & -0.036398219 &  0.64445863 &  0.76193614 &  0.44726272\\\\\n",
       "\tSp &  0.075221026 &  0.72381146 &  0.88083509 & -0.14243334 &  0.99276339 &  0.97939744 &  1.00000000 &  0.97397152 & -0.16017035 & -0.36523443 & -0.090887830 & -0.01858839 &  0.98004023 &  0.92482507 &  0.987499685 &  0.88297665 &  0.101914828 &  0.73232046 &  0.70068770 &  0.36571162\\\\\n",
       "\tSi &  0.080723515 &  0.64812119 &  0.79695343 & -0.25382610 &  0.96383894 &  0.99840641 &  0.97397152 &  1.00000000 & -0.35275668 & -0.36607468 & -0.258163115 &  0.19256739 &  0.99953428 &  0.86463157 &  0.994765080 &  0.79917360 & -0.075053224 &  0.60796159 &  0.76526172 &  0.44978711\\\\\n",
       "\tMv &  0.023683285 &  0.16185426 &  0.23139252 &  0.73029887 & -0.13097623 & -0.31763149 & -0.16017035 & -0.35275668 &  1.00000000 &  0.36694881 &  0.847279563 & -0.86094669 & -0.33153844 &  0.05049208 & -0.289619161 &  0.13983784 &  0.672191570 &  0.33880712 & -0.36711731 & -0.38438819\\\\\n",
       "\tMe &  0.033315002 &  0.10887691 & -0.06269601 &  0.18907424 & -0.27773154 & -0.32683219 & -0.36523443 & -0.36607468 &  0.36694881 &  1.00000000 &  0.018287234 &  0.06030255 & -0.36815074 & -0.06709620 & -0.364522672 & -0.05901231 &  0.200383667 &  0.05105932 & -0.18323759 & -0.01157159\\\\\n",
       "\tMp &  0.002500244 & -0.01723195 &  0.27072478 &  0.92658182 & -0.12163689 & -0.24478093 & -0.09088783 & -0.25816311 &  0.84727956 &  0.01828723 &  1.000000000 & -0.81889183 & -0.24243381 & -0.06426055 & -0.220318106 & -0.01081952 &  0.317647315 &  0.09002578 & -0.24655524 & -0.28125579\\\\\n",
       "\tMi & -0.011103194 & -0.15154444 & -0.26532094 & -0.57607852 & -0.01359950 &  0.16917343 & -0.01858839 &  0.19256739 & -0.86094669 &  0.06030255 & -0.818891830 &  1.00000000 &  0.16597885 & -0.11299579 &  0.122028461 & -0.20470881 & -0.639879678 & -0.36750616 &  0.28369276 &  0.36173495\\\\\n",
       "\tnAT &  0.080919639 &  0.66046320 &  0.80731416 & -0.24669501 &  0.97061639 &  0.99887541 &  0.98004023 &  0.99953428 & -0.33153844 & -0.36815074 & -0.242433814 &  0.16597885 &  1.00000000 &  0.87533644 &  0.996973209 &  0.81312164 & -0.050149795 &  0.62722035 &  0.75805379 &  0.43926461\\\\\n",
       "\tnSK &  0.094867394 &  0.86520742 &  0.90898560 & -0.12070034 &  0.96108770 &  0.88971620 &  0.92482507 &  0.86463157 &  0.05049208 & -0.06709620 & -0.064260553 & -0.11299579 &  0.87533644 &  1.00000000 &  0.897618730 &  0.98528600 &  0.374612430 &  0.91416036 &  0.58887502 &  0.28658719\\\\\n",
       "\tnBT &  0.082963628 &  0.69611424 &  0.82224981 & -0.24091513 &  0.98150806 &  0.99621165 &  0.98749969 &  0.99476508 & -0.28961916 & -0.36452267 & -0.220318106 &  0.12202846 &  0.99697321 &  0.89761873 &  1.000000000 &  0.84780893 &  0.003914093 &  0.67136574 &  0.71906860 &  0.38805064\\\\\n",
       "\tnBO &  0.093272748 &  0.88949973 &  0.88326477 & -0.10123456 &  0.92422759 &  0.82716975 &  0.88297665 &  0.79917360 &  0.13983784 & -0.05901231 & -0.010819524 & -0.20470881 &  0.81312164 &  0.98528600 &  0.847808935 &  1.00000000 &  0.470751419 &  0.95395510 &  0.46132268 &  0.14966688\\\\\n",
       "\tnBM &  0.024033058 &  0.37402117 &  0.26023630 &  0.10071252 &  0.17016700 & -0.03639822 &  0.10191483 & -0.07505322 &  0.67219157 &  0.20038367 &  0.317647315 & -0.63987968 & -0.05014979 &  0.37461243 &  0.003914093 &  0.47075142 &  1.000000000 &  0.70363124 & -0.21615418 & -0.29874035\\\\\n",
       "\tSCBO &  0.084489606 &  0.86036875 &  0.79278899 & -0.04615146 &  0.79119149 &  0.64445863 &  0.73232046 &  0.60796159 &  0.33880712 &  0.05105932 &  0.090025783 & -0.36750616 &  0.62722035 &  0.91416036 &  0.671365744 &  0.95395510 &  0.703631237 &  1.00000000 &  0.30261473 &  0.03667460\\\\\n",
       "\tRBN &  0.026626110 &  0.26174919 &  0.58795883 & -0.17010345 &  0.68718362 &  0.76193614 &  0.70068770 &  0.76526172 & -0.36711731 & -0.18323759 & -0.246555236 &  0.28369276 &  0.75805379 &  0.58887502 &  0.719068602 &  0.46132268 & -0.216154179 &  0.30261473 &  1.00000000 &  0.86051758\\\\\n",
       "\tRBF & -0.019711997 &  0.01579641 &  0.30372029 & -0.15904189 &  0.35838208 &  0.44726272 &  0.36571162 &  0.44978711 & -0.38438819 & -0.01157159 & -0.281255786 &  0.36173495 &  0.43926461 &  0.28658719 &  0.388050643 &  0.14966688 & -0.298740353 &  0.03667460 &  0.86051758 &  1.00000000\\\\\n",
       "\\end{tabular}\n"
      ],
      "text/markdown": [
       "\n",
       "A matrix: 20 × 20 of type dbl\n",
       "\n",
       "| <!--/--> | VALENCE.PLEASANTNESS | complexity.from.pubmed | MW | AMW | Sv | Se | Sp | Si | Mv | Me | Mp | Mi | nAT | nSK | nBT | nBO | nBM | SCBO | RBN | RBF |\n",
       "|---|---|---|---|---|---|---|---|---|---|---|---|---|---|---|---|---|---|---|---|---|\n",
       "| VALENCE.PLEASANTNESS |  1.000000000 |  0.08669502 |  0.08273365 |  0.02666097 |  0.08549896 |  0.08411606 |  0.07522103 |  0.08072352 |  0.02368329 |  0.03331500 |  0.002500244 | -0.01110319 |  0.08091964 |  0.09486739 |  0.082963628 |  0.09327275 |  0.024033058 |  0.08448961 |  0.02662611 | -0.01971200 |\n",
       "| complexity.from.pubmed |  0.086695020 |  1.00000000 |  0.77464862 | -0.05937914 |  0.77537659 |  0.67969062 |  0.72381146 |  0.64812119 |  0.16185426 |  0.10887691 | -0.017231946 | -0.15154444 |  0.66046320 |  0.86520742 |  0.696114242 |  0.88949973 |  0.374021172 |  0.86036875 |  0.26174919 |  0.01579641 |\n",
       "| MW |  0.082733654 |  0.77464862 |  1.00000000 |  0.26052805 |  0.89023701 |  0.82037623 |  0.88083509 |  0.79695343 |  0.23139252 | -0.06269601 |  0.270724783 | -0.26532094 |  0.80731416 |  0.90898560 |  0.822249810 |  0.88326477 |  0.260236301 |  0.79278899 |  0.58795883 |  0.30372029 |\n",
       "| AMW |  0.026660971 | -0.05937914 |  0.26052805 |  1.00000000 | -0.16915300 | -0.24204725 | -0.14243334 | -0.25382610 |  0.73029887 |  0.18907424 |  0.926581817 | -0.57607852 | -0.24669501 | -0.12070034 | -0.240915132 | -0.10123456 |  0.100712524 | -0.04615146 | -0.17010345 | -0.15904189 |\n",
       "| Sv |  0.085498961 |  0.77537659 |  0.89023701 | -0.16915300 |  1.00000000 |  0.97470387 |  0.99276339 |  0.96383894 | -0.13097623 | -0.27773154 | -0.121636892 | -0.01359950 |  0.97061639 |  0.96108770 |  0.981508056 |  0.92422759 |  0.170167004 |  0.79119149 |  0.68718362 |  0.35838208 |\n",
       "| Se |  0.084116065 |  0.67969062 |  0.82037623 | -0.24204725 |  0.97470387 |  1.00000000 |  0.97939744 |  0.99840641 | -0.31763149 | -0.32683219 | -0.244780931 |  0.16917343 |  0.99887541 |  0.88971620 |  0.996211653 |  0.82716975 | -0.036398219 |  0.64445863 |  0.76193614 |  0.44726272 |\n",
       "| Sp |  0.075221026 |  0.72381146 |  0.88083509 | -0.14243334 |  0.99276339 |  0.97939744 |  1.00000000 |  0.97397152 | -0.16017035 | -0.36523443 | -0.090887830 | -0.01858839 |  0.98004023 |  0.92482507 |  0.987499685 |  0.88297665 |  0.101914828 |  0.73232046 |  0.70068770 |  0.36571162 |\n",
       "| Si |  0.080723515 |  0.64812119 |  0.79695343 | -0.25382610 |  0.96383894 |  0.99840641 |  0.97397152 |  1.00000000 | -0.35275668 | -0.36607468 | -0.258163115 |  0.19256739 |  0.99953428 |  0.86463157 |  0.994765080 |  0.79917360 | -0.075053224 |  0.60796159 |  0.76526172 |  0.44978711 |\n",
       "| Mv |  0.023683285 |  0.16185426 |  0.23139252 |  0.73029887 | -0.13097623 | -0.31763149 | -0.16017035 | -0.35275668 |  1.00000000 |  0.36694881 |  0.847279563 | -0.86094669 | -0.33153844 |  0.05049208 | -0.289619161 |  0.13983784 |  0.672191570 |  0.33880712 | -0.36711731 | -0.38438819 |\n",
       "| Me |  0.033315002 |  0.10887691 | -0.06269601 |  0.18907424 | -0.27773154 | -0.32683219 | -0.36523443 | -0.36607468 |  0.36694881 |  1.00000000 |  0.018287234 |  0.06030255 | -0.36815074 | -0.06709620 | -0.364522672 | -0.05901231 |  0.200383667 |  0.05105932 | -0.18323759 | -0.01157159 |\n",
       "| Mp |  0.002500244 | -0.01723195 |  0.27072478 |  0.92658182 | -0.12163689 | -0.24478093 | -0.09088783 | -0.25816311 |  0.84727956 |  0.01828723 |  1.000000000 | -0.81889183 | -0.24243381 | -0.06426055 | -0.220318106 | -0.01081952 |  0.317647315 |  0.09002578 | -0.24655524 | -0.28125579 |\n",
       "| Mi | -0.011103194 | -0.15154444 | -0.26532094 | -0.57607852 | -0.01359950 |  0.16917343 | -0.01858839 |  0.19256739 | -0.86094669 |  0.06030255 | -0.818891830 |  1.00000000 |  0.16597885 | -0.11299579 |  0.122028461 | -0.20470881 | -0.639879678 | -0.36750616 |  0.28369276 |  0.36173495 |\n",
       "| nAT |  0.080919639 |  0.66046320 |  0.80731416 | -0.24669501 |  0.97061639 |  0.99887541 |  0.98004023 |  0.99953428 | -0.33153844 | -0.36815074 | -0.242433814 |  0.16597885 |  1.00000000 |  0.87533644 |  0.996973209 |  0.81312164 | -0.050149795 |  0.62722035 |  0.75805379 |  0.43926461 |\n",
       "| nSK |  0.094867394 |  0.86520742 |  0.90898560 | -0.12070034 |  0.96108770 |  0.88971620 |  0.92482507 |  0.86463157 |  0.05049208 | -0.06709620 | -0.064260553 | -0.11299579 |  0.87533644 |  1.00000000 |  0.897618730 |  0.98528600 |  0.374612430 |  0.91416036 |  0.58887502 |  0.28658719 |\n",
       "| nBT |  0.082963628 |  0.69611424 |  0.82224981 | -0.24091513 |  0.98150806 |  0.99621165 |  0.98749969 |  0.99476508 | -0.28961916 | -0.36452267 | -0.220318106 |  0.12202846 |  0.99697321 |  0.89761873 |  1.000000000 |  0.84780893 |  0.003914093 |  0.67136574 |  0.71906860 |  0.38805064 |\n",
       "| nBO |  0.093272748 |  0.88949973 |  0.88326477 | -0.10123456 |  0.92422759 |  0.82716975 |  0.88297665 |  0.79917360 |  0.13983784 | -0.05901231 | -0.010819524 | -0.20470881 |  0.81312164 |  0.98528600 |  0.847808935 |  1.00000000 |  0.470751419 |  0.95395510 |  0.46132268 |  0.14966688 |\n",
       "| nBM |  0.024033058 |  0.37402117 |  0.26023630 |  0.10071252 |  0.17016700 | -0.03639822 |  0.10191483 | -0.07505322 |  0.67219157 |  0.20038367 |  0.317647315 | -0.63987968 | -0.05014979 |  0.37461243 |  0.003914093 |  0.47075142 |  1.000000000 |  0.70363124 | -0.21615418 | -0.29874035 |\n",
       "| SCBO |  0.084489606 |  0.86036875 |  0.79278899 | -0.04615146 |  0.79119149 |  0.64445863 |  0.73232046 |  0.60796159 |  0.33880712 |  0.05105932 |  0.090025783 | -0.36750616 |  0.62722035 |  0.91416036 |  0.671365744 |  0.95395510 |  0.703631237 |  1.00000000 |  0.30261473 |  0.03667460 |\n",
       "| RBN |  0.026626110 |  0.26174919 |  0.58795883 | -0.17010345 |  0.68718362 |  0.76193614 |  0.70068770 |  0.76526172 | -0.36711731 | -0.18323759 | -0.246555236 |  0.28369276 |  0.75805379 |  0.58887502 |  0.719068602 |  0.46132268 | -0.216154179 |  0.30261473 |  1.00000000 |  0.86051758 |\n",
       "| RBF | -0.019711997 |  0.01579641 |  0.30372029 | -0.15904189 |  0.35838208 |  0.44726272 |  0.36571162 |  0.44978711 | -0.38438819 | -0.01157159 | -0.281255786 |  0.36173495 |  0.43926461 |  0.28658719 |  0.388050643 |  0.14966688 | -0.298740353 |  0.03667460 |  0.86051758 |  1.00000000 |\n",
       "\n"
      ],
      "text/plain": [
       "                       VALENCE.PLEASANTNESS complexity.from.pubmed MW         \n",
       "VALENCE.PLEASANTNESS    1.000000000          0.08669502             0.08273365\n",
       "complexity.from.pubmed  0.086695020          1.00000000             0.77464862\n",
       "MW                      0.082733654          0.77464862             1.00000000\n",
       "AMW                     0.026660971         -0.05937914             0.26052805\n",
       "Sv                      0.085498961          0.77537659             0.89023701\n",
       "Se                      0.084116065          0.67969062             0.82037623\n",
       "Sp                      0.075221026          0.72381146             0.88083509\n",
       "Si                      0.080723515          0.64812119             0.79695343\n",
       "Mv                      0.023683285          0.16185426             0.23139252\n",
       "Me                      0.033315002          0.10887691            -0.06269601\n",
       "Mp                      0.002500244         -0.01723195             0.27072478\n",
       "Mi                     -0.011103194         -0.15154444            -0.26532094\n",
       "nAT                     0.080919639          0.66046320             0.80731416\n",
       "nSK                     0.094867394          0.86520742             0.90898560\n",
       "nBT                     0.082963628          0.69611424             0.82224981\n",
       "nBO                     0.093272748          0.88949973             0.88326477\n",
       "nBM                     0.024033058          0.37402117             0.26023630\n",
       "SCBO                    0.084489606          0.86036875             0.79278899\n",
       "RBN                     0.026626110          0.26174919             0.58795883\n",
       "RBF                    -0.019711997          0.01579641             0.30372029\n",
       "                       AMW         Sv          Se          Sp         \n",
       "VALENCE.PLEASANTNESS    0.02666097  0.08549896  0.08411606  0.07522103\n",
       "complexity.from.pubmed -0.05937914  0.77537659  0.67969062  0.72381146\n",
       "MW                      0.26052805  0.89023701  0.82037623  0.88083509\n",
       "AMW                     1.00000000 -0.16915300 -0.24204725 -0.14243334\n",
       "Sv                     -0.16915300  1.00000000  0.97470387  0.99276339\n",
       "Se                     -0.24204725  0.97470387  1.00000000  0.97939744\n",
       "Sp                     -0.14243334  0.99276339  0.97939744  1.00000000\n",
       "Si                     -0.25382610  0.96383894  0.99840641  0.97397152\n",
       "Mv                      0.73029887 -0.13097623 -0.31763149 -0.16017035\n",
       "Me                      0.18907424 -0.27773154 -0.32683219 -0.36523443\n",
       "Mp                      0.92658182 -0.12163689 -0.24478093 -0.09088783\n",
       "Mi                     -0.57607852 -0.01359950  0.16917343 -0.01858839\n",
       "nAT                    -0.24669501  0.97061639  0.99887541  0.98004023\n",
       "nSK                    -0.12070034  0.96108770  0.88971620  0.92482507\n",
       "nBT                    -0.24091513  0.98150806  0.99621165  0.98749969\n",
       "nBO                    -0.10123456  0.92422759  0.82716975  0.88297665\n",
       "nBM                     0.10071252  0.17016700 -0.03639822  0.10191483\n",
       "SCBO                   -0.04615146  0.79119149  0.64445863  0.73232046\n",
       "RBN                    -0.17010345  0.68718362  0.76193614  0.70068770\n",
       "RBF                    -0.15904189  0.35838208  0.44726272  0.36571162\n",
       "                       Si          Mv          Me          Mp          \n",
       "VALENCE.PLEASANTNESS    0.08072352  0.02368329  0.03331500  0.002500244\n",
       "complexity.from.pubmed  0.64812119  0.16185426  0.10887691 -0.017231946\n",
       "MW                      0.79695343  0.23139252 -0.06269601  0.270724783\n",
       "AMW                    -0.25382610  0.73029887  0.18907424  0.926581817\n",
       "Sv                      0.96383894 -0.13097623 -0.27773154 -0.121636892\n",
       "Se                      0.99840641 -0.31763149 -0.32683219 -0.244780931\n",
       "Sp                      0.97397152 -0.16017035 -0.36523443 -0.090887830\n",
       "Si                      1.00000000 -0.35275668 -0.36607468 -0.258163115\n",
       "Mv                     -0.35275668  1.00000000  0.36694881  0.847279563\n",
       "Me                     -0.36607468  0.36694881  1.00000000  0.018287234\n",
       "Mp                     -0.25816311  0.84727956  0.01828723  1.000000000\n",
       "Mi                      0.19256739 -0.86094669  0.06030255 -0.818891830\n",
       "nAT                     0.99953428 -0.33153844 -0.36815074 -0.242433814\n",
       "nSK                     0.86463157  0.05049208 -0.06709620 -0.064260553\n",
       "nBT                     0.99476508 -0.28961916 -0.36452267 -0.220318106\n",
       "nBO                     0.79917360  0.13983784 -0.05901231 -0.010819524\n",
       "nBM                    -0.07505322  0.67219157  0.20038367  0.317647315\n",
       "SCBO                    0.60796159  0.33880712  0.05105932  0.090025783\n",
       "RBN                     0.76526172 -0.36711731 -0.18323759 -0.246555236\n",
       "RBF                     0.44978711 -0.38438819 -0.01157159 -0.281255786\n",
       "                       Mi          nAT         nSK         nBT         \n",
       "VALENCE.PLEASANTNESS   -0.01110319  0.08091964  0.09486739  0.082963628\n",
       "complexity.from.pubmed -0.15154444  0.66046320  0.86520742  0.696114242\n",
       "MW                     -0.26532094  0.80731416  0.90898560  0.822249810\n",
       "AMW                    -0.57607852 -0.24669501 -0.12070034 -0.240915132\n",
       "Sv                     -0.01359950  0.97061639  0.96108770  0.981508056\n",
       "Se                      0.16917343  0.99887541  0.88971620  0.996211653\n",
       "Sp                     -0.01858839  0.98004023  0.92482507  0.987499685\n",
       "Si                      0.19256739  0.99953428  0.86463157  0.994765080\n",
       "Mv                     -0.86094669 -0.33153844  0.05049208 -0.289619161\n",
       "Me                      0.06030255 -0.36815074 -0.06709620 -0.364522672\n",
       "Mp                     -0.81889183 -0.24243381 -0.06426055 -0.220318106\n",
       "Mi                      1.00000000  0.16597885 -0.11299579  0.122028461\n",
       "nAT                     0.16597885  1.00000000  0.87533644  0.996973209\n",
       "nSK                    -0.11299579  0.87533644  1.00000000  0.897618730\n",
       "nBT                     0.12202846  0.99697321  0.89761873  1.000000000\n",
       "nBO                    -0.20470881  0.81312164  0.98528600  0.847808935\n",
       "nBM                    -0.63987968 -0.05014979  0.37461243  0.003914093\n",
       "SCBO                   -0.36750616  0.62722035  0.91416036  0.671365744\n",
       "RBN                     0.28369276  0.75805379  0.58887502  0.719068602\n",
       "RBF                     0.36173495  0.43926461  0.28658719  0.388050643\n",
       "                       nBO         nBM          SCBO        RBN        \n",
       "VALENCE.PLEASANTNESS    0.09327275  0.024033058  0.08448961  0.02662611\n",
       "complexity.from.pubmed  0.88949973  0.374021172  0.86036875  0.26174919\n",
       "MW                      0.88326477  0.260236301  0.79278899  0.58795883\n",
       "AMW                    -0.10123456  0.100712524 -0.04615146 -0.17010345\n",
       "Sv                      0.92422759  0.170167004  0.79119149  0.68718362\n",
       "Se                      0.82716975 -0.036398219  0.64445863  0.76193614\n",
       "Sp                      0.88297665  0.101914828  0.73232046  0.70068770\n",
       "Si                      0.79917360 -0.075053224  0.60796159  0.76526172\n",
       "Mv                      0.13983784  0.672191570  0.33880712 -0.36711731\n",
       "Me                     -0.05901231  0.200383667  0.05105932 -0.18323759\n",
       "Mp                     -0.01081952  0.317647315  0.09002578 -0.24655524\n",
       "Mi                     -0.20470881 -0.639879678 -0.36750616  0.28369276\n",
       "nAT                     0.81312164 -0.050149795  0.62722035  0.75805379\n",
       "nSK                     0.98528600  0.374612430  0.91416036  0.58887502\n",
       "nBT                     0.84780893  0.003914093  0.67136574  0.71906860\n",
       "nBO                     1.00000000  0.470751419  0.95395510  0.46132268\n",
       "nBM                     0.47075142  1.000000000  0.70363124 -0.21615418\n",
       "SCBO                    0.95395510  0.703631237  1.00000000  0.30261473\n",
       "RBN                     0.46132268 -0.216154179  0.30261473  1.00000000\n",
       "RBF                     0.14966688 -0.298740353  0.03667460  0.86051758\n",
       "                       RBF        \n",
       "VALENCE.PLEASANTNESS   -0.01971200\n",
       "complexity.from.pubmed  0.01579641\n",
       "MW                      0.30372029\n",
       "AMW                    -0.15904189\n",
       "Sv                      0.35838208\n",
       "Se                      0.44726272\n",
       "Sp                      0.36571162\n",
       "Si                      0.44978711\n",
       "Mv                     -0.38438819\n",
       "Me                     -0.01157159\n",
       "Mp                     -0.28125579\n",
       "Mi                      0.36173495\n",
       "nAT                     0.43926461\n",
       "nSK                     0.28658719\n",
       "nBT                     0.38805064\n",
       "nBO                     0.14966688\n",
       "nBM                    -0.29874035\n",
       "SCBO                    0.03667460\n",
       "RBN                     0.86051758\n",
       "RBF                     1.00000000"
      ]
     },
     "metadata": {},
     "output_type": "display_data"
    },
    {
     "data": {
      "image/png": "[encoded data removed]",
      "text/plain": [
       "Plot with title \"\""
      ]
     },
     "metadata": {
      "image/png": {
       "height": 420,
       "width": 420
      }
     },
     "output_type": "display_data"
    },
    {
     "data": {
      "image/png": "[encoded data removed]",
      "text/plain": [
       "Plot with title \"\""
      ]
     },
     "metadata": {
      "image/png": {
       "height": 420,
       "width": 420
      }
     },
     "output_type": "display_data"
    }
   ],
   "source": [
    "#looking at the correlation between numeric variables:\n",
    "library(corrplot)\n",
    "data_corr<-data[-1]\n",
    "correlations<- cor(cbind(data_corr$VALENCE.PLEASANTNESS,data[,1060:1070]),use=\"everything\")\n",
    "correlations\n",
    "corrplot(correlations, method=\"circle\", type=\"lower\",  sig.level = 0.01, insig = \"blank\")\n",
    "correlations<- cor(data_corr[,1:20],use=\"everything\")\n",
    "correlations\n",
    "corrplot(correlations, method=\"circle\", type=\"lower\",  sig.level = 0.01, insig = \"blank\")"
   ]
  },
  {
   "cell_type": "markdown",
   "metadata": {},
   "source": [
    "We can see in the correlation plot above that 'MW','Sv','Se' and 'Sp' have relative strong correlation with each other. Therefore, as an example, we plot the correlation among those four variables and VALENCE.PLEASANTNESS."
   ]
  },
  {
   "cell_type": "code",
   "execution_count": 81,
   "metadata": {},
   "outputs": [
    {
     "data": {
      "image/png": "[encoded data removed]",
      "text/plain": [
       "plot without title"
      ]
     },
     "metadata": {
      "image/png": {
       "height": 420,
       "width": 420
      }
     },
     "output_type": "display_data"
    }
   ],
   "source": [
    "pairs(~VALENCE.PLEASANTNESS+MW+Sv+Se+Sp, data)"
   ]
  },
  {
   "cell_type": "markdown",
   "metadata": {},
   "source": [
    "Here we can see that some predictors are related by strong correlation so we will have to remove strongly correlated predictors that may predict the response in a similar manner."
   ]
  },
  {
   "cell_type": "code",
   "execution_count": 82,
   "metadata": {},
   "outputs": [
    {
     "data": {
      "image/png": "[encoded data removed]",
      "text/plain": [
       "plot without title"
      ]
     },
     "metadata": {
      "image/png": {
       "height": 420,
       "width": 420
      }
     },
     "output_type": "display_data"
    }
   ],
   "source": [
    "pairs(data[,1:10],main=\"Scatterplot Matrix\")"
   ]
  },
  {
   "cell_type": "markdown",
   "metadata": {},
   "source": [
    "Here, we can also see some pair plots where the feature follow a constant line with respect to the response variable, hence, we will need to remove features with zero variance, because they don't add any information. "
   ]
  },
  {
   "cell_type": "code",
   "execution_count": 83,
   "metadata": {},
   "outputs": [
    {
     "data": {
      "image/png": "[encoded data removed]",
      "text/plain": [
       "plot without title"
      ]
     },
     "metadata": {
      "image/png": {
       "height": 420,
       "width": 420
      }
     },
     "output_type": "display_data"
    }
   ],
   "source": [
    "pairs(cbind(data.response, data.predictors[,30:45]))"
   ]
  },
  {
   "cell_type": "markdown",
   "metadata": {},
   "source": [
    "The dependent variable (VALENCE.PLEASANTNESS) don't seem to have decent linearity when plotting with this selection of other variables. However, it is also obvious that some independent variables also have linear relationship with others. The problem of multicollinearity is obvious and should be treated when the quantity of variables in regression formula is huge."
   ]
  },
  {
   "cell_type": "code",
   "execution_count": 84,
   "metadata": {},
   "outputs": [
    {
     "data": {
      "image/png": "[encoded data removed]",
      "text/plain": [
       "Plot with title \"Histogram of data.response\""
      ]
     },
     "metadata": {
      "image/png": {
       "height": 420,
       "width": 420
      }
     },
     "output_type": "display_data"
    },
    {
     "data": {
      "image/png": "[encoded data removed]",
      "text/plain": [
       "Plot with title \"Histogram of data.response\""
      ]
     },
     "metadata": {
      "image/png": {
       "height": 420,
       "width": 420
      }
     },
     "output_type": "display_data"
    }
   ],
   "source": [
    "hist(data.response)\n",
    "hist(data.response, freq = FALSE)\n",
    "lines(density(data.response))\n",
    "#we can infer from the histogram that the ‘VALENCE.PLEASANTNESS’ variable seems to be normally distributed but contain several outliers."
   ]
  },
  {
   "cell_type": "markdown",
   "metadata": {},
   "source": [
    "Before implementing models, one should first split the training set of data into 2 parts: a training set within the training set and a test set that can be used for evaluation."
   ]
  },
  {
   "cell_type": "code",
   "execution_count": 210,
   "metadata": {},
   "outputs": [],
   "source": [
    "set.seed(127)\n",
    "i <- sample(nrow(data), 3*nrow(data)/4)\n",
    "datatrain <- as.matrix(data.predictors[i,])\n",
    "datatest <- as.matrix(data.predictors[-i,])\n",
    "ytrain <- data.response[i]\n",
    "ytest <- data.response[-i]"
   ]
  },
  {
   "cell_type": "code",
   "execution_count": 211,
   "metadata": {},
   "outputs": [
    {
     "data": {
      "text/html": [
       "<style>\n",
       ".list-inline {list-style: none; margin:0; padding: 0}\n",
       ".list-inline>li {display: inline-block}\n",
       ".list-inline>li:not(:last-child)::after {content: \"\\00b7\"; padding: 0 .5ex}\n",
       "</style>\n",
       "<ol class=list-inline><li>531</li><li>4870</li></ol>\n"
      ],
      "text/latex": [
       "\\begin{enumerate*}\n",
       "\\item 531\n",
       "\\item 4870\n",
       "\\end{enumerate*}\n"
      ],
      "text/markdown": [
       "1. 531\n",
       "2. 4870\n",
       "\n",
       "\n"
      ],
      "text/plain": [
       "[1]  531 4870"
      ]
     },
     "metadata": {},
     "output_type": "display_data"
    },
    {
     "data": {
      "text/html": [
       "531"
      ],
      "text/latex": [
       "531"
      ],
      "text/markdown": [
       "531"
      ],
      "text/plain": [
       "[1] 531"
      ]
     },
     "metadata": {},
     "output_type": "display_data"
    }
   ],
   "source": [
    "dim(datatrain)\n",
    "length(ytrain)"
   ]
  },
  {
   "cell_type": "code",
   "execution_count": 212,
   "metadata": {},
   "outputs": [],
   "source": [
    "#removing predictors with zero variance\n",
    "data2 <- data.predictors[, apply(data.predictors, 2, function(v) var(v)!=0)]"
   ]
  },
  {
   "cell_type": "code",
   "execution_count": 213,
   "metadata": {},
   "outputs": [
    {
     "data": {
      "text/html": [
       "<style>\n",
       ".list-inline {list-style: none; margin:0; padding: 0}\n",
       ".list-inline>li {display: inline-block}\n",
       ".list-inline>li:not(:last-child)::after {content: \"\\00b7\"; padding: 0 .5ex}\n",
       "</style>\n",
       "<ol class=list-inline><li>708</li><li>3028</li></ol>\n"
      ],
      "text/latex": [
       "\\begin{enumerate*}\n",
       "\\item 708\n",
       "\\item 3028\n",
       "\\end{enumerate*}\n"
      ],
      "text/markdown": [
       "1. 708\n",
       "2. 3028\n",
       "\n",
       "\n"
      ],
      "text/plain": [
       "[1]  708 3028"
      ]
     },
     "metadata": {},
     "output_type": "display_data"
    }
   ],
   "source": [
    "dim(data2)"
   ]
  },
  {
   "cell_type": "code",
   "execution_count": 216,
   "metadata": {},
   "outputs": [
    {
     "data": {
      "text/html": [
       "<style>\n",
       ".list-inline {list-style: none; margin:0; padding: 0}\n",
       ".list-inline>li {display: inline-block}\n",
       ".list-inline>li:not(:last-child)::after {content: \"\\00b7\"; padding: 0 .5ex}\n",
       "</style>\n",
       "<ol class=list-inline><li>708</li><li>1827</li></ol>\n"
      ],
      "text/latex": [
       "\\begin{enumerate*}\n",
       "\\item 708\n",
       "\\item 1827\n",
       "\\end{enumerate*}\n"
      ],
      "text/markdown": [
       "1. 708\n",
       "2. 1827\n",
       "\n",
       "\n"
      ],
      "text/plain": [
       "[1]  708 1827"
      ]
     },
     "metadata": {},
     "output_type": "display_data"
    }
   ],
   "source": [
    "#removing strongly correlated predictors\n",
    "library(caret)\n",
    "df2 = cor(data2)\n",
    "hc = findCorrelation(df2, cutoff=0.99) \n",
    "hc = sort(hc)\n",
    "names <- colnames(df2[, hc])\n",
    "reduced_data <- data2[,!(colnames(data2) %in% names)]\n",
    "dim(reduced_data)"
   ]
  },
  {
   "cell_type": "code",
   "execution_count": 218,
   "metadata": {},
   "outputs": [
    {
     "data": {
      "text/html": [
       "<table>\n",
       "<caption>A data.frame: 6 × 1827</caption>\n",
       "<thead>\n",
       "\t<tr><th></th><th scope=col>Intensity</th><th scope=col>complexity.from.pubmed</th><th scope=col>MW</th><th scope=col>AMW</th><th scope=col>Sp</th><th scope=col>Mv</th><th scope=col>Me</th><th scope=col>Mp</th><th scope=col>Mi</th><th scope=col>nBM</th><th scope=col>...</th><th scope=col>Depressant.80</th><th scope=col>Depressant.50</th><th scope=col>Hypertens.80</th><th scope=col>Hypertens.50</th><th scope=col>Hypnotic.80</th><th scope=col>Hypnotic.50</th><th scope=col>Neoplastic.80</th><th scope=col>Neoplastic.50</th><th scope=col>Infective.80</th><th scope=col>Infective.50</th></tr>\n",
       "\t<tr><th></th><th scope=col>&lt;dbl&gt;</th><th scope=col>&lt;dbl&gt;</th><th scope=col>&lt;dbl&gt;</th><th scope=col>&lt;dbl&gt;</th><th scope=col>&lt;dbl&gt;</th><th scope=col>&lt;dbl&gt;</th><th scope=col>&lt;dbl&gt;</th><th scope=col>&lt;dbl&gt;</th><th scope=col>&lt;dbl&gt;</th><th scope=col>&lt;int&gt;</th><th scope=col>...</th><th scope=col>&lt;int&gt;</th><th scope=col>&lt;int&gt;</th><th scope=col>&lt;int&gt;</th><th scope=col>&lt;int&gt;</th><th scope=col>&lt;int&gt;</th><th scope=col>&lt;int&gt;</th><th scope=col>&lt;int&gt;</th><th scope=col>&lt;int&gt;</th><th scope=col>&lt;int&gt;</th><th scope=col>&lt;int&gt;</th></tr>\n",
       "</thead>\n",
       "<tbody>\n",
       "\t<tr><th scope=row>1</th><td>2</td><td>302.0</td><td>208.33</td><td>5.952</td><td>21.523</td><td>0.563</td><td>0.985</td><td>0.615</td><td>1.131</td><td> 2</td><td>...</td><td>0</td><td>0</td><td>1</td><td>0</td><td>1</td><td>0</td><td>1</td><td>0</td><td>1</td><td>0</td></tr>\n",
       "\t<tr><th scope=row>2</th><td>1</td><td> 72.6</td><td>122.18</td><td>6.431</td><td>12.261</td><td>0.597</td><td>0.987</td><td>0.645</td><td>1.120</td><td> 6</td><td>...</td><td>0</td><td>0</td><td>0</td><td>0</td><td>0</td><td>0</td><td>0</td><td>0</td><td>0</td><td>0</td></tr>\n",
       "\t<tr><th scope=row>3</th><td>1</td><td>259.0</td><td>242.29</td><td>7.572</td><td>21.693</td><td>0.651</td><td>1.005</td><td>0.678</td><td>1.110</td><td>13</td><td>...</td><td>1</td><td>0</td><td>1</td><td>0</td><td>1</td><td>1</td><td>1</td><td>0</td><td>1</td><td>1</td></tr>\n",
       "\t<tr><th scope=row>4</th><td>1</td><td> 56.6</td><td> 88.12</td><td>6.294</td><td> 7.955</td><td>0.538</td><td>1.014</td><td>0.568</td><td>1.149</td><td> 1</td><td>...</td><td>0</td><td>0</td><td>0</td><td>0</td><td>0</td><td>0</td><td>0</td><td>0</td><td>0</td><td>0</td></tr>\n",
       "\t<tr><th scope=row>5</th><td>2</td><td> 84.7</td><td>136.21</td><td>6.191</td><td>14.023</td><td>0.585</td><td>0.983</td><td>0.637</td><td>1.123</td><td> 6</td><td>...</td><td>0</td><td>0</td><td>0</td><td>0</td><td>0</td><td>0</td><td>0</td><td>0</td><td>0</td><td>0</td></tr>\n",
       "\t<tr><th scope=row>6</th><td>1</td><td>160.0</td><td>192.28</td><td>6.409</td><td>19.000</td><td>0.588</td><td>0.991</td><td>0.633</td><td>1.125</td><td> 7</td><td>...</td><td>0</td><td>0</td><td>0</td><td>0</td><td>1</td><td>0</td><td>1</td><td>0</td><td>1</td><td>0</td></tr>\n",
       "</tbody>\n",
       "</table>\n"
      ],
      "text/latex": [
       "A data.frame: 6 × 1827\n",
       "\\begin{tabular}{r|lllllllllllllllllllll}\n",
       "  & Intensity & complexity.from.pubmed & MW & AMW & Sp & Mv & Me & Mp & Mi & nBM & ... & Depressant.80 & Depressant.50 & Hypertens.80 & Hypertens.50 & Hypnotic.80 & Hypnotic.50 & Neoplastic.80 & Neoplastic.50 & Infective.80 & Infective.50\\\\\n",
       "  & <dbl> & <dbl> & <dbl> & <dbl> & <dbl> & <dbl> & <dbl> & <dbl> & <dbl> & <int> & ... & <int> & <int> & <int> & <int> & <int> & <int> & <int> & <int> & <int> & <int>\\\\\n",
       "\\hline\n",
       "\t1 & 2 & 302.0 & 208.33 & 5.952 & 21.523 & 0.563 & 0.985 & 0.615 & 1.131 &  2 & ... & 0 & 0 & 1 & 0 & 1 & 0 & 1 & 0 & 1 & 0\\\\\n",
       "\t2 & 1 &  72.6 & 122.18 & 6.431 & 12.261 & 0.597 & 0.987 & 0.645 & 1.120 &  6 & ... & 0 & 0 & 0 & 0 & 0 & 0 & 0 & 0 & 0 & 0\\\\\n",
       "\t3 & 1 & 259.0 & 242.29 & 7.572 & 21.693 & 0.651 & 1.005 & 0.678 & 1.110 & 13 & ... & 1 & 0 & 1 & 0 & 1 & 1 & 1 & 0 & 1 & 1\\\\\n",
       "\t4 & 1 &  56.6 &  88.12 & 6.294 &  7.955 & 0.538 & 1.014 & 0.568 & 1.149 &  1 & ... & 0 & 0 & 0 & 0 & 0 & 0 & 0 & 0 & 0 & 0\\\\\n",
       "\t5 & 2 &  84.7 & 136.21 & 6.191 & 14.023 & 0.585 & 0.983 & 0.637 & 1.123 &  6 & ... & 0 & 0 & 0 & 0 & 0 & 0 & 0 & 0 & 0 & 0\\\\\n",
       "\t6 & 1 & 160.0 & 192.28 & 6.409 & 19.000 & 0.588 & 0.991 & 0.633 & 1.125 &  7 & ... & 0 & 0 & 0 & 0 & 1 & 0 & 1 & 0 & 1 & 0\\\\\n",
       "\\end{tabular}\n"
      ],
      "text/markdown": [
       "\n",
       "A data.frame: 6 × 1827\n",
       "\n",
       "| <!--/--> | Intensity &lt;dbl&gt; | complexity.from.pubmed &lt;dbl&gt; | MW &lt;dbl&gt; | AMW &lt;dbl&gt; | Sp &lt;dbl&gt; | Mv &lt;dbl&gt; | Me &lt;dbl&gt; | Mp &lt;dbl&gt; | Mi &lt;dbl&gt; | nBM &lt;int&gt; | ... ... | Depressant.80 &lt;int&gt; | Depressant.50 &lt;int&gt; | Hypertens.80 &lt;int&gt; | Hypertens.50 &lt;int&gt; | Hypnotic.80 &lt;int&gt; | Hypnotic.50 &lt;int&gt; | Neoplastic.80 &lt;int&gt; | Neoplastic.50 &lt;int&gt; | Infective.80 &lt;int&gt; | Infective.50 &lt;int&gt; |\n",
       "|---|---|---|---|---|---|---|---|---|---|---|---|---|---|---|---|---|---|---|---|---|---|\n",
       "| 1 | 2 | 302.0 | 208.33 | 5.952 | 21.523 | 0.563 | 0.985 | 0.615 | 1.131 |  2 | ... | 0 | 0 | 1 | 0 | 1 | 0 | 1 | 0 | 1 | 0 |\n",
       "| 2 | 1 |  72.6 | 122.18 | 6.431 | 12.261 | 0.597 | 0.987 | 0.645 | 1.120 |  6 | ... | 0 | 0 | 0 | 0 | 0 | 0 | 0 | 0 | 0 | 0 |\n",
       "| 3 | 1 | 259.0 | 242.29 | 7.572 | 21.693 | 0.651 | 1.005 | 0.678 | 1.110 | 13 | ... | 1 | 0 | 1 | 0 | 1 | 1 | 1 | 0 | 1 | 1 |\n",
       "| 4 | 1 |  56.6 |  88.12 | 6.294 |  7.955 | 0.538 | 1.014 | 0.568 | 1.149 |  1 | ... | 0 | 0 | 0 | 0 | 0 | 0 | 0 | 0 | 0 | 0 |\n",
       "| 5 | 2 |  84.7 | 136.21 | 6.191 | 14.023 | 0.585 | 0.983 | 0.637 | 1.123 |  6 | ... | 0 | 0 | 0 | 0 | 0 | 0 | 0 | 0 | 0 | 0 |\n",
       "| 6 | 1 | 160.0 | 192.28 | 6.409 | 19.000 | 0.588 | 0.991 | 0.633 | 1.125 |  7 | ... | 0 | 0 | 0 | 0 | 1 | 0 | 1 | 0 | 1 | 0 |\n",
       "\n"
      ],
      "text/plain": [
       "  Intensity complexity.from.pubmed MW     AMW   Sp     Mv    Me    Mp    Mi   \n",
       "1 2         302.0                  208.33 5.952 21.523 0.563 0.985 0.615 1.131\n",
       "2 1          72.6                  122.18 6.431 12.261 0.597 0.987 0.645 1.120\n",
       "3 1         259.0                  242.29 7.572 21.693 0.651 1.005 0.678 1.110\n",
       "4 1          56.6                   88.12 6.294  7.955 0.538 1.014 0.568 1.149\n",
       "5 2          84.7                  136.21 6.191 14.023 0.585 0.983 0.637 1.123\n",
       "6 1         160.0                  192.28 6.409 19.000 0.588 0.991 0.633 1.125\n",
       "  nBM ... Depressant.80 Depressant.50 Hypertens.80 Hypertens.50 Hypnotic.80\n",
       "1  2  ... 0             0             1            0            1          \n",
       "2  6  ... 0             0             0            0            0          \n",
       "3 13  ... 1             0             1            0            1          \n",
       "4  1  ... 0             0             0            0            0          \n",
       "5  6  ... 0             0             0            0            0          \n",
       "6  7  ... 0             0             0            0            1          \n",
       "  Hypnotic.50 Neoplastic.80 Neoplastic.50 Infective.80 Infective.50\n",
       "1 0           1             0             1            0           \n",
       "2 0           0             0             0            0           \n",
       "3 1           1             0             1            1           \n",
       "4 0           0             0             0            0           \n",
       "5 0           0             0             0            0           \n",
       "6 0           1             0             1            0           "
      ]
     },
     "metadata": {},
     "output_type": "display_data"
    }
   ],
   "source": [
    "head(reduced_data)"
   ]
  },
  {
   "cell_type": "code",
   "execution_count": 219,
   "metadata": {},
   "outputs": [],
   "source": [
    "#splitting the reduced data\n",
    "set.seed(135)\n",
    "i <- sample(nrow(reduced_data), 3*nrow(reduced_data)/4)\n",
    "aftertrain <- reduced_data[i,]\n",
    "aftertest <- reduced_data[-i,]\n",
    "afterYtrain <- data.response[i]\n",
    "afterYtest <- data.response[-i]"
   ]
  },
  {
   "cell_type": "code",
   "execution_count": 220,
   "metadata": {},
   "outputs": [
    {
     "data": {
      "text/html": [
       "<style>\n",
       ".list-inline {list-style: none; margin:0; padding: 0}\n",
       ".list-inline>li {display: inline-block}\n",
       ".list-inline>li:not(:last-child)::after {content: \"\\00b7\"; padding: 0 .5ex}\n",
       "</style>\n",
       "<ol class=list-inline><li>531</li><li>1827</li></ol>\n"
      ],
      "text/latex": [
       "\\begin{enumerate*}\n",
       "\\item 531\n",
       "\\item 1827\n",
       "\\end{enumerate*}\n"
      ],
      "text/markdown": [
       "1. 531\n",
       "2. 1827\n",
       "\n",
       "\n"
      ],
      "text/plain": [
       "[1]  531 1827"
      ]
     },
     "metadata": {},
     "output_type": "display_data"
    },
    {
     "data": {
      "text/html": [
       "531"
      ],
      "text/latex": [
       "531"
      ],
      "text/markdown": [
       "531"
      ],
      "text/plain": [
       "[1] 531"
      ]
     },
     "metadata": {},
     "output_type": "display_data"
    }
   ],
   "source": [
    "dim(aftertrain)\n",
    "length(afterYtrain)"
   ]
  },
  {
   "cell_type": "code",
   "execution_count": 221,
   "metadata": {},
   "outputs": [
    {
     "data": {
      "text/html": [
       "<style>\n",
       ".list-inline {list-style: none; margin:0; padding: 0}\n",
       ".list-inline>li {display: inline-block}\n",
       ".list-inline>li:not(:last-child)::after {content: \"\\00b7\"; padding: 0 .5ex}\n",
       "</style>\n",
       "<ol class=list-inline><li>45</li><li>15</li><li>47</li><li>12</li><li>22</li><li>43</li><li>5</li><li>61</li><li>11</li><li>35</li><li>37</li><li>62</li><li>17</li><li>62</li><li>44</li><li>49</li><li>53</li><li>0</li><li>50</li><li>52</li><li>44</li><li>2</li><li>6</li><li>89</li><li>60</li><li>42</li><li>56</li><li>48</li><li>49</li><li>5</li><li>19</li><li>54</li><li>49</li><li>35</li><li>19</li><li>69</li><li>47</li><li>48</li><li>46</li><li>53</li><li>45</li><li>58</li><li>78</li><li>10</li><li>52</li><li>58</li><li>51</li><li>9</li><li>72</li><li>98</li><li>48</li><li>21</li><li>48</li><li>11</li><li>56</li><li>7</li><li>52</li><li>20</li><li>31</li><li>53</li><li>59</li><li>37</li><li>74</li><li>0</li><li>16</li><li>52</li><li>54</li><li>44</li><li>10</li><li>80</li><li>47</li><li>79</li><li>7</li><li>56</li><li>35</li><li>56</li><li>53</li><li>9</li><li>49</li><li>55</li><li>61</li><li>20</li><li>62</li><li>51</li><li>10</li><li>0</li><li>45</li><li>55</li><li>81</li><li>85</li><li>0</li><li>3</li><li>70</li><li>78</li><li>16</li><li>18</li><li>49</li><li>53</li><li>0</li><li>9</li><li>84</li><li>41</li><li>53</li><li>46</li><li>6</li><li>53</li><li>55</li><li>47</li><li>74</li><li>45</li><li>60</li><li>17</li><li>80</li><li>87</li><li>0</li><li>55</li><li>18</li><li>0</li><li>9</li><li>0</li><li>69</li><li>81</li><li>21</li><li>44</li><li>61</li><li>48</li><li>0</li><li>34</li><li>22</li><li>79</li><li>18</li><li>96</li><li>83</li><li>21</li><li>54</li><li>68</li><li>47</li><li>64</li><li>52</li><li>33</li><li>20</li><li>37</li><li>53</li><li>52</li><li>37</li><li>35</li><li>43</li><li>46</li><li>16</li><li>47</li><li>0</li><li>64</li><li>65</li><li>0</li><li>24</li><li>93</li><li>76</li><li>61</li><li>16</li><li>21</li><li>55</li><li>18</li><li>39</li><li>35</li><li>17</li><li>97</li><li>35</li><li>59</li><li>55</li><li>44</li><li>0</li><li>73</li><li>52</li><li>12</li><li>20</li><li>59</li><li>1</li><li>0</li><li>49</li><li>95</li><li>23</li><li>16</li><li>44</li><li>73</li><li>83</li><li>76</li><li>33</li><li>46</li><li>50</li><li>73</li><li>52</li><li>49</li><li>41</li><li>53</li><li>15</li><li>22</li><li>22</li><li>3</li><li>23</li><li>75</li><li>...</li><li>48</li><li>6</li><li>8</li><li>60</li><li>76</li><li>8</li><li>28</li><li>59</li><li>51</li><li>44</li><li>62</li><li>67</li><li>60</li><li>7</li><li>16</li><li>64</li><li>0</li><li>84</li><li>56</li><li>53</li><li>53</li><li>18</li><li>16</li><li>5</li><li>47</li><li>55</li><li>60</li><li>92</li><li>51</li><li>54</li><li>74</li><li>16</li><li>32</li><li>60</li><li>18</li><li>32</li><li>58</li><li>43</li><li>2</li><li>68</li><li>59</li><li>39</li><li>18</li><li>86</li><li>55</li><li>58</li><li>81</li><li>63</li><li>37</li><li>77</li><li>56</li><li>64</li><li>75</li><li>52</li><li>15</li><li>55</li><li>46</li><li>54</li><li>92</li><li>52</li><li>62</li><li>0</li><li>54</li><li>62</li><li>49</li><li>56</li><li>59</li><li>52</li><li>53</li><li>52</li><li>19</li><li>67</li><li>59</li><li>52</li><li>12</li><li>75</li><li>4</li><li>19</li><li>83</li><li>33</li><li>80</li><li>79</li><li>51</li><li>48</li><li>0</li><li>24</li><li>9</li><li>62</li><li>45</li><li>0</li><li>49</li><li>15</li><li>53</li><li>48</li><li>75</li><li>49</li><li>90</li><li>12</li><li>3</li><li>17</li><li>16</li><li>9</li><li>52</li><li>60</li><li>49</li><li>55</li><li>36</li><li>71</li><li>10</li><li>8</li><li>54</li><li>19</li><li>61</li><li>46</li><li>62</li><li>77</li><li>95</li><li>53</li><li>43</li><li>55</li><li>31</li><li>80</li><li>46</li><li>50</li><li>61</li><li>54</li><li>56</li><li>47</li><li>5</li><li>46</li><li>45</li><li>64</li><li>55</li><li>86</li><li>52</li><li>52</li><li>18</li><li>78</li><li>42</li><li>53</li><li>48</li><li>0</li><li>53</li><li>32</li><li>8</li><li>19</li><li>28</li><li>49</li><li>77</li><li>44</li><li>50</li><li>55</li><li>53</li><li>32</li><li>73</li><li>46</li><li>17</li><li>59</li><li>62</li><li>55</li><li>53</li><li>46</li><li>51</li><li>45</li><li>51</li><li>34</li><li>49</li><li>22</li><li>60</li><li>59</li><li>7</li><li>48</li><li>52</li><li>67</li><li>58</li><li>84</li><li>16</li><li>38</li><li>6</li><li>9</li><li>47</li><li>0</li><li>71</li><li>55</li><li>52</li><li>21</li><li>49</li><li>53</li><li>54</li><li>4</li><li>0</li><li>45</li><li>49</li><li>55</li><li>80</li><li>49</li><li>38</li><li>12</li><li>48</li><li>33</li></ol>\n"
      ],
      "text/latex": [
       "\\begin{enumerate*}\n",
       "\\item 45\n",
       "\\item 15\n",
       "\\item 47\n",
       "\\item 12\n",
       "\\item 22\n",
       "\\item 43\n",
       "\\item 5\n",
       "\\item 61\n",
       "\\item 11\n",
       "\\item 35\n",
       "\\item 37\n",
       "\\item 62\n",
       "\\item 17\n",
       "\\item 62\n",
       "\\item 44\n",
       "\\item 49\n",
       "\\item 53\n",
       "\\item 0\n",
       "\\item 50\n",
       "\\item 52\n",
       "\\item 44\n",
       "\\item 2\n",
       "\\item 6\n",
       "\\item 89\n",
       "\\item 60\n",
       "\\item 42\n",
       "\\item 56\n",
       "\\item 48\n",
       "\\item 49\n",
       "\\item 5\n",
       "\\item 19\n",
       "\\item 54\n",
       "\\item 49\n",
       "\\item 35\n",
       "\\item 19\n",
       "\\item 69\n",
       "\\item 47\n",
       "\\item 48\n",
       "\\item 46\n",
       "\\item 53\n",
       "\\item 45\n",
       "\\item 58\n",
       "\\item 78\n",
       "\\item 10\n",
       "\\item 52\n",
       "\\item 58\n",
       "\\item 51\n",
       "\\item 9\n",
       "\\item 72\n",
       "\\item 98\n",
       "\\item 48\n",
       "\\item 21\n",
       "\\item 48\n",
       "\\item 11\n",
       "\\item 56\n",
       "\\item 7\n",
       "\\item 52\n",
       "\\item 20\n",
       "\\item 31\n",
       "\\item 53\n",
       "\\item 59\n",
       "\\item 37\n",
       "\\item 74\n",
       "\\item 0\n",
       "\\item 16\n",
       "\\item 52\n",
       "\\item 54\n",
       "\\item 44\n",
       "\\item 10\n",
       "\\item 80\n",
       "\\item 47\n",
       "\\item 79\n",
       "\\item 7\n",
       "\\item 56\n",
       "\\item 35\n",
       "\\item 56\n",
       "\\item 53\n",
       "\\item 9\n",
       "\\item 49\n",
       "\\item 55\n",
       "\\item 61\n",
       "\\item 20\n",
       "\\item 62\n",
       "\\item 51\n",
       "\\item 10\n",
       "\\item 0\n",
       "\\item 45\n",
       "\\item 55\n",
       "\\item 81\n",
       "\\item 85\n",
       "\\item 0\n",
       "\\item 3\n",
       "\\item 70\n",
       "\\item 78\n",
       "\\item 16\n",
       "\\item 18\n",
       "\\item 49\n",
       "\\item 53\n",
       "\\item 0\n",
       "\\item 9\n",
       "\\item 84\n",
       "\\item 41\n",
       "\\item 53\n",
       "\\item 46\n",
       "\\item 6\n",
       "\\item 53\n",
       "\\item 55\n",
       "\\item 47\n",
       "\\item 74\n",
       "\\item 45\n",
       "\\item 60\n",
       "\\item 17\n",
       "\\item 80\n",
       "\\item 87\n",
       "\\item 0\n",
       "\\item 55\n",
       "\\item 18\n",
       "\\item 0\n",
       "\\item 9\n",
       "\\item 0\n",
       "\\item 69\n",
       "\\item 81\n",
       "\\item 21\n",
       "\\item 44\n",
       "\\item 61\n",
       "\\item 48\n",
       "\\item 0\n",
       "\\item 34\n",
       "\\item 22\n",
       "\\item 79\n",
       "\\item 18\n",
       "\\item 96\n",
       "\\item 83\n",
       "\\item 21\n",
       "\\item 54\n",
       "\\item 68\n",
       "\\item 47\n",
       "\\item 64\n",
       "\\item 52\n",
       "\\item 33\n",
       "\\item 20\n",
       "\\item 37\n",
       "\\item 53\n",
       "\\item 52\n",
       "\\item 37\n",
       "\\item 35\n",
       "\\item 43\n",
       "\\item 46\n",
       "\\item 16\n",
       "\\item 47\n",
       "\\item 0\n",
       "\\item 64\n",
       "\\item 65\n",
       "\\item 0\n",
       "\\item 24\n",
       "\\item 93\n",
       "\\item 76\n",
       "\\item 61\n",
       "\\item 16\n",
       "\\item 21\n",
       "\\item 55\n",
       "\\item 18\n",
       "\\item 39\n",
       "\\item 35\n",
       "\\item 17\n",
       "\\item 97\n",
       "\\item 35\n",
       "\\item 59\n",
       "\\item 55\n",
       "\\item 44\n",
       "\\item 0\n",
       "\\item 73\n",
       "\\item 52\n",
       "\\item 12\n",
       "\\item 20\n",
       "\\item 59\n",
       "\\item 1\n",
       "\\item 0\n",
       "\\item 49\n",
       "\\item 95\n",
       "\\item 23\n",
       "\\item 16\n",
       "\\item 44\n",
       "\\item 73\n",
       "\\item 83\n",
       "\\item 76\n",
       "\\item 33\n",
       "\\item 46\n",
       "\\item 50\n",
       "\\item 73\n",
       "\\item 52\n",
       "\\item 49\n",
       "\\item 41\n",
       "\\item 53\n",
       "\\item 15\n",
       "\\item 22\n",
       "\\item 22\n",
       "\\item 3\n",
       "\\item 23\n",
       "\\item 75\n",
       "\\item ...\n",
       "\\item 48\n",
       "\\item 6\n",
       "\\item 8\n",
       "\\item 60\n",
       "\\item 76\n",
       "\\item 8\n",
       "\\item 28\n",
       "\\item 59\n",
       "\\item 51\n",
       "\\item 44\n",
       "\\item 62\n",
       "\\item 67\n",
       "\\item 60\n",
       "\\item 7\n",
       "\\item 16\n",
       "\\item 64\n",
       "\\item 0\n",
       "\\item 84\n",
       "\\item 56\n",
       "\\item 53\n",
       "\\item 53\n",
       "\\item 18\n",
       "\\item 16\n",
       "\\item 5\n",
       "\\item 47\n",
       "\\item 55\n",
       "\\item 60\n",
       "\\item 92\n",
       "\\item 51\n",
       "\\item 54\n",
       "\\item 74\n",
       "\\item 16\n",
       "\\item 32\n",
       "\\item 60\n",
       "\\item 18\n",
       "\\item 32\n",
       "\\item 58\n",
       "\\item 43\n",
       "\\item 2\n",
       "\\item 68\n",
       "\\item 59\n",
       "\\item 39\n",
       "\\item 18\n",
       "\\item 86\n",
       "\\item 55\n",
       "\\item 58\n",
       "\\item 81\n",
       "\\item 63\n",
       "\\item 37\n",
       "\\item 77\n",
       "\\item 56\n",
       "\\item 64\n",
       "\\item 75\n",
       "\\item 52\n",
       "\\item 15\n",
       "\\item 55\n",
       "\\item 46\n",
       "\\item 54\n",
       "\\item 92\n",
       "\\item 52\n",
       "\\item 62\n",
       "\\item 0\n",
       "\\item 54\n",
       "\\item 62\n",
       "\\item 49\n",
       "\\item 56\n",
       "\\item 59\n",
       "\\item 52\n",
       "\\item 53\n",
       "\\item 52\n",
       "\\item 19\n",
       "\\item 67\n",
       "\\item 59\n",
       "\\item 52\n",
       "\\item 12\n",
       "\\item 75\n",
       "\\item 4\n",
       "\\item 19\n",
       "\\item 83\n",
       "\\item 33\n",
       "\\item 80\n",
       "\\item 79\n",
       "\\item 51\n",
       "\\item 48\n",
       "\\item 0\n",
       "\\item 24\n",
       "\\item 9\n",
       "\\item 62\n",
       "\\item 45\n",
       "\\item 0\n",
       "\\item 49\n",
       "\\item 15\n",
       "\\item 53\n",
       "\\item 48\n",
       "\\item 75\n",
       "\\item 49\n",
       "\\item 90\n",
       "\\item 12\n",
       "\\item 3\n",
       "\\item 17\n",
       "\\item 16\n",
       "\\item 9\n",
       "\\item 52\n",
       "\\item 60\n",
       "\\item 49\n",
       "\\item 55\n",
       "\\item 36\n",
       "\\item 71\n",
       "\\item 10\n",
       "\\item 8\n",
       "\\item 54\n",
       "\\item 19\n",
       "\\item 61\n",
       "\\item 46\n",
       "\\item 62\n",
       "\\item 77\n",
       "\\item 95\n",
       "\\item 53\n",
       "\\item 43\n",
       "\\item 55\n",
       "\\item 31\n",
       "\\item 80\n",
       "\\item 46\n",
       "\\item 50\n",
       "\\item 61\n",
       "\\item 54\n",
       "\\item 56\n",
       "\\item 47\n",
       "\\item 5\n",
       "\\item 46\n",
       "\\item 45\n",
       "\\item 64\n",
       "\\item 55\n",
       "\\item 86\n",
       "\\item 52\n",
       "\\item 52\n",
       "\\item 18\n",
       "\\item 78\n",
       "\\item 42\n",
       "\\item 53\n",
       "\\item 48\n",
       "\\item 0\n",
       "\\item 53\n",
       "\\item 32\n",
       "\\item 8\n",
       "\\item 19\n",
       "\\item 28\n",
       "\\item 49\n",
       "\\item 77\n",
       "\\item 44\n",
       "\\item 50\n",
       "\\item 55\n",
       "\\item 53\n",
       "\\item 32\n",
       "\\item 73\n",
       "\\item 46\n",
       "\\item 17\n",
       "\\item 59\n",
       "\\item 62\n",
       "\\item 55\n",
       "\\item 53\n",
       "\\item 46\n",
       "\\item 51\n",
       "\\item 45\n",
       "\\item 51\n",
       "\\item 34\n",
       "\\item 49\n",
       "\\item 22\n",
       "\\item 60\n",
       "\\item 59\n",
       "\\item 7\n",
       "\\item 48\n",
       "\\item 52\n",
       "\\item 67\n",
       "\\item 58\n",
       "\\item 84\n",
       "\\item 16\n",
       "\\item 38\n",
       "\\item 6\n",
       "\\item 9\n",
       "\\item 47\n",
       "\\item 0\n",
       "\\item 71\n",
       "\\item 55\n",
       "\\item 52\n",
       "\\item 21\n",
       "\\item 49\n",
       "\\item 53\n",
       "\\item 54\n",
       "\\item 4\n",
       "\\item 0\n",
       "\\item 45\n",
       "\\item 49\n",
       "\\item 55\n",
       "\\item 80\n",
       "\\item 49\n",
       "\\item 38\n",
       "\\item 12\n",
       "\\item 48\n",
       "\\item 33\n",
       "\\end{enumerate*}\n"
      ],
      "text/markdown": [
       "1. 45\n",
       "2. 15\n",
       "3. 47\n",
       "4. 12\n",
       "5. 22\n",
       "6. 43\n",
       "7. 5\n",
       "8. 61\n",
       "9. 11\n",
       "10. 35\n",
       "11. 37\n",
       "12. 62\n",
       "13. 17\n",
       "14. 62\n",
       "15. 44\n",
       "16. 49\n",
       "17. 53\n",
       "18. 0\n",
       "19. 50\n",
       "20. 52\n",
       "21. 44\n",
       "22. 2\n",
       "23. 6\n",
       "24. 89\n",
       "25. 60\n",
       "26. 42\n",
       "27. 56\n",
       "28. 48\n",
       "29. 49\n",
       "30. 5\n",
       "31. 19\n",
       "32. 54\n",
       "33. 49\n",
       "34. 35\n",
       "35. 19\n",
       "36. 69\n",
       "37. 47\n",
       "38. 48\n",
       "39. 46\n",
       "40. 53\n",
       "41. 45\n",
       "42. 58\n",
       "43. 78\n",
       "44. 10\n",
       "45. 52\n",
       "46. 58\n",
       "47. 51\n",
       "48. 9\n",
       "49. 72\n",
       "50. 98\n",
       "51. 48\n",
       "52. 21\n",
       "53. 48\n",
       "54. 11\n",
       "55. 56\n",
       "56. 7\n",
       "57. 52\n",
       "58. 20\n",
       "59. 31\n",
       "60. 53\n",
       "61. 59\n",
       "62. 37\n",
       "63. 74\n",
       "64. 0\n",
       "65. 16\n",
       "66. 52\n",
       "67. 54\n",
       "68. 44\n",
       "69. 10\n",
       "70. 80\n",
       "71. 47\n",
       "72. 79\n",
       "73. 7\n",
       "74. 56\n",
       "75. 35\n",
       "76. 56\n",
       "77. 53\n",
       "78. 9\n",
       "79. 49\n",
       "80. 55\n",
       "81. 61\n",
       "82. 20\n",
       "83. 62\n",
       "84. 51\n",
       "85. 10\n",
       "86. 0\n",
       "87. 45\n",
       "88. 55\n",
       "89. 81\n",
       "90. 85\n",
       "91. 0\n",
       "92. 3\n",
       "93. 70\n",
       "94. 78\n",
       "95. 16\n",
       "96. 18\n",
       "97. 49\n",
       "98. 53\n",
       "99. 0\n",
       "100. 9\n",
       "101. 84\n",
       "102. 41\n",
       "103. 53\n",
       "104. 46\n",
       "105. 6\n",
       "106. 53\n",
       "107. 55\n",
       "108. 47\n",
       "109. 74\n",
       "110. 45\n",
       "111. 60\n",
       "112. 17\n",
       "113. 80\n",
       "114. 87\n",
       "115. 0\n",
       "116. 55\n",
       "117. 18\n",
       "118. 0\n",
       "119. 9\n",
       "120. 0\n",
       "121. 69\n",
       "122. 81\n",
       "123. 21\n",
       "124. 44\n",
       "125. 61\n",
       "126. 48\n",
       "127. 0\n",
       "128. 34\n",
       "129. 22\n",
       "130. 79\n",
       "131. 18\n",
       "132. 96\n",
       "133. 83\n",
       "134. 21\n",
       "135. 54\n",
       "136. 68\n",
       "137. 47\n",
       "138. 64\n",
       "139. 52\n",
       "140. 33\n",
       "141. 20\n",
       "142. 37\n",
       "143. 53\n",
       "144. 52\n",
       "145. 37\n",
       "146. 35\n",
       "147. 43\n",
       "148. 46\n",
       "149. 16\n",
       "150. 47\n",
       "151. 0\n",
       "152. 64\n",
       "153. 65\n",
       "154. 0\n",
       "155. 24\n",
       "156. 93\n",
       "157. 76\n",
       "158. 61\n",
       "159. 16\n",
       "160. 21\n",
       "161. 55\n",
       "162. 18\n",
       "163. 39\n",
       "164. 35\n",
       "165. 17\n",
       "166. 97\n",
       "167. 35\n",
       "168. 59\n",
       "169. 55\n",
       "170. 44\n",
       "171. 0\n",
       "172. 73\n",
       "173. 52\n",
       "174. 12\n",
       "175. 20\n",
       "176. 59\n",
       "177. 1\n",
       "178. 0\n",
       "179. 49\n",
       "180. 95\n",
       "181. 23\n",
       "182. 16\n",
       "183. 44\n",
       "184. 73\n",
       "185. 83\n",
       "186. 76\n",
       "187. 33\n",
       "188. 46\n",
       "189. 50\n",
       "190. 73\n",
       "191. 52\n",
       "192. 49\n",
       "193. 41\n",
       "194. 53\n",
       "195. 15\n",
       "196. 22\n",
       "197. 22\n",
       "198. 3\n",
       "199. 23\n",
       "200. 75\n",
       "201. ...\n",
       "202. 48\n",
       "203. 6\n",
       "204. 8\n",
       "205. 60\n",
       "206. 76\n",
       "207. 8\n",
       "208. 28\n",
       "209. 59\n",
       "210. 51\n",
       "211. 44\n",
       "212. 62\n",
       "213. 67\n",
       "214. 60\n",
       "215. 7\n",
       "216. 16\n",
       "217. 64\n",
       "218. 0\n",
       "219. 84\n",
       "220. 56\n",
       "221. 53\n",
       "222. 53\n",
       "223. 18\n",
       "224. 16\n",
       "225. 5\n",
       "226. 47\n",
       "227. 55\n",
       "228. 60\n",
       "229. 92\n",
       "230. 51\n",
       "231. 54\n",
       "232. 74\n",
       "233. 16\n",
       "234. 32\n",
       "235. 60\n",
       "236. 18\n",
       "237. 32\n",
       "238. 58\n",
       "239. 43\n",
       "240. 2\n",
       "241. 68\n",
       "242. 59\n",
       "243. 39\n",
       "244. 18\n",
       "245. 86\n",
       "246. 55\n",
       "247. 58\n",
       "248. 81\n",
       "249. 63\n",
       "250. 37\n",
       "251. 77\n",
       "252. 56\n",
       "253. 64\n",
       "254. 75\n",
       "255. 52\n",
       "256. 15\n",
       "257. 55\n",
       "258. 46\n",
       "259. 54\n",
       "260. 92\n",
       "261. 52\n",
       "262. 62\n",
       "263. 0\n",
       "264. 54\n",
       "265. 62\n",
       "266. 49\n",
       "267. 56\n",
       "268. 59\n",
       "269. 52\n",
       "270. 53\n",
       "271. 52\n",
       "272. 19\n",
       "273. 67\n",
       "274. 59\n",
       "275. 52\n",
       "276. 12\n",
       "277. 75\n",
       "278. 4\n",
       "279. 19\n",
       "280. 83\n",
       "281. 33\n",
       "282. 80\n",
       "283. 79\n",
       "284. 51\n",
       "285. 48\n",
       "286. 0\n",
       "287. 24\n",
       "288. 9\n",
       "289. 62\n",
       "290. 45\n",
       "291. 0\n",
       "292. 49\n",
       "293. 15\n",
       "294. 53\n",
       "295. 48\n",
       "296. 75\n",
       "297. 49\n",
       "298. 90\n",
       "299. 12\n",
       "300. 3\n",
       "301. 17\n",
       "302. 16\n",
       "303. 9\n",
       "304. 52\n",
       "305. 60\n",
       "306. 49\n",
       "307. 55\n",
       "308. 36\n",
       "309. 71\n",
       "310. 10\n",
       "311. 8\n",
       "312. 54\n",
       "313. 19\n",
       "314. 61\n",
       "315. 46\n",
       "316. 62\n",
       "317. 77\n",
       "318. 95\n",
       "319. 53\n",
       "320. 43\n",
       "321. 55\n",
       "322. 31\n",
       "323. 80\n",
       "324. 46\n",
       "325. 50\n",
       "326. 61\n",
       "327. 54\n",
       "328. 56\n",
       "329. 47\n",
       "330. 5\n",
       "331. 46\n",
       "332. 45\n",
       "333. 64\n",
       "334. 55\n",
       "335. 86\n",
       "336. 52\n",
       "337. 52\n",
       "338. 18\n",
       "339. 78\n",
       "340. 42\n",
       "341. 53\n",
       "342. 48\n",
       "343. 0\n",
       "344. 53\n",
       "345. 32\n",
       "346. 8\n",
       "347. 19\n",
       "348. 28\n",
       "349. 49\n",
       "350. 77\n",
       "351. 44\n",
       "352. 50\n",
       "353. 55\n",
       "354. 53\n",
       "355. 32\n",
       "356. 73\n",
       "357. 46\n",
       "358. 17\n",
       "359. 59\n",
       "360. 62\n",
       "361. 55\n",
       "362. 53\n",
       "363. 46\n",
       "364. 51\n",
       "365. 45\n",
       "366. 51\n",
       "367. 34\n",
       "368. 49\n",
       "369. 22\n",
       "370. 60\n",
       "371. 59\n",
       "372. 7\n",
       "373. 48\n",
       "374. 52\n",
       "375. 67\n",
       "376. 58\n",
       "377. 84\n",
       "378. 16\n",
       "379. 38\n",
       "380. 6\n",
       "381. 9\n",
       "382. 47\n",
       "383. 0\n",
       "384. 71\n",
       "385. 55\n",
       "386. 52\n",
       "387. 21\n",
       "388. 49\n",
       "389. 53\n",
       "390. 54\n",
       "391. 4\n",
       "392. 0\n",
       "393. 45\n",
       "394. 49\n",
       "395. 55\n",
       "396. 80\n",
       "397. 49\n",
       "398. 38\n",
       "399. 12\n",
       "400. 48\n",
       "401. 33\n",
       "\n",
       "\n"
      ],
      "text/plain": [
       "  [1] 45 15 47 12 22 43  5 61 11 35 37 62 17 62 44 49 53  0 50 52 44  2  6 89 60\n",
       " [26] 42 56 48 49  5 19 54 49 35 19 69 47 48 46 53 45 58 78 10 52 58 51  9 72 98\n",
       " [51] 48 21 48 11 56  7 52 20 31 53 59 37 74  0 16 52 54 44 10 80 47 79  7 56 35\n",
       " [76] 56 53  9 49 55 61 20 62 51 10  0 45 55 81 85  0  3 70 78 16 18 49 53  0  9\n",
       "[101] 84 41 53 46  6 53 55 47 74 45 60 17 80 87  0 55 18  0  9  0 69 81 21 44 61\n",
       "[126] 48  0 34 22 79 18 96 83 21 54 68 47 64 52 33 20 37 53 52 37 35 43 46 16 47\n",
       "[151]  0 64 65  0 24 93 76 61 16 21 55 18 39 35 17 97 35 59 55 44  0 73 52 12 20\n",
       "[176] 59  1  0 49 95 23 16 44 73 83 76 33 46 50 73 52 49 41 53 15 22 22  3 23 75\n",
       "[201] 51 18 19 47 39  0 38 58 81  0 52 21 80 51 21 49 42 52  0 45 85  5 63 47 52\n",
       "[226] 58 55 48 32 10 59  2 50  5 22 10 52 52 55 58 20  6 45 43  9 79 50 15 53 35\n",
       "[251] 50 29 55 57 63 54 42 59 34 46  3 54 48 54 14 12 48 54 53 47 43 82 52 45 56\n",
       "[276] 76 52 34 44 30  6 14 65 45 77 60 61 58 54 52  5 21 50 10 61 53 13 53 20 37\n",
       "[301] 12 56 73 15  2 52 53 17 61 76 54 18 63 52 49 60 56  7 83 65 36 77 77 46 53\n",
       "[326] 55  0 18 51 78 78 48  6  8 60 76  8 28 59 51 44 62 67 60  7 16 64  0 84 56\n",
       "[351] 53 53 18 16  5 47 55 60 92 51 54 74 16 32 60 18 32 58 43  2 68 59 39 18 86\n",
       "[376] 55 58 81 63 37 77 56 64 75 52 15 55 46 54 92 52 62  0 54 62 49 56 59 52 53\n",
       "[401] 52 19 67 59 52 12 75  4 19 83 33 80 79 51 48  0 24  9 62 45  0 49 15 53 48\n",
       "[426] 75 49 90 12  3 17 16  9 52 60 49 55 36 71 10  8 54 19 61 46 62 77 95 53 43\n",
       "[451] 55 31 80 46 50 61 54 56 47  5 46 45 64 55 86 52 52 18 78 42 53 48  0 53 32\n",
       "[476]  8 19 28 49 77 44 50 55 53 32 73 46 17 59 62 55 53 46 51 45 51 34 49 22 60\n",
       "[501] 59  7 48 52 67 58 84 16 38  6  9 47  0 71 55 52 21 49 53 54  4  0 45 49 55\n",
       "[526] 80 49 38 12 48 33"
      ]
     },
     "metadata": {},
     "output_type": "display_data"
    }
   ],
   "source": [
    "#looking at the form of the response for further predictions with linear models:\n",
    "afterYtrain"
   ]
  },
  {
   "cell_type": "markdown",
   "metadata": {},
   "source": [
    "We will fit regression models to the training set and choose the most suitable one by checking RMSE value."
   ]
  },
  {
   "cell_type": "markdown",
   "metadata": {},
   "source": [
    "# Model 1 : Linear Regression"
   ]
  },
  {
   "cell_type": "code",
   "execution_count": 97,
   "metadata": {},
   "outputs": [
    {
     "data": {
      "text/html": [
       "0.730011918785751"
      ],
      "text/latex": [
       "0.730011918785751"
      ],
      "text/markdown": [
       "0.730011918785751"
      ],
      "text/plain": [
       "[1] 0.7300119"
      ]
     },
     "metadata": {},
     "output_type": "display_data"
    },
    {
     "data": {
      "text/html": [
       "0.343606958515816"
      ],
      "text/latex": [
       "0.343606958515816"
      ],
      "text/markdown": [
       "0.343606958515816"
      ],
      "text/plain": [
       "[1] 0.343607"
      ]
     },
     "metadata": {},
     "output_type": "display_data"
    },
    {
     "data": {
      "text/html": [
       "19.0665689385708"
      ],
      "text/latex": [
       "19.0665689385708"
      ],
      "text/markdown": [
       "19.0665689385708"
      ],
      "text/plain": [
       "[1] 19.06657"
      ]
     },
     "metadata": {},
     "output_type": "display_data"
    }
   ],
   "source": [
    "#The first and simplest but useful model is a linear regression model. As the first step, we put all variables into the model.\n",
    "reg1<- lm(ytrain~., data = as.data.frame(datatrain))\n",
    "summary(reg1)$r.squared\n",
    "summary(reg1)$adj.r.squared\n",
    "summary(reg1)$sigma"
   ]
  },
  {
   "cell_type": "markdown",
   "metadata": {},
   "source": [
    "Multiple R^2 is not bad, but Adjusted R-squared is quite low, and many variables do not pass the Hypothesis Testing, so the model is not perfect. Potential overfitting will occur if someone insist on using it. Therefore,\n",
    "the variable selection process should be involved in model construction.\n",
    "\n",
    "Several variables still should not be involved in model. We can't build a final linear regression model because we still have many NA values. We did well to preprocess our features. Let's run another linear regression with our cleared data set:"
   ]
  },
  {
   "cell_type": "code",
   "execution_count": 98,
   "metadata": {},
   "outputs": [
    {
     "data": {
      "text/html": [
       "0.713858924470751"
      ],
      "text/latex": [
       "0.713858924470751"
      ],
      "text/markdown": [
       "0.713858924470751"
      ],
      "text/plain": [
       "[1] 0.7138589"
      ]
     },
     "metadata": {},
     "output_type": "display_data"
    },
    {
     "data": {
      "text/html": [
       "0.291332850324758"
      ],
      "text/latex": [
       "0.291332850324758"
      ],
      "text/markdown": [
       "0.291332850324758"
      ],
      "text/plain": [
       "[1] 0.2913329"
      ]
     },
     "metadata": {},
     "output_type": "display_data"
    },
    {
     "data": {
      "text/html": [
       "20.0017885811292"
      ],
      "text/latex": [
       "20.0017885811292"
      ],
      "text/markdown": [
       "20.0017885811292"
      ],
      "text/plain": [
       "[1] 20.00179"
      ]
     },
     "metadata": {},
     "output_type": "display_data"
    }
   ],
   "source": [
    "reg2<- lm(afterYtrain~., data = as.data.frame(aftertrain))\n",
    "summary(reg2)$r.squared\n",
    "summary(reg2)$adj.r.squared\n",
    "summary(reg2)$sigma"
   ]
  },
  {
   "cell_type": "markdown",
   "metadata": {},
   "source": [
    "We did not really improve the performance, and we still have NA values but maybe due to other correlated parameters below 0.99."
   ]
  },
  {
   "cell_type": "code",
   "execution_count": 99,
   "metadata": {},
   "outputs": [
    {
     "name": "stderr",
     "output_type": "stream",
     "text": [
      "Warning message:\n",
      "\"not plotting observations with leverage one:\n",
      "  1, 12, 17, 19, 20, 23, 26, 30, 32, 33, 47, 53, 54, 57, 59, 61, 69, 84, 89, 105, 110, 116, 119, 120, 129, 132, 133, 134, 135, 138, 139, 144, 145, 151, 152, 156, 163, 175, 176, 179, 181, 185, 188, 196, 201, 206, 207, 208, 213, 214, 215, 217, 221, 222, 223, 225, 226, 227, 228, 235, 236, 240, 248, 250, 254, 255, 256, 265, 270, 275, 276, 284, 286, 289, 296, 303, 321, 322, 323, 324, 326, 330, 333, 335, 340, 344, 357, 366, 376, 383, 389, 395, 404, 407, 415, 421, 436, 443, 455, 457, 458, 459, 464, 465, 469, 472, 473, 476, 481, 488, 492, 494, 496, 509, 512, 513, 517, 518, 525\"\n",
      "Warning message:\n",
      "\"not plotting observations with leverage one:\n",
      "  1, 12, 17, 19, 20, 23, 26, 30, 32, 33, 47, 53, 54, 57, 59, 61, 69, 84, 89, 105, 110, 116, 119, 120, 129, 132, 133, 134, 135, 138, 139, 144, 145, 151, 152, 156, 163, 175, 176, 179, 181, 185, 188, 196, 201, 206, 207, 208, 213, 214, 215, 217, 221, 222, 223, 225, 226, 227, 228, 235, 236, 240, 248, 250, 254, 255, 256, 265, 270, 275, 276, 284, 286, 289, 296, 303, 321, 322, 323, 324, 326, 330, 333, 335, 340, 344, 357, 366, 376, 383, 389, 395, 404, 407, 415, 421, 436, 443, 455, 457, 458, 459, 464, 465, 469, 472, 473, 476, 481, 488, 492, 494, 496, 509, 512, 513, 517, 518, 525\"\n",
      "Warning message in sqrt(crit * p * (1 - hh)/hh):\n",
      "\"production de NaN\"\n",
      "Warning message in sqrt(crit * p * (1 - hh)/hh):\n",
      "\"production de NaN\"\n",
      "Warning message in predict.lm(reg2, newdata = aftertest):\n",
      "\"prediction from a rank-deficient fit may be misleading\"\n"
     ]
    },
    {
     "data": {
      "text/html": [
       "3964.70337274108"
      ],
      "text/latex": [
       "3964.70337274108"
      ],
      "text/markdown": [
       "3964.70337274108"
      ],
      "text/plain": [
       "[1] 3964.703"
      ]
     },
     "metadata": {},
     "output_type": "display_data"
    },
    {
     "data": {
      "image/png": "[encoded data removed]",
      "text/plain": [
       "Plot with title \"\""
      ]
     },
     "metadata": {
      "image/png": {
       "height": 420,
       "width": 420
      }
     },
     "output_type": "display_data"
    }
   ],
   "source": [
    "library(Metrics)\n",
    "layout(matrix(c(1,2,3,4), 2, 2, byrow = TRUE))\n",
    "plot(reg2)\n",
    "par(mfrow=c(1,1))\n",
    "\n",
    "#We check the performance of linear regression model with RMSE value\n",
    "Prediction_1<- predict(reg2, newdata= aftertest)\n",
    "rmse(afterYtest,Prediction_1)"
   ]
  },
  {
   "cell_type": "markdown",
   "metadata": {},
   "source": [
    "We have a warning because we may have too many input features and our data density is too sparse so predict.lm() gives its opinion that predictions are maybe brittle.\n",
    "Regarding the graphs, we can see that linearity holds because this is indicated by the mean residual value for every fitted value region being close to 0 (red line being close to the dashed line).\n",
    "However, homoscedasticity does not really hold. The spread of residuals is not the same across the x-axis, it seems to be more spread at the middle of the x-axis.\n",
    "We can also see some outliers, ‘extreme’ residuals that are far from the rest ahead of the scatterplot.\n",
    "For the last plot, we’re looking at how the spread of standardized residuals changes as the leverage, or sensitivity of the fitted $\\hat{y}$ to a change in $y_i$, increases. This can also be used to detect heteroscedasticity and non-linearity. Intuitively it describes how far a covariate $X^i$ is from other covariates. The spread of standardized residuals shouldn’t change as a function of leverage: here it appears to increase, indicating heteroscedasticity. The QQ-plot looks quite normal. "
   ]
  },
  {
   "cell_type": "markdown",
   "metadata": {},
   "source": [
    "# Model 2 : Relevant predictors with Cross-validation"
   ]
  },
  {
   "cell_type": "markdown",
   "metadata": {},
   "source": [
    "Let's try to find relevant predictors with cross validation:"
   ]
  },
  {
   "cell_type": "code",
   "execution_count": 198,
   "metadata": {},
   "outputs": [
    {
     "name": "stderr",
     "output_type": "stream",
     "text": [
      "Warning message in leaps.setup(x, y, wt = wt, nbest = nbest, nvmax = nvmax, force.in = force.in, :\n",
      "\"5  linear dependencies found\"\n"
     ]
    },
    {
     "name": "stdout",
     "output_type": "stream",
     "text": [
      "Reordering variables and trying again:\n"
     ]
    },
    {
     "data": {
      "text/plain": [
       "Subset selection object\n",
       "Call: regsubsets.formula(train_bis$afterYtrain ~ ., train_bis, really.big = TRUE)\n",
       "50 Variables  (and intercept)\n",
       "                       Forced in Forced out\n",
       "Intensity                  FALSE      FALSE\n",
       "complexity.from.pubmed     FALSE      FALSE\n",
       "MW                         FALSE      FALSE\n",
       "AMW                        FALSE      FALSE\n",
       "Sp                         FALSE      FALSE\n",
       "Mv                         FALSE      FALSE\n",
       "Me                         FALSE      FALSE\n",
       "Mp                         FALSE      FALSE\n",
       "Mi                         FALSE      FALSE\n",
       "nBM                        FALSE      FALSE\n",
       "SCBO                       FALSE      FALSE\n",
       "RBN                        FALSE      FALSE\n",
       "RBF                        FALSE      FALSE\n",
       "nDB                        FALSE      FALSE\n",
       "nAB                        FALSE      FALSE\n",
       "nH                         FALSE      FALSE\n",
       "nC                         FALSE      FALSE\n",
       "nN                         FALSE      FALSE\n",
       "nO                         FALSE      FALSE\n",
       "nS                         FALSE      FALSE\n",
       "H.                         FALSE      FALSE\n",
       "C.                         FALSE      FALSE\n",
       "N.                         FALSE      FALSE\n",
       "O.                         FALSE      FALSE\n",
       "nCsp3                      FALSE      FALSE\n",
       "nCsp2                      FALSE      FALSE\n",
       "nCIR                       FALSE      FALSE\n",
       "Rperim                     FALSE      FALSE\n",
       "Rbrid                      FALSE      FALSE\n",
       "MCD                        FALSE      FALSE\n",
       "RFD                        FALSE      FALSE\n",
       "RCI                        FALSE      FALSE\n",
       "NRS                        FALSE      FALSE\n",
       "NNRS                       FALSE      FALSE\n",
       "nR04                       FALSE      FALSE\n",
       "nR05                       FALSE      FALSE\n",
       "nR06                       FALSE      FALSE\n",
       "nBnz                       FALSE      FALSE\n",
       "ARR                        FALSE      FALSE\n",
       "D.Dtr04                    FALSE      FALSE\n",
       "D.Dtr05                    FALSE      FALSE\n",
       "D.Dtr06                    FALSE      FALSE\n",
       "D.Dtr07                    FALSE      FALSE\n",
       "D.Dtr09                    FALSE      FALSE\n",
       "D.Dtr10                    FALSE      FALSE\n",
       "nHM                        FALSE      FALSE\n",
       "nHet                       FALSE      FALSE\n",
       "nCIC                       FALSE      FALSE\n",
       "nR09                       FALSE      FALSE\n",
       "nR10                       FALSE      FALSE\n",
       "1 subsets of each size up to 9\n",
       "Selection Algorithm: exhaustive\n",
       "         Intensity complexity.from.pubmed MW  AMW Sp  Mv  Me  Mp  Mi  nBM SCBO\n",
       "1  ( 1 ) \" \"       \" \"                    \" \" \" \" \" \" \" \" \" \" \" \" \" \" \" \" \" \" \n",
       "2  ( 1 ) \" \"       \" \"                    \" \" \" \" \" \" \" \" \" \" \" \" \" \" \" \" \" \" \n",
       "3  ( 1 ) \" \"       \" \"                    \" \" \" \" \" \" \" \" \" \" \" \" \"*\" \" \" \" \" \n",
       "4  ( 1 ) \" \"       \" \"                    \" \" \" \" \" \" \"*\" \" \" \" \" \" \" \"*\" \" \" \n",
       "5  ( 1 ) \" \"       \" \"                    \" \" \" \" \" \" \" \" \" \" \" \" \"*\" \"*\" \" \" \n",
       "6  ( 1 ) \" \"       \" \"                    \" \" \" \" \" \" \" \" \" \" \" \" \"*\" \"*\" \" \" \n",
       "7  ( 1 ) \" \"       \" \"                    \" \" \" \" \"*\" \"*\" \" \" \" \" \" \" \"*\" \"*\" \n",
       "8  ( 1 ) \" \"       \" \"                    \" \" \" \" \"*\" \"*\" \" \" \" \" \" \" \"*\" \"*\" \n",
       "9  ( 1 ) \" \"       \" \"                    \" \" \" \" \"*\" \"*\" \" \" \" \" \" \" \"*\" \"*\" \n",
       "         RBN RBF nDB nAB nH  nC  nN  nO  nS  nHM nHet H.  C.  N.  O.  nCsp3\n",
       "1  ( 1 ) \" \" \" \" \" \" \" \" \" \" \" \" \" \" \" \" \"*\" \" \" \" \"  \" \" \" \" \" \" \" \" \" \"  \n",
       "2  ( 1 ) \" \" \" \" \" \" \" \" \" \" \" \" \" \" \" \" \"*\" \" \" \" \"  \" \" \" \" \" \" \" \" \" \"  \n",
       "3  ( 1 ) \" \" \" \" \" \" \" \" \" \" \" \" \" \" \"*\" \"*\" \" \" \" \"  \" \" \" \" \" \" \" \" \" \"  \n",
       "4  ( 1 ) \" \" \" \" \" \" \" \" \" \" \" \" \" \" \" \" \" \" \"*\" \" \"  \" \" \" \" \" \" \" \" \" \"  \n",
       "5  ( 1 ) \" \" \" \" \" \" \" \" \" \" \" \" \" \" \" \" \" \" \"*\" \"*\"  \" \" \" \" \" \" \" \" \" \"  \n",
       "6  ( 1 ) \" \" \" \" \" \" \" \" \" \" \" \" \" \" \" \" \" \" \"*\" \"*\"  \" \" \" \" \" \" \" \" \" \"  \n",
       "7  ( 1 ) \" \" \" \" \" \" \" \" \"*\" \" \" \" \" \" \" \" \" \" \" \" \"  \" \" \" \" \" \" \" \" \" \"  \n",
       "8  ( 1 ) \" \" \" \" \" \" \" \" \"*\" \" \" \" \" \" \" \" \" \" \" \" \"  \" \" \" \" \" \" \" \" \" \"  \n",
       "9  ( 1 ) \" \" \" \" \" \" \" \" \"*\" \" \" \" \" \" \" \" \" \" \" \" \"  \" \" \" \" \" \" \" \" \" \"  \n",
       "         nCsp2 nCIC nCIR Rperim Rbrid MCD RFD RCI NRS NNRS nR04 nR05 nR06 nR09\n",
       "1  ( 1 ) \" \"   \" \"  \" \"  \" \"    \" \"   \" \" \" \" \" \" \" \" \" \"  \" \"  \" \"  \" \"  \" \" \n",
       "2  ( 1 ) \" \"   \" \"  \" \"  \" \"    \" \"   \" \" \" \" \" \" \" \" \" \"  \" \"  \" \"  \" \"  \" \" \n",
       "3  ( 1 ) \" \"   \" \"  \" \"  \" \"    \" \"   \" \" \" \" \" \" \" \" \" \"  \" \"  \" \"  \" \"  \" \" \n",
       "4  ( 1 ) \" \"   \" \"  \" \"  \" \"    \" \"   \" \" \" \" \" \" \" \" \" \"  \" \"  \" \"  \" \"  \" \" \n",
       "5  ( 1 ) \" \"   \" \"  \" \"  \" \"    \" \"   \" \" \" \" \" \" \" \" \" \"  \" \"  \" \"  \" \"  \" \" \n",
       "6  ( 1 ) \" \"   \" \"  \" \"  \" \"    \" \"   \" \" \" \" \" \" \" \" \" \"  \" \"  \" \"  \" \"  \" \" \n",
       "7  ( 1 ) \" \"   \" \"  \" \"  \" \"    \" \"   \" \" \" \" \" \" \" \" \" \"  \" \"  \" \"  \" \"  \" \" \n",
       "8  ( 1 ) \" \"   \"*\"  \"*\"  \" \"    \" \"   \" \" \" \" \" \" \" \" \" \"  \" \"  \" \"  \" \"  \" \" \n",
       "9  ( 1 ) \" \"   \"*\"  \"*\"  \" \"    \" \"   \"*\" \" \" \" \" \" \" \" \"  \" \"  \" \"  \" \"  \" \" \n",
       "         nR10 nBnz ARR D.Dtr04 D.Dtr05 D.Dtr06 D.Dtr07 D.Dtr09 D.Dtr10\n",
       "1  ( 1 ) \" \"  \" \"  \" \" \" \"     \" \"     \" \"     \" \"     \" \"     \" \"    \n",
       "2  ( 1 ) \" \"  \"*\"  \" \" \" \"     \" \"     \" \"     \" \"     \" \"     \" \"    \n",
       "3  ( 1 ) \" \"  \" \"  \" \" \" \"     \" \"     \" \"     \" \"     \" \"     \" \"    \n",
       "4  ( 1 ) \" \"  \"*\"  \" \" \" \"     \" \"     \" \"     \" \"     \" \"     \" \"    \n",
       "5  ( 1 ) \" \"  \"*\"  \" \" \" \"     \" \"     \" \"     \" \"     \" \"     \" \"    \n",
       "6  ( 1 ) \" \"  \"*\"  \" \" \" \"     \" \"     \" \"     \" \"     \" \"     \"*\"    \n",
       "7  ( 1 ) \" \"  \"*\"  \" \" \" \"     \" \"     \" \"     \" \"     \" \"     \"*\"    \n",
       "8  ( 1 ) \" \"  \"*\"  \" \" \" \"     \" \"     \" \"     \" \"     \" \"     \" \"    \n",
       "9  ( 1 ) \" \"  \"*\"  \" \" \" \"     \" \"     \" \"     \" \"     \" \"     \" \"    "
      ]
     },
     "metadata": {},
     "output_type": "display_data"
    }
   ],
   "source": [
    "library(leaps)\n",
    "#we could to it with all the training set but it would be really time consuming and not very relevant...\n",
    "train_bis<-cbind(afterYtrain, aftertrain[,1:50])\n",
    "reg.fit <- regsubsets(train_bis$afterYtrain ~ ., train_bis, really.big=TRUE)\n",
    "summary(reg.fit)"
   ]
  },
  {
   "cell_type": "code",
   "execution_count": 134,
   "metadata": {},
   "outputs": [
    {
     "data": {
      "text/html": [
       "<style>\n",
       ".list-inline {list-style: none; margin:0; padding: 0}\n",
       ".list-inline>li {display: inline-block}\n",
       ".list-inline>li:not(:last-child)::after {content: \"\\00b7\"; padding: 0 .5ex}\n",
       "</style>\n",
       "<ol class=list-inline><li>0.0437079786413135</li><li>0.0574937112275229</li><li>0.0706962428281052</li><li>0.0815951279865069</li><li>0.0906595027980989</li><li>0.0977346165334764</li><li>0.106324424038259</li><li>0.110127188038723</li><li>0.113219135936948</li></ol>\n"
      ],
      "text/latex": [
       "\\begin{enumerate*}\n",
       "\\item 0.0437079786413135\n",
       "\\item 0.0574937112275229\n",
       "\\item 0.0706962428281052\n",
       "\\item 0.0815951279865069\n",
       "\\item 0.0906595027980989\n",
       "\\item 0.0977346165334764\n",
       "\\item 0.106324424038259\n",
       "\\item 0.110127188038723\n",
       "\\item 0.113219135936948\n",
       "\\end{enumerate*}\n"
      ],
      "text/markdown": [
       "1. 0.0437079786413135\n",
       "2. 0.0574937112275229\n",
       "3. 0.0706962428281052\n",
       "4. 0.0815951279865069\n",
       "5. 0.0906595027980989\n",
       "6. 0.0977346165334764\n",
       "7. 0.106324424038259\n",
       "8. 0.110127188038723\n",
       "9. 0.113219135936948\n",
       "\n",
       "\n"
      ],
      "text/plain": [
       "[1] 0.04370798 0.05749371 0.07069624 0.08159513 0.09065950 0.09773462 0.10632442\n",
       "[8] 0.11012719 0.11321914"
      ]
     },
     "metadata": {},
     "output_type": "display_data"
    }
   ],
   "source": [
    "summary(reg.fit)$rsq"
   ]
  },
  {
   "cell_type": "markdown",
   "metadata": {},
   "source": [
    "So here we can see that the best model is the one with 9 predictors, \"Sp\", \"Mv\", \"nBM\", \"SCBO\", \"nH\", \"nCIC\", \"Ncir\", \"MCD\" and \"nBnz\". Looking at the Rsquared, we can see that the more there are predictors, the best the Rsquared is. Hence, we can conclude that not one or few predictors are able to predict the response but rather a certain combination of many predictors can. "
   ]
  },
  {
   "cell_type": "code",
   "execution_count": 136,
   "metadata": {},
   "outputs": [],
   "source": [
    "predict.regsubsets <- function(object, newdata, id, form = as.formula(object$call[[2]])) {\n",
    "    mat = model.matrix(form, newdata)\n",
    "    coefi = coef(object, id=id)\n",
    "    xvars = names(coefi)\n",
    "    print (xvars)\n",
    "    mat[,xvars]%*%coefi\n",
    "}"
   ]
  },
  {
   "cell_type": "code",
   "execution_count": 149,
   "metadata": {},
   "outputs": [
    {
     "name": "stdout",
     "output_type": "stream",
     "text": [
      " [1] \"(Intercept)\" \"Sp\"          \"Mv\"          \"nBM\"         \"SCBO\"       \n",
      " [6] \"nH\"          \"Rbrid\"       \"MCD\"         \"NRS\"         \"D.Dtr07\"    \n"
     ]
    },
    {
     "data": {
      "text/html": [
       "<table>\n",
       "<caption>A matrix: 6 × 1 of type dbl</caption>\n",
       "<tbody>\n",
       "\t<tr><th scope=row>1</th><td>49.33224</td></tr>\n",
       "\t<tr><th scope=row>262</th><td>39.29781</td></tr>\n",
       "\t<tr><th scope=row>533</th><td>50.18946</td></tr>\n",
       "\t<tr><th scope=row>346</th><td>38.62139</td></tr>\n",
       "\t<tr><th scope=row>597</th><td>38.00408</td></tr>\n",
       "\t<tr><th scope=row>22</th><td>50.97984</td></tr>\n",
       "</tbody>\n",
       "</table>\n"
      ],
      "text/latex": [
       "A matrix: 6 × 1 of type dbl\n",
       "\\begin{tabular}{r|l}\n",
       "\t1 & 49.33224\\\\\n",
       "\t262 & 39.29781\\\\\n",
       "\t533 & 50.18946\\\\\n",
       "\t346 & 38.62139\\\\\n",
       "\t597 & 38.00408\\\\\n",
       "\t22 & 50.97984\\\\\n",
       "\\end{tabular}\n"
      ],
      "text/markdown": [
       "\n",
       "A matrix: 6 × 1 of type dbl\n",
       "\n",
       "| 1 | 49.33224 |\n",
       "| 262 | 39.29781 |\n",
       "| 533 | 50.18946 |\n",
       "| 346 | 38.62139 |\n",
       "| 597 | 38.00408 |\n",
       "| 22 | 50.97984 |\n",
       "\n"
      ],
      "text/plain": [
       "    [,1]    \n",
       "1   49.33224\n",
       "262 39.29781\n",
       "533 50.18946\n",
       "346 38.62139\n",
       "597 38.00408\n",
       "22  50.97984"
      ]
     },
     "metadata": {},
     "output_type": "display_data"
    }
   ],
   "source": [
    "head(predict(reg.fit, train_bis, 9))"
   ]
  },
  {
   "cell_type": "code",
   "execution_count": 60,
   "metadata": {},
   "outputs": [
    {
     "name": "stderr",
     "output_type": "stream",
     "text": [
      "Warning message in leaps.setup(x, y, wt = wt, nbest = nbest, nvmax = nvmax, force.in = force.in, :\n",
      "\"7  linear dependencies found\"\n"
     ]
    },
    {
     "name": "stdout",
     "output_type": "stream",
     "text": [
      "Reordering variables and trying again:\n",
      "[1] \"(Intercept)\" \"H.\"         \n",
      "[1] \"(Intercept)\" \"H.\"          \"D.Dtr10\"    \n",
      "[1] \"(Intercept)\" \"nO\"          \"N.\"          \"nBnz\"       \n",
      "[1] \"(Intercept)\" \"Mv\"          \"nBM\"         \"H.\"          \"D.Dtr10\"    \n",
      "[1] \"(Intercept)\" \"Mv\"          \"nBM\"         \"H.\"          \"D.Dtr10\"    \n",
      "[6] \"D.Dtr07\"    \n",
      "[1] \"(Intercept)\" \"Mv\"          \"nBM\"         \"H.\"          \"Rperim\"     \n",
      "[6] \"D.Dtr10\"     \"D.Dtr07\"    \n",
      "[1] \"(Intercept)\" \"MW\"          \"Mv\"          \"nBM\"         \"C.\"         \n",
      "[6] \"MCD\"         \"RFD\"         \"D.Dtr10\"    \n",
      "[1] \"(Intercept)\" \"Mv\"          \"nBM\"         \"SCBO\"        \"H.\"         \n",
      "[6] \"C.\"          \"MCD\"         \"RFD\"         \"D.Dtr10\"    \n",
      " [1] \"(Intercept)\" \"Mv\"          \"SCBO\"        \"nDB\"         \"nAB\"        \n",
      " [6] \"H.\"          \"C.\"          \"D.Dtr10\"     \"nHet\"        \"D.Dtr07\"    \n"
     ]
    },
    {
     "name": "stderr",
     "output_type": "stream",
     "text": [
      "Warning message in leaps.setup(x, y, wt = wt, nbest = nbest, nvmax = nvmax, force.in = force.in, :\n",
      "\"6  linear dependencies found\"\n"
     ]
    },
    {
     "name": "stdout",
     "output_type": "stream",
     "text": [
      "Reordering variables and trying again:\n",
      "[1] \"(Intercept)\" \"nS\"         \n",
      "[1] \"(Intercept)\" \"nS\"          \"D.Dtr09\"    \n",
      "[1] \"(Intercept)\" \"Mi\"          \"nO\"          \"nS\"         \n",
      "[1] \"(Intercept)\" \"Mv\"          \"nBM\"         \"H.\"          \"D.Dtr09\"    \n",
      "[1] \"(Intercept)\" \"Mv\"          \"nBM\"         \"H.\"          \"D.Dtr09\"    \n",
      "[6] \"nR10\"       \n",
      "[1] \"(Intercept)\" \"Mi\"          \"nBM\"         \"H.\"          \"C.\"         \n",
      "[6] \"D.Dtr09\"     \"nR10\"       \n",
      "[1] \"(Intercept)\" \"Sp\"          \"Mv\"          \"nBM\"         \"SCBO\"       \n",
      "[6] \"nH\"          \"D.Dtr09\"     \"nR10\"       \n",
      "[1] \"(Intercept)\" \"Sp\"          \"Mv\"          \"nBM\"         \"SCBO\"       \n",
      "[6] \"nH\"          \"D.Dtr07\"     \"D.Dtr09\"     \"nR10\"       \n",
      " [1] \"(Intercept)\" \"Sp\"          \"Mv\"          \"nBM\"         \"SCBO\"       \n",
      " [6] \"nH\"          \"Rbrid\"       \"MCD\"         \"NRS\"         \"D.Dtr09\"    \n"
     ]
    },
    {
     "name": "stderr",
     "output_type": "stream",
     "text": [
      "Warning message in leaps.setup(x, y, wt = wt, nbest = nbest, nvmax = nvmax, force.in = force.in, :\n",
      "\"5  linear dependencies found\"\n"
     ]
    },
    {
     "name": "stdout",
     "output_type": "stream",
     "text": [
      "Reordering variables and trying again:\n",
      "[1] \"(Intercept)\" \"nS\"         \n",
      "[1] \"(Intercept)\" \"nS\"          \"D.Dtr07\"    \n",
      "[1] \"(Intercept)\" \"nS\"          \"D.Dtr07\"     \"nR10\"       \n",
      "[1] \"(Intercept)\" \"Mv\"          \"nBM\"         \"H.\"          \"D.Dtr07\"    \n",
      "[1] \"(Intercept)\" \"nBM\"         \"nH\"          \"H.\"          \"N.\"         \n",
      "[6] \"D.Dtr07\"    \n",
      "[1] \"(Intercept)\" \"nBM\"         \"nS\"          \"N.\"          \"nCIR\"       \n",
      "[6] \"D.Dtr07\"     \"nR10\"       \n",
      "[1] \"(Intercept)\" \"Sp\"          \"Mv\"          \"nBM\"         \"SCBO\"       \n",
      "[6] \"nH\"          \"D.Dtr07\"     \"nR10\"       \n",
      "[1] \"(Intercept)\" \"Sp\"          \"Mv\"          \"nBM\"         \"SCBO\"       \n",
      "[6] \"nH\"          \"Rbrid\"       \"MCD\"         \"D.Dtr07\"    \n",
      " [1] \"(Intercept)\" \"Sp\"          \"Mv\"          \"nBM\"         \"SCBO\"       \n",
      " [6] \"nH\"          \"Rbrid\"       \"MCD\"         \"NRS\"         \"D.Dtr07\"    \n"
     ]
    },
    {
     "name": "stderr",
     "output_type": "stream",
     "text": [
      "Warning message in leaps.setup(x, y, wt = wt, nbest = nbest, nvmax = nvmax, force.in = force.in, :\n",
      "\"5  linear dependencies found\"\n"
     ]
    },
    {
     "name": "stdout",
     "output_type": "stream",
     "text": [
      "Reordering variables and trying again:\n",
      "[1] \"(Intercept)\" \"nS\"         \n",
      "[1] \"(Intercept)\" \"nO\"          \"nS\"         \n",
      "[1] \"(Intercept)\" \"Mi\"          \"nO\"          \"nS\"         \n",
      "[1] \"(Intercept)\" \"Mi\"          \"nO\"          \"nS\"          \"nR10\"       \n",
      "[1] \"(Intercept)\" \"Mi\"          \"nBM\"         \"H.\"          \"C.\"         \n",
      "[6] \"D.Dtr07\"    \n",
      "[1] \"(Intercept)\" \"Mi\"          \"nBM\"         \"H.\"          \"C.\"         \n",
      "[6] \"D.Dtr07\"     \"nR10\"       \n",
      "[1] \"(Intercept)\" \"Mi\"          \"nBM\"         \"nN\"          \"nO\"         \n",
      "[6] \"H.\"          \"C.\"          \"D.Dtr07\"    \n",
      "[1] \"(Intercept)\" \"Mi\"          \"nN\"          \"nO\"          \"H.\"         \n",
      "[6] \"C.\"          \"Rperim\"      \"D.Dtr07\"     \"nR10\"       \n",
      " [1] \"(Intercept)\" \"Mi\"          \"nBM\"         \"nN\"          \"nO\"         \n",
      " [6] \"H.\"          \"C.\"          \"nCsp3\"       \"D.Dtr07\"     \"nR10\"       \n"
     ]
    },
    {
     "name": "stderr",
     "output_type": "stream",
     "text": [
      "Warning message in leaps.setup(x, y, wt = wt, nbest = nbest, nvmax = nvmax, force.in = force.in, :\n",
      "\"7  linear dependencies found\"\n"
     ]
    },
    {
     "name": "stdout",
     "output_type": "stream",
     "text": [
      "Reordering variables and trying again:\n",
      "[1] \"(Intercept)\" \"nS\"         \n",
      "[1] \"(Intercept)\" \"Mi\"          \"nS\"         \n",
      "[1] \"(Intercept)\" \"Mi\"          \"nO\"          \"nS\"         \n",
      "[1] \"(Intercept)\" \"Mv\"          \"nBM\"         \"H.\"          \"D.Dtr10\"    \n",
      "[1] \"(Intercept)\" \"Mi\"          \"nBM\"         \"H.\"          \"C.\"         \n",
      "[6] \"D.Dtr10\"    \n",
      "[1] \"(Intercept)\" \"Sp\"          \"Mv\"          \"nBM\"         \"SCBO\"       \n",
      "[6] \"nH\"          \"D.Dtr10\"    \n",
      "[1] \"(Intercept)\" \"Sp\"          \"Mv\"          \"nBM\"         \"SCBO\"       \n",
      "[6] \"nH\"          \"D.Dtr10\"     \"D.Dtr09\"    \n",
      "[1] \"(Intercept)\" \"Sp\"          \"Mv\"          \"nBM\"         \"SCBO\"       \n",
      "[6] \"nH\"          \"D.Dtr05\"     \"D.Dtr10\"     \"D.Dtr07\"    \n",
      " [1] \"(Intercept)\" \"Sp\"          \"Mv\"          \"Mi\"          \"nBM\"        \n",
      " [6] \"SCBO\"        \"nH\"          \"D.Dtr05\"     \"D.Dtr10\"     \"D.Dtr07\"    \n"
     ]
    },
    {
     "name": "stderr",
     "output_type": "stream",
     "text": [
      "Warning message in leaps.setup(x, y, wt = wt, nbest = nbest, nvmax = nvmax, force.in = force.in, :\n",
      "\"5  linear dependencies found\"\n"
     ]
    },
    {
     "name": "stdout",
     "output_type": "stream",
     "text": [
      "Reordering variables and trying again:\n",
      "[1] \"(Intercept)\" \"nS\"         \n",
      "[1] \"(Intercept)\" \"nS\"          \"D.Dtr07\"    \n",
      "[1] \"(Intercept)\" \"Mi\"          \"nO\"          \"nS\"         \n",
      "[1] \"(Intercept)\" \"Mi\"          \"nO\"          \"nS\"          \"nR10\"       \n",
      "[1] \"(Intercept)\" \"Mi\"          \"nBM\"         \"H.\"          \"C.\"         \n",
      "[6] \"D.Dtr07\"    \n",
      "[1] \"(Intercept)\" \"Mi\"          \"nBM\"         \"H.\"          \"C.\"         \n",
      "[6] \"D.Dtr07\"     \"nR10\"       \n",
      "[1] \"(Intercept)\" \"Sp\"          \"Mv\"          \"nBM\"         \"SCBO\"       \n",
      "[6] \"nH\"          \"D.Dtr07\"     \"nR10\"       \n",
      "[1] \"(Intercept)\" \"Sp\"          \"Mv\"          \"nBM\"         \"SCBO\"       \n",
      "[6] \"nH\"          \"D.Dtr06\"     \"D.Dtr07\"     \"nR10\"       \n",
      " [1] \"(Intercept)\" \"Sp\"          \"Mv\"          \"nBM\"         \"SCBO\"       \n",
      " [6] \"nH\"          \"Rbrid\"       \"MCD\"         \"NRS\"         \"D.Dtr07\"    \n"
     ]
    },
    {
     "name": "stderr",
     "output_type": "stream",
     "text": [
      "Warning message in leaps.setup(x, y, wt = wt, nbest = nbest, nvmax = nvmax, force.in = force.in, :\n",
      "\"5  linear dependencies found\"\n"
     ]
    },
    {
     "name": "stdout",
     "output_type": "stream",
     "text": [
      "Reordering variables and trying again:\n",
      "[1] \"(Intercept)\" \"nS\"         \n",
      "[1] \"(Intercept)\" \"nS\"          \"N.\"         \n",
      "[1] \"(Intercept)\" \"Mi\"          \"nO\"          \"nS\"         \n",
      "[1] \"(Intercept)\" \"Mi\"          \"nO\"          \"nS\"          \"nR10\"       \n",
      "[1] \"(Intercept)\" \"Mv\"          \"nBM\"         \"H.\"          \"D.Dtr07\"    \n",
      "[6] \"nR10\"       \n",
      "[1] \"(Intercept)\" \"nBM\"         \"H.\"          \"N.\"          \"nCIR\"       \n",
      "[6] \"D.Dtr07\"     \"nR10\"       \n",
      "[1] \"(Intercept)\" \"Sp\"          \"Mv\"          \"nBM\"         \"SCBO\"       \n",
      "[6] \"nH\"          \"D.Dtr07\"     \"nR10\"       \n",
      "[1] \"(Intercept)\" \"Sp\"          \"Mv\"          \"SCBO\"        \"nDB\"        \n",
      "[6] \"nAB\"         \"nH\"          \"D.Dtr07\"     \"nR10\"       \n",
      " [1] \"(Intercept)\" \"Sp\"          \"Mv\"          \"nBM\"         \"SCBO\"       \n",
      " [6] \"nH\"          \"NRS\"         \"nR05\"        \"D.Dtr07\"     \"D.Dtr09\"    \n"
     ]
    },
    {
     "name": "stderr",
     "output_type": "stream",
     "text": [
      "Warning message in leaps.setup(x, y, wt = wt, nbest = nbest, nvmax = nvmax, force.in = force.in, :\n",
      "\"5  linear dependencies found\"\n"
     ]
    },
    {
     "name": "stdout",
     "output_type": "stream",
     "text": [
      "Reordering variables and trying again:\n",
      "[1] \"(Intercept)\" \"nS\"         \n",
      "[1] \"(Intercept)\" \"Mi\"          \"nS\"         \n",
      "[1] \"(Intercept)\" \"nN\"          \"nS\"          \"nR06\"       \n",
      "[1] \"(Intercept)\" \"nN\"          \"nS\"          \"Rbrid\"       \"MCD\"        \n",
      "[1] \"(Intercept)\" \"MW\"          \"AMW\"         \"Sp\"          \"nO\"         \n",
      "[6] \"nR05\"       \n",
      "[1] \"(Intercept)\" \"Sp\"          \"Mv\"          \"nH\"          \"nO\"         \n",
      "[6] \"nR05\"        \"D.Dtr07\"    \n",
      "[1] \"(Intercept)\" \"MW\"          \"Sp\"          \"Mp\"          \"Mi\"         \n",
      "[6] \"nO\"          \"nR05\"        \"D.Dtr07\"    \n",
      "[1] \"(Intercept)\" \"MW\"          \"Sp\"          \"Mp\"          \"Mi\"         \n",
      "[6] \"nO\"          \"Rbrid\"       \"MCD\"         \"D.Dtr07\"    \n",
      " [1] \"(Intercept)\" \"Mv\"          \"nBM\"         \"SCBO\"        \"H.\"         \n",
      " [6] \"Rbrid\"       \"MCD\"         \"NRS\"         \"D.Dtr07\"     \"D.Dtr09\"    \n"
     ]
    },
    {
     "name": "stderr",
     "output_type": "stream",
     "text": [
      "Warning message in leaps.setup(x, y, wt = wt, nbest = nbest, nvmax = nvmax, force.in = force.in, :\n",
      "\"6  linear dependencies found\"\n"
     ]
    },
    {
     "name": "stdout",
     "output_type": "stream",
     "text": [
      "Reordering variables and trying again:\n",
      "[1] \"(Intercept)\" \"nS\"         \n",
      "[1] \"(Intercept)\" \"nS\"          \"D.Dtr09\"    \n",
      "[1] \"(Intercept)\" \"Mi\"          \"nO\"          \"nS\"         \n",
      "[1] \"(Intercept)\" \"Mv\"          \"nBM\"         \"H.\"          \"D.Dtr09\"    \n",
      "[1] \"(Intercept)\" \"Mi\"          \"nBM\"         \"H.\"          \"C.\"         \n",
      "[6] \"D.Dtr09\"    \n",
      "[1] \"(Intercept)\" \"nBM\"         \"H.\"          \"N.\"          \"nCIR\"       \n",
      "[6] \"D.Dtr09\"     \"D.Dtr07\"    \n",
      "[1] \"(Intercept)\" \"Sp\"          \"Mv\"          \"nBM\"         \"SCBO\"       \n",
      "[6] \"nH\"          \"D.Dtr09\"     \"D.Dtr07\"    \n",
      "[1] \"(Intercept)\" \"MW\"          \"Mv\"          \"SCBO\"        \"nDB\"        \n",
      "[6] \"nAB\"         \"H.\"          \"MCD\"         \"D.Dtr09\"    \n",
      " [1] \"(Intercept)\" \"MW\"          \"Mv\"          \"nDB\"         \"nAB\"        \n",
      " [6] \"nS\"          \"H.\"          \"D.Dtr06\"     \"D.Dtr09\"     \"D.Dtr07\"    \n"
     ]
    },
    {
     "name": "stderr",
     "output_type": "stream",
     "text": [
      "Warning message in leaps.setup(x, y, wt = wt, nbest = nbest, nvmax = nvmax, force.in = force.in, :\n",
      "\"5  linear dependencies found\"\n"
     ]
    },
    {
     "name": "stdout",
     "output_type": "stream",
     "text": [
      "Reordering variables and trying again:\n",
      "[1] \"(Intercept)\" \"nS\"         \n",
      "[1] \"(Intercept)\" \"nS\"          \"D.Dtr07\"    \n",
      "[1] \"(Intercept)\" \"Mi\"          \"nO\"          \"nS\"         \n",
      "[1] \"(Intercept)\" \"Mv\"          \"nBM\"         \"H.\"          \"D.Dtr07\"    \n",
      "[1] \"(Intercept)\" \"nBM\"         \"nH\"          \"H.\"          \"N.\"         \n",
      "[6] \"D.Dtr07\"    \n",
      "[1] \"(Intercept)\" \"Sp\"          \"Mv\"          \"nBM\"         \"SCBO\"       \n",
      "[6] \"nH\"          \"D.Dtr07\"    \n",
      "[1] \"(Intercept)\" \"Sp\"          \"Mv\"          \"nBM\"         \"SCBO\"       \n",
      "[6] \"nH\"          \"D.Dtr07\"     \"nR10\"       \n",
      "[1] \"(Intercept)\" \"Sp\"          \"Mv\"          \"nBM\"         \"SCBO\"       \n",
      "[6] \"nH\"          \"Rbrid\"       \"MCD\"         \"D.Dtr07\"    \n",
      " [1] \"(Intercept)\" \"Sp\"          \"RBN\"         \"nH\"          \"nO\"         \n",
      " [6] \"N.\"          \"nCsp2\"       \"NRS\"         \"nR05\"        \"D.Dtr07\"    \n"
     ]
    },
    {
     "data": {
      "text/html": [
       "<table>\n",
       "<caption>A matrix: 9 × 10 of type dbl</caption>\n",
       "<tbody>\n",
       "\t<tr><td>552.1937</td><td>559.3055</td><td>559.6236</td><td>500.2457</td><td>618.8627</td><td>540.5273</td><td>456.2820</td><td>641.5054</td><td>625.8707</td><td>475.9374</td></tr>\n",
       "\t<tr><td>549.9354</td><td>559.6281</td><td>559.4683</td><td>521.7286</td><td>629.1006</td><td>540.3021</td><td>441.8283</td><td>645.6152</td><td>626.2367</td><td>475.8666</td></tr>\n",
       "\t<tr><td>538.2182</td><td>532.0845</td><td>574.4728</td><td>493.9941</td><td>622.7341</td><td>550.5954</td><td>444.5089</td><td>645.1922</td><td>612.8893</td><td>503.3482</td></tr>\n",
       "\t<tr><td>737.3437</td><td>591.4617</td><td>541.2694</td><td>487.9896</td><td>621.8082</td><td>550.4374</td><td>453.9287</td><td>678.9468</td><td>607.2024</td><td>529.9952</td></tr>\n",
       "\t<tr><td>737.4218</td><td>591.7387</td><td>539.9163</td><td>473.8017</td><td>634.5262</td><td>566.3736</td><td>533.9573</td><td>620.7290</td><td>609.2060</td><td>521.3281</td></tr>\n",
       "\t<tr><td>866.5627</td><td>552.5764</td><td>552.3996</td><td>466.3555</td><td>633.8705</td><td>574.4886</td><td>519.7660</td><td>593.7037</td><td>614.5284</td><td>520.7985</td></tr>\n",
       "\t<tr><td>521.6950</td><td>520.4721</td><td>567.8810</td><td>498.6302</td><td>638.5259</td><td>539.4196</td><td>484.8438</td><td>628.6758</td><td>610.2256</td><td>492.5068</td></tr>\n",
       "\t<tr><td>845.1919</td><td>520.5386</td><td>559.4391</td><td>485.1341</td><td>632.8235</td><td>522.7230</td><td>493.0326</td><td>684.4741</td><td>622.8990</td><td>520.4925</td></tr>\n",
       "\t<tr><td>833.4397</td><td>520.4327</td><td>561.5848</td><td>482.4172</td><td>642.0951</td><td>546.8260</td><td>460.1534</td><td>643.5227</td><td>628.5470</td><td>522.9662</td></tr>\n",
       "</tbody>\n",
       "</table>\n"
      ],
      "text/latex": [
       "A matrix: 9 × 10 of type dbl\n",
       "\\begin{tabular}{llllllllll}\n",
       "\t 552.1937 & 559.3055 & 559.6236 & 500.2457 & 618.8627 & 540.5273 & 456.2820 & 641.5054 & 625.8707 & 475.9374\\\\\n",
       "\t 549.9354 & 559.6281 & 559.4683 & 521.7286 & 629.1006 & 540.3021 & 441.8283 & 645.6152 & 626.2367 & 475.8666\\\\\n",
       "\t 538.2182 & 532.0845 & 574.4728 & 493.9941 & 622.7341 & 550.5954 & 444.5089 & 645.1922 & 612.8893 & 503.3482\\\\\n",
       "\t 737.3437 & 591.4617 & 541.2694 & 487.9896 & 621.8082 & 550.4374 & 453.9287 & 678.9468 & 607.2024 & 529.9952\\\\\n",
       "\t 737.4218 & 591.7387 & 539.9163 & 473.8017 & 634.5262 & 566.3736 & 533.9573 & 620.7290 & 609.2060 & 521.3281\\\\\n",
       "\t 866.5627 & 552.5764 & 552.3996 & 466.3555 & 633.8705 & 574.4886 & 519.7660 & 593.7037 & 614.5284 & 520.7985\\\\\n",
       "\t 521.6950 & 520.4721 & 567.8810 & 498.6302 & 638.5259 & 539.4196 & 484.8438 & 628.6758 & 610.2256 & 492.5068\\\\\n",
       "\t 845.1919 & 520.5386 & 559.4391 & 485.1341 & 632.8235 & 522.7230 & 493.0326 & 684.4741 & 622.8990 & 520.4925\\\\\n",
       "\t 833.4397 & 520.4327 & 561.5848 & 482.4172 & 642.0951 & 546.8260 & 460.1534 & 643.5227 & 628.5470 & 522.9662\\\\\n",
       "\\end{tabular}\n"
      ],
      "text/markdown": [
       "\n",
       "A matrix: 9 × 10 of type dbl\n",
       "\n",
       "| 552.1937 | 559.3055 | 559.6236 | 500.2457 | 618.8627 | 540.5273 | 456.2820 | 641.5054 | 625.8707 | 475.9374 |\n",
       "| 549.9354 | 559.6281 | 559.4683 | 521.7286 | 629.1006 | 540.3021 | 441.8283 | 645.6152 | 626.2367 | 475.8666 |\n",
       "| 538.2182 | 532.0845 | 574.4728 | 493.9941 | 622.7341 | 550.5954 | 444.5089 | 645.1922 | 612.8893 | 503.3482 |\n",
       "| 737.3437 | 591.4617 | 541.2694 | 487.9896 | 621.8082 | 550.4374 | 453.9287 | 678.9468 | 607.2024 | 529.9952 |\n",
       "| 737.4218 | 591.7387 | 539.9163 | 473.8017 | 634.5262 | 566.3736 | 533.9573 | 620.7290 | 609.2060 | 521.3281 |\n",
       "| 866.5627 | 552.5764 | 552.3996 | 466.3555 | 633.8705 | 574.4886 | 519.7660 | 593.7037 | 614.5284 | 520.7985 |\n",
       "| 521.6950 | 520.4721 | 567.8810 | 498.6302 | 638.5259 | 539.4196 | 484.8438 | 628.6758 | 610.2256 | 492.5068 |\n",
       "| 845.1919 | 520.5386 | 559.4391 | 485.1341 | 632.8235 | 522.7230 | 493.0326 | 684.4741 | 622.8990 | 520.4925 |\n",
       "| 833.4397 | 520.4327 | 561.5848 | 482.4172 | 642.0951 | 546.8260 | 460.1534 | 643.5227 | 628.5470 | 522.9662 |\n",
       "\n"
      ],
      "text/plain": [
       "      [,1]     [,2]     [,3]     [,4]     [,5]     [,6]     [,7]     [,8]    \n",
       " [1,] 552.1937 559.3055 559.6236 500.2457 618.8627 540.5273 456.2820 641.5054\n",
       " [2,] 549.9354 559.6281 559.4683 521.7286 629.1006 540.3021 441.8283 645.6152\n",
       " [3,] 538.2182 532.0845 574.4728 493.9941 622.7341 550.5954 444.5089 645.1922\n",
       " [4,] 737.3437 591.4617 541.2694 487.9896 621.8082 550.4374 453.9287 678.9468\n",
       " [5,] 737.4218 591.7387 539.9163 473.8017 634.5262 566.3736 533.9573 620.7290\n",
       " [6,] 866.5627 552.5764 552.3996 466.3555 633.8705 574.4886 519.7660 593.7037\n",
       " [7,] 521.6950 520.4721 567.8810 498.6302 638.5259 539.4196 484.8438 628.6758\n",
       " [8,] 845.1919 520.5386 559.4391 485.1341 632.8235 522.7230 493.0326 684.4741\n",
       " [9,] 833.4397 520.4327 561.5848 482.4172 642.0951 546.8260 460.1534 643.5227\n",
       "      [,9]     [,10]   \n",
       " [1,] 625.8707 475.9374\n",
       " [2,] 626.2367 475.8666\n",
       " [3,] 612.8893 503.3482\n",
       " [4,] 607.2024 529.9952\n",
       " [5,] 609.2060 521.3281\n",
       " [6,] 614.5284 520.7985\n",
       " [7,] 610.2256 492.5068\n",
       " [8,] 622.8990 520.4925\n",
       " [9,] 628.5470 522.9662"
      ]
     },
     "metadata": {},
     "output_type": "display_data"
    }
   ],
   "source": [
    "library(tidymodels)\n",
    "train<-as.data.frame(train_bis)\n",
    "validation_data <- vfold_cv(train_bis, v = 10)\n",
    "fit_and_evaluate <- function(fold, formula = afterYtrain ~ .) {\n",
    "    fit <- regsubsets(formula, analysis(fold), really.big=T)\n",
    "    valid.set <- assessment(fold)\n",
    "    sapply(seq(1, fit$nvmax - 1),\n",
    "           function(id) mean((valid.set$afterYtrain - predict.regsubsets(fit, valid.set, id, formula))^2))\n",
    "}\n",
    "cv.errors <- sapply(validation_data$splits, fit_and_evaluate)\n",
    "cv.errors"
   ]
  },
  {
   "cell_type": "code",
   "execution_count": 61,
   "metadata": {},
   "outputs": [
    {
     "data": {
      "text/html": [
       "<style>\n",
       ".list-inline {list-style: none; margin:0; padding: 0}\n",
       ".list-inline>li {display: inline-block}\n",
       ".list-inline>li:not(:last-child)::after {content: \"\\00b7\"; padding: 0 .5ex}\n",
       "</style>\n",
       "<ol class=list-inline><li>553.035393972489</li><li>554.97098962838</li><li>551.803771396487</li><li>580.038322622258</li><li>582.89986238997</li><li>589.504979318051</li><li>550.287566137922</li><li>588.674835592286</li><li>584.198482645436</li></ol>\n"
      ],
      "text/latex": [
       "\\begin{enumerate*}\n",
       "\\item 553.035393972489\n",
       "\\item 554.97098962838\n",
       "\\item 551.803771396487\n",
       "\\item 580.038322622258\n",
       "\\item 582.89986238997\n",
       "\\item 589.504979318051\n",
       "\\item 550.287566137922\n",
       "\\item 588.674835592286\n",
       "\\item 584.198482645436\n",
       "\\end{enumerate*}\n"
      ],
      "text/markdown": [
       "1. 553.035393972489\n",
       "2. 554.97098962838\n",
       "3. 551.803771396487\n",
       "4. 580.038322622258\n",
       "5. 582.89986238997\n",
       "6. 589.504979318051\n",
       "7. 550.287566137922\n",
       "8. 588.674835592286\n",
       "9. 584.198482645436\n",
       "\n",
       "\n"
      ],
      "text/plain": [
       "[1] 553.0354 554.9710 551.8038 580.0383 582.8999 589.5050 550.2876 588.6748\n",
       "[9] 584.1985"
      ]
     },
     "metadata": {},
     "output_type": "display_data"
    }
   ],
   "source": [
    "rowMeans(cv.errors)"
   ]
  },
  {
   "cell_type": "markdown",
   "metadata": {},
   "source": [
    "So the minimal mse error is the model with 7 predictors : Sp, Mv, nBM, SCBO, nH, D.Dtr07 and nR10. However, this error seems to be really high to select the model. "
   ]
  },
  {
   "cell_type": "markdown",
   "metadata": {},
   "source": [
    "Next, we could look at the best correlated predictors with the response variable:"
   ]
  },
  {
   "cell_type": "code",
   "execution_count": 150,
   "metadata": {},
   "outputs": [
    {
     "name": "stdout",
     "output_type": "stream",
     "text": [
      "correlation:  0.1924034 JGI6 \n",
      "correlation:  0.1800876 TDB08e \n",
      "correlation:  0.1831803 TDB08i \n",
      "correlation:  0.1842031 HATS8e \n",
      "correlation:  0.1864759 HATS8s \n",
      "correlation:  0.1800102 SssO \n",
      "correlation:  0.1804688 NssO \n"
     ]
    }
   ],
   "source": [
    "for (i in 3:ncol(data)){\n",
    "    if(var(data[,i] != 0)){\n",
    "        c <- cor(data$VALENCE.PLEASANTNESS, data[,i])\n",
    "        if (c > 0.18){\n",
    "            cat(\"correlation: \", c, names(data)[i], \"\\n\")\n",
    "        }\n",
    "    }\n",
    "}"
   ]
  },
  {
   "cell_type": "markdown",
   "metadata": {},
   "source": [
    "We could try to fit them in new ways and see if we succeed to predict the response with the help of feature engineering:"
   ]
  },
  {
   "cell_type": "code",
   "execution_count": 166,
   "metadata": {},
   "outputs": [
    {
     "data": {
      "text/plain": [
       "\n",
       "Call:\n",
       "lm(formula = afterYtrain ~ aftertrain$TDB08i, data = aftertrain)\n",
       "\n",
       "Residuals:\n",
       "    Min      1Q  Median      3Q     Max \n",
       "-50.158 -19.781   4.219  14.219  54.219 \n",
       "\n",
       "Coefficients:\n",
       "                  Estimate Std. Error t value Pr(>|t|)    \n",
       "(Intercept)         38.781      1.399   27.72  < 2e-16 ***\n",
       "aftertrain$TDB08i   14.549      2.994    4.86 1.55e-06 ***\n",
       "---\n",
       "Signif. codes:  0 '***' 0.001 '**' 0.01 '*' 0.05 '.' 0.1 ' ' 1\n",
       "\n",
       "Residual standard error: 23.27 on 529 degrees of freedom\n",
       "Multiple R-squared:  0.04274,\tAdjusted R-squared:  0.04093 \n",
       "F-statistic: 23.62 on 1 and 529 DF,  p-value: 1.548e-06\n"
      ]
     },
     "metadata": {},
     "output_type": "display_data"
    },
    {
     "data": {
      "image/png": "[encoded data removed]",
      "text/plain": [
       "plot without title"
      ]
     },
     "metadata": {
      "image/png": {
       "height": 420,
       "width": 420
      }
     },
     "output_type": "display_data"
    }
   ],
   "source": [
    "fit <- lm(afterYtrain ~ aftertrain$TDB08i, aftertrain)\n",
    "plot(aftertrain$TDB08i, afterYtrain)\n",
    "abline(fit, col = \"red\", lwd = 2)\n",
    "summary(fit)"
   ]
  },
  {
   "cell_type": "code",
   "execution_count": 177,
   "metadata": {},
   "outputs": [
    {
     "data": {
      "text/plain": [
       "\n",
       "Call:\n",
       "lm(formula = afterYtrain ~ poly(aftertrain$TDB08i, 2, raw = T), \n",
       "    data = aftertrain)\n",
       "\n",
       "Residuals:\n",
       "    Min      1Q  Median      3Q     Max \n",
       "-49.537 -19.322   4.375  14.678  54.678 \n",
       "\n",
       "Coefficients:\n",
       "                                     Estimate Std. Error t value Pr(>|t|)    \n",
       "(Intercept)                            38.322      1.469  26.087   <2e-16 ***\n",
       "poly(aftertrain$TDB08i, 2, raw = T)1   26.261     11.836   2.219   0.0269 *  \n",
       "poly(aftertrain$TDB08i, 2, raw = T)2  -15.243     14.904  -1.023   0.3069    \n",
       "---\n",
       "Signif. codes:  0 '***' 0.001 '**' 0.01 '*' 0.05 '.' 0.1 ' ' 1\n",
       "\n",
       "Residual standard error: 23.27 on 528 degrees of freedom\n",
       "Multiple R-squared:  0.04464,\tAdjusted R-squared:  0.04102 \n",
       "F-statistic: 12.33 on 2 and 528 DF,  p-value: 5.816e-06\n"
      ]
     },
     "metadata": {},
     "output_type": "display_data"
    }
   ],
   "source": [
    "fit <- lm(afterYtrain ~ poly(aftertrain$TDB08i, 2, raw = T), aftertrain)\n",
    "summary(fit)"
   ]
  },
  {
   "cell_type": "code",
   "execution_count": 179,
   "metadata": {},
   "outputs": [
    {
     "data": {
      "image/png": "[encoded data removed]",
      "text/plain": [
       "plot without title"
      ]
     },
     "metadata": {
      "image/png": {
       "height": 420,
       "width": 420
      }
     },
     "output_type": "display_data"
    }
   ],
   "source": [
    "plot(aftertrain$TDB08i, afterYtrain)\n",
    "fitted.poly <- function(x) matrix(c(rep(1, length(x)), x, x^2), ncol = 3) %*% coef(fit)\n",
    "curve(fitted.poly, from = 0, to = 1, add = TRUE, col = \"red\", lwd = 2)"
   ]
  },
  {
   "cell_type": "code",
   "execution_count": 197,
   "metadata": {},
   "outputs": [
    {
     "data": {
      "text/plain": [
       "\n",
       "Call:\n",
       "lm(formula = Y ~ ., data = newdata)\n",
       "\n",
       "Residuals:\n",
       "   Min     1Q Median     3Q    Max \n",
       "-50.70 -18.62   4.17  15.15  55.17 \n",
       "\n",
       "Coefficients:\n",
       "                  Estimate Std. Error t value Pr(>|t|)    \n",
       "(Intercept)      3.783e+01  1.490e+00  25.387   <2e-16 ***\n",
       "TDB08i           1.003e+01  1.495e+01   0.671    0.503    \n",
       "TDB08i2          1.504e+00  1.751e+01   0.086    0.932    \n",
       "JGI6            -3.317e+01  7.083e+02  -0.047    0.963    \n",
       "JGI62            1.265e+06  1.464e+07   0.086    0.931    \n",
       "log_JGI6        -1.258e+06  1.466e+07  -0.086    0.932    \n",
       "TDB08itimesJGI6  1.859e+02  5.070e+02   0.367    0.714    \n",
       "---\n",
       "Signif. codes:  0 '***' 0.001 '**' 0.01 '*' 0.05 '.' 0.1 ' ' 1\n",
       "\n",
       "Residual standard error: 23.18 on 524 degrees of freedom\n",
       "Multiple R-squared:  0.05891,\tAdjusted R-squared:  0.04813 \n",
       "F-statistic: 5.467 on 6 and 524 DF,  p-value: 1.678e-05\n"
      ]
     },
     "metadata": {},
     "output_type": "display_data"
    }
   ],
   "source": [
    "newdata <- data.frame(TDB08i = aftertrain$TDB08i,\n",
    "                      TDB08i2 = aftertrain$TDB08i^2,\n",
    "                      JGI6=aftertrain$JGI6,\n",
    "                      JGI62=aftertrain$JGI6^2,\n",
    "                      log_JGI6=log(aftertrain$JGI6^(2)+1),\n",
    "                      TDB08itimesJGI6 = aftertrain$TDB08i*aftertrain$JGI6,\n",
    "                      Y = afterYtrain)\n",
    "summary(lm(Y ~ ., newdata))"
   ]
  },
  {
   "cell_type": "code",
   "execution_count": 182,
   "metadata": {},
   "outputs": [
    {
     "data": {
      "text/plain": [
       "\n",
       "Call:\n",
       "lm(formula = afterYtrain ~ TDB08i + JGI6, data = aftertrain)\n",
       "\n",
       "Residuals:\n",
       "    Min      1Q  Median      3Q     Max \n",
       "-50.708 -18.403   3.661  14.502  55.289 \n",
       "\n",
       "Coefficients:\n",
       "            Estimate Std. Error t value Pr(>|t|)    \n",
       "(Intercept)   37.711      1.439  26.214  < 2e-16 ***\n",
       "TDB08i         9.982      3.373   2.960  0.00322 ** \n",
       "JGI6         291.504    101.619   2.869  0.00429 ** \n",
       "---\n",
       "Signif. codes:  0 '***' 0.001 '**' 0.01 '*' 0.05 '.' 0.1 ' ' 1\n",
       "\n",
       "Residual standard error: 23.11 on 528 degrees of freedom\n",
       "Multiple R-squared:  0.05743,\tAdjusted R-squared:  0.05386 \n",
       "F-statistic: 16.09 on 2 and 528 DF,  p-value: 1.654e-07\n"
      ]
     },
     "metadata": {},
     "output_type": "display_data"
    }
   ],
   "source": [
    "summary(lm(afterYtrain ~ TDB08i + JGI6, aftertrain))"
   ]
  },
  {
   "cell_type": "markdown",
   "metadata": {},
   "source": [
    "We really won't find good models manually with feature engineering... We will now try Forward selection."
   ]
  },
  {
   "cell_type": "markdown",
   "metadata": {},
   "source": [
    "# Model 3 : Forward Selection with Cross Validation"
   ]
  },
  {
   "cell_type": "markdown",
   "metadata": {},
   "source": [
    "Now, let's do a forward selection with cross validation to see the number of predictors useful for the model:"
   ]
  },
  {
   "cell_type": "code",
   "execution_count": null,
   "metadata": {
    "colab": {
     "base_uri": "https://localhost:8080/",
     "height": 576
    },
    "id": "YQaj6CRNd4Rw",
    "outputId": "7953a3ef-52de-4f87-c140-940eff0e7f76"
   },
   "outputs": [
    {
     "name": "stderr",
     "output_type": "stream",
     "text": [
      "Installing package into ‘/usr/local/lib/R/site-library’\n",
      "(as ‘lib’ is unspecified)\n",
      "\n",
      "Warning message in leaps.setup(x, y, wt = wt, nbest = nbest, nvmax = nvmax, force.in = force.in, :\n",
      "“1513  linear dependencies found”\n"
     ]
    },
    {
     "name": "stdout",
     "output_type": "stream",
     "text": [
      "Reordering variables and trying again:\n"
     ]
    },
    {
     "name": "stderr",
     "output_type": "stream",
     "text": [
      "Warning message in rval$lopt[] <- rval$vorder[rval$lopt]:\n",
      "“number of items to replace is not a multiple of replacement length”\n"
     ]
    },
    {
     "data": {
      "image/png": "[encoded data removed]",
      "text/plain": [
       "plot without title"
      ]
     },
     "metadata": {
      "image/png": {
       "height": 420,
       "width": 420
      },
      "tags": []
     },
     "output_type": "display_data"
    }
   ],
   "source": [
    "install.packages(\"leaps\")\n",
    "library(leaps)\n",
    "trainCV<-as.data.frame(cbind(afterYtrain, aftertrain))\n",
    "regfit.fwd <- regsubsets(afterYtrain ~ .,trainCV, method = \"forward\", nvmax = ncol(aftertrain))\n",
    "regfit.fwd.summary <- summary(regfit.fwd)\n",
    "# plot\n",
    "plot(regfit.fwd.summary$adjr2, type = \"l\", xlim = c(1,1850),\n",
    "     xlab = \"Number of Variables\", ylab = \"adjusted R^2\")\n",
    "adjr2.max <- which.max(regfit.fwd.summary$adjr2)\n",
    "points(adjr2.max, regfit.fwd.summary$adjr2[adjr2.max], col = \"red\", cex = 2, pch = 20)"
   ]
  },
  {
   "cell_type": "code",
   "execution_count": null,
   "metadata": {
    "colab": {
     "base_uri": "https://localhost:8080/",
     "height": 35
    },
    "id": "IMEACvklkr2s",
    "outputId": "f755bd3d-656c-4a4f-8b4f-189b6ddf1a9d"
   },
   "outputs": [
    {
     "data": {
      "text/html": [
       "171"
      ],
      "text/latex": [
       "171"
      ],
      "text/markdown": [
       "171"
      ],
      "text/plain": [
       "[1] 171"
      ]
     },
     "metadata": {
      "tags": []
     },
     "output_type": "display_data"
    }
   ],
   "source": [
    "adjr2.max"
   ]
  },
  {
   "cell_type": "code",
   "execution_count": null,
   "metadata": {
    "colab": {
     "base_uri": "https://localhost:8080/",
     "height": 455
    },
    "id": "C14B0ZxQd4Rx",
    "outputId": "852a22a8-2248-417f-ad89-b265936811b3"
   },
   "outputs": [
    {
     "data": {
      "text/html": [
       "13"
      ],
      "text/latex": [
       "13"
      ],
      "text/markdown": [
       "13"
      ],
      "text/plain": [
       "[1] 13"
      ]
     },
     "metadata": {
      "tags": []
     },
     "output_type": "display_data"
    },
    {
     "data": {
      "image/png": "[encoded data removed]",
      "text/plain": [
       "plot without title"
      ]
     },
     "metadata": {
      "image/png": {
       "height": 420,
       "width": 420
      },
      "tags": []
     },
     "output_type": "display_data"
    }
   ],
   "source": [
    "plot(regfit.fwd.summary$bic, type = \"l\", xlim = c(1,1850),\n",
    "     xlab = \"Number of Variables\", ylab = \"BIC\")\n",
    "bic.min <- which.min(regfit.fwd.summary$bic)\n",
    "points(bic.min, regfit.fwd.summary$bic[bic.min], col = \"red\", cex = 2, pch = 20)\n",
    "bic.min"
   ]
  },
  {
   "cell_type": "code",
   "execution_count": 80,
   "metadata": {},
   "outputs": [],
   "source": [
    "validation_data <- vfold_cv(trainCV, v = 9)"
   ]
  },
  {
   "cell_type": "code",
   "execution_count": 81,
   "metadata": {},
   "outputs": [
    {
     "name": "stderr",
     "output_type": "stream",
     "text": [
      "Warning message in leaps.setup(x, y, wt = wt, nbest = nbest, nvmax = nvmax, force.in = force.in, :\n",
      "\"1529  linear dependencies found\"\n"
     ]
    },
    {
     "name": "stdout",
     "output_type": "stream",
     "text": [
      "Reordering variables and trying again:\n"
     ]
    },
    {
     "name": "stderr",
     "output_type": "stream",
     "text": [
      "Warning message in leaps.setup(x, y, wt = wt, nbest = nbest, nvmax = nvmax, force.in = force.in, :\n",
      "\"1529  linear dependencies found\"\n"
     ]
    },
    {
     "name": "stdout",
     "output_type": "stream",
     "text": [
      "Reordering variables and trying again:\n"
     ]
    },
    {
     "name": "stderr",
     "output_type": "stream",
     "text": [
      "Warning message in leaps.setup(x, y, wt = wt, nbest = nbest, nvmax = nvmax, force.in = force.in, :\n",
      "\"1523  linear dependencies found\"\n"
     ]
    },
    {
     "name": "stdout",
     "output_type": "stream",
     "text": [
      "Reordering variables and trying again:\n"
     ]
    },
    {
     "name": "stderr",
     "output_type": "stream",
     "text": [
      "Warning message in leaps.setup(x, y, wt = wt, nbest = nbest, nvmax = nvmax, force.in = force.in, :\n",
      "\"1526  linear dependencies found\"\n"
     ]
    },
    {
     "name": "stdout",
     "output_type": "stream",
     "text": [
      "Reordering variables and trying again:\n"
     ]
    },
    {
     "name": "stderr",
     "output_type": "stream",
     "text": [
      "Warning message in leaps.setup(x, y, wt = wt, nbest = nbest, nvmax = nvmax, force.in = force.in, :\n",
      "\"1536  linear dependencies found\"\n"
     ]
    },
    {
     "name": "stdout",
     "output_type": "stream",
     "text": [
      "Reordering variables and trying again:\n"
     ]
    },
    {
     "name": "stderr",
     "output_type": "stream",
     "text": [
      "Warning message in leaps.setup(x, y, wt = wt, nbest = nbest, nvmax = nvmax, force.in = force.in, :\n",
      "\"1535  linear dependencies found\"\n"
     ]
    },
    {
     "name": "stdout",
     "output_type": "stream",
     "text": [
      "Reordering variables and trying again:\n"
     ]
    },
    {
     "name": "stderr",
     "output_type": "stream",
     "text": [
      "Warning message in leaps.setup(x, y, wt = wt, nbest = nbest, nvmax = nvmax, force.in = force.in, :\n",
      "\"1529  linear dependencies found\"\n"
     ]
    },
    {
     "name": "stdout",
     "output_type": "stream",
     "text": [
      "Reordering variables and trying again:\n"
     ]
    },
    {
     "name": "stderr",
     "output_type": "stream",
     "text": [
      "Warning message in leaps.setup(x, y, wt = wt, nbest = nbest, nvmax = nvmax, force.in = force.in, :\n",
      "\"1524  linear dependencies found\"\n"
     ]
    },
    {
     "name": "stdout",
     "output_type": "stream",
     "text": [
      "Reordering variables and trying again:\n"
     ]
    },
    {
     "name": "stderr",
     "output_type": "stream",
     "text": [
      "Warning message in leaps.setup(x, y, wt = wt, nbest = nbest, nvmax = nvmax, force.in = force.in, :\n",
      "\"1525  linear dependencies found\"\n"
     ]
    },
    {
     "name": "stdout",
     "output_type": "stream",
     "text": [
      "Reordering variables and trying again:\n"
     ]
    },
    {
     "data": {
      "image/png": "[encoded data removed]",
      "text/plain": [
       "plot without title"
      ]
     },
     "metadata": {
      "image/png": {
       "height": 420,
       "width": 420
      }
     },
     "output_type": "display_data"
    }
   ],
   "source": [
    "predict.regsubsets <- function(object, newdata, id, form = as.formula(object$call[[2]])) {\n",
    "    mat = model.matrix(form, newdata)\n",
    "    coefi = coef(object, id=id)\n",
    "    xvars = names(coefi)\n",
    "    mat[,xvars]%*%coefi\n",
    "}\n",
    "evaluate <- function(fold, fit, formula = afterYtrain ~ .) {\n",
    "    valid.set <- assessment(fold)\n",
    "    sapply(seq(1, fit$nvmax - 1),\n",
    "           function(id) mean((valid.set$afterYtrain - predict(fit, valid.set, id, formula))^2))\n",
    "}\n",
    "           \n",
    "fit_and_evaluate <- function(fold, formula = afterYtrain ~ .) {\n",
    "    fit <- regsubsets(formula, analysis(fold), method = \"forward\", nvmax = ncol(fold))\n",
    "    evaluate(fold, fit)\n",
    "}\n",
    "cv.errors <- sapply(validation_data$splits, fit_and_evaluate)\n",
    "mean.cv.errors <- rowMeans(cv.errors)\n",
    "plot(mean.cv.errors, type = \"l\", ylim = c(1, 1000),\n",
    "     xlab = \"Number of Variables\", ylab = \"10-fold CV\")\n",
    "cv.min = which.min(mean.cv.errors)\n",
    "points(cv.min, mean.cv.errors[cv.min], col = \"red\", cex = 2, pch = 20)\n",
    "abline(sd(afterYtrain), 0, lty = \"dashed\") "
   ]
  },
  {
   "cell_type": "code",
   "execution_count": 82,
   "metadata": {},
   "outputs": [
    {
     "data": {
      "text/html": [
       "2"
      ],
      "text/latex": [
       "2"
      ],
      "text/markdown": [
       "2"
      ],
      "text/plain": [
       "[1] 2"
      ]
     },
     "metadata": {},
     "output_type": "display_data"
    }
   ],
   "source": [
    "cv.min"
   ]
  },
  {
   "cell_type": "markdown",
   "metadata": {},
   "source": [
    "We obtained that the best model with the lowest cross validation error was with 2 predictors, which on 60 predictors sounds weird.  \n",
    "We will finally do a Lasso regularization which seems to be our best option!"
   ]
  },
  {
   "cell_type": "markdown",
   "metadata": {},
   "source": [
    "# Model 4 : Lasso regularization"
   ]
  },
  {
   "cell_type": "markdown",
   "metadata": {},
   "source": [
    "Here, we do Lasso regularization before and after reducing our data to spot the difference:"
   ]
  },
  {
   "cell_type": "code",
   "execution_count": 295,
   "metadata": {},
   "outputs": [
    {
     "data": {
      "image/png": "[encoded data removed]",
      "text/plain": [
       "Plot with title \"Lasso regularization\""
      ]
     },
     "metadata": {
      "image/png": {
       "height": 420,
       "width": 420
      }
     },
     "output_type": "display_data"
    }
   ],
   "source": [
    "set.seed(13) # make Lasso results reproducible\n",
    "library(glmnet)\n",
    "x <- as.matrix(datatrain)\n",
    "y <- ytrain\n",
    "lasso.mod1 <- glmnet(x, y, alpha = 1, lambda = 10^seq(-2, -3, length = 100))\n",
    "plot(lasso.mod1, \"lambda\", xlab = parse(text = \"Log(lambda)\"), main = \"Lasso regularization\")\n",
    "labels1 = names(lasso.mod1$beta[,1]) # extract labels\n",
    "legend('topright', legend=labels1, col=1:length(labels1), lty=1) # show legend with labels"
   ]
  },
  {
   "cell_type": "code",
   "execution_count": 296,
   "metadata": {},
   "outputs": [
    {
     "data": {
      "text/html": [
       "0.8749688657571"
      ],
      "text/latex": [
       "0.8749688657571"
      ],
      "text/markdown": [
       "0.8749688657571"
      ],
      "text/plain": [
       "[1] 0.8749689"
      ]
     },
     "metadata": {},
     "output_type": "display_data"
    },
    {
     "data": {
      "image/png": "[encoded data removed]",
      "text/plain": [
       "plot without title"
      ]
     },
     "metadata": {
      "image/png": {
       "height": 420,
       "width": 420
      }
     },
     "output_type": "display_data"
    }
   ],
   "source": [
    "set.seed(13)\n",
    "cv.lasso1 <- cv.glmnet(x, y, alpha = 1, nfold = 10)\n",
    "plot(cv.lasso1)\n",
    "#when lambda is set to give lowest CV error\n",
    "cv.lasso1$lambda.min\n",
    "best.lasso1 <- glmnet(x, y, alpha = 1, lambda = cv.lasso1$lambda.min)"
   ]
  },
  {
   "cell_type": "code",
   "execution_count": 299,
   "metadata": {},
   "outputs": [
    {
     "name": "stdout",
     "output_type": "stream",
     "text": [
      "[1] predictions on raw data on training set:\n",
      "[1] MSE:\n"
     ]
    },
    {
     "data": {
      "text/html": [
       "152.590092611918"
      ],
      "text/latex": [
       "152.590092611918"
      ],
      "text/markdown": [
       "152.590092611918"
      ],
      "text/plain": [
       "[1] 152.5901"
      ]
     },
     "metadata": {},
     "output_type": "display_data"
    },
    {
     "name": "stdout",
     "output_type": "stream",
     "text": [
      "[1] R^2: \n"
     ]
    },
    {
     "data": {
      "text/html": [
       "0.723965185445527"
      ],
      "text/latex": [
       "0.723965185445527"
      ],
      "text/markdown": [
       "0.723965185445527"
      ],
      "text/plain": [
       "[1] 0.7239652"
      ]
     },
     "metadata": {},
     "output_type": "display_data"
    }
   ],
   "source": [
    "print(\"predictions on raw data on training set:\", quote=F)\n",
    "pred1 <- predict(lasso.mod1, s= cv.lasso1$lambda.min, newx = datatrain)\n",
    "print(\"MSE:\", quote = F)\n",
    "mean((ytrain - pred1)^2)\n",
    "rss <- sum((pred1 - ytrain)^2)\n",
    "tss <- sum((ytrain - mean(ytrain))^2)\n",
    "rsq <- 1- rss/tss\n",
    "print(\"R^2: \", quote=F)\n",
    "rsq"
   ]
  },
  {
   "cell_type": "code",
   "execution_count": 300,
   "metadata": {},
   "outputs": [
    {
     "name": "stdout",
     "output_type": "stream",
     "text": [
      "[1] predictions on raw data on test set:\n",
      "[1] MSE:\n"
     ]
    },
    {
     "data": {
      "text/html": [
       "893.896790383828"
      ],
      "text/latex": [
       "893.896790383828"
      ],
      "text/markdown": [
       "893.896790383828"
      ],
      "text/plain": [
       "[1] 893.8968"
      ]
     },
     "metadata": {},
     "output_type": "display_data"
    },
    {
     "name": "stdout",
     "output_type": "stream",
     "text": [
      "[1] R^2: \n"
     ]
    },
    {
     "data": {
      "text/html": [
       "-0.797324235451402"
      ],
      "text/latex": [
       "-0.797324235451402"
      ],
      "text/markdown": [
       "-0.797324235451402"
      ],
      "text/plain": [
       "[1] -0.7973242"
      ]
     },
     "metadata": {},
     "output_type": "display_data"
    }
   ],
   "source": [
    "print(\"predictions on raw data on test set:\", quote=F)\n",
    "pred2 <- predict(lasso.mod1, s= cv.lasso1$lambda.min, newx = datatest)\n",
    "print(\"MSE:\", quote = F)\n",
    "mean((ytest - pred2)^2)\n",
    "rss <- sum((pred2 - ytest)^2)\n",
    "tss <- sum((ytest - mean(ytest))^2)\n",
    "rsq <- 1- rss/tss\n",
    "print(\"R^2: \", quote=F)\n",
    "rsq"
   ]
  },
  {
   "cell_type": "markdown",
   "metadata": {},
   "source": [
    "Overfitting!"
   ]
  },
  {
   "cell_type": "code",
   "execution_count": 301,
   "metadata": {},
   "outputs": [
    {
     "data": {
      "image/png": "[encoded data removed]",
      "text/plain": [
       "Plot with title \"Lasso regularization\""
      ]
     },
     "metadata": {
      "image/png": {
       "height": 420,
       "width": 420
      }
     },
     "output_type": "display_data"
    }
   ],
   "source": [
    "set.seed(13)\n",
    "library(glmnet)\n",
    "x <- as.matrix(aftertrain)\n",
    "y <- afterYtrain\n",
    "lasso.mod2 <- glmnet(x, y, alpha = 1, lambda = 10^seq(2, -3, length = 1000))\n",
    "plot(lasso.mod2, \"lambda\", xlab = parse(text = \"Log(lambda)\"), main = \"Lasso regularization\")\n",
    "labels2 = names(lasso.mod2$beta[,1]) # extract labels\n",
    "legend('topright', legend=labels2, col=1:length(labels2), lty=1) # show legend with labels"
   ]
  },
  {
   "cell_type": "code",
   "execution_count": 302,
   "metadata": {},
   "outputs": [
    {
     "data": {
      "text/html": [
       "1.03832974625537"
      ],
      "text/latex": [
       "1.03832974625537"
      ],
      "text/markdown": [
       "1.03832974625537"
      ],
      "text/plain": [
       "[1] 1.03833"
      ]
     },
     "metadata": {},
     "output_type": "display_data"
    },
    {
     "data": {
      "image/png": "[encoded data removed]",
      "text/plain": [
       "plot without title"
      ]
     },
     "metadata": {
      "image/png": {
       "height": 420,
       "width": 420
      }
     },
     "output_type": "display_data"
    }
   ],
   "source": [
    "set.seed(13)\n",
    "cv.lasso2 <- cv.glmnet(x, y, alpha = 1, nfold = 10)\n",
    "plot(cv.lasso2)\n",
    "#when lambda is set to give lowest CV error\n",
    "cv.lasso2$lambda.min\n",
    "best.lasso2 <- glmnet(x, y, alpha = 1, lambda = cv.lasso2$lambda.min)"
   ]
  },
  {
   "cell_type": "code",
   "execution_count": 303,
   "metadata": {},
   "outputs": [
    {
     "name": "stdout",
     "output_type": "stream",
     "text": [
      "[1] predictions on cleared data on training set:\n",
      "[1] MSE: \n"
     ]
    },
    {
     "data": {
      "text/html": [
       "403.148893780138"
      ],
      "text/latex": [
       "403.148893780138"
      ],
      "text/markdown": [
       "403.148893780138"
      ],
      "text/plain": [
       "[1] 403.1489"
      ]
     },
     "metadata": {},
     "output_type": "display_data"
    },
    {
     "name": "stdout",
     "output_type": "stream",
     "text": [
      "[1] R^2: \n"
     ]
    },
    {
     "data": {
      "text/html": [
       "0.284534395069291"
      ],
      "text/latex": [
       "0.284534395069291"
      ],
      "text/markdown": [
       "0.284534395069291"
      ],
      "text/plain": [
       "[1] 0.2845344"
      ]
     },
     "metadata": {},
     "output_type": "display_data"
    }
   ],
   "source": [
    "print(\"predictions on cleared data on training set:\", quote=F)\n",
    "pred3 <- predict(lasso.mod2, s= cv.lasso2$lambda.min, newx = as.matrix(aftertrain))\n",
    "#length(pred)\n",
    "print(\"MSE: \", quote=F)\n",
    "mean((afterYtrain - pred3)^2)\n",
    "rss <- sum((pred3 - afterYtrain)^2)\n",
    "tss <- sum((afterYtrain - mean(afterYtrain))^2)\n",
    "rsq <- 1- rss/tss\n",
    "print(\"R^2: \", quote=F)\n",
    "rsq"
   ]
  },
  {
   "cell_type": "code",
   "execution_count": 304,
   "metadata": {},
   "outputs": [
    {
     "name": "stdout",
     "output_type": "stream",
     "text": [
      "[1] predictions on cleared data on test set:\n",
      "[1] MSE: \n"
     ]
    },
    {
     "data": {
      "text/html": [
       "407.84006155518"
      ],
      "text/latex": [
       "407.84006155518"
      ],
      "text/markdown": [
       "407.84006155518"
      ],
      "text/plain": [
       "[1] 407.8401"
      ]
     },
     "metadata": {},
     "output_type": "display_data"
    },
    {
     "name": "stdout",
     "output_type": "stream",
     "text": [
      "[1] R^2: \n"
     ]
    },
    {
     "data": {
      "text/html": [
       "0.125911490958178"
      ],
      "text/latex": [
       "0.125911490958178"
      ],
      "text/markdown": [
       "0.125911490958178"
      ],
      "text/plain": [
       "[1] 0.1259115"
      ]
     },
     "metadata": {},
     "output_type": "display_data"
    }
   ],
   "source": [
    "print(\"predictions on cleared data on test set:\", quote=F)\n",
    "pred4 <- predict(lasso.mod2, s= cv.lasso2$lambda.min, newx = as.matrix(aftertest))\n",
    "#length(pred)\n",
    "print(\"MSE: \", quote=F)\n",
    "mean((afterYtest - pred4)^2)\n",
    "rss <- sum((pred4 - afterYtest)^2)\n",
    "tss <- sum((afterYtest - mean(afterYtest))^2)\n",
    "rsq <- 1- rss/tss\n",
    "print(\"R^2: \", quote=F)\n",
    "rsq"
   ]
  },
  {
   "cell_type": "markdown",
   "metadata": {},
   "source": [
    "Better ! both errors are closer!"
   ]
  },
  {
   "cell_type": "code",
   "execution_count": 305,
   "metadata": {},
   "outputs": [
    {
     "data": {
      "image/png": "[encoded data removed]",
      "text/plain": [
       "Plot with title \"Lasso regularization\""
      ]
     },
     "metadata": {
      "image/png": {
       "height": 420,
       "width": 420
      }
     },
     "output_type": "display_data"
    }
   ],
   "source": [
    "set.seed(13)\n",
    "library(glmnet)\n",
    "x1 <- as.matrix(reduced_data)\n",
    "y1 <- data.response\n",
    "lasso.mod3 <- glmnet(x1, y1, alpha = 1, lambda = 10^seq(2, -3, length = 1000))\n",
    "plot(lasso.mod3, \"lambda\", xlab = parse(text = \"Log(lambda)\"), main = \"Lasso regularization\")\n",
    "labels3 = names(lasso.mod3$beta[,1]) # extract labels\n",
    "legend('topright', legend=labels3, col=1:length(labels3), lty=1) # show legend with labels"
   ]
  },
  {
   "cell_type": "code",
   "execution_count": 306,
   "metadata": {},
   "outputs": [
    {
     "data": {
      "text/html": [
       "0.675052037769609"
      ],
      "text/latex": [
       "0.675052037769609"
      ],
      "text/markdown": [
       "0.675052037769609"
      ],
      "text/plain": [
       "[1] 0.675052"
      ]
     },
     "metadata": {},
     "output_type": "display_data"
    },
    {
     "data": {
      "image/png": "[encoded data removed]",
      "text/plain": [
       "plot without title"
      ]
     },
     "metadata": {
      "image/png": {
       "height": 420,
       "width": 420
      }
     },
     "output_type": "display_data"
    }
   ],
   "source": [
    "set.seed(13)\n",
    "cv.lasso3 <- cv.glmnet(x1, y1, alpha = 1, nfold = 10)\n",
    "plot(cv.lasso3)\n",
    "#when lambda is set to give lowest CV error\n",
    "cv.lasso3$lambda.min\n",
    "best.lasso3 <- glmnet(x1, y1, alpha = 1, lambda = cv.lasso3$lambda.min)"
   ]
  },
  {
   "cell_type": "markdown",
   "metadata": {},
   "source": [
    "You can find our predictions on the folder \"predictions\" on git in a file named \"FinalLasso.csv\"."
   ]
  },
  {
   "cell_type": "markdown",
   "metadata": {},
   "source": [
    "#### Final Prediction for Lasso Model on the whole reduced data:"
   ]
  },
  {
   "cell_type": "code",
   "execution_count": 307,
   "metadata": {},
   "outputs": [
    {
     "name": "stdout",
     "output_type": "stream",
     "text": [
      "[1] predictions on cleared data on test_data.csv:\n"
     ]
    },
    {
     "data": {
      "text/html": [
       "<table>\n",
       "<caption>A matrix: 68 × 1 of type dbl</caption>\n",
       "<thead>\n",
       "\t<tr><th scope=col>1</th></tr>\n",
       "</thead>\n",
       "<tbody>\n",
       "\t<tr><td>36.37552</td></tr>\n",
       "\t<tr><td>54.28116</td></tr>\n",
       "\t<tr><td>43.26633</td></tr>\n",
       "\t<tr><td>50.52819</td></tr>\n",
       "\t<tr><td>35.61405</td></tr>\n",
       "\t<tr><td>50.86418</td></tr>\n",
       "\t<tr><td>28.58838</td></tr>\n",
       "\t<tr><td>51.79851</td></tr>\n",
       "\t<tr><td>41.20692</td></tr>\n",
       "\t<tr><td>52.58529</td></tr>\n",
       "\t<tr><td>26.76850</td></tr>\n",
       "\t<tr><td>51.18083</td></tr>\n",
       "\t<tr><td>37.31912</td></tr>\n",
       "\t<tr><td>39.06432</td></tr>\n",
       "\t<tr><td>50.47692</td></tr>\n",
       "\t<tr><td>50.63648</td></tr>\n",
       "\t<tr><td>35.86661</td></tr>\n",
       "\t<tr><td>39.73289</td></tr>\n",
       "\t<tr><td>35.24086</td></tr>\n",
       "\t<tr><td>59.51814</td></tr>\n",
       "\t<tr><td>47.62499</td></tr>\n",
       "\t<tr><td>47.38259</td></tr>\n",
       "\t<tr><td>47.38283</td></tr>\n",
       "\t<tr><td>50.39411</td></tr>\n",
       "\t<tr><td>45.19977</td></tr>\n",
       "\t<tr><td>48.42874</td></tr>\n",
       "\t<tr><td>53.20152</td></tr>\n",
       "\t<tr><td>47.09842</td></tr>\n",
       "\t<tr><td>57.14354</td></tr>\n",
       "\t<tr><td>28.78428</td></tr>\n",
       "\t<tr><td>...</td></tr>\n",
       "\t<tr><td>39.964907</td></tr>\n",
       "\t<tr><td>33.095450</td></tr>\n",
       "\t<tr><td>49.327706</td></tr>\n",
       "\t<tr><td>60.428652</td></tr>\n",
       "\t<tr><td>49.023325</td></tr>\n",
       "\t<tr><td>47.827564</td></tr>\n",
       "\t<tr><td>53.840567</td></tr>\n",
       "\t<tr><td>43.732699</td></tr>\n",
       "\t<tr><td>40.290131</td></tr>\n",
       "\t<tr><td>42.889030</td></tr>\n",
       "\t<tr><td>26.655249</td></tr>\n",
       "\t<tr><td>46.725682</td></tr>\n",
       "\t<tr><td> 6.278941</td></tr>\n",
       "\t<tr><td>44.445545</td></tr>\n",
       "\t<tr><td>53.648898</td></tr>\n",
       "\t<tr><td>40.574700</td></tr>\n",
       "\t<tr><td>69.283481</td></tr>\n",
       "\t<tr><td>39.855273</td></tr>\n",
       "\t<tr><td>40.581466</td></tr>\n",
       "\t<tr><td>45.926848</td></tr>\n",
       "\t<tr><td>46.409409</td></tr>\n",
       "\t<tr><td>49.419889</td></tr>\n",
       "\t<tr><td>38.734036</td></tr>\n",
       "\t<tr><td>52.706223</td></tr>\n",
       "\t<tr><td>54.889457</td></tr>\n",
       "\t<tr><td>35.594509</td></tr>\n",
       "\t<tr><td>45.501661</td></tr>\n",
       "\t<tr><td>42.694674</td></tr>\n",
       "\t<tr><td>40.243903</td></tr>\n",
       "\t<tr><td>53.635670</td></tr>\n",
       "</tbody>\n",
       "</table>\n"
      ],
      "text/latex": [
       "A matrix: 68 × 1 of type dbl\n",
       "\\begin{tabular}{l}\n",
       " 1\\\\\n",
       "\\hline\n",
       "\t 36.37552\\\\\n",
       "\t 54.28116\\\\\n",
       "\t 43.26633\\\\\n",
       "\t 50.52819\\\\\n",
       "\t 35.61405\\\\\n",
       "\t 50.86418\\\\\n",
       "\t 28.58838\\\\\n",
       "\t 51.79851\\\\\n",
       "\t 41.20692\\\\\n",
       "\t 52.58529\\\\\n",
       "\t 26.76850\\\\\n",
       "\t 51.18083\\\\\n",
       "\t 37.31912\\\\\n",
       "\t 39.06432\\\\\n",
       "\t 50.47692\\\\\n",
       "\t 50.63648\\\\\n",
       "\t 35.86661\\\\\n",
       "\t 39.73289\\\\\n",
       "\t 35.24086\\\\\n",
       "\t 59.51814\\\\\n",
       "\t 47.62499\\\\\n",
       "\t 47.38259\\\\\n",
       "\t 47.38283\\\\\n",
       "\t 50.39411\\\\\n",
       "\t 45.19977\\\\\n",
       "\t 48.42874\\\\\n",
       "\t 53.20152\\\\\n",
       "\t 47.09842\\\\\n",
       "\t 57.14354\\\\\n",
       "\t 28.78428\\\\\n",
       "\t ...\\\\\n",
       "\t 39.964907\\\\\n",
       "\t 33.095450\\\\\n",
       "\t 49.327706\\\\\n",
       "\t 60.428652\\\\\n",
       "\t 49.023325\\\\\n",
       "\t 47.827564\\\\\n",
       "\t 53.840567\\\\\n",
       "\t 43.732699\\\\\n",
       "\t 40.290131\\\\\n",
       "\t 42.889030\\\\\n",
       "\t 26.655249\\\\\n",
       "\t 46.725682\\\\\n",
       "\t  6.278941\\\\\n",
       "\t 44.445545\\\\\n",
       "\t 53.648898\\\\\n",
       "\t 40.574700\\\\\n",
       "\t 69.283481\\\\\n",
       "\t 39.855273\\\\\n",
       "\t 40.581466\\\\\n",
       "\t 45.926848\\\\\n",
       "\t 46.409409\\\\\n",
       "\t 49.419889\\\\\n",
       "\t 38.734036\\\\\n",
       "\t 52.706223\\\\\n",
       "\t 54.889457\\\\\n",
       "\t 35.594509\\\\\n",
       "\t 45.501661\\\\\n",
       "\t 42.694674\\\\\n",
       "\t 40.243903\\\\\n",
       "\t 53.635670\\\\\n",
       "\\end{tabular}\n"
      ],
      "text/markdown": [
       "\n",
       "A matrix: 68 × 1 of type dbl\n",
       "\n",
       "| 1 |\n",
       "|---|\n",
       "| 36.37552 |\n",
       "| 54.28116 |\n",
       "| 43.26633 |\n",
       "| 50.52819 |\n",
       "| 35.61405 |\n",
       "| 50.86418 |\n",
       "| 28.58838 |\n",
       "| 51.79851 |\n",
       "| 41.20692 |\n",
       "| 52.58529 |\n",
       "| 26.76850 |\n",
       "| 51.18083 |\n",
       "| 37.31912 |\n",
       "| 39.06432 |\n",
       "| 50.47692 |\n",
       "| 50.63648 |\n",
       "| 35.86661 |\n",
       "| 39.73289 |\n",
       "| 35.24086 |\n",
       "| 59.51814 |\n",
       "| 47.62499 |\n",
       "| 47.38259 |\n",
       "| 47.38283 |\n",
       "| 50.39411 |\n",
       "| 45.19977 |\n",
       "| 48.42874 |\n",
       "| 53.20152 |\n",
       "| 47.09842 |\n",
       "| 57.14354 |\n",
       "| 28.78428 |\n",
       "| ... |\n",
       "| 39.964907 |\n",
       "| 33.095450 |\n",
       "| 49.327706 |\n",
       "| 60.428652 |\n",
       "| 49.023325 |\n",
       "| 47.827564 |\n",
       "| 53.840567 |\n",
       "| 43.732699 |\n",
       "| 40.290131 |\n",
       "| 42.889030 |\n",
       "| 26.655249 |\n",
       "| 46.725682 |\n",
       "|  6.278941 |\n",
       "| 44.445545 |\n",
       "| 53.648898 |\n",
       "| 40.574700 |\n",
       "| 69.283481 |\n",
       "| 39.855273 |\n",
       "| 40.581466 |\n",
       "| 45.926848 |\n",
       "| 46.409409 |\n",
       "| 49.419889 |\n",
       "| 38.734036 |\n",
       "| 52.706223 |\n",
       "| 54.889457 |\n",
       "| 35.594509 |\n",
       "| 45.501661 |\n",
       "| 42.694674 |\n",
       "| 40.243903 |\n",
       "| 53.635670 |\n",
       "\n"
      ],
      "text/plain": [
       "      1        \n",
       " [1,] 36.37552 \n",
       " [2,] 54.28116 \n",
       " [3,] 43.26633 \n",
       " [4,] 50.52819 \n",
       " [5,] 35.61405 \n",
       " [6,] 50.86418 \n",
       " [7,] 28.58838 \n",
       " [8,] 51.79851 \n",
       " [9,] 41.20692 \n",
       "[10,] 52.58529 \n",
       "[11,] 26.76850 \n",
       "[12,] 51.18083 \n",
       "[13,] 37.31912 \n",
       "[14,] 39.06432 \n",
       "[15,] 50.47692 \n",
       "[16,] 50.63648 \n",
       "[17,] 35.86661 \n",
       "[18,] 39.73289 \n",
       "[19,] 35.24086 \n",
       "[20,] 59.51814 \n",
       "[21,] 47.62499 \n",
       "[22,] 47.38259 \n",
       "[23,] 47.38283 \n",
       "[24,] 50.39411 \n",
       "[25,] 45.19977 \n",
       "[26,] 48.42874 \n",
       "[27,] 53.20152 \n",
       "[28,] 47.09842 \n",
       "[29,] 57.14354 \n",
       "[30,] 28.78428 \n",
       "[31,] ...      \n",
       "[32,] 39.964907\n",
       "[33,] 33.095450\n",
       "[34,] 49.327706\n",
       "[35,] 60.428652\n",
       "[36,] 49.023325\n",
       "[37,] 47.827564\n",
       "[38,] 53.840567\n",
       "[39,] 43.732699\n",
       "[40,] 40.290131\n",
       "[41,] 42.889030\n",
       "[42,] 26.655249\n",
       "[43,] 46.725682\n",
       "[44,]  6.278941\n",
       "[45,] 44.445545\n",
       "[46,] 53.648898\n",
       "[47,] 40.574700\n",
       "[48,] 69.283481\n",
       "[49,] 39.855273\n",
       "[50,] 40.581466\n",
       "[51,] 45.926848\n",
       "[52,] 46.409409\n",
       "[53,] 49.419889\n",
       "[54,] 38.734036\n",
       "[55,] 52.706223\n",
       "[56,] 54.889457\n",
       "[57,] 35.594509\n",
       "[58,] 45.501661\n",
       "[59,] 42.694674\n",
       "[60,] 40.243903\n",
       "[61,] 53.635670"
      ]
     },
     "metadata": {},
     "output_type": "display_data"
    }
   ],
   "source": [
    "print(\"predictions on cleared data on test_data.csv:\", quote=F)\n",
    "pred_lasso <- predict(lasso.mod3, s= cv.lasso3$lambda.min, newx = as.matrix(testset))\n",
    "write.csv(data.frame(Id = 1:length(pred_lasso), VALENCE.PLEASANTNESS = pred_lasso), 'FinalLasso.csv', row.names = F)\n",
    "pred_lasso"
   ]
  }
 ],
 "metadata": {
  "kernelspec": {
   "display_name": "R",
   "language": "R",
   "name": "ir"
  },
  "language_info": {
   "codemirror_mode": "r",
   "file_extension": ".r",
   "mimetype": "text/x-r-source",
   "name": "R",
   "pygments_lexer": "r",
   "version": "3.6.1"
  }
 },
 "nbformat": 4,
 "nbformat_minor": 4
}
