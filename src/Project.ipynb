{
 "cells": [
  {
   "cell_type": "markdown",
   "metadata": {},
   "source": [
    "# Exploration of the data"
   ]
  },
  {
   "cell_type": "code",
   "execution_count": 28,
   "metadata": {},
   "outputs": [
    {
     "name": "stdout",
     "output_type": "stream",
     "text": [
      "'data.frame':\t708 obs. of  4872 variables:\n",
      " $ Intensity             : Factor w/ 2 levels \"high\",\"low\": 2 1 1 1 2 1 2 2 2 2 ...\n",
      " $ VALENCE.PLEASANTNESS  : int  45 49 56 7 51 21 56 52 53 1 ...\n",
      " $ SWEETORSOUR           : logi  FALSE TRUE TRUE FALSE FALSE FALSE ...\n",
      " $ complexity.from.pubmed: num  302 72.6 259 56.6 84.7 160 116 25 355 68.4 ...\n",
      " $ MW                    : num  208.3 122.2 242.3 88.1 136.2 ...\n",
      " $ AMW                   : num  5.95 6.43 7.57 6.29 6.19 ...\n",
      " $ Sv                    : num  19.7 11.35 20.83 7.54 12.88 ...\n",
      " $ Se                    : num  34.5 18.7 32.2 14.2 21.6 ...\n",
      " $ Sp                    : num  21.52 12.26 21.69 7.96 14.02 ...\n",
      " $ Si                    : num  39.6 21.3 35.5 16.1 24.7 ...\n",
      " $ Mv                    : num  0.563 0.597 0.651 0.538 0.585 0.588 0.667 0.49 0.609 0.619 ...\n",
      " $ Me                    : num  0.985 0.987 1.005 1.014 0.983 ...\n",
      " $ Mp                    : num  0.615 0.645 0.678 0.568 0.637 0.633 0.707 0.571 0.618 0.703 ...\n",
      " $ Mi                    : num  1.13 1.12 1.11 1.15 1.12 ...\n",
      " $ nAT                   : int  35 19 32 14 22 30 23 26 35 16 ...\n",
      " $ nSK                   : int  15 9 18 6 10 14 13 8 19 8 ...\n",
      " $ nBT                   : int  36 19 33 13 22 30 24 25 35 16 ...\n",
      " $ nBO                   : int  16 9 19 5 10 14 14 7 19 8 ...\n",
      " $ nBM                   : int  2 6 13 1 6 7 12 0 10 0 ...\n",
      " $ SCBO                  : num  18 12 26 6 13 18 20 7 26 8 ...\n",
      " $ RBN                   : int  4 1 5 1 2 6 2 5 4 0 ...\n",
      " $ RBF                   : num  0.111 0.053 0.152 0.077 0.091 0.2 0.083 0.2 0.114 0 ...\n",
      " $ nDB                   : int  2 0 1 1 0 1 0 0 4 0 ...\n",
      " $ nTB                   : int  0 0 0 0 0 0 0 0 0 0 ...\n",
      " $ nAB                   : int  0 6 12 0 6 6 12 0 6 0 ...\n",
      " $ nH                    : int  20 10 14 8 12 16 10 18 16 8 ...\n",
      " $ nC                    : int  13 8 15 4 9 12 12 8 12 4 ...\n",
      " $ nN                    : int  0 0 0 0 0 0 0 0 2 0 ...\n",
      " $ nO                    : int  2 1 3 2 1 2 1 0 5 2 ...\n",
      " $ nP                    : int  0 0 0 0 0 0 0 0 0 0 ...\n",
      " $ nS                    : int  0 0 0 0 0 0 0 0 0 2 ...\n",
      " $ nF                    : int  0 0 0 0 0 0 0 0 0 0 ...\n",
      " $ nCL                   : int  0 0 0 0 0 0 0 0 0 0 ...\n",
      " $ nBR                   : int  0 0 0 0 0 0 0 0 0 0 ...\n",
      " $ nI                    : int  0 0 0 0 0 0 0 0 0 0 ...\n",
      " $ nB                    : int  0 0 0 0 0 0 0 0 0 0 ...\n",
      " $ nHM                   : int  0 0 0 0 0 0 0 0 0 2 ...\n",
      " $ nHet                  : int  2 1 3 2 1 2 1 0 7 4 ...\n",
      " $ nX                    : int  0 0 0 0 0 0 0 0 0 0 ...\n",
      " $ H.                    : num  57.1 52.6 43.8 57.1 54.5 53.3 43.5 69.2 45.7 50 ...\n",
      " $ C.                    : num  37.1 42.1 46.9 28.6 40.9 40 52.2 30.8 34.3 25 ...\n",
      " $ N.                    : num  0 0 0 0 0 0 0 0 5.7 0 ...\n",
      " $ O.                    : num  5.7 5.3 9.4 14.3 4.5 6.7 4.3 0 14.3 12.5 ...\n",
      " $ X.                    : int  0 0 0 0 0 0 0 0 0 0 ...\n",
      " $ nCsp3                 : int  10 2 2 3 3 5 0 8 6 4 ...\n",
      " $ nCsp2                 : int  3 6 13 1 6 7 12 0 6 0 ...\n",
      " $ nCsp                  : int  0 0 0 0 0 0 0 0 0 0 ...\n",
      " $ nCIC                  : int  2 1 2 0 1 1 2 0 1 1 ...\n",
      " $ nCIR                  : int  3 1 2 0 1 1 2 0 1 1 ...\n",
      " $ TRS                   : int  10 6 12 0 6 6 12 0 6 6 ...\n",
      " $ Rperim                : int  6 6 12 0 6 6 12 0 6 6 ...\n",
      " $ Rbrid                 : int  2 0 0 0 0 0 0 0 0 0 ...\n",
      " $ MCD                   : num  0.467 0.667 0.667 0 0.6 0.429 0.923 0 0.316 0.75 ...\n",
      " $ RFD                   : num  0.571 0 0 0 0 0 0 0 0 0 ...\n",
      " $ RCI                   : num  1.43 1 1 0 1 ...\n",
      " $ NRS                   : int  1 1 2 0 1 1 2 0 1 1 ...\n",
      " $ NNRS                  : num  0.5 1 1 0 1 1 1 0 1 1 ...\n",
      " $ nR03                  : int  0 0 0 0 0 0 0 0 0 0 ...\n",
      " $ nR04                  : int  1 0 0 0 0 0 0 0 0 0 ...\n",
      " $ nR05                  : int  0 0 0 0 0 0 0 0 0 0 ...\n",
      " $ nR06                  : int  2 1 2 0 1 1 2 0 1 1 ...\n",
      " $ nR07                  : int  0 0 0 0 0 0 0 0 0 0 ...\n",
      " $ nR08                  : int  0 0 0 0 0 0 0 0 0 0 ...\n",
      " $ nR09                  : int  0 0 0 0 0 0 0 0 0 0 ...\n",
      " $ nR10                  : int  0 0 0 0 0 0 0 0 0 0 ...\n",
      " $ nR11                  : int  0 0 0 0 0 0 0 0 0 0 ...\n",
      " $ nR12                  : int  0 0 0 0 0 0 0 0 0 0 ...\n",
      " $ nBnz                  : int  0 1 2 0 1 1 2 0 1 0 ...\n",
      " $ ARR                   : num  0 0.667 0.632 0 0.6 0.429 0.857 0 0.316 0 ...\n",
      " $ D.Dtr03               : num  0 0 0 0 0 0 0 0 0 0 ...\n",
      " $ D.Dtr04               : num  29.1 0 0 0 0 ...\n",
      " $ D.Dtr05               : num  0 0 0 0 0 0 0 0 0 0 ...\n",
      " $ D.Dtr06               : num  92.8 26.3 125.3 0 31.1 ...\n",
      " $ D.Dtr07               : num  0 0 0 0 0 0 0 0 0 0 ...\n",
      " $ D.Dtr08               : int  0 0 0 0 0 0 0 0 0 0 ...\n",
      " $ D.Dtr09               : num  0 0 0 0 0 0 0 0 0 0 ...\n",
      " $ D.Dtr10               : num  0 0 0 0 0 0 0 0 0 0 ...\n",
      " $ D.Dtr11               : int  0 0 0 0 0 0 0 0 0 0 ...\n",
      " $ D.Dtr12               : int  0 0 0 0 0 0 0 0 0 0 ...\n",
      " $ ZM1                   : int  80 40 86 22 44 60 62 26 96 36 ...\n",
      " $ ZM1V                  : int  166 106 258 88 100 166 158 26 340 148 ...\n",
      " $ ZM1Kup                : num  189 118 293 108 108 ...\n",
      " $ ZM1Mad                : num  85.9 42.9 95.4 26.4 46.1 ...\n",
      " $ ZM1Per                : num  236 151 368 116 142 ...\n",
      " $ ZM1MulPer             : num  177.6 112.4 275.2 99.3 107.2 ...\n",
      " $ ZM2                   : int  95 43 96 21 48 63 68 24 113 38 ...\n",
      " $ ZM2V                  : int  156 100 245 62 95 146 168 24 310 102 ...\n",
      " $ ZM2Kup                : num  165.1 104.5 260.5 68.7 97.3 ...\n",
      " $ ZM2Mad                : num  99 45.7 104.7 24.3 50 ...\n",
      " $ ZM2Per                : num  241.4 151.4 375.7 92.5 143.4 ...\n",
      " $ ZM2MulPer             : num  167 109.5 262.2 68.4 100.5 ...\n",
      " $ ON0                   : num  8.58 5.17 9.33 4.67 5.67 ...\n",
      " $ ON0V                  : num  7.08 4 6 2.95 3.95 ...\n",
      " $ ON1                   : num  3.19 2.17 4.19 1.44 2.44 ...\n",
      " $ ON1V                  : num  2.292 1.014 1.757 0.842 1.428 ...\n",
      " $ Qindex                : int  13 5 10 2 5 5 8 0 13 5 ...\n",
      " $ BBI                   : int  24 11 24 6 12 16 17 6 29 10 ...\n",
      " $ DBI                   : num  3.24 1.41 2.74 2.45 2.12 ...\n",
      " $ SNar                  : num  9.94 5.66 12.71 2.2 6.36 ...\n",
      "  [list output truncated]\n"
     ]
    },
    {
     "data": {
      "text/html": [
       "<ol class=list-inline>\n",
       "\t<li>708</li>\n",
       "\t<li>4872</li>\n",
       "</ol>\n"
      ],
      "text/latex": [
       "\\begin{enumerate*}\n",
       "\\item 708\n",
       "\\item 4872\n",
       "\\end{enumerate*}\n"
      ],
      "text/markdown": [
       "1. 708\n",
       "2. 4872\n",
       "\n",
       "\n"
      ],
      "text/plain": [
       "[1]  708 4872"
      ]
     },
     "metadata": {},
     "output_type": "display_data"
    },
    {
     "data": {
      "text/html": [
       "<table>\n",
       "<thead><tr><th></th><th scope=col>Intensity</th><th scope=col>VALENCE.PLEASANTNESS</th><th scope=col>SWEETORSOUR</th><th scope=col>complexity.from.pubmed</th><th scope=col>MW</th><th scope=col>AMW</th><th scope=col>Sv</th><th scope=col>Se</th><th scope=col>Sp</th><th scope=col>Si</th><th scope=col>...</th><th scope=col>Psychotic.80</th><th scope=col>Psychotic.50</th><th scope=col>Hypertens.80</th><th scope=col>Hypertens.50</th><th scope=col>Hypnotic.80</th><th scope=col>Hypnotic.50</th><th scope=col>Neoplastic.80</th><th scope=col>Neoplastic.50</th><th scope=col>Infective.80</th><th scope=col>Infective.50</th></tr></thead>\n",
       "<tbody>\n",
       "\t<tr><th scope=row>30</th><td>low   </td><td>55    </td><td> TRUE </td><td>153.0 </td><td>214.39</td><td>5.229 </td><td>21.278</td><td>40.141</td><td>23.807</td><td>46.816</td><td>...   </td><td>0     </td><td>0     </td><td>0     </td><td>0     </td><td>0     </td><td>0     </td><td>1     </td><td>0     </td><td>1     </td><td>0     </td></tr>\n",
       "\t<tr><th scope=row>31</th><td>high  </td><td>37    </td><td>FALSE </td><td> 23.1 </td><td> 88.17</td><td>4.898 </td><td> 8.876</td><td>17.629</td><td>10.023</td><td>20.701</td><td>...   </td><td>0     </td><td>0     </td><td>0     </td><td>0     </td><td>0     </td><td>0     </td><td>0     </td><td>0     </td><td>0     </td><td>0     </td></tr>\n",
       "\t<tr><th scope=row>32</th><td>high  </td><td> 3    </td><td>FALSE </td><td> 97.1 </td><td>128.19</td><td>6.104 </td><td>11.590</td><td>20.956</td><td>12.477</td><td>23.910</td><td>...   </td><td>0     </td><td>0     </td><td>0     </td><td>0     </td><td>0     </td><td>0     </td><td>0     </td><td>0     </td><td>0     </td><td>0     </td></tr>\n",
       "\t<tr><th scope=row>33</th><td>low   </td><td>52    </td><td> TRUE </td><td> 43.8 </td><td>130.26</td><td>4.824 </td><td>13.456</td><td>26.280</td><td>15.307</td><td>30.946</td><td>...   </td><td>0     </td><td>0     </td><td>0     </td><td>0     </td><td>0     </td><td>0     </td><td>0     </td><td>0     </td><td>0     </td><td>0     </td></tr>\n",
       "\t<tr><th scope=row>34</th><td>low   </td><td>40    </td><td>FALSE </td><td> 59.4 </td><td>114.21</td><td>5.191 </td><td>11.402</td><td>21.513</td><td>12.784</td><td>25.116</td><td>...   </td><td>0     </td><td>0     </td><td>0     </td><td>0     </td><td>0     </td><td>0     </td><td>0     </td><td>0     </td><td>0     </td><td>0     </td></tr>\n",
       "\t<tr><th scope=row>35</th><td>low   </td><td>71    </td><td> TRUE </td><td> 49.2 </td><td>114.23</td><td>6.719 </td><td> 9.821</td><td>16.494</td><td>11.455</td><td>18.996</td><td>...   </td><td>0     </td><td>0     </td><td>0     </td><td>0     </td><td>0     </td><td>0     </td><td>0     </td><td>0     </td><td>0     </td><td>0     </td></tr>\n",
       "\t<tr><th scope=row>36</th><td>high  </td><td>64    </td><td> TRUE </td><td>144.0 </td><td>163.26</td><td>8.163 </td><td>13.316</td><td>19.713</td><td>14.699</td><td>22.079</td><td>...   </td><td>0     </td><td>0     </td><td>0     </td><td>0     </td><td>1     </td><td>0     </td><td>0     </td><td>0     </td><td>1     </td><td>0     </td></tr>\n",
       "\t<tr><th scope=row>37</th><td>high  </td><td>11    </td><td>FALSE </td><td>197.0 </td><td>170.22</td><td>7.401 </td><td>15.349</td><td>22.745</td><td>16.261</td><td>25.285</td><td>...   </td><td>0     </td><td>0     </td><td>0     </td><td>0     </td><td>1     </td><td>0     </td><td>0     </td><td>0     </td><td>1     </td><td>0     </td></tr>\n",
       "\t<tr><th scope=row>38</th><td>low   </td><td>49    </td><td> TRUE </td><td> 32.9 </td><td> 86.15</td><td>5.384 </td><td> 8.349</td><td>15.745</td><td> 9.262</td><td>18.285</td><td>...   </td><td>0     </td><td>0     </td><td>0     </td><td>0     </td><td>0     </td><td>0     </td><td>0     </td><td>0     </td><td>0     </td><td>0     </td></tr>\n",
       "\t<tr><th scope=row>39</th><td>high  </td><td>56    </td><td> TRUE </td><td> 99.8 </td><td>134.20</td><td>6.710 </td><td>12.150</td><td>19.738</td><td>13.057</td><td>22.657</td><td>...   </td><td>0     </td><td>0     </td><td>0     </td><td>0     </td><td>0     </td><td>0     </td><td>0     </td><td>0     </td><td>0     </td><td>0     </td></tr>\n",
       "\t<tr><th scope=row>40</th><td>high  </td><td> 5    </td><td>FALSE </td><td>193.0 </td><td>142.17</td><td>7.109 </td><td>11.778</td><td>20.400</td><td>12.170</td><td>22.704</td><td>...   </td><td>0     </td><td>0     </td><td>0     </td><td>0     </td><td>0     </td><td>0     </td><td>0     </td><td>0     </td><td>0     </td><td>0     </td></tr>\n",
       "</tbody>\n",
       "</table>\n"
      ],
      "text/latex": [
       "\\begin{tabular}{r|llllllllllllllllllllllllllllllllllllllllllllllllllllllllllllllllllllllllllllllllllllllllllllllllllllllllllllllllllllllllllllllllllllllllllllllllllllllllllllllllllllllllllllllllllllllllllllllllllllllllllllllllllllllllllllllllllllllllllllllllllllllllllllllllllllllllllllllllllllllllllllllllllllllllllllllllllllllllllllllllllllllllllllllllllllllllllllllllllllllllllllllllllllllllllllllllllllllllllllllllllllllllllllllllllllllllllllllllllllllllllllllllllllllllllllllllllllllllllllllllllllllllllllllllllllllllllllllllllllllllllllllllllllllllllllllllllllllllllllllllllllllllllllllllllllllllllllllllllllllllllllllllllllllllllllllllllllllllllllllllllllllllllllllllllllllllllllllllllllllllllllllllllllllllllllllllllllllllllllllllllllllllllllllllllllllllllllllllllllllllllllllllllllllllllllllllllllllllllllllllllllllllllllllllllllllllllllllllllllllllllllllllllllllllllllllllllllllllllllllllllllllllllllllllllllllllllllllllllllllllllllllllllllllllllllllllllllllllllllllllllllllllllllllllllllllllllllllllllllllllllllllllllllllllllllllllllllllllllllllllllllllllllllllllllllllllllllllllllllllllllllllllllllllllllllllllllllllllllllllllllllllllllllllllllllllllllllllllllllllllllllllllllllllllllllllllllllllllllllllllllllllllllllllllllllllllllllllllllllllllllllllllllllllllllllllllllllllllllllllllllllllllllllllllllllllllllllllllllllllllllllllllllllllllllllllllllllllllllllllllllllllllllllllllllllllllllllllllllllllllllllllllllllllllllllllllllllllllllllllllllllllllllllllllllllllllllllllllllllllllllllllllllllllllllllllllllllllllllllllllllllllllllllllllllllllllllllllllllllllllllllllllllllllllllllllllllllllllllllllllllllllllllllllllllllllllllllllllllllllllllllllllllllllllllllllllllllllllllllllllllllllllllllllllllllllllllllllllllllllllllllllllllllllllllllllllllllllllllllllllllllllllllllllllllllllllllllllllllllllllllllllllllllllllllllllllllllllllllllllllllllllllllllllllllllllllllllllllllllllllllllllllllllllllllllllllllllllllllllllllllllllllllllllllllllllllllllllllllllllllllllllllllllllllllllllllllllllllllllllllllllllllllllllllllllllllllllllllllllllllllllllllllllllllllllllllllllllllllllllllllllllllllllllllllllllllllllllllllllllllllllllllllllllllllllllllllllllllllllllllllllllllllllllllllllllllllllllllllllllllllllllllllllllllllllllllllllllllllllllllllllllllllllllllllllllllllllllllllllllllllllllllllllllllllllllllllllllllllllllllllllllllllllllllllllllllllllllllllllllllllllllllllllllllllllllllllllllllllllllllllllllllllllllllllllllllllllllllllllllllllllllllllllllllllllllllllllllllllllllllllllllllllllllllllllllllllllllllllllllllllllllllllllllllllllllllllllllllllllllllllllllllllllllllllllllllllllllllllllllllllllllllllllllllllllllllllllllllllllllllllllllllllllllllllllllllllllllllllllllllllllllllllllllllllllllllllllllllllllllllllllllllllllllllllllllllllllllllllllllllllllllllllllllllllllllllllllllllllllllllllllllllllllllllllllllllllllllllllllllllllllllllllllllllllllllllllllllllllllllllllllllllllllllllllllllllllllllllllllllllllllllllllllllllllllllllllllllllllllllllllllllllllllllllllllllllllllllllllllllllllllllllllllllllllllllllllllllllllllllllllllllllllllllllllllllllllllllllllllllllllllllllllllllllllllllllllllllllllllllllllllllllllllllllllllllllllllllllllllllllllllllllllllllllllllllllllllllllllllllllllllllllllllllllllllllllllllllllllllllllllllllllllllllllllllllllllllllllllllllllllllllllllllllllllllllllllllllllllllllllllllllllllllllllllllllllllllllllllllllllllllllllllllllllllllllllllllllllllllllllllllllllllllllllllllllllllllllllllllllllllllllllllllllllllllllllllllllllllllllllllllllllllllllllllllllllllllllllllllllllllllllllllllllllllllllllllllllllllllllllllllllllllllllllllllllllllllllllllllllllllllllllllllllllllllllllllllllllllllllllllllllllllllllllllllllllllllllllllllllllllllllllllllllllllllllllllllllllllllllllllllllllllllllllllllllllllllllllllllllllllllllllllllllllllllllllllllllllllllllllllllllllllllllllllllllllllllllllllllllllllllllllllllllllllllllllllllllllllllllllllllllllllllllllllllllllllllllllllllllllllllllllllllllllllllllllllllllllllllllllllllllllllllllllllllllllllllllllllllllllllllllllllllllllllllllllllllllllllllllllllllllllllllllllllllllllllllllllllllllllllllllllllllllllllllllllllllllllllllllllllllllllllllllllllllllllllllllllllllllllllllllllllllllllllllllllllllllllllllllllllllllllllllllllllllllllllllllllllllllllllllllllllllllllllllllllllllllllllllllllllllllllllllllllllllllllllllllllllllllllllllllllllllllllllllllllllllllllllllllllllllllllllllllllllllllllllllllllllllllllllllllllllllllllllllllllllllllllllllllllllllllllllllllllllllllllllllllllllllllllllllllllllllllllllllllllllllllllllllllllllllllllllllllllllllllllllllllllllllllllllllllllllllllllllllllllllllllllllllllllllllllllllllllllllllllllllllllllllllllllllllllllllllllllllllllllllllllllllllllllllllllllllllllllllllllllllllllllllllllllllllllllllllllllllllllllllllllllllllllllllllllllllllllllllllllllllllllllllllllllllllllllllllllllllllllllllllllllllllllllllllllllllllllllllllllllllllllll}\n",
       "  & Intensity & VALENCE.PLEASANTNESS & SWEETORSOUR & complexity.from.pubmed & MW & AMW & Sv & Se & Sp & Si & ... & Psychotic.80 & Psychotic.50 & Hypertens.80 & Hypertens.50 & Hypnotic.80 & Hypnotic.50 & Neoplastic.80 & Neoplastic.50 & Infective.80 & Infective.50\\\\\n",
       "\\hline\n",
       "\t30 & low    & 55     &  TRUE  & 153.0  & 214.39 & 5.229  & 21.278 & 40.141 & 23.807 & 46.816 & ...    & 0      & 0      & 0      & 0      & 0      & 0      & 1      & 0      & 1      & 0     \\\\\n",
       "\t31 & high   & 37     & FALSE  &  23.1  &  88.17 & 4.898  &  8.876 & 17.629 & 10.023 & 20.701 & ...    & 0      & 0      & 0      & 0      & 0      & 0      & 0      & 0      & 0      & 0     \\\\\n",
       "\t32 & high   &  3     & FALSE  &  97.1  & 128.19 & 6.104  & 11.590 & 20.956 & 12.477 & 23.910 & ...    & 0      & 0      & 0      & 0      & 0      & 0      & 0      & 0      & 0      & 0     \\\\\n",
       "\t33 & low    & 52     &  TRUE  &  43.8  & 130.26 & 4.824  & 13.456 & 26.280 & 15.307 & 30.946 & ...    & 0      & 0      & 0      & 0      & 0      & 0      & 0      & 0      & 0      & 0     \\\\\n",
       "\t34 & low    & 40     & FALSE  &  59.4  & 114.21 & 5.191  & 11.402 & 21.513 & 12.784 & 25.116 & ...    & 0      & 0      & 0      & 0      & 0      & 0      & 0      & 0      & 0      & 0     \\\\\n",
       "\t35 & low    & 71     &  TRUE  &  49.2  & 114.23 & 6.719  &  9.821 & 16.494 & 11.455 & 18.996 & ...    & 0      & 0      & 0      & 0      & 0      & 0      & 0      & 0      & 0      & 0     \\\\\n",
       "\t36 & high   & 64     &  TRUE  & 144.0  & 163.26 & 8.163  & 13.316 & 19.713 & 14.699 & 22.079 & ...    & 0      & 0      & 0      & 0      & 1      & 0      & 0      & 0      & 1      & 0     \\\\\n",
       "\t37 & high   & 11     & FALSE  & 197.0  & 170.22 & 7.401  & 15.349 & 22.745 & 16.261 & 25.285 & ...    & 0      & 0      & 0      & 0      & 1      & 0      & 0      & 0      & 1      & 0     \\\\\n",
       "\t38 & low    & 49     &  TRUE  &  32.9  &  86.15 & 5.384  &  8.349 & 15.745 &  9.262 & 18.285 & ...    & 0      & 0      & 0      & 0      & 0      & 0      & 0      & 0      & 0      & 0     \\\\\n",
       "\t39 & high   & 56     &  TRUE  &  99.8  & 134.20 & 6.710  & 12.150 & 19.738 & 13.057 & 22.657 & ...    & 0      & 0      & 0      & 0      & 0      & 0      & 0      & 0      & 0      & 0     \\\\\n",
       "\t40 & high   &  5     & FALSE  & 193.0  & 142.17 & 7.109  & 11.778 & 20.400 & 12.170 & 22.704 & ...    & 0      & 0      & 0      & 0      & 0      & 0      & 0      & 0      & 0      & 0     \\\\\n",
       "\\end{tabular}\n"
      ],
      "text/markdown": [
       "\n",
       "| <!--/--> | Intensity | VALENCE.PLEASANTNESS | SWEETORSOUR | complexity.from.pubmed | MW | AMW | Sv | Se | Sp | Si | ... | Psychotic.80 | Psychotic.50 | Hypertens.80 | Hypertens.50 | Hypnotic.80 | Hypnotic.50 | Neoplastic.80 | Neoplastic.50 | Infective.80 | Infective.50 |\n",
       "|---|---|---|---|---|---|---|---|---|---|---|---|---|---|---|---|---|---|---|---|---|---|\n",
       "| 30 | low    | 55     |  TRUE  | 153.0  | 214.39 | 5.229  | 21.278 | 40.141 | 23.807 | 46.816 | ...    | 0      | 0      | 0      | 0      | 0      | 0      | 1      | 0      | 1      | 0      |\n",
       "| 31 | high   | 37     | FALSE  |  23.1  |  88.17 | 4.898  |  8.876 | 17.629 | 10.023 | 20.701 | ...    | 0      | 0      | 0      | 0      | 0      | 0      | 0      | 0      | 0      | 0      |\n",
       "| 32 | high   |  3     | FALSE  |  97.1  | 128.19 | 6.104  | 11.590 | 20.956 | 12.477 | 23.910 | ...    | 0      | 0      | 0      | 0      | 0      | 0      | 0      | 0      | 0      | 0      |\n",
       "| 33 | low    | 52     |  TRUE  |  43.8  | 130.26 | 4.824  | 13.456 | 26.280 | 15.307 | 30.946 | ...    | 0      | 0      | 0      | 0      | 0      | 0      | 0      | 0      | 0      | 0      |\n",
       "| 34 | low    | 40     | FALSE  |  59.4  | 114.21 | 5.191  | 11.402 | 21.513 | 12.784 | 25.116 | ...    | 0      | 0      | 0      | 0      | 0      | 0      | 0      | 0      | 0      | 0      |\n",
       "| 35 | low    | 71     |  TRUE  |  49.2  | 114.23 | 6.719  |  9.821 | 16.494 | 11.455 | 18.996 | ...    | 0      | 0      | 0      | 0      | 0      | 0      | 0      | 0      | 0      | 0      |\n",
       "| 36 | high   | 64     |  TRUE  | 144.0  | 163.26 | 8.163  | 13.316 | 19.713 | 14.699 | 22.079 | ...    | 0      | 0      | 0      | 0      | 1      | 0      | 0      | 0      | 1      | 0      |\n",
       "| 37 | high   | 11     | FALSE  | 197.0  | 170.22 | 7.401  | 15.349 | 22.745 | 16.261 | 25.285 | ...    | 0      | 0      | 0      | 0      | 1      | 0      | 0      | 0      | 1      | 0      |\n",
       "| 38 | low    | 49     |  TRUE  |  32.9  |  86.15 | 5.384  |  8.349 | 15.745 |  9.262 | 18.285 | ...    | 0      | 0      | 0      | 0      | 0      | 0      | 0      | 0      | 0      | 0      |\n",
       "| 39 | high   | 56     |  TRUE  |  99.8  | 134.20 | 6.710  | 12.150 | 19.738 | 13.057 | 22.657 | ...    | 0      | 0      | 0      | 0      | 0      | 0      | 0      | 0      | 0      | 0      |\n",
       "| 40 | high   |  5     | FALSE  | 193.0  | 142.17 | 7.109  | 11.778 | 20.400 | 12.170 | 22.704 | ...    | 0      | 0      | 0      | 0      | 0      | 0      | 0      | 0      | 0      | 0      |\n",
       "\n"
      ],
      "text/plain": [
       "   Intensity VALENCE.PLEASANTNESS SWEETORSOUR complexity.from.pubmed MW    \n",
       "30 low       55                    TRUE       153.0                  214.39\n",
       "31 high      37                   FALSE        23.1                   88.17\n",
       "32 high       3                   FALSE        97.1                  128.19\n",
       "33 low       52                    TRUE        43.8                  130.26\n",
       "34 low       40                   FALSE        59.4                  114.21\n",
       "35 low       71                    TRUE        49.2                  114.23\n",
       "36 high      64                    TRUE       144.0                  163.26\n",
       "37 high      11                   FALSE       197.0                  170.22\n",
       "38 low       49                    TRUE        32.9                   86.15\n",
       "39 high      56                    TRUE        99.8                  134.20\n",
       "40 high       5                   FALSE       193.0                  142.17\n",
       "   AMW   Sv     Se     Sp     Si     ... Psychotic.80 Psychotic.50 Hypertens.80\n",
       "30 5.229 21.278 40.141 23.807 46.816 ... 0            0            0           \n",
       "31 4.898  8.876 17.629 10.023 20.701 ... 0            0            0           \n",
       "32 6.104 11.590 20.956 12.477 23.910 ... 0            0            0           \n",
       "33 4.824 13.456 26.280 15.307 30.946 ... 0            0            0           \n",
       "34 5.191 11.402 21.513 12.784 25.116 ... 0            0            0           \n",
       "35 6.719  9.821 16.494 11.455 18.996 ... 0            0            0           \n",
       "36 8.163 13.316 19.713 14.699 22.079 ... 0            0            0           \n",
       "37 7.401 15.349 22.745 16.261 25.285 ... 0            0            0           \n",
       "38 5.384  8.349 15.745  9.262 18.285 ... 0            0            0           \n",
       "39 6.710 12.150 19.738 13.057 22.657 ... 0            0            0           \n",
       "40 7.109 11.778 20.400 12.170 22.704 ... 0            0            0           \n",
       "   Hypertens.50 Hypnotic.80 Hypnotic.50 Neoplastic.80 Neoplastic.50\n",
       "30 0            0           0           1             0            \n",
       "31 0            0           0           0             0            \n",
       "32 0            0           0           0             0            \n",
       "33 0            0           0           0             0            \n",
       "34 0            0           0           0             0            \n",
       "35 0            0           0           0             0            \n",
       "36 0            1           0           0             0            \n",
       "37 0            1           0           0             0            \n",
       "38 0            0           0           0             0            \n",
       "39 0            0           0           0             0            \n",
       "40 0            0           0           0             0            \n",
       "   Infective.80 Infective.50\n",
       "30 1            0           \n",
       "31 0            0           \n",
       "32 0            0           \n",
       "33 0            0           \n",
       "34 0            0           \n",
       "35 0            0           \n",
       "36 1            0           \n",
       "37 1            0           \n",
       "38 0            0           \n",
       "39 0            0           \n",
       "40 0            0           "
      ]
     },
     "metadata": {},
     "output_type": "display_data"
    },
    {
     "data": {
      "text/html": [
       "<table>\n",
       "<thead><tr><th scope=col>Intensity</th><th scope=col>VALENCE.PLEASANTNESS</th><th scope=col>SWEETORSOUR</th><th scope=col>complexity.from.pubmed</th><th scope=col>MW</th><th scope=col>AMW</th><th scope=col>Sv</th><th scope=col>Se</th><th scope=col>Sp</th><th scope=col>Si</th><th scope=col>...</th><th scope=col>Psychotic.80</th><th scope=col>Psychotic.50</th><th scope=col>Hypertens.80</th><th scope=col>Hypertens.50</th><th scope=col>Hypnotic.80</th><th scope=col>Hypnotic.50</th><th scope=col>Neoplastic.80</th><th scope=col>Neoplastic.50</th><th scope=col>Infective.80</th><th scope=col>Infective.50</th></tr></thead>\n",
       "<tbody>\n",
       "\t<tr><td>low   </td><td>45    </td><td>FALSE </td><td>302.0 </td><td>208.33</td><td>5.952 </td><td>19.698</td><td>34.491</td><td>21.523</td><td>39.571</td><td>...   </td><td>0     </td><td>0     </td><td>1     </td><td>0     </td><td>1     </td><td>0     </td><td>1     </td><td>0     </td><td>1     </td><td>0     </td></tr>\n",
       "\t<tr><td>high  </td><td>49    </td><td> TRUE </td><td> 72.6 </td><td>122.18</td><td>6.431 </td><td>11.349</td><td>18.745</td><td>12.261</td><td>21.285</td><td>...   </td><td>0     </td><td>0     </td><td>0     </td><td>0     </td><td>0     </td><td>0     </td><td>0     </td><td>0     </td><td>0     </td><td>0     </td></tr>\n",
       "\t<tr><td>high  </td><td>56    </td><td> TRUE </td><td>259.0 </td><td>242.29</td><td>7.572 </td><td>20.832</td><td>32.167</td><td>21.693</td><td>35.535</td><td>...   </td><td>0     </td><td>0     </td><td>1     </td><td>0     </td><td>1     </td><td>1     </td><td>1     </td><td>0     </td><td>1     </td><td>1     </td></tr>\n",
       "\t<tr><td>high  </td><td> 7    </td><td>FALSE </td><td> 56.6 </td><td> 88.12</td><td>6.294 </td><td> 7.537</td><td>14.189</td><td> 7.955</td><td>16.080</td><td>...   </td><td>0     </td><td>0     </td><td>0     </td><td>0     </td><td>0     </td><td>0     </td><td>0     </td><td>0     </td><td>0     </td><td>0     </td></tr>\n",
       "\t<tr><td>low   </td><td>51    </td><td>FALSE </td><td> 84.7 </td><td>136.21</td><td>6.191 </td><td>12.876</td><td>21.629</td><td>14.023</td><td>24.701</td><td>...   </td><td>0     </td><td>0     </td><td>0     </td><td>0     </td><td>0     </td><td>0     </td><td>0     </td><td>0     </td><td>0     </td><td>0     </td></tr>\n",
       "\t<tr><td>high  </td><td>21    </td><td>FALSE </td><td>160.0 </td><td>192.28</td><td>6.409 </td><td>17.644</td><td>29.723</td><td>19.000</td><td>33.740</td><td>...   </td><td>0     </td><td>0     </td><td>0     </td><td>0     </td><td>1     </td><td>0     </td><td>1     </td><td>0     </td><td>1     </td><td>0     </td></tr>\n",
       "</tbody>\n",
       "</table>\n"
      ],
      "text/latex": [
       "\\begin{tabular}{r|llllllllllllllllllllllllllllllllllllllllllllllllllllllllllllllllllllllllllllllllllllllllllllllllllllllllllllllllllllllllllllllllllllllllllllllllllllllllllllllllllllllllllllllllllllllllllllllllllllllllllllllllllllllllllllllllllllllllllllllllllllllllllllllllllllllllllllllllllllllllllllllllllllllllllllllllllllllllllllllllllllllllllllllllllllllllllllllllllllllllllllllllllllllllllllllllllllllllllllllllllllllllllllllllllllllllllllllllllllllllllllllllllllllllllllllllllllllllllllllllllllllllllllllllllllllllllllllllllllllllllllllllllllllllllllllllllllllllllllllllllllllllllllllllllllllllllllllllllllllllllllllllllllllllllllllllllllllllllllllllllllllllllllllllllllllllllllllllllllllllllllllllllllllllllllllllllllllllllllllllllllllllllllllllllllllllllllllllllllllllllllllllllllllllllllllllllllllllllllllllllllllllllllllllllllllllllllllllllllllllllllllllllllllllllllllllllllllllllllllllllllllllllllllllllllllllllllllllllllllllllllllllllllllllllllllllllllllllllllllllllllllllllllllllllllllllllllllllllllllllllllllllllllllllllllllllllllllllllllllllllllllllllllllllllllllllllllllllllllllllllllllllllllllllllllllllllllllllllllllllllllllllllllllllllllllllllllllllllllllllllllllllllllllllllllllllllllllllllllllllllllllllllllllllllllllllllllllllllllllllllllllllllllllllllllllllllllllllllllllllllllllllllllllllllllllllllllllllllllllllllllllllllllllllllllllllllllllllllllllllllllllllllllllllllllllllllllllllllllllllllllllllllllllllllllllllllllllllllllllllllllllllllllllllllllllllllllllllllllllllllllllllllllllllllllllllllllllllllllllllllllllllllllllllllllllllllllllllllllllllllllllllllllllllllllllllllllllllllllllllllllllllllllllllllllllllllllllllllllllllllllllllllllllllllllllllllllllllllllllllllllllllllllllllllllllllllllllllllllllllllllllllllllllllllllllllllllllllllllllllllllllllllllllllllllllllllllllllllllllllllllllllllllllllllllllllllllllllllllllllllllllllllllllllllllllllllllllllllllllllllllllllllllllllllllllllllllllllllllllllllllllllllllllllllllllllllllllllllllllllllllllllllllllllllllllllllllllllllllllllllllllllllllllllllllllllllllllllllllllllllllllllllllllllllllllllllllllllllllllllllllllllllllllllllllllllllllllllllllllllllllllllllllllllllllllllllllllllllllllllllllllllllllllllllllllllllllllllllllllllllllllllllllllllllllllllllllllllllllllllllllllllllllllllllllllllllllllllllllllllllllllllllllllllllllllllllllllllllllllllllllllllllllllllllllllllllllllllllllllllllllllllllllllllllllllllllllllllllllllllllllllllllllllllllllllllllllllllllllllllllllllllllllllllllllllllllllllllllllllllllllllllllllllllllllllllllllllllllllllllllllllllllllllllllllllllllllllllllllllllllllllllllllllllllllllllllllllllllllllllllllllllllllllllllllllllllllllllllllllllllllllllllllllllllllllllllllllllllllllllllllllllllllllllllllllllllllllllllllllllllllllllllllllllllllllllllllllllllllllllllllllllllllllllllllllllllllllllllllllllllllllllllllllllllllllllllllllllllllllllllllllllllllllllllllllllllllllllllllllllllllllllllllllllllllllllllllllllllllllllllllllllllllllllllllllllllllllllllllllllllllllllllllllllllllllllllllllllllllllllllllllllllllllllllllllllllllllllllllllllllllllllllllllllllllllllllllllllllllllllllllllllllllllllllllllllllllllllllllllllllllllllllllllllllllllllllllllllllllllllllllllllllllllllllllllllllllllllllllllllllllllllllllllllllllllllllllllllllllllllllllllllllllllllllllllllllllllllllllllllllllllllllllllllllllllllllllllllllllllllllllllllllllllllllllllllllllllllllllllllllllllllllllllllllllllllllllllllllllllllllllllllllllllllllllllllllllllllllllllllllllllllllllllllllllllllllllllllllllllllllllllllllllllllllllllllllllllllllllllllllllllllllllllllllllllllllllllllllllllllllllllllllllllllllllllllllllllllllllllllllllllllllllllllllllllllllllllllllllllllllllllllllllllllllllllllllllllllllllllllllllllllllllllllllllllllllllllllllllllllllllllllllllllllllllllllllllllllllllllllllllllllllllllllllllllllllllllllllllllllllllllllllllllllllllllllllllllllllllllllllllllllllllllllllllllllllllllllllllllllllllllllllllllllllllllllllllllllllllllllllllllllllllllllllllllllllllllllllllllllllllllllllllllllllllllllllllllllllllllllllllllllllllllllllllllllllllllllllllllllllllllllllllllllllllllllllllllllllllllllllllllllllllllllllllllllllllllllllllllllllllllllllllllllllllllllllllllllllllllllllllllllllllllllllllllllllllllllllllllllllllllllllllllllllllllllllllllllllllllllllllllllllllllllllllllllllllllllllllllllllllllllllllllllllllllllllllllllllllllllllllllllllllllllllllllllllllllllllllllllllllllllllllllllllllllllllllllllllllllllllllllllllllllllllllllllllllllllllllllllllllllllllllllllllllllllllllllllllllllllllllllllllllllllllllllllllllllllllllllllllllllllllllllllllllllllllllllllllllllllllllllllllllllllllllllllllllllllllllllllllllllllllllllllllllllllllllllllllllllllllllllllllllllllllllllllllllllllllllllllllllllllllllllllllllllllllllllllllllllllllllllllllllllllllllllllllllllllllllllllllllllllllllllllllllllllllllllllllllllllllllllllllllllllllllllllllllllllllllllllllllllllllllllllllllllllllllllll}\n",
       " Intensity & VALENCE.PLEASANTNESS & SWEETORSOUR & complexity.from.pubmed & MW & AMW & Sv & Se & Sp & Si & ... & Psychotic.80 & Psychotic.50 & Hypertens.80 & Hypertens.50 & Hypnotic.80 & Hypnotic.50 & Neoplastic.80 & Neoplastic.50 & Infective.80 & Infective.50\\\\\n",
       "\\hline\n",
       "\t low    & 45     & FALSE  & 302.0  & 208.33 & 5.952  & 19.698 & 34.491 & 21.523 & 39.571 & ...    & 0      & 0      & 1      & 0      & 1      & 0      & 1      & 0      & 1      & 0     \\\\\n",
       "\t high   & 49     &  TRUE  &  72.6  & 122.18 & 6.431  & 11.349 & 18.745 & 12.261 & 21.285 & ...    & 0      & 0      & 0      & 0      & 0      & 0      & 0      & 0      & 0      & 0     \\\\\n",
       "\t high   & 56     &  TRUE  & 259.0  & 242.29 & 7.572  & 20.832 & 32.167 & 21.693 & 35.535 & ...    & 0      & 0      & 1      & 0      & 1      & 1      & 1      & 0      & 1      & 1     \\\\\n",
       "\t high   &  7     & FALSE  &  56.6  &  88.12 & 6.294  &  7.537 & 14.189 &  7.955 & 16.080 & ...    & 0      & 0      & 0      & 0      & 0      & 0      & 0      & 0      & 0      & 0     \\\\\n",
       "\t low    & 51     & FALSE  &  84.7  & 136.21 & 6.191  & 12.876 & 21.629 & 14.023 & 24.701 & ...    & 0      & 0      & 0      & 0      & 0      & 0      & 0      & 0      & 0      & 0     \\\\\n",
       "\t high   & 21     & FALSE  & 160.0  & 192.28 & 6.409  & 17.644 & 29.723 & 19.000 & 33.740 & ...    & 0      & 0      & 0      & 0      & 1      & 0      & 1      & 0      & 1      & 0     \\\\\n",
       "\\end{tabular}\n"
      ],
      "text/markdown": [
       "\n",
       "| Intensity | VALENCE.PLEASANTNESS | SWEETORSOUR | complexity.from.pubmed | MW | AMW | Sv | Se | Sp | Si | ... | Psychotic.80 | Psychotic.50 | Hypertens.80 | Hypertens.50 | Hypnotic.80 | Hypnotic.50 | Neoplastic.80 | Neoplastic.50 | Infective.80 | Infective.50 |\n",
       "|---|---|---|---|---|---|---|---|---|---|---|---|---|---|---|---|---|---|---|---|---|\n",
       "| low    | 45     | FALSE  | 302.0  | 208.33 | 5.952  | 19.698 | 34.491 | 21.523 | 39.571 | ...    | 0      | 0      | 1      | 0      | 1      | 0      | 1      | 0      | 1      | 0      |\n",
       "| high   | 49     |  TRUE  |  72.6  | 122.18 | 6.431  | 11.349 | 18.745 | 12.261 | 21.285 | ...    | 0      | 0      | 0      | 0      | 0      | 0      | 0      | 0      | 0      | 0      |\n",
       "| high   | 56     |  TRUE  | 259.0  | 242.29 | 7.572  | 20.832 | 32.167 | 21.693 | 35.535 | ...    | 0      | 0      | 1      | 0      | 1      | 1      | 1      | 0      | 1      | 1      |\n",
       "| high   |  7     | FALSE  |  56.6  |  88.12 | 6.294  |  7.537 | 14.189 |  7.955 | 16.080 | ...    | 0      | 0      | 0      | 0      | 0      | 0      | 0      | 0      | 0      | 0      |\n",
       "| low    | 51     | FALSE  |  84.7  | 136.21 | 6.191  | 12.876 | 21.629 | 14.023 | 24.701 | ...    | 0      | 0      | 0      | 0      | 0      | 0      | 0      | 0      | 0      | 0      |\n",
       "| high   | 21     | FALSE  | 160.0  | 192.28 | 6.409  | 17.644 | 29.723 | 19.000 | 33.740 | ...    | 0      | 0      | 0      | 0      | 1      | 0      | 1      | 0      | 1      | 0      |\n",
       "\n"
      ],
      "text/plain": [
       "  Intensity VALENCE.PLEASANTNESS SWEETORSOUR complexity.from.pubmed MW    \n",
       "1 low       45                   FALSE       302.0                  208.33\n",
       "2 high      49                    TRUE        72.6                  122.18\n",
       "3 high      56                    TRUE       259.0                  242.29\n",
       "4 high       7                   FALSE        56.6                   88.12\n",
       "5 low       51                   FALSE        84.7                  136.21\n",
       "6 high      21                   FALSE       160.0                  192.28\n",
       "  AMW   Sv     Se     Sp     Si     ... Psychotic.80 Psychotic.50 Hypertens.80\n",
       "1 5.952 19.698 34.491 21.523 39.571 ... 0            0            1           \n",
       "2 6.431 11.349 18.745 12.261 21.285 ... 0            0            0           \n",
       "3 7.572 20.832 32.167 21.693 35.535 ... 0            0            1           \n",
       "4 6.294  7.537 14.189  7.955 16.080 ... 0            0            0           \n",
       "5 6.191 12.876 21.629 14.023 24.701 ... 0            0            0           \n",
       "6 6.409 17.644 29.723 19.000 33.740 ... 0            0            0           \n",
       "  Hypertens.50 Hypnotic.80 Hypnotic.50 Neoplastic.80 Neoplastic.50 Infective.80\n",
       "1 0            1           0           1             0             1           \n",
       "2 0            0           0           0             0             0           \n",
       "3 0            1           1           1             0             1           \n",
       "4 0            0           0           0             0             0           \n",
       "5 0            0           0           0             0             0           \n",
       "6 0            1           0           1             0             1           \n",
       "  Infective.50\n",
       "1 0           \n",
       "2 0           \n",
       "3 1           \n",
       "4 0           \n",
       "5 0           \n",
       "6 0           "
      ]
     },
     "metadata": {},
     "output_type": "display_data"
    },
    {
     "data": {
      "text/html": [
       "<table>\n",
       "<thead><tr><th></th><th scope=col>Intensity</th><th scope=col>VALENCE.PLEASANTNESS</th><th scope=col>SWEETORSOUR</th><th scope=col>complexity.from.pubmed</th><th scope=col>MW</th><th scope=col>AMW</th><th scope=col>Sv</th><th scope=col>Se</th><th scope=col>Sp</th><th scope=col>Si</th><th scope=col>...</th><th scope=col>Psychotic.80</th><th scope=col>Psychotic.50</th><th scope=col>Hypertens.80</th><th scope=col>Hypertens.50</th><th scope=col>Hypnotic.80</th><th scope=col>Hypnotic.50</th><th scope=col>Neoplastic.80</th><th scope=col>Neoplastic.50</th><th scope=col>Infective.80</th><th scope=col>Infective.50</th></tr></thead>\n",
       "<tbody>\n",
       "\t<tr><th scope=row>703</th><td>low   </td><td>48    </td><td>FALSE </td><td> 82.7 </td><td>136.21</td><td>6.191 </td><td>12.876</td><td>21.629</td><td>14.023</td><td>24.701</td><td>...   </td><td>0     </td><td>0     </td><td>0     </td><td>0     </td><td>0     </td><td>0     </td><td>0     </td><td>0     </td><td>0     </td><td>0     </td></tr>\n",
       "\t<tr><th scope=row>704</th><td>high  </td><td> 3    </td><td>FALSE </td><td> 85.0 </td><td>140.22</td><td>8.248 </td><td>11.009</td><td>16.938</td><td>12.148</td><td>18.790</td><td>...   </td><td>0     </td><td>0     </td><td>0     </td><td>0     </td><td>0     </td><td>0     </td><td>0     </td><td>0     </td><td>0     </td><td>0     </td></tr>\n",
       "\t<tr><th scope=row>705</th><td>high  </td><td> 0    </td><td>FALSE </td><td> 76.6 </td><td>116.18</td><td>5.809 </td><td>10.590</td><td>19.956</td><td>11.477</td><td>22.910</td><td>...   </td><td>0     </td><td>0     </td><td>0     </td><td>0     </td><td>0     </td><td>0     </td><td>0     </td><td>0     </td><td>0     </td><td>0     </td></tr>\n",
       "\t<tr><th scope=row>706</th><td>low   </td><td>45    </td><td>FALSE </td><td> 83.0 </td><td>124.15</td><td>7.303 </td><td>10.537</td><td>17.189</td><td>10.955</td><td>19.080</td><td>...   </td><td>0     </td><td>0     </td><td>0     </td><td>0     </td><td>0     </td><td>0     </td><td>0     </td><td>0     </td><td>0     </td><td>0     </td></tr>\n",
       "\t<tr><th scope=row>707</th><td>high  </td><td>53    </td><td>FALSE </td><td>101.0 </td><td>122.13</td><td>8.142 </td><td>10.010</td><td>15.305</td><td>10.193</td><td>16.664</td><td>...   </td><td>0     </td><td>0     </td><td>0     </td><td>0     </td><td>0     </td><td>0     </td><td>0     </td><td>0     </td><td>0     </td><td>0     </td></tr>\n",
       "\t<tr><th scope=row>708</th><td>low   </td><td>39    </td><td>FALSE </td><td> 17.6 </td><td> 74.14</td><td>4.943 </td><td> 7.349</td><td>14.745</td><td> 8.262</td><td>17.285</td><td>...   </td><td>0     </td><td>0     </td><td>0     </td><td>0     </td><td>0     </td><td>0     </td><td>0     </td><td>0     </td><td>0     </td><td>0     </td></tr>\n",
       "</tbody>\n",
       "</table>\n"
      ],
      "text/latex": [
       "\\begin{tabular}{r|llllllllllllllllllllllllllllllllllllllllllllllllllllllllllllllllllllllllllllllllllllllllllllllllllllllllllllllllllllllllllllllllllllllllllllllllllllllllllllllllllllllllllllllllllllllllllllllllllllllllllllllllllllllllllllllllllllllllllllllllllllllllllllllllllllllllllllllllllllllllllllllllllllllllllllllllllllllllllllllllllllllllllllllllllllllllllllllllllllllllllllllllllllllllllllllllllllllllllllllllllllllllllllllllllllllllllllllllllllllllllllllllllllllllllllllllllllllllllllllllllllllllllllllllllllllllllllllllllllllllllllllllllllllllllllllllllllllllllllllllllllllllllllllllllllllllllllllllllllllllllllllllllllllllllllllllllllllllllllllllllllllllllllllllllllllllllllllllllllllllllllllllllllllllllllllllllllllllllllllllllllllllllllllllllllllllllllllllllllllllllllllllllllllllllllllllllllllllllllllllllllllllllllllllllllllllllllllllllllllllllllllllllllllllllllllllllllllllllllllllllllllllllllllllllllllllllllllllllllllllllllllllllllllllllllllllllllllllllllllllllllllllllllllllllllllllllllllllllllllllllllllllllllllllllllllllllllllllllllllllllllllllllllllllllllllllllllllllllllllllllllllllllllllllllllllllllllllllllllllllllllllllllllllllllllllllllllllllllllllllllllllllllllllllllllllllllllllllllllllllllllllllllllllllllllllllllllllllllllllllllllllllllllllllllllllllllllllllllllllllllllllllllllllllllllllllllllllllllllllllllllllllllllllllllllllllllllllllllllllllllllllllllllllllllllllllllllllllllllllllllllllllllllllllllllllllllllllllllllllllllllllllllllllllllllllllllllllllllllllllllllllllllllllllllllllllllllllllllllllllllllllllllllllllllllllllllllllllllllllllllllllllllllllllllllllllllllllllllllllllllllllllllllllllllllllllllllllllllllllllllllllllllllllllllllllllllllllllllllllllllllllllllllllllllllllllllllllllllllllllllllllllllllllllllllllllllllllllllllllllllllllllllllllllllllllllllllllllllllllllllllllllllllllllllllllllllllllllllllllllllllllllllllllllllllllllllllllllllllllllllllllllllllllllllllllllllllllllllllllllllllllllllllllllllllllllllllllllllllllllllllllllllllllllllllllllllllllllllllllllllllllllllllllllllllllllllllllllllllllllllllllllllllllllllllllllllllllllllllllllllllllllllllllllllllllllllllllllllllllllllllllllllllllllllllllllllllllllllllllllllllllllllllllllllllllllllllllllllllllllllllllllllllllllllllllllllllllllllllllllllllllllllllllllllllllllllllllllllllllllllllllllllllllllllllllllllllllllllllllllllllllllllllllllllllllllllllllllllllllllllllllllllllllllllllllllllllllllllllllllllllllllllllllllllllllllllllllllllllllllllllllllllllllllllllllllllllllllllllllllllllllllllllllllllllllllllllllllllllllllllllllllllllllllllllllllllllllllllllllllllllllllllllllllllllllllllllllllllllllllllllllllllllllllllllllllllllllllllllllllllllllllllllllllllllllllllllllllllllllllllllllllllllllllllllllllllllllllllllllllllllllllllllllllllllllllllllllllllllllllllllllllllllllllllllllllllllllllllllllllllllllllllllllllllllllllllllllllllllllllllllllllllllllllllllllllllllllllllllllllllllllllllllllllllllllllllllllllllllllllllllllllllllllllllllllllllllllllllllllllllllllllllllllllllllllllllllllllllllllllllllllllllllllllllllllllllllllllllllllllllllllllllllllllllllllllllllllllllllllllllllllllllllllllllllllllllllllllllllllllllllllllllllllllllllllllllllllllllllllllllllllllllllllllllllllllllllllllllllllllllllllllllllllllllllllllllllllllllllllllllllllllllllllllllllllllllllllllllllllllllllllllllllllllllllllllllllllllllllllllllllllllllllllllllllllllllllllllllllllllllllllllllllllllllllllllllllllllllllllllllllllllllllllllllllllllllllllllllllllllllllllllllllllllllllllllllllllllllllllllllllllllllllllllllllllllllllllllllllllllllllllllllllllllllllllllllllllllllllllllllllllllllllllllllllllllllllllllllllllllllllllllllllllllllllllllllllllllllllllllllllllllllllllllllllllllllllllllllllllllllllllllllllllllllllllllllllllllllllllllllllllllllllllllllllllllllllllllllllllllllllllllllllllllllllllllllllllllllllllllllllllllllllllllllllllllllllllllllllllllllllllllllllllllllllllllllllllllllllllllllllllllllllllllllllllllllllllllllllllllllllllllllllllllllllllllllllllllllllllllllllllllllllllllllllllllllllllllllllllllllllllllllllllllllllllllllllllllllllllllllllllllllllllllllllllllllllllllllllllllllllllllllllllllllllllllllllllllllllllllllllllllllllllllllllllllllllllllllllllllllllllllllllllllllllllllllllllllllllllllllllllllllllllllllllllllllllllllllllllllllllllllllllllllllllllllllllllllllllllllllllllllllllllllllllllllllllllllllllllllllllllllllllllllllllllllllllllllllllllllllllllllllllllllllllllllllllllllllllllllllllllllllllllllllllllllllllllllllllllllllllllllllllllllllllllllllllllllllllllllllllllllllllllllllllllllllllllllllllllllllllllllllllllllllllllllllllllllllllllllllllllllllllllllllllllllllllllllllllllllllllllllllllllllllllllllllllllllllllllllllllllllllllllllllllllllllllllllllllllllllllllllllllllllllllllllllllllllllllllllllllllllllllllllllllllllllllllllllllllllllllllllllllllllllllllllllllllllllllllllllllllllllllllllllllllllllllllllllllllllllllllllllllllllllllllllllllllll}\n",
       "  & Intensity & VALENCE.PLEASANTNESS & SWEETORSOUR & complexity.from.pubmed & MW & AMW & Sv & Se & Sp & Si & ... & Psychotic.80 & Psychotic.50 & Hypertens.80 & Hypertens.50 & Hypnotic.80 & Hypnotic.50 & Neoplastic.80 & Neoplastic.50 & Infective.80 & Infective.50\\\\\n",
       "\\hline\n",
       "\t703 & low    & 48     & FALSE  &  82.7  & 136.21 & 6.191  & 12.876 & 21.629 & 14.023 & 24.701 & ...    & 0      & 0      & 0      & 0      & 0      & 0      & 0      & 0      & 0      & 0     \\\\\n",
       "\t704 & high   &  3     & FALSE  &  85.0  & 140.22 & 8.248  & 11.009 & 16.938 & 12.148 & 18.790 & ...    & 0      & 0      & 0      & 0      & 0      & 0      & 0      & 0      & 0      & 0     \\\\\n",
       "\t705 & high   &  0     & FALSE  &  76.6  & 116.18 & 5.809  & 10.590 & 19.956 & 11.477 & 22.910 & ...    & 0      & 0      & 0      & 0      & 0      & 0      & 0      & 0      & 0      & 0     \\\\\n",
       "\t706 & low    & 45     & FALSE  &  83.0  & 124.15 & 7.303  & 10.537 & 17.189 & 10.955 & 19.080 & ...    & 0      & 0      & 0      & 0      & 0      & 0      & 0      & 0      & 0      & 0     \\\\\n",
       "\t707 & high   & 53     & FALSE  & 101.0  & 122.13 & 8.142  & 10.010 & 15.305 & 10.193 & 16.664 & ...    & 0      & 0      & 0      & 0      & 0      & 0      & 0      & 0      & 0      & 0     \\\\\n",
       "\t708 & low    & 39     & FALSE  &  17.6  &  74.14 & 4.943  &  7.349 & 14.745 &  8.262 & 17.285 & ...    & 0      & 0      & 0      & 0      & 0      & 0      & 0      & 0      & 0      & 0     \\\\\n",
       "\\end{tabular}\n"
      ],
      "text/markdown": [
       "\n",
       "| <!--/--> | Intensity | VALENCE.PLEASANTNESS | SWEETORSOUR | complexity.from.pubmed | MW | AMW | Sv | Se | Sp | Si | ... | Psychotic.80 | Psychotic.50 | Hypertens.80 | Hypertens.50 | Hypnotic.80 | Hypnotic.50 | Neoplastic.80 | Neoplastic.50 | Infective.80 | Infective.50 |\n",
       "|---|---|---|---|---|---|---|---|---|---|---|---|---|---|---|---|---|---|---|---|---|---|\n",
       "| 703 | low    | 48     | FALSE  |  82.7  | 136.21 | 6.191  | 12.876 | 21.629 | 14.023 | 24.701 | ...    | 0      | 0      | 0      | 0      | 0      | 0      | 0      | 0      | 0      | 0      |\n",
       "| 704 | high   |  3     | FALSE  |  85.0  | 140.22 | 8.248  | 11.009 | 16.938 | 12.148 | 18.790 | ...    | 0      | 0      | 0      | 0      | 0      | 0      | 0      | 0      | 0      | 0      |\n",
       "| 705 | high   |  0     | FALSE  |  76.6  | 116.18 | 5.809  | 10.590 | 19.956 | 11.477 | 22.910 | ...    | 0      | 0      | 0      | 0      | 0      | 0      | 0      | 0      | 0      | 0      |\n",
       "| 706 | low    | 45     | FALSE  |  83.0  | 124.15 | 7.303  | 10.537 | 17.189 | 10.955 | 19.080 | ...    | 0      | 0      | 0      | 0      | 0      | 0      | 0      | 0      | 0      | 0      |\n",
       "| 707 | high   | 53     | FALSE  | 101.0  | 122.13 | 8.142  | 10.010 | 15.305 | 10.193 | 16.664 | ...    | 0      | 0      | 0      | 0      | 0      | 0      | 0      | 0      | 0      | 0      |\n",
       "| 708 | low    | 39     | FALSE  |  17.6  |  74.14 | 4.943  |  7.349 | 14.745 |  8.262 | 17.285 | ...    | 0      | 0      | 0      | 0      | 0      | 0      | 0      | 0      | 0      | 0      |\n",
       "\n"
      ],
      "text/plain": [
       "    Intensity VALENCE.PLEASANTNESS SWEETORSOUR complexity.from.pubmed MW    \n",
       "703 low       48                   FALSE        82.7                  136.21\n",
       "704 high       3                   FALSE        85.0                  140.22\n",
       "705 high       0                   FALSE        76.6                  116.18\n",
       "706 low       45                   FALSE        83.0                  124.15\n",
       "707 high      53                   FALSE       101.0                  122.13\n",
       "708 low       39                   FALSE        17.6                   74.14\n",
       "    AMW   Sv     Se     Sp     Si     ... Psychotic.80 Psychotic.50\n",
       "703 6.191 12.876 21.629 14.023 24.701 ... 0            0           \n",
       "704 8.248 11.009 16.938 12.148 18.790 ... 0            0           \n",
       "705 5.809 10.590 19.956 11.477 22.910 ... 0            0           \n",
       "706 7.303 10.537 17.189 10.955 19.080 ... 0            0           \n",
       "707 8.142 10.010 15.305 10.193 16.664 ... 0            0           \n",
       "708 4.943  7.349 14.745  8.262 17.285 ... 0            0           \n",
       "    Hypertens.80 Hypertens.50 Hypnotic.80 Hypnotic.50 Neoplastic.80\n",
       "703 0            0            0           0           0            \n",
       "704 0            0            0           0           0            \n",
       "705 0            0            0           0           0            \n",
       "706 0            0            0           0           0            \n",
       "707 0            0            0           0           0            \n",
       "708 0            0            0           0           0            \n",
       "    Neoplastic.50 Infective.80 Infective.50\n",
       "703 0             0            0           \n",
       "704 0             0            0           \n",
       "705 0             0            0           \n",
       "706 0             0            0           \n",
       "707 0             0            0           \n",
       "708 0             0            0           "
      ]
     },
     "metadata": {},
     "output_type": "display_data"
    },
    {
     "data": {
      "image/png": "[encoded data removed]",
      "text/plain": [
       "plot without title"
      ]
     },
     "metadata": {},
     "output_type": "display_data"
    }
   ],
   "source": [
    "data <- read.csv(file.path(\"C:/Users/camil/Desktop/notebooks-bio322/data/epfl-bio-322a/training_data.csv\"))\n",
    "#Exploration:\n",
    "str(data)\n",
    "dim(data)\n",
    "data[30:40,]\n",
    "head(data)\n",
    "tail(data)\n",
    "par(mfcol=c(1,3), cex=.7)\n",
    "plot(data$complexity.from.pubmed, data$VALENCE.PLEASANTNESS, xlab= \"Complexity from pubmed [unit ?]\", ylab=\"Valence pleasantness [unit ?]\")\n",
    "plot(data$MW, data$VALENCE.PLEASANTNESS, xlab= \"Molecular weight\", ylab=\"Valence pleasantness [unit ?]\")\n",
    "plot(data$AMW, data$VALENCE.PLEASANTNESS, xlab= \"AMW\", ylab=\"Valence pleasantness [unit ?]\")"
   ]
  },
  {
   "cell_type": "markdown",
   "metadata": {},
   "source": [
    "We have a data set containing 708 rows and 4872 columns."
   ]
  },
  {
   "cell_type": "code",
   "execution_count": 38,
   "metadata": {},
   "outputs": [],
   "source": [
    "#to remove variance = 0 --> \n",
    "#data[,sapply(data, function(v) var(v, na.rm=TRUE)!=0)]\n",
    "same <- sapply(data, function(.col){\n",
    "  all(is.na(.col))  || all(.col[1L] == .col)\n",
    "})\n",
    "data <- data[!same]"
   ]
  },
  {
   "cell_type": "code",
   "execution_count": 39,
   "metadata": {},
   "outputs": [
    {
     "data": {
      "text/html": [
       "<ol class=list-inline>\n",
       "\t<li>708</li>\n",
       "\t<li>3030</li>\n",
       "</ol>\n"
      ],
      "text/latex": [
       "\\begin{enumerate*}\n",
       "\\item 708\n",
       "\\item 3030\n",
       "\\end{enumerate*}\n"
      ],
      "text/markdown": [
       "1. 708\n",
       "2. 3030\n",
       "\n",
       "\n"
      ],
      "text/plain": [
       "[1]  708 3030"
      ]
     },
     "metadata": {},
     "output_type": "display_data"
    }
   ],
   "source": [
    "dim(data)"
   ]
  },
  {
   "cell_type": "code",
   "execution_count": 43,
   "metadata": {},
   "outputs": [
    {
     "data": {
      "text/html": [
       "<table>\n",
       "<thead><tr><th scope=col>complexity.from.pubmed</th><th scope=col>MW</th><th scope=col>AMW</th><th scope=col>Sv</th><th scope=col>Se</th><th scope=col>Sp</th><th scope=col>Si</th><th scope=col>Mv</th><th scope=col>Me</th><th scope=col>Mp</th><th scope=col>...</th><th scope=col>Depressant.80</th><th scope=col>Depressant.50</th><th scope=col>Hypertens.80</th><th scope=col>Hypertens.50</th><th scope=col>Hypnotic.80</th><th scope=col>Hypnotic.50</th><th scope=col>Neoplastic.80</th><th scope=col>Neoplastic.50</th><th scope=col>Infective.80</th><th scope=col>Infective.50</th></tr></thead>\n",
       "<tbody>\n",
       "\t<tr><td>302.0 </td><td>208.33</td><td>5.952 </td><td>19.698</td><td>34.491</td><td>21.523</td><td>39.571</td><td>0.563 </td><td>0.985 </td><td>0.615 </td><td>...   </td><td>0     </td><td>0     </td><td>1     </td><td>0     </td><td>1     </td><td>0     </td><td>1     </td><td>0     </td><td>1     </td><td>0     </td></tr>\n",
       "\t<tr><td> 72.6 </td><td>122.18</td><td>6.431 </td><td>11.349</td><td>18.745</td><td>12.261</td><td>21.285</td><td>0.597 </td><td>0.987 </td><td>0.645 </td><td>...   </td><td>0     </td><td>0     </td><td>0     </td><td>0     </td><td>0     </td><td>0     </td><td>0     </td><td>0     </td><td>0     </td><td>0     </td></tr>\n",
       "\t<tr><td>259.0 </td><td>242.29</td><td>7.572 </td><td>20.832</td><td>32.167</td><td>21.693</td><td>35.535</td><td>0.651 </td><td>1.005 </td><td>0.678 </td><td>...   </td><td>1     </td><td>0     </td><td>1     </td><td>0     </td><td>1     </td><td>1     </td><td>1     </td><td>0     </td><td>1     </td><td>1     </td></tr>\n",
       "\t<tr><td> 56.6 </td><td> 88.12</td><td>6.294 </td><td> 7.537</td><td>14.189</td><td> 7.955</td><td>16.080</td><td>0.538 </td><td>1.014 </td><td>0.568 </td><td>...   </td><td>0     </td><td>0     </td><td>0     </td><td>0     </td><td>0     </td><td>0     </td><td>0     </td><td>0     </td><td>0     </td><td>0     </td></tr>\n",
       "\t<tr><td> 84.7 </td><td>136.21</td><td>6.191 </td><td>12.876</td><td>21.629</td><td>14.023</td><td>24.701</td><td>0.585 </td><td>0.983 </td><td>0.637 </td><td>...   </td><td>0     </td><td>0     </td><td>0     </td><td>0     </td><td>0     </td><td>0     </td><td>0     </td><td>0     </td><td>0     </td><td>0     </td></tr>\n",
       "\t<tr><td>160.0 </td><td>192.28</td><td>6.409 </td><td>17.644</td><td>29.723</td><td>19.000</td><td>33.740</td><td>0.588 </td><td>0.991 </td><td>0.633 </td><td>...   </td><td>0     </td><td>0     </td><td>0     </td><td>0     </td><td>1     </td><td>0     </td><td>1     </td><td>0     </td><td>1     </td><td>0     </td></tr>\n",
       "</tbody>\n",
       "</table>\n"
      ],
      "text/latex": [
       "\\begin{tabular}{r|lllllllllllllllllllllllllllllllllllllllllllllllllllllllllllllllllllllllllllllllllllllllllllllllllllllllllllllllllllllllllllllllllllllllllllllllllllllllllllllllllllllllllllllllllllllllllllllllllllllllllllllllllllllllllllllllllllllllllllllllllllllllllllllllllllllllllllllllllllllllllllllllllllllllllllllllllllllllllllllllllllllllllllllllllllllllllllllllllllllllllllllllllllllllllllllllllllllllllllllllllllllllllllllllllllllllllllllllllllllllllllllllllllllllllllllllllllllllllllllllllllllllllllllllllllllllllllllllllllllllllllllllllllllllllllllllllllllllllllllllllllllllllllllllllllllllllllllllllllllllllllllllllllllllllllllllllllllllllllllllllllllllllllllllllllllllllllllllllllllllllllllllllllllllllllllllllllllllllllllllllllllllllllllllllllllllllllllllllllllllllllllllllllllllllllllllllllllllllllllllllllllllllllllllllllllllllllllllllllllllllllllllllllllllllllllllllllllllllllllllllllllllllllllllllllllllllllllllllllllllllllllllllllllllllllllllllllllllllllllllllllllllllllllllllllllllllllllllllllllllllllllllllllllllllllllllllllllllllllllllllllllllllllllllllllllllllllllllllllllllllllllllllllllllllllllllllllllllllllllllllllllllllllllllllllllllllllllllllllllllllllllllllllllllllllllllllllllllllllllllllllllllllllllllllllllllllllllllllllllllllllllllllllllllllllllllllllllllllllllllllllllllllllllllllllllllllllllllllllllllllllllllllllllllllllllllllllllllllllllllllllllllllllllllllllllllllllllllllllllllllllllllllllllllllllllllllllllllllllllllllllllllllllllllllllllllllllllllllllllllllllllllllllllllllllllllllllllllllllllllllllllllllllllllllllllllllllllllllllllllllllllllllllllllllllllllllllllllllllllllllllllllllllllllllllllllllllllllllllllllllllllllllllllllllllllllllllllllllllllllllllllllllllllllllllllllllllllllllllllllllllllllllllllllllllllllllllllllllllllllllllllllllllllllllllllllllllllllllllllllllllllllllllllllllllllllllllllllllllllllllllllllllllllllllllllllllllllllllllllllllllllllllllllllllllllllllllllllllllllllllllllllllllllllllllllllllllllllllllllllllllllllllllllllllllllllllllllllllllllllllllllllllllllllllllllllllllllllllllllllllllllllllllllllllllllllllllllllllllllllllllllllllllllllllllllllllllllllllllllllllllllllllllllllllllllllllllllllllllllllllllllllllllllllllllllllllllllllllllllllllllllllllllllllllllllllllllllllllllllllllllllllllllllllllllllllllllllllllllllllllllllllllllllllllllllllllllllllllllllllllllllllllllllllllllllllllllllllllllllllllllllllllllllllllllllllllllllllllllllllllllllllllllllllllllllllllllllllllllllllllllllllllllllllllllllllllllllllllllllllllllllllllllllllllllllllllllllllllllllllllllllllllllllllllllllllllllllllllllllllllllllllllllllllllllllllllllllllllllllllllllllllllllllllllllllllllllllllllllllllllllllllllllllllllllllllllllllllllllllllllllllllllllllllllllllllllllllllllllllllllllllllllllllllllllllllllllllllllllllllllllllllllllllllllllllllllllllllllllllllllllllllllllllllllllllllllllllllllllllllllllllllllllllllllllllllllllllllllllllllllllllllllllllllllllllllllllllllllllllllllllllllllllllllllllllllllllllllllllllllllllllllllllllllllllllllllllllllllllllllllllllllllllllllllllllllllll}\n",
       " complexity.from.pubmed & MW & AMW & Sv & Se & Sp & Si & Mv & Me & Mp & ... & Depressant.80 & Depressant.50 & Hypertens.80 & Hypertens.50 & Hypnotic.80 & Hypnotic.50 & Neoplastic.80 & Neoplastic.50 & Infective.80 & Infective.50\\\\\n",
       "\\hline\n",
       "\t 302.0  & 208.33 & 5.952  & 19.698 & 34.491 & 21.523 & 39.571 & 0.563  & 0.985  & 0.615  & ...    & 0      & 0      & 1      & 0      & 1      & 0      & 1      & 0      & 1      & 0     \\\\\n",
       "\t  72.6  & 122.18 & 6.431  & 11.349 & 18.745 & 12.261 & 21.285 & 0.597  & 0.987  & 0.645  & ...    & 0      & 0      & 0      & 0      & 0      & 0      & 0      & 0      & 0      & 0     \\\\\n",
       "\t 259.0  & 242.29 & 7.572  & 20.832 & 32.167 & 21.693 & 35.535 & 0.651  & 1.005  & 0.678  & ...    & 1      & 0      & 1      & 0      & 1      & 1      & 1      & 0      & 1      & 1     \\\\\n",
       "\t  56.6  &  88.12 & 6.294  &  7.537 & 14.189 &  7.955 & 16.080 & 0.538  & 1.014  & 0.568  & ...    & 0      & 0      & 0      & 0      & 0      & 0      & 0      & 0      & 0      & 0     \\\\\n",
       "\t  84.7  & 136.21 & 6.191  & 12.876 & 21.629 & 14.023 & 24.701 & 0.585  & 0.983  & 0.637  & ...    & 0      & 0      & 0      & 0      & 0      & 0      & 0      & 0      & 0      & 0     \\\\\n",
       "\t 160.0  & 192.28 & 6.409  & 17.644 & 29.723 & 19.000 & 33.740 & 0.588  & 0.991  & 0.633  & ...    & 0      & 0      & 0      & 0      & 1      & 0      & 1      & 0      & 1      & 0     \\\\\n",
       "\\end{tabular}\n"
      ],
      "text/markdown": [
       "\n",
       "| complexity.from.pubmed | MW | AMW | Sv | Se | Sp | Si | Mv | Me | Mp | ... | Depressant.80 | Depressant.50 | Hypertens.80 | Hypertens.50 | Hypnotic.80 | Hypnotic.50 | Neoplastic.80 | Neoplastic.50 | Infective.80 | Infective.50 |\n",
       "|---|---|---|---|---|---|---|---|---|---|---|---|---|---|---|---|---|---|---|---|---|\n",
       "| 302.0  | 208.33 | 5.952  | 19.698 | 34.491 | 21.523 | 39.571 | 0.563  | 0.985  | 0.615  | ...    | 0      | 0      | 1      | 0      | 1      | 0      | 1      | 0      | 1      | 0      |\n",
       "|  72.6  | 122.18 | 6.431  | 11.349 | 18.745 | 12.261 | 21.285 | 0.597  | 0.987  | 0.645  | ...    | 0      | 0      | 0      | 0      | 0      | 0      | 0      | 0      | 0      | 0      |\n",
       "| 259.0  | 242.29 | 7.572  | 20.832 | 32.167 | 21.693 | 35.535 | 0.651  | 1.005  | 0.678  | ...    | 1      | 0      | 1      | 0      | 1      | 1      | 1      | 0      | 1      | 1      |\n",
       "|  56.6  |  88.12 | 6.294  |  7.537 | 14.189 |  7.955 | 16.080 | 0.538  | 1.014  | 0.568  | ...    | 0      | 0      | 0      | 0      | 0      | 0      | 0      | 0      | 0      | 0      |\n",
       "|  84.7  | 136.21 | 6.191  | 12.876 | 21.629 | 14.023 | 24.701 | 0.585  | 0.983  | 0.637  | ...    | 0      | 0      | 0      | 0      | 0      | 0      | 0      | 0      | 0      | 0      |\n",
       "| 160.0  | 192.28 | 6.409  | 17.644 | 29.723 | 19.000 | 33.740 | 0.588  | 0.991  | 0.633  | ...    | 0      | 0      | 0      | 0      | 1      | 0      | 1      | 0      | 1      | 0      |\n",
       "\n"
      ],
      "text/plain": [
       "  complexity.from.pubmed MW     AMW   Sv     Se     Sp     Si     Mv    Me   \n",
       "1 302.0                  208.33 5.952 19.698 34.491 21.523 39.571 0.563 0.985\n",
       "2  72.6                  122.18 6.431 11.349 18.745 12.261 21.285 0.597 0.987\n",
       "3 259.0                  242.29 7.572 20.832 32.167 21.693 35.535 0.651 1.005\n",
       "4  56.6                   88.12 6.294  7.537 14.189  7.955 16.080 0.538 1.014\n",
       "5  84.7                  136.21 6.191 12.876 21.629 14.023 24.701 0.585 0.983\n",
       "6 160.0                  192.28 6.409 17.644 29.723 19.000 33.740 0.588 0.991\n",
       "  Mp    ... Depressant.80 Depressant.50 Hypertens.80 Hypertens.50 Hypnotic.80\n",
       "1 0.615 ... 0             0             1            0            1          \n",
       "2 0.645 ... 0             0             0            0            0          \n",
       "3 0.678 ... 1             0             1            0            1          \n",
       "4 0.568 ... 0             0             0            0            0          \n",
       "5 0.637 ... 0             0             0            0            0          \n",
       "6 0.633 ... 0             0             0            0            1          \n",
       "  Hypnotic.50 Neoplastic.80 Neoplastic.50 Infective.80 Infective.50\n",
       "1 0           1             0             1            0           \n",
       "2 0           0             0             0            0           \n",
       "3 1           1             0             1            1           \n",
       "4 0           0             0             0            0           \n",
       "5 0           0             0             0            0           \n",
       "6 0           1             0             1            0           "
      ]
     },
     "metadata": {},
     "output_type": "display_data"
    },
    {
     "data": {
      "text/html": [
       "<ol class=list-inline>\n",
       "\t<li>708</li>\n",
       "\t<li>3027</li>\n",
       "</ol>\n"
      ],
      "text/latex": [
       "\\begin{enumerate*}\n",
       "\\item 708\n",
       "\\item 3027\n",
       "\\end{enumerate*}\n"
      ],
      "text/markdown": [
       "1. 708\n",
       "2. 3027\n",
       "\n",
       "\n"
      ],
      "text/plain": [
       "[1]  708 3027"
      ]
     },
     "metadata": {},
     "output_type": "display_data"
    }
   ],
   "source": [
    "#find the correlation between predictors:\n",
    "data2<-data[,4:ncol(data)]\n",
    "tmp <- cor(data2)\n",
    "tmp[upper.tri(tmp)] <- 0\n",
    "diag(tmp) <- 0\n",
    "# Above two commands can be replaced with \n",
    "# tmp[!lower.tri(tmp)] <- 0\n",
    "data.new <- data2[,apply(tmp,2,function(x) any(abs(x) <= 0.9))]\n",
    "head(data.new)\n",
    "dim(data.new)"
   ]
  },
  {
   "cell_type": "code",
   "execution_count": 45,
   "metadata": {},
   "outputs": [],
   "source": [
    "library(caret)"
   ]
  },
  {
   "cell_type": "code",
   "execution_count": 46,
   "metadata": {},
   "outputs": [
    {
     "data": {
      "text/html": [
       "<ol class=list-inline>\n",
       "\t<li>708</li>\n",
       "\t<li>481</li>\n",
       "</ol>\n"
      ],
      "text/latex": [
       "\\begin{enumerate*}\n",
       "\\item 708\n",
       "\\item 481\n",
       "\\end{enumerate*}\n"
      ],
      "text/markdown": [
       "1. 708\n",
       "2. 481\n",
       "\n",
       "\n"
      ],
      "text/plain": [
       "[1] 708 481"
      ]
     },
     "metadata": {},
     "output_type": "display_data"
    }
   ],
   "source": [
    "df2 = cor(data2)\n",
    "hc = findCorrelation(df2, cutoff=0.8) # putt any value as a \"cutoff\" \n",
    "hc = sort(hc)\n",
    "reduced_data = data2[,-c(hc)]\n",
    "dim(reduced_data)"
   ]
  },
  {
   "cell_type": "code",
   "execution_count": 47,
   "metadata": {},
   "outputs": [
    {
     "data": {
      "text/html": [
       "<table>\n",
       "<thead><tr><th scope=col>nDB</th><th scope=col>RFD</th><th scope=col>nR04</th><th scope=col>nR06</th><th scope=col>nR10</th><th scope=col>D.Dtr05</th><th scope=col>D.Dtr07</th><th scope=col>D.Dtr09</th><th scope=col>PJI2</th><th scope=col>Wap</th><th scope=col>...</th><th scope=col>Depressant.80</th><th scope=col>Depressant.50</th><th scope=col>Hypertens.80</th><th scope=col>Hypertens.50</th><th scope=col>Hypnotic.80</th><th scope=col>Hypnotic.50</th><th scope=col>Neoplastic.80</th><th scope=col>Neoplastic.50</th><th scope=col>Infective.80</th><th scope=col>Infective.50</th></tr></thead>\n",
       "<tbody>\n",
       "\t<tr><td>2    </td><td>0.571</td><td>1    </td><td>2    </td><td>0    </td><td>0    </td><td>0    </td><td>0    </td><td>1.0  </td><td>1750 </td><td>...  </td><td>0    </td><td>0    </td><td>1    </td><td>0    </td><td>1    </td><td>0    </td><td>1    </td><td>0    </td><td>1    </td><td>0    </td></tr>\n",
       "\t<tr><td>0    </td><td>0.000</td><td>0    </td><td>1    </td><td>0    </td><td>0    </td><td>0    </td><td>0    </td><td>1.0  </td><td> 247 </td><td>...  </td><td>0    </td><td>0    </td><td>0    </td><td>0    </td><td>0    </td><td>0    </td><td>0    </td><td>0    </td><td>0    </td><td>0    </td></tr>\n",
       "\t<tr><td>1    </td><td>0.000</td><td>0    </td><td>2    </td><td>0    </td><td>0    </td><td>0    </td><td>0    </td><td>1.0  </td><td>2467 </td><td>...  </td><td>1    </td><td>0    </td><td>1    </td><td>0    </td><td>1    </td><td>1    </td><td>1    </td><td>0    </td><td>1    </td><td>1    </td></tr>\n",
       "\t<tr><td>1    </td><td>0.000</td><td>0    </td><td>0    </td><td>0    </td><td>0    </td><td>0    </td><td>0    </td><td>0.5  </td><td>  29 </td><td>...  </td><td>0    </td><td>0    </td><td>0    </td><td>0    </td><td>0    </td><td>0    </td><td>0    </td><td>0    </td><td>0    </td><td>0    </td></tr>\n",
       "\t<tr><td>0    </td><td>0.000</td><td>0    </td><td>1    </td><td>0    </td><td>0    </td><td>0    </td><td>0    </td><td>1.0  </td><td> 308 </td><td>...  </td><td>0    </td><td>0    </td><td>0    </td><td>0    </td><td>0    </td><td>0    </td><td>0    </td><td>0    </td><td>0    </td><td>0    </td></tr>\n",
       "\t<tr><td>1    </td><td>0.000</td><td>0    </td><td>1    </td><td>0    </td><td>0    </td><td>0    </td><td>0    </td><td>1.0  </td><td> 780 </td><td>...  </td><td>0    </td><td>0    </td><td>0    </td><td>0    </td><td>1    </td><td>0    </td><td>1    </td><td>0    </td><td>1    </td><td>0    </td></tr>\n",
       "</tbody>\n",
       "</table>\n"
      ],
      "text/latex": [
       "\\begin{tabular}{r|lllllllllllllllllllllllllllllllllllllllllllllllllllllllllllllllllllllllllllllllllllllllllllllllllllllllllllllllllllllllllllllllllllllllllllllllllllllllllllllllllllllllllllllllllllllllllllllllllllllllllllllllllllllllllllllllllllllllllllllllllllllllllllllllllllllllllllllllllllllllllllllllllllllllllllllllllllllllllllllllllllllllllllllllllllllllllllllllllllllllllllllllllllllllllllllllllllllllllllllllllllllllllllllllllllllllllllllllllllllllllllllllllllllllllllllllllllllllllllllllll}\n",
       " nDB & RFD & nR04 & nR06 & nR10 & D.Dtr05 & D.Dtr07 & D.Dtr09 & PJI2 & Wap & ... & Depressant.80 & Depressant.50 & Hypertens.80 & Hypertens.50 & Hypnotic.80 & Hypnotic.50 & Neoplastic.80 & Neoplastic.50 & Infective.80 & Infective.50\\\\\n",
       "\\hline\n",
       "\t 2     & 0.571 & 1     & 2     & 0     & 0     & 0     & 0     & 1.0   & 1750  & ...   & 0     & 0     & 1     & 0     & 1     & 0     & 1     & 0     & 1     & 0    \\\\\n",
       "\t 0     & 0.000 & 0     & 1     & 0     & 0     & 0     & 0     & 1.0   &  247  & ...   & 0     & 0     & 0     & 0     & 0     & 0     & 0     & 0     & 0     & 0    \\\\\n",
       "\t 1     & 0.000 & 0     & 2     & 0     & 0     & 0     & 0     & 1.0   & 2467  & ...   & 1     & 0     & 1     & 0     & 1     & 1     & 1     & 0     & 1     & 1    \\\\\n",
       "\t 1     & 0.000 & 0     & 0     & 0     & 0     & 0     & 0     & 0.5   &   29  & ...   & 0     & 0     & 0     & 0     & 0     & 0     & 0     & 0     & 0     & 0    \\\\\n",
       "\t 0     & 0.000 & 0     & 1     & 0     & 0     & 0     & 0     & 1.0   &  308  & ...   & 0     & 0     & 0     & 0     & 0     & 0     & 0     & 0     & 0     & 0    \\\\\n",
       "\t 1     & 0.000 & 0     & 1     & 0     & 0     & 0     & 0     & 1.0   &  780  & ...   & 0     & 0     & 0     & 0     & 1     & 0     & 1     & 0     & 1     & 0    \\\\\n",
       "\\end{tabular}\n"
      ],
      "text/markdown": [
       "\n",
       "| nDB | RFD | nR04 | nR06 | nR10 | D.Dtr05 | D.Dtr07 | D.Dtr09 | PJI2 | Wap | ... | Depressant.80 | Depressant.50 | Hypertens.80 | Hypertens.50 | Hypnotic.80 | Hypnotic.50 | Neoplastic.80 | Neoplastic.50 | Infective.80 | Infective.50 |\n",
       "|---|---|---|---|---|---|---|---|---|---|---|---|---|---|---|---|---|---|---|---|---|\n",
       "| 2     | 0.571 | 1     | 2     | 0     | 0     | 0     | 0     | 1.0   | 1750  | ...   | 0     | 0     | 1     | 0     | 1     | 0     | 1     | 0     | 1     | 0     |\n",
       "| 0     | 0.000 | 0     | 1     | 0     | 0     | 0     | 0     | 1.0   |  247  | ...   | 0     | 0     | 0     | 0     | 0     | 0     | 0     | 0     | 0     | 0     |\n",
       "| 1     | 0.000 | 0     | 2     | 0     | 0     | 0     | 0     | 1.0   | 2467  | ...   | 1     | 0     | 1     | 0     | 1     | 1     | 1     | 0     | 1     | 1     |\n",
       "| 1     | 0.000 | 0     | 0     | 0     | 0     | 0     | 0     | 0.5   |   29  | ...   | 0     | 0     | 0     | 0     | 0     | 0     | 0     | 0     | 0     | 0     |\n",
       "| 0     | 0.000 | 0     | 1     | 0     | 0     | 0     | 0     | 1.0   |  308  | ...   | 0     | 0     | 0     | 0     | 0     | 0     | 0     | 0     | 0     | 0     |\n",
       "| 1     | 0.000 | 0     | 1     | 0     | 0     | 0     | 0     | 1.0   |  780  | ...   | 0     | 0     | 0     | 0     | 1     | 0     | 1     | 0     | 1     | 0     |\n",
       "\n"
      ],
      "text/plain": [
       "  nDB RFD   nR04 nR06 nR10 D.Dtr05 D.Dtr07 D.Dtr09 PJI2 Wap  ... Depressant.80\n",
       "1 2   0.571 1    2    0    0       0       0       1.0  1750 ... 0            \n",
       "2 0   0.000 0    1    0    0       0       0       1.0   247 ... 0            \n",
       "3 1   0.000 0    2    0    0       0       0       1.0  2467 ... 1            \n",
       "4 1   0.000 0    0    0    0       0       0       0.5    29 ... 0            \n",
       "5 0   0.000 0    1    0    0       0       0       1.0   308 ... 0            \n",
       "6 1   0.000 0    1    0    0       0       0       1.0   780 ... 0            \n",
       "  Depressant.50 Hypertens.80 Hypertens.50 Hypnotic.80 Hypnotic.50 Neoplastic.80\n",
       "1 0             1            0            1           0           1            \n",
       "2 0             0            0            0           0           0            \n",
       "3 0             1            0            1           1           1            \n",
       "4 0             0            0            0           0           0            \n",
       "5 0             0            0            0           0           0            \n",
       "6 0             0            0            1           0           1            \n",
       "  Neoplastic.50 Infective.80 Infective.50\n",
       "1 0             1            0           \n",
       "2 0             0            0           \n",
       "3 0             1            1           \n",
       "4 0             0            0           \n",
       "5 0             0            0           \n",
       "6 0             1            0           "
      ]
     },
     "metadata": {},
     "output_type": "display_data"
    }
   ],
   "source": [
    "head(reduced_data)"
   ]
  }
 ],
 "metadata": {
  "kernelspec": {
   "display_name": "R",
   "language": "R",
   "name": "ir"
  },
  "language_info": {
   "codemirror_mode": "r",
   "file_extension": ".r",
   "mimetype": "text/x-r-source",
   "name": "R",
   "pygments_lexer": "r",
   "version": "3.6.1"
  }
 },
 "nbformat": 4,
 "nbformat_minor": 4
}
