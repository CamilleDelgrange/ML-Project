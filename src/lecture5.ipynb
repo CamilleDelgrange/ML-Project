{
 "cells": [
  {
   "cell_type": "markdown",
   "metadata": {
    "lines_to_next_cell": 0
   },
   "source": [
    "# Lecture 5\n",
    "## Model Selection and Problems in High Dimensions\n",
    "\n",
    "Run the following cell with `Shift + Enter` to watch the video."
   ]
  },
  {
   "cell_type": "code",
   "execution_count": null,
   "metadata": {},
   "outputs": [],
   "source": [
    "IRdisplay::display_html('<iframe width=\"640\" height=\"360\" src=\"https://tube.switch.ch/embed/19aa3363\" frameborder=\"0\" allow=\"fullscreen\" allowfullscreen></iframe>')"
   ]
  },
  {
   "cell_type": "markdown",
   "metadata": {
    "lines_to_next_cell": 0
   },
   "source": [
    "Let us generate the data set with 1000 normally distributed predictors and a\n",
    "response that is independent of the predictors."
   ]
  },
  {
   "cell_type": "code",
   "execution_count": null,
   "metadata": {},
   "outputs": [],
   "source": [
    "set.seed(932)\n",
    "data <- data.frame(matrix(rnorm(50*1000), 50, 1000))\n",
    "data$Y <- rnorm(50)"
   ]
  },
  {
   "cell_type": "markdown",
   "metadata": {
    "lines_to_next_cell": 0
   },
   "source": [
    "We will use again the function `regsubsets` with `method = \"forward\"` and at\n",
    "most `nvmax = 30` coefficients (including the intercept). To use the adjusted\n",
    "R^2 or the BIC criterion we will fit on all the training data."
   ]
  },
  {
   "cell_type": "code",
   "execution_count": null,
   "metadata": {},
   "outputs": [],
   "source": [
    "library(leaps)\n",
    "regfit.fwd <- regsubsets(Y ~ ., data, method = \"forward\", nvmax = 30)\n",
    "regfit.fwd.summary <- summary(regfit.fwd)\n",
    "# plot\n",
    "plot(regfit.fwd.summary$adjr2, type = \"l\", xlim = c(1,30),\n",
    "     xlab = \"Number of Variables\", ylab = \"adjusted R^2\")\n",
    "adjr2.max <- which.max(regfit.fwd.summary$adjr2)\n",
    "points(adjr2.max, regfit.fwd.summary$adjr2[adjr2.max], col = \"red\", cex = 2, pch = 20)"
   ]
  },
  {
   "cell_type": "code",
   "execution_count": null,
   "metadata": {
    "lines_to_next_cell": 0
   },
   "outputs": [],
   "source": [
    "plot(regfit.fwd.summary$bic, type = \"l\", xlim = c(1,30),\n",
    "     xlab = \"Number of Variables\", ylab = \"BIC\")\n",
    "bic.min <- which.min(regfit.fwd.summary$bic)\n",
    "points(bic.min, regfit.fwd.summary$bic[bic.min], col = \"red\", cex = 2, pch = 20)"
   ]
  },
  {
   "cell_type": "markdown",
   "metadata": {
    "lines_to_next_cell": 0
   },
   "source": [
    "In both cases we see that the data generating model was not identified.\n",
    "\n",
    "Next, we perform cross-validation the wrong way, in that we use the whole data\n",
    "to perform subset selection. We will make use of the functions\n",
    "`predict.regsubsets` and `evaluate` that are similar to the ones we defined last week."
   ]
  },
  {
   "cell_type": "code",
   "execution_count": null,
   "metadata": {},
   "outputs": [],
   "source": [
    "library(tidymodels)\n",
    "predict.regsubsets <- function(object, newdata, id, form = as.formula(object$call[[2]])) {\n",
    "    mat = model.matrix(form, newdata)\n",
    "    coefi = coef(object, id=id)\n",
    "    xvars = names(coefi)\n",
    "    mat[,xvars]%*%coefi\n",
    "}\n",
    "evaluate <- function(fold, fit, formula = Y ~ .) {\n",
    "    valid.set <- assessment(fold)\n",
    "    sapply(seq(1, fit$nvmax - 1),\n",
    "           function(id) mean((valid.set$Y - predict(fit, valid.set, id, formula))^2))\n",
    "}\n",
    "validation_data <- vfold_cv(data, v = 5)\n",
    "cv.errors.wrong <- sapply(validation_data$splits, evaluate, regfit.fwd) # the mistake happens here, because we use the fit obtained on the full data set.\n",
    "mean.cv.errors.wrong <- rowMeans(cv.errors.wrong)\n",
    "plot(mean.cv.errors.wrong, type = \"l\", ylim = c(0, 1.3),\n",
    "     xlab = \"Number of Variables\", ylab = \"5-fold CV wrong\")\n",
    "cv.wrong.min = which.min(mean.cv.errors.wrong)\n",
    "points(cv.wrong.min, mean.cv.errors.wrong[cv.wrong.min], col = \"red\", cex = 2, pch = 20)\n",
    "abline(sd(data$Y), 0, lty = \"dashed\")"
   ]
  },
  {
   "cell_type": "markdown",
   "metadata": {
    "lines_to_next_cell": 0
   },
   "source": [
    "Let us do now cross-validation the right way."
   ]
  },
  {
   "cell_type": "code",
   "execution_count": null,
   "metadata": {
    "lines_to_next_cell": 0
   },
   "outputs": [],
   "source": [
    "fit_and_evaluate <- function(fold, formula = Y ~ .) {\n",
    "    fit <- regsubsets(formula, analysis(fold), method = \"forward\", nvmax = 30)\n",
    "    evaluate(fold, fit)\n",
    "}\n",
    "cv.errors <- sapply(validation_data$splits, fit_and_evaluate)\n",
    "mean.cv.errors <- rowMeans(cv.errors)\n",
    "plot(mean.cv.errors, type = \"l\", ylim = c(1, 4),\n",
    "     xlab = \"Number of Variables\", ylab = \"5-fold CV right\")\n",
    "cv.min = which.min(mean.cv.errors)\n",
    "points(cv.min, mean.cv.errors[cv.min], col = \"red\", cex = 2, pch = 20)\n",
    "abline(sd(data$Y), 0, lty = \"dashed\")"
   ]
  },
  {
   "cell_type": "markdown",
   "metadata": {
    "lines_to_next_cell": 0
   },
   "source": [
    "Et voilà, finally we find the expected result.\n",
    "\n",
    "Running cross-validate Lasso on this data results in the following:"
   ]
  },
  {
   "cell_type": "code",
   "execution_count": null,
   "metadata": {
    "lines_to_next_cell": 0
   },
   "outputs": [],
   "source": [
    "library(glmnet)\n",
    "cv.lasso <- cv.glmnet(as.matrix(data[,1:1000]), data$Y, alpha = 1)\n",
    "plot(cv.lasso)"
   ]
  },
  {
   "cell_type": "markdown",
   "metadata": {
    "lines_to_next_cell": 0
   },
   "source": [
    "The lowest mean-squared error is found with 3 predictors (first dashed line) but\n",
    "also 0 predictors (second dashed line) have a mean squared error that is within\n",
    "one standard error of the minimum. In conclusion, the Lasso does not lead to\n",
    "wrong results like the ones we obtained with adjusted R^2 or the BIC criterion,\n",
    "but it also doesn't identify the right model as nicely as forward selection\n",
    "with cross-validation (done the right way).\n",
    "\n",
    "## Feature Engineering: Moving Beyond Linearity"
   ]
  },
  {
   "cell_type": "code",
   "execution_count": null,
   "metadata": {},
   "outputs": [],
   "source": [
    "IRdisplay::display_html('<iframe width=\"640\" height=\"360\" src=\"https://tube.switch.ch/embed/7893354c\" frameborder=\"0\" allow=\"fullscreen\" allowfullscreen></iframe>')"
   ]
  },
  {
   "cell_type": "markdown",
   "metadata": {
    "lines_to_next_cell": 0
   },
   "source": [
    "Let us load again the life expectancy dataset."
   ]
  },
  {
   "cell_type": "code",
   "execution_count": null,
   "metadata": {},
   "outputs": [],
   "source": [
    "data <- na.omit(read.csv(file.path(\"..\", \"data\", \"life_expectancy.csv\")))\n",
    "fit <- lm(LifeExpectancy ~ GDP, data)\n",
    "plot(data$GDP, data$LifeExpectancy)\n",
    "abline(fit, col = \"red\", lwd = 2)\n",
    "summary(fit)"
   ]
  },
  {
   "cell_type": "markdown",
   "metadata": {
    "lines_to_next_cell": 0
   },
   "source": [
    "Let us compare this result with the one obtained with the logarithm of the GDP."
   ]
  },
  {
   "cell_type": "code",
   "execution_count": null,
   "metadata": {},
   "outputs": [],
   "source": [
    "fit <- lm(LifeExpectancy ~ log(GDP), data)\n",
    "plot(log(data$GDP), data$LifeExpectancy)\n",
    "abline(fit, col = \"red\", lwd = 2)\n",
    "summary(fit)"
   ]
  },
  {
   "cell_type": "markdown",
   "metadata": {
    "lines_to_next_cell": 0
   },
   "source": [
    "If we compare the R-squared values of the two results, we can confirm that the\n",
    "fit with the logarithm of the GDP as input fits the training data much better\n",
    "than the fit on the raw input.\n",
    "\n",
    "Let us fit a second order polynomial to the following data, as we did already a\n",
    "few times in this course."
   ]
  },
  {
   "cell_type": "code",
   "execution_count": null,
   "metadata": {},
   "outputs": [],
   "source": [
    "fit <- lm(LifeExpectancy ~ poly(BMI, 2, raw = T), data)\n",
    "summary(fit)"
   ]
  },
  {
   "cell_type": "markdown",
   "metadata": {
    "lines_to_next_cell": 0
   },
   "source": [
    "In the following figure we see that the fit captures the trend in the data.\n",
    "The function `fitted.poly` takes a vector of `x` values as input and computes\n",
    "the return by multiplying the manually constructed model matrix `matrix(c(rep(1,\n",
    "length(x)), x, x^2), ncol = 3)` (with 1s for the intercept and features `x` and\n",
    "`x^2`) with the vector of coefficients `coef(fit)`."
   ]
  },
  {
   "cell_type": "code",
   "execution_count": null,
   "metadata": {},
   "outputs": [],
   "source": [
    "plot(data$BMI, data$LifeExpectancy)\n",
    "fitted.poly <- function(x) matrix(c(rep(1, length(x)), x, x^2), ncol = 3) %*% coef(fit)\n",
    "curve(fitted.poly, from = 20, to = 32, add = TRUE, col = \"red\", lwd = 2)"
   ]
  },
  {
   "cell_type": "markdown",
   "metadata": {
    "lines_to_next_cell": 0
   },
   "source": [
    "We could have done the same manually in the following way:\n",
    "We set the first feature equal to the raw predictor and the second feature to\n",
    "the predictor squared."
   ]
  },
  {
   "cell_type": "code",
   "execution_count": null,
   "metadata": {
    "lines_to_next_cell": 0
   },
   "outputs": [],
   "source": [
    "newdata <- data.frame(BMI = data$BMI,\n",
    "                      BMI2 = data$BMI^2,\n",
    "                      LifeExpectancy = data$LifeExpectancy)\n",
    "fit <- lm(LifeExpectancy ~ ., newdata)\n",
    "summary(fit)"
   ]
  },
  {
   "cell_type": "markdown",
   "metadata": {},
   "source": [
    "Compare the coefficients found with this fit to the coefficients found with the\n",
    "fit above where we used the function `poly` to see that the exact same solution\n",
    "was found.\n",
    "\n",
    "This can also be seen by looking at the model matrices of the two fits."
   ]
  },
  {
   "cell_type": "code",
   "execution_count": null,
   "metadata": {
    "lines_to_next_cell": 0
   },
   "outputs": [],
   "source": [
    "head(model.matrix(LifeExpectancy ~ poly(BMI, 2, raw = T), data))"
   ]
  },
  {
   "cell_type": "code",
   "execution_count": null,
   "metadata": {},
   "outputs": [],
   "source": [
    "head(model.matrix(LifeExpectancy ~ BMI + BMI2, newdata))"
   ]
  },
  {
   "cell_type": "markdown",
   "metadata": {
    "lines_to_next_cell": 0
   },
   "source": [
    "In the following cell we fit a model with features computed from GDP and BMI,\n",
    "including an interaction term."
   ]
  },
  {
   "cell_type": "code",
   "execution_count": null,
   "metadata": {},
   "outputs": [],
   "source": [
    "newdata <- data.frame(logGDP = log(data$GDP),\n",
    "                      BMI = data$BMI,\n",
    "                      BMI2 = data$BMI^2,\n",
    "                      BMItimeslogGDP = data$BMI * log(data$GDP),\n",
    "                      LifeExpectancy = data$LifeExpectancy)\n",
    "summary(lm(LifeExpectancy ~ ., newdata))"
   ]
  },
  {
   "cell_type": "markdown",
   "metadata": {
    "lines_to_next_cell": 0
   },
   "source": [
    "If we compare the fit with these feature representations to the original fit\n",
    "with the raw predictors ..."
   ]
  },
  {
   "cell_type": "code",
   "execution_count": null,
   "metadata": {
    "lines_to_next_cell": 0
   },
   "outputs": [],
   "source": [
    "summary(lm(LifeExpectancy ~ BMI + GDP, data))"
   ]
  },
  {
   "cell_type": "markdown",
   "metadata": {},
   "source": [
    "... we see that the fit on our custom feature representation fits the training\n",
    "data much better than the fit on the raw data.\n",
    "\n",
    "Feature engineering can be seen either is an art or as a messy\n",
    "trial-and-error search. It is totally up to the engineer to find useful features\n",
    "for a given data set. I am not aware of a standard recipe to find the most\n",
    "useful features for a given data set.\n",
    "\n",
    "## One-Hot Coding"
   ]
  },
  {
   "cell_type": "code",
   "execution_count": null,
   "metadata": {},
   "outputs": [],
   "source": [
    "IRdisplay::display_html('<iframe width=\"640\" height=\"360\" src=\"https://tube.switch.ch/embed/af977158\" frameborder=\"0\" allow=\"fullscreen\" allowfullscreen></iframe>')"
   ]
  },
  {
   "cell_type": "markdown",
   "metadata": {
    "lines_to_next_cell": 0
   },
   "source": [
    "Let us load the `ChickWeight` data set here."
   ]
  },
  {
   "cell_type": "code",
   "execution_count": null,
   "metadata": {
    "lines_to_next_cell": 0
   },
   "outputs": [],
   "source": [
    "data(ChickWeight)\n",
    "str(ChickWeight)"
   ]
  },
  {
   "cell_type": "markdown",
   "metadata": {},
   "source": [
    "We see that the data set has columns `weight`, `Time`, `Chick` and `Diet`.\n",
    "The type of the columns `weight` and `Time` is `num`, indicating that there are\n",
    "numbers in these columns. The `Chick` column contains, however, ordered factors\n",
    "with 50 levels (`Ord.factor w/ 50 level`) and the column `Diet` factors with 4\n",
    "levels (`Factor w/ 4 levels`). This information is used in R to construct\n",
    "model matrices with one-hot coding. For example:"
   ]
  },
  {
   "cell_type": "code",
   "execution_count": null,
   "metadata": {
    "lines_to_next_cell": 0
   },
   "outputs": [],
   "source": [
    "head(model.matrix(weight ~ Time + Diet - 1, ChickWeight))"
   ]
  },
  {
   "cell_type": "markdown",
   "metadata": {
    "lines_to_next_cell": 0
   },
   "source": [
    "You can see that `Time` is normally encoded, but `Diet` is represented in a one-hot\n",
    "code. The `-1` in the above formula is used to exclude the intercept.\n",
    "\n",
    "One could also include the intercept."
   ]
  },
  {
   "cell_type": "code",
   "execution_count": null,
   "metadata": {
    "lines_to_next_cell": 0
   },
   "outputs": [],
   "source": [
    "m <- model.matrix(weight ~ Time + Diet, ChickWeight)"
   ]
  },
  {
   "cell_type": "markdown",
   "metadata": {},
   "source": [
    "In this case, the one-hot code does not include a feature for diet 1, because\n",
    "the intercept coefficient can account for the effect of diet 1, as we will see\n",
    "in the following."
   ]
  },
  {
   "cell_type": "code",
   "execution_count": null,
   "metadata": {},
   "outputs": [],
   "source": [
    "fit <- lm(weight ~ Time + Diet - 1, ChickWeight)\n",
    "summary(fit)"
   ]
  },
  {
   "cell_type": "code",
   "execution_count": null,
   "metadata": {
    "lines_to_next_cell": 0
   },
   "outputs": [],
   "source": [
    "fit <- lm(weight ~ Time + Diet, ChickWeight)\n",
    "summary(fit)"
   ]
  },
  {
   "cell_type": "markdown",
   "metadata": {
    "lines_to_next_cell": 0
   },
   "source": [
    "The coefficient found for the intercept in the second case is equal to the\n",
    "coefficient found for feature `Diet1` above. The coefficients found in the\n",
    "second fit are relative to the `intercept`, i.e. the intercept coefficient plus\n",
    "the `Diet2` coefficient of the second fit are equal to the `Diet2` coefficient\n",
    "of the first fit. This becomes obvious, if we look again at the two model\n",
    "matrices and see that the intercept column contains 1s for every data point,\n",
    "whereas without an intercept the `Diet1` feature is only active for those data\n",
    "points that were obtained with diet 1.\n",
    "\n",
    "Side remark: The R-squared values for regression without intercept are computed\n",
    "differently by R. If you are interested, you can find further explanations\n",
    "[here](https://stats.stackexchange.com/questions/26176/removal-of-statistically-significant-intercept-term-increases-r2-in-linear-mo/26205#26205).\n",
    "\n",
    "Let us plot the results as a function of time and diet. We will use the\n",
    "`as.factor` function to indicate that diet should be treated as a factor and not\n",
    "as a numerical variable. If you want to know more about the function\n",
    "`as.factor`, look at it's help `?as.factor` or play with examples like\n",
    "`model.matrix(Y ~ X - 1, data.frame(X = c(1, 2, 3, 1), Y = c(1, 2, 3, 4)))` and\n",
    "`model.matrix(Y ~ X - 1, data.frame(X = as.factor(c(1, 2, 3, 1)), Y = c(1, 2, 3, 4)))`."
   ]
  },
  {
   "cell_type": "code",
   "execution_count": null,
   "metadata": {
    "lines_to_next_cell": 0
   },
   "outputs": [],
   "source": [
    "plot(ChickWeight$Time, ChickWeight$weight)\n",
    "grid <- seq(0, 21, length = 100)\n",
    "colors <- c(\"red\", \"blue\", \"darkgreen\", \"black\")\n",
    "for(diet in 1:4) {\n",
    "    lines(grid,\n",
    "          predict(fit, data.frame(Time = grid, Diet = as.factor(rep(diet, 100)))),\n",
    "          col = colors[diet])\n",
    "}\n",
    "legend(\"topleft\", c(\"Diet 1\", \"Diet 2\", \"Diet 3\", \"Diet 4\"), col = colors, lty = 1)"
   ]
  },
  {
   "cell_type": "markdown",
   "metadata": {
    "lines_to_next_cell": 0
   },
   "source": [
    "In the fits above the different diets do not affect the slope of the weight as a\n",
    "function of time. If we want a model that fits lines with different slopes for\n",
    "the different diets, we need to include a `Time * Diet` interaction term."
   ]
  },
  {
   "cell_type": "code",
   "execution_count": null,
   "metadata": {},
   "outputs": [],
   "source": [
    "fit <- lm(weight ~ Time + Diet + Time * Diet, ChickWeight)\n",
    "plot(ChickWeight$Time, ChickWeight$weight)\n",
    "grid <- seq(0, 21, length = 100)\n",
    "colors <- c(\"red\", \"blue\", \"darkgreen\", \"black\")\n",
    "for(diet in 1:4) {\n",
    "    lines(grid,\n",
    "          predict(fit, data.frame(Time = grid, Diet = as.factor(rep(diet, 100)))),\n",
    "          col = colors[diet])\n",
    "}\n",
    "legend(\"topleft\", c(\"Diet 1\", \"Diet 2\", \"Diet 3\", \"Diet 4\"), col = colors, lty = 1)\n",
    "summary(fit)"
   ]
  },
  {
   "cell_type": "markdown",
   "metadata": {
    "lines_to_next_cell": 0
   },
   "source": [
    "## Vector Features"
   ]
  },
  {
   "cell_type": "code",
   "execution_count": null,
   "metadata": {},
   "outputs": [],
   "source": [
    "IRdisplay::display_html('<iframe width=\"640\" height=\"360\" src=\"https://tube.switch.ch/embed/4dbb355d\" frameborder=\"0\" allow=\"fullscreen\" allowfullscreen></iframe>')"
   ]
  },
  {
   "cell_type": "markdown",
   "metadata": {
    "lines_to_next_cell": 0
   },
   "source": [
    "In the following cell we generate the data for the XOR problem in the slides.\n",
    "The function `mvrnorm` from the `MASS` library generates data from a\n",
    "multivariate Gaussian with some mean and covariance matrix. See `?mvrnorm` for\n",
    "more information."
   ]
  },
  {
   "cell_type": "code",
   "execution_count": null,
   "metadata": {},
   "outputs": [],
   "source": [
    "library(MASS)\n",
    "x1 <- mvrnorm(30, c(1.5, 1), .2*diag(2))\n",
    "x2 <- mvrnorm(30, c(-1, -1), .2*diag(2))\n",
    "x3 <- mvrnorm(30, c(-1, .8), .2*diag(2))\n",
    "x4 <- mvrnorm(30, c(.9, -1), .2*diag(2))\n",
    "data <- data.frame(X = rbind(x1, x2, x3, x4), Y = c(rep(1, 60), rep(0, 60)))\n",
    "plot(data$X.1, data$X.2, col = data$Y + 2)"
   ]
  },
  {
   "cell_type": "markdown",
   "metadata": {
    "lines_to_next_cell": 0
   },
   "source": [
    "Let us fit a logistic regression to the raw data."
   ]
  },
  {
   "cell_type": "code",
   "execution_count": null,
   "metadata": {
    "lines_to_next_cell": 0
   },
   "outputs": [],
   "source": [
    "fit <- glm(Y ~ ., data, family = \"binomial\")\n",
    "ypred <- predict(fit, type = \"response\") > .5\n",
    "plot(data$X.1, data$X.2, col = ypred + 2)"
   ]
  },
  {
   "cell_type": "markdown",
   "metadata": {
    "lines_to_next_cell": 0
   },
   "source": [
    "We can see that it fails to predict correctly the class labels of the training\n",
    "points.\n",
    "\n",
    "Now we construct the feature representation from the slides.\n",
    "The `relu` function implements the thresholding mentioned in the video."
   ]
  },
  {
   "cell_type": "code",
   "execution_count": null,
   "metadata": {},
   "outputs": [],
   "source": [
    "features <- matrix(c(1, -1, 1, -1,\n",
    "                     1, 1, -1, -1), ncol = 2)\n",
    "relu <- function(x) ifelse(x > 0, x, 0)\n",
    "newdata <- data.frame(H = relu(as.matrix(data[, c(\"X.1\", \"X.2\")]) %*% t(features)))\n",
    "newdata$Y <- data$Y\n",
    "head(newdata)"
   ]
  },
  {
   "cell_type": "markdown",
   "metadata": {
    "lines_to_next_cell": 0
   },
   "source": [
    "If we now fit a logistic regression to the feature representation ..."
   ]
  },
  {
   "cell_type": "code",
   "execution_count": null,
   "metadata": {
    "lines_to_next_cell": 0
   },
   "outputs": [],
   "source": [
    "fit <- glm(Y ~ ., newdata, family = \"binomial\")\n",
    "ypred <- predict(fit, type = \"response\") > .5\n",
    "plot(data$X.1, data$X.2, col = ypred + 2)"
   ]
  },
  {
   "cell_type": "markdown",
   "metadata": {
    "lines_to_next_cell": 0
   },
   "source": [
    "... we find, olé olé, that the training data can be classified almost perfectly.\n",
    "\n",
    "## Splines"
   ]
  },
  {
   "cell_type": "code",
   "execution_count": null,
   "metadata": {},
   "outputs": [],
   "source": [
    "IRdisplay::display_html('<iframe width=\"640\" height=\"360\" src=\"https://tube.switch.ch/embed/f8952e2d\" frameborder=\"0\" allow=\"fullscreen\" allowfullscreen></iframe>')"
   ]
  },
  {
   "cell_type": "markdown",
   "metadata": {
    "lines_to_next_cell": 0
   },
   "source": [
    "We will use the library `splines` to fit splines.\n",
    "The function `bs` is used to construct the feature representation of the input\n",
    "data with degree-d polynomials and given knots."
   ]
  },
  {
   "cell_type": "code",
   "execution_count": null,
   "metadata": {
    "lines_to_next_cell": 0
   },
   "outputs": [],
   "source": [
    "library(splines)\n",
    "data <- na.omit(read.csv(file.path(\"..\", \"data\", \"life_expectancy.csv\")))\n",
    "knots <- c(5000, 20000, 50000, 100000)\n",
    "m <- model.matrix(LifeExpectancy ~ bs(GDP, degree = 1, knots = knots), data)\n",
    "colnames(m) <- NULL # Otherwise the output of the cell looks ugly; The column names are really long.\n",
    "head(m)"
   ]
  },
  {
   "cell_type": "markdown",
   "metadata": {
    "lines_to_next_cell": 0
   },
   "source": [
    "We see that the function `bs` constructed a feature representation with `K + d +\n",
    "1` coefficients (with K knots, degree-d polynomials and 1 intercept\n",
    "coefficient).\n",
    "\n",
    "In the following cell, you are invited to play with different values for the\n",
    "degree to see how the fit changes."
   ]
  },
  {
   "cell_type": "code",
   "execution_count": null,
   "metadata": {},
   "outputs": [],
   "source": [
    "spline.fit = lm(LifeExpectancy ~ bs(GDP, degree = 3, knots = knots), data)\n",
    "plot.predictions = function(grid, fit, col = \"blue\") {\n",
    "    pred <- predict(fit, data.frame(GDP = grid), se = T)\n",
    "    lines(grid, pred$fit, lwd = 2, col = col)\n",
    "    lines(grid, pred$fit - 2*pred$se.fit, lty = \"dashed\", col = col)\n",
    "    lines(grid, pred$fit + 2*pred$se.fit, lty = \"dashed\", col = col)\n",
    "}\n",
    "plot(data$GDP, data$LifeExpectancy, col = \"gray\", ylim = c(40, 100))\n",
    "grid <- seq(0, 150000, length = 10^3)\n",
    "plot.predictions(grid, spline.fit)\n",
    "for(k in knots) abline(v = k, lty = \"dashed\")"
   ]
  },
  {
   "cell_type": "markdown",
   "metadata": {
    "lines_to_next_cell": 0
   },
   "source": [
    "To construct a feature representation for natural splines we can use the\n",
    "function `ns`. In contrast to the `bs` function above, the `knots` in the `ns`\n",
    "function are actually interior knots and the `ns` function adds automatically\n",
    "boundary knots at the lowest and highest input value."
   ]
  },
  {
   "cell_type": "code",
   "execution_count": null,
   "metadata": {},
   "outputs": [],
   "source": [
    "plot(data$GDP, data$LifeExpectancy, col = \"gray\", ylim = c(40, 100))\n",
    "ns.fit <- lm(LifeExpectancy ~ ns(GDP, knots = knots), data)\n",
    "plot.predictions(grid, ns.fit, col <- \"darkgreen\")\n",
    "p6.fit <- lm(LifeExpectancy ~ poly(GDP, 6), data)\n",
    "plot.predictions(grid, p6.fit, col <- \"black\")"
   ]
  },
  {
   "cell_type": "markdown",
   "metadata": {},
   "source": [
    "Optional: If you are interested in knowing more about how one can construct a\n",
    "feature representation for natural splines, you are invited to read more\n",
    "[here](https://stats.stackexchange.com/questions/172217/why-are-the-basis-functions-for-natural-cubic-splines-expressed-as-they-are-es)."
   ]
  },
  {
   "cell_type": "markdown",
   "metadata": {
    "lines_to_next_cell": 0
   },
   "source": [
    "## GAMs\n",
    "\n",
    "In the following we add a natural spline representation of the GDP to a natural\n",
    "spline representation of the BMI."
   ]
  },
  {
   "cell_type": "code",
   "execution_count": null,
   "metadata": {},
   "outputs": [],
   "source": [
    "formula <- LifeExpectancy ~ ns(GDP, knots = c(5000, 10000, 40000, 100000)) +\n",
    "                            ns(BMI, knots = c(20, 25, 28))\n",
    "m <- model.matrix(formula, data)\n",
    "colnames(m) <- NULL\n",
    "head(m)"
   ]
  },
  {
   "cell_type": "code",
   "execution_count": null,
   "metadata": {},
   "outputs": [],
   "source": [
    "gam.fit <- lm(formula, data)\n",
    "summary(gam.fit)"
   ]
  },
  {
   "cell_type": "markdown",
   "metadata": {
    "lines_to_next_cell": 0
   },
   "source": [
    "Let us plot the results with the `plotly` library."
   ]
  },
  {
   "cell_type": "code",
   "execution_count": null,
   "metadata": {
    "lines_to_next_cell": 0
   },
   "outputs": [],
   "source": [
    "library(plotly)\n",
    "grid <- expand.grid(GDP = seq(1000, 120000, length = 1000), BMI = 20:32)\n",
    "pred <- predict(gam.fit, grid)\n",
    "plot_ly(x = matrix(grid$GDP, nrow = 1000),\n",
    "        y = matrix(grid$BMI, nrow = 1000),\n",
    "        z = matrix(pred, nrow = 1000)) %>%\n",
    "add_surface(contours = list(z = list(show = T, project=list(z=TRUE)))) %>%\n",
    "add_markers(x = data$GDP, y = data$BMI, z = data$LifeExpectancy,\n",
    "            marker = list(size = 3), color = data$LifeExpectancy) %>%\n",
    "layout(scene = list(xaxis = list(title = \"GDP\"), yaxis = list(title = \"BMI\"),\n",
    "                    zaxis = list(title = \"LifeExpectancy\")))"
   ]
  },
  {
   "cell_type": "markdown",
   "metadata": {},
   "source": [
    "You should be able to use your mouse to look at the plot from different\n",
    "perspectives.\n",
    "\n",
    "In the cell above we used the pipe operator `%>%` several times.\n",
    "This operator is very commonly used in modern R code that is written in the\n",
    "context of the popular [tidyverse](https://www.tidyverse.org/) and we will see\n",
    "it again multiple times in the next weeks. To understand what the pipe operator\n",
    "does, let as look at the following example"
   ]
  },
  {
   "cell_type": "code",
   "execution_count": null,
   "metadata": {
    "lines_to_next_cell": 0
   },
   "outputs": [],
   "source": [
    "f <- function(x) x^2\n",
    "g <- function(x, y) x + y\n",
    "h <- function(x) 2 * x\n",
    "h(g(f(3), 4))"
   ]
  },
  {
   "cell_type": "markdown",
   "metadata": {
    "lines_to_next_cell": 0
   },
   "source": [
    "We are applying `f` to input `3`, use this as first argument of `g` and then\n",
    "apply `h`. Note that the verbal description is somewhat reversed relative to how\n",
    "we have written it in the cell above.\n",
    "\n",
    "With the help of the pipe operator this can write this in a way that resembles\n",
    "more our verbal description."
   ]
  },
  {
   "cell_type": "code",
   "execution_count": null,
   "metadata": {
    "lines_to_next_cell": 0
   },
   "outputs": [],
   "source": [
    "3 %>% f %>% g(4) %>% h"
   ]
  },
  {
   "cell_type": "markdown",
   "metadata": {},
   "source": [
    "The pipe operator simply takes the element on the left and uses it as first\n",
    "argument of the function on the right.\n",
    "\n",
    "Before you move on to the last section you should be ready now to solve the\n",
    "[quiz](https://moodle.epfl.ch/mod/quiz/view.php?id=1102726).\n",
    "\n",
    "## Smoothing Splines"
   ]
  },
  {
   "cell_type": "code",
   "execution_count": null,
   "metadata": {},
   "outputs": [],
   "source": [
    "IRdisplay::display_html('<iframe width=\"640\" height=\"360\" src=\"https://tube.switch.ch/embed/25e5b163\" frameborder=\"0\" allow=\"fullscreen\" allowfullscreen></iframe>')"
   ]
  },
  {
   "cell_type": "markdown",
   "metadata": {
    "lines_to_next_cell": 0
   },
   "source": [
    "In the following cell we fit a smoothing spline to the life expectancy data set.\n",
    "You are invited to play with lambda in the range between 1e-16 and 1e-2."
   ]
  },
  {
   "cell_type": "code",
   "execution_count": null,
   "metadata": {},
   "outputs": [],
   "source": [
    "fit.smooth <- smooth.spline(data$GDP, data$LifeExpectancy, all.knots = T, lambda = 1e-18)\n",
    "plot(data$GDP, data$LifeExpectancy)\n",
    "lines(fit.smooth, col = \"orange\", lwd = 2)"
   ]
  },
  {
   "cell_type": "markdown",
   "metadata": {
    "lines_to_next_cell": 0
   },
   "source": [
    "If we do not explicitly set the lambda value, lambda will be picked by\n",
    "cross-validation."
   ]
  },
  {
   "cell_type": "code",
   "execution_count": null,
   "metadata": {
    "lines_to_next_cell": 2
   },
   "outputs": [],
   "source": [
    "fit.smooth.cv <- smooth.spline(data$GDP, data$LifeExpectancy)\n",
    "plot(data$GDP, data$LifeExpectancy)\n",
    "lines(fit.smooth.cv, col = \"red\", lwd = 2)"
   ]
  },
  {
   "cell_type": "markdown",
   "metadata": {},
   "source": [
    "### Bias-Variance Decomposition: Revisited with Smoothing Splines\n",
    "\n",
    "In the second week we saw the decomposition of the test error into bias and\n",
    "variance as a function of the flexibility of the method. With smoothing splines\n",
    "one can nicely generate such plots.\n",
    "\n",
    "The idea is to generate artificial data, where we know exactly what the true\n",
    "model is. The true model is given by the non-linear function\n",
    "`noisefree.generator`. The function `data.generator` creates each time a new\n",
    "data set by sampling some `x` values, applying the `noisefree.generator`\n",
    "function and adding normal noise with standard deviation 1 to get `y`."
   ]
  },
  {
   "cell_type": "code",
   "execution_count": null,
   "metadata": {},
   "outputs": [],
   "source": [
    "noisefree.generator  <- function(x) (-.1*(x-1)^4*(x < 1) - 2*x^3*sin(5*x) + x^2 - 4*x*(x > 0))\n",
    "data.generator  <- function(n) {\n",
    "  x = 3*runif(n) - 1.5\n",
    "  y = noisefree.generator(x) + rnorm(length(x))\n",
    "  data.frame(X = x, Y = y)\n",
    "}"
   ]
  },
  {
   "cell_type": "markdown",
   "metadata": {},
   "source": [
    "Let us plot some data points and some smooth spline fits together with the true\n",
    "function in red."
   ]
  },
  {
   "cell_type": "code",
   "execution_count": null,
   "metadata": {},
   "outputs": [],
   "source": [
    "data  <- data.generator(200)\n",
    "fit.1  <- smooth.spline(data$X, data$Y, lambda = 1e-2)\n",
    "fit.2  <- smooth.spline(data$X, data$Y, lambda = 1e-4)\n",
    "fit.3  <- smooth.spline(data$X, data$Y, lambda = 1e-8)\n",
    "plot(data, col = \"darkgray\")\n",
    "lines(fit.1, col = \"purple\")\n",
    "lines(fit.2, col = \"darkgreen\")\n",
    "lines(fit.3, col = \"blue\")\n",
    "plot(noisefree.generator, add = T, xlim = c(-1.5, 1.5), col = \"red\")\n",
    "legend(\"bottom\", c(expression(paste(lambda, \"=\", 10^-2)),\n",
    "                     expression(paste(lambda, \"=\", 10^-4)),\n",
    "                     expression(paste(lambda, \"=\", 10^-8)),\n",
    "                     \"noise-free generator\"), lty = 1,\n",
    "                     col = c(\"purple\", \"darkgreen\", \"blue\", \"red\"))"
   ]
  },
  {
   "cell_type": "markdown",
   "metadata": {},
   "source": [
    "Now we create to functions that compute test and training errors for a given\n",
    "fit. The test error will be evaluated over $10^5$ new data points."
   ]
  },
  {
   "cell_type": "code",
   "execution_count": null,
   "metadata": {},
   "outputs": [],
   "source": [
    "ms.error  <- function(fit, data) mean((predict(fit, data$X)$y - data$Y)^2)\n",
    "test.error  <- function(fit) ms.error(fit, data.generator(10^5))\n",
    "c(test.error(fit.1), test.error(fit.2), test.error(fit.3))"
   ]
  },
  {
   "cell_type": "code",
   "execution_count": null,
   "metadata": {},
   "outputs": [],
   "source": [
    "c(ms.error(fit.1, data), ms.error(fit.2, data), ms.error(fit.3, data))"
   ]
  },
  {
   "cell_type": "markdown",
   "metadata": {},
   "source": [
    "The following function `bias.variance` takes as input the hyper-parameter\n",
    "`lambda` and the number `k` of repetitions. It then fits `k` times a smoothing\n",
    "spline on `k` different training sets from the same population.\n",
    "\n",
    "The squared bias of the model is then the mean squared difference between the\n",
    "average of the `k` smoothing splines and the true function.\n",
    "\n",
    "The variance is simply the variance of the `k` smoothing splines.\n",
    "\n",
    "Additionally we return the average test and training error."
   ]
  },
  {
   "cell_type": "code",
   "execution_count": null,
   "metadata": {},
   "outputs": [],
   "source": [
    "bias.variance  <- function(lambda, k = 100) {\n",
    "  predictions <- matrix(rep(NA, k*100), k, 100)\n",
    "  train.errors <- rep(NA, k)\n",
    "  test.errors <- rep(NA, k)\n",
    "  test.x <- seq(-1.5, 1.5, length = 100)\n",
    "  for (i in 1:k) {\n",
    "    data <- data.generator(200) # each time another training set\n",
    "    fit <- smooth.spline(data$X, data$Y, all.knots = T, lambda = lambda)\n",
    "    train.errors[i] <- ms.error(fit, data)\n",
    "    test.errors[i] <- test.error(fit)\n",
    "    predictions[i,] <- predict(fit, test.x)$y # function values for this fit\n",
    "  }\n",
    "  mean.pred <- apply(predictions, 2, mean)\n",
    "  bias.squared <- mean((mean.pred - noisefree.generator(test.x))^2)\n",
    "  var <- mean(sweep(predictions, 2, mean.pred)^2)\n",
    "  c(bias.squared, var, mean(test.errors), mean(train.errors))\n",
    "}"
   ]
  },
  {
   "cell_type": "markdown",
   "metadata": {},
   "source": [
    "Now we run this function for different lambdas and plot the\n",
    "result. Evaluating this cell takes some time. You can also just look at the\n",
    "output from a previous run. We marked the irreducible error with a dashed line."
   ]
  },
  {
   "cell_type": "code",
   "execution_count": 83,
   "metadata": {
    "lines_to_next_cell": 2
   },
   "outputs": [
    {
     "data": {
      "image/png": "[encoded data removed]",
      "text/plain": [
       "plot without title"
      ]
     },
     "metadata": {
      "image/png": {
       "height": 420,
       "width": 420
      }
     },
     "output_type": "display_data"
    }
   ],
   "source": [
    "lambdas <- 10^seq(-10, -1, length = 25)\n",
    "result <- sapply(lambdas, bias.variance)\n",
    "plot(log10(lambdas), result[1,], col = \"black\", type = \"l\",\n",
    "     ylim = c(0, 4),\n",
    "     xlab = expression(log10(lambda)), ylab = \"error\")\n",
    "lines(log10(lambdas), result[2,], col = \"darkgreen\")\n",
    "lines(log10(lambdas), result[3,], col = \"red\")\n",
    "lines(log10(lambdas), result[4,], col = \"blue\")\n",
    "abline(h = 1, lty = \"dashed\")\n",
    "legend(\"top\", legend = c(\"bias^2\", \"variance\", \"training error\", \"test error\"),\n",
    "       col = c(\"black\", \"darkgreen\", \"blue\", \"red\"), lty = 1)"
   ]
  },
  {
   "cell_type": "markdown",
   "metadata": {},
   "source": [
    "## Exercises\n",
    "\n",
    "### Conceptual\n",
    "**Q1.** Suppose we use the feature functions $h_1(X) = X$, $h_2(X) = (X -\n",
    "1)^2I(X\\ge 1)$ to fit the linear regression model\n",
    "$Y = \\beta_0 + \\beta_1h_1(X) + \\beta_2h_2(X) + \\varepsilon,$\n",
    "and obtain coefficient estimates $\\hat{\\beta}_0 = 1$, $\\hat{\\beta}_1 = 1$, $\\hat{\\beta}_2 = -2$.\n",
    "Sketch the estimated curve between $X = -2$ and $X = 2$.\n",
    "\n",
    "**Q2.** Suppose that a curve $\\hat{g}$ is computed to smoothly fit a set of $n$ points using the following formula\n",
    "$\\hat{g} = \\arg\\min_g\\Biggl(\\sum_{i=1}^n(y_i - g(x_i))^2 +\n",
    "\\lambda\\int[g^{(m)}(x)]^2dx\\biggr),$\n",
    "where $g^{(m)}$ represents the mth derivative of $g$ (and $g^{(0)} = g$). Provide example sketches of $\\hat{g}$ in each of the following scenarios.\n",
    "\n",
    "(a) $\\lambda = \\infty$, $m = 0$.\n",
    "\n",
    "(b) $\\lambda = \\infty$, $m = 1$."
   ]
  },
  {
   "cell_type": "markdown",
   "metadata": {},
   "source": [
    "(c) $\\lambda = \\infty$, $m = 2$."
   ]
  },
  {
   "cell_type": "markdown",
   "metadata": {},
   "source": [
    "(d) $\\lambda = \\infty$, $m = 3$."
   ]
  },
  {
   "cell_type": "markdown",
   "metadata": {},
   "source": [
    "(e) $\\lambda = 0$, $m = 3$.\n"
   ]
  },
  {
   "cell_type": "markdown",
   "metadata": {},
   "source": [
    "### Applied\n",
    "\n",
    "**Q3.** In this exercise, you will analyse the `Wage` data set contained in the\n",
    "library ISLR. You can load it with `library(ISLR)` and get information with\n",
    "`?Wage`.\n",
    "\n",
    "(a) Perform polynomial regression to predict `wage` using `age`. Use\n",
    "cross-validation to select the optimal degree $d$ for the polynomial. Make a\n",
    "plot of the resulting polynomial fit to the data.\n",
    "\n",
    "(b) Fit a natural spline to predict `wage` using `age` and some hand-picked\n",
    "knots.\n",
    "\n",
    "(c) Instead of providing hand-picked knots, use the `df` argument of the `ns`\n",
    "function and let the method pick the knots automatically. Perform\n",
    "cross-validation to choose the optimal number of knots (i.e. optimal degree of\n",
    "freedom `df`) and make a plot of the fit obtained.\n",
    "\n",
    "(d) The \"Wage\" data set contains a number of other features, such as marital\n",
    "status (\"marit1\"), job class (\"jobclass\"), and others. Explore the relationships\n",
    "between some of these other predictors and \"wage\", and design some features in\n",
    "order to fit different models to the data.\n",
    "Create plots of the results obtained, and write a summary of your findings.\n",
    "\n",
    "**Q4.** In the video on the vector features we used 4 feature vectors to find a\n",
    "solution to the XOR problem.\n",
    "\n",
    "(a) Try to find a solution to the XOR problem with only 3 feature vectors.\n",
    "\n",
    "(b) Try to find a solution to the XOR problem with 5 feature vectors."
   ]
  }
 ],
 "metadata": {
  "kernelspec": {
   "display_name": "R",
   "language": "R",
   "name": "ir"
  },
  "language_info": {
   "codemirror_mode": "r",
   "file_extension": ".r",
   "mimetype": "text/x-r-source",
   "name": "R",
   "pygments_lexer": "r",
   "version": "4.0.2"
  }
 },
 "nbformat": 4,
 "nbformat_minor": 4
}
